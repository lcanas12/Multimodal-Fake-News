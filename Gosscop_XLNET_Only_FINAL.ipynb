{
 "cells": [
  {
   "cell_type": "code",
   "execution_count": 1,
   "id": "8eb43939",
   "metadata": {},
   "outputs": [],
   "source": [
    "import pandas as pd\n",
    "import sklearn\n",
    "import numpy as np\n",
    "import os\n",
    "from pathlib import Path\n",
    "from sklearn.model_selection import train_test_split\n",
    "import torch\n",
    "from datasets import load_dataset\n",
    "import tensorflow as tf\n",
    "import tensorflow_addons as tfa\n",
    "import gc\n",
    "\n",
    "from keras import optimizers\n",
    "import matplotlib.pyplot as plt\n",
    "from keras import initializers\n",
    "from keras.utils import np_utils\n",
    "from keras import regularizers\n",
    "from keras.models import Sequential, Model\n",
    "from keras.callbacks import ModelCheckpoint\n",
    "from keras.layers import concatenate\n",
    "from keras.layers import Dense, Flatten, Dropout, Input, BatchNormalization, ReLU\n",
    "from keras.layers import LSTM, Bidirectional\n",
    "import pickle\n",
    "from sklearn.metrics import confusion_matrix\n",
    "from sklearn.metrics import classification_report, accuracy_score\n",
    "\n",
    "\n",
    "import keras\n",
    "\n",
    "import matplotlib.pyplot as plt\n",
    "%matplotlib inline"
   ]
  },
  {
   "cell_type": "code",
   "execution_count": 2,
   "id": "71be2295",
   "metadata": {},
   "outputs": [],
   "source": [
    "df_goss_train = pd.read_pickle('../../Dissertation - Fake News/Embeddings/df_train_xlnet_simple.pkl')\n",
    "df_goss_val = pd.read_pickle('../../Dissertation - Fake News/Embeddings/df_val_xlnet_simple.pkl')\n",
    "df_goss_test = pd.read_pickle('../../Dissertation - Fake News/Embeddings/df_test_xlnet_simple.pkl')"
   ]
  },
  {
   "cell_type": "code",
   "execution_count": 3,
   "id": "6c51d2c4",
   "metadata": {},
   "outputs": [
    {
     "data": {
      "text/html": [
       "<div>\n",
       "<style scoped>\n",
       "    .dataframe tbody tr th:only-of-type {\n",
       "        vertical-align: middle;\n",
       "    }\n",
       "\n",
       "    .dataframe tbody tr th {\n",
       "        vertical-align: top;\n",
       "    }\n",
       "\n",
       "    .dataframe thead th {\n",
       "        text-align: right;\n",
       "    }\n",
       "</style>\n",
       "<table border=\"1\" class=\"dataframe\">\n",
       "  <thead>\n",
       "    <tr style=\"text-align: right;\">\n",
       "      <th></th>\n",
       "      <th>hidden_state</th>\n",
       "      <th>label</th>\n",
       "      <th>idx</th>\n",
       "    </tr>\n",
       "  </thead>\n",
       "  <tbody>\n",
       "    <tr>\n",
       "      <th>0</th>\n",
       "      <td>[[-0.6905054, 0.10080558, -3.5896642, 0.688696...</td>\n",
       "      <td>0</td>\n",
       "      <td>1934</td>\n",
       "    </tr>\n",
       "    <tr>\n",
       "      <th>1</th>\n",
       "      <td>[[0.71386486, 1.624135, 0.39983767, 1.6060241,...</td>\n",
       "      <td>0</td>\n",
       "      <td>1408</td>\n",
       "    </tr>\n",
       "    <tr>\n",
       "      <th>2</th>\n",
       "      <td>[[-1.4997008, -2.5545237, -2.6850965, 2.128371...</td>\n",
       "      <td>0</td>\n",
       "      <td>2589</td>\n",
       "    </tr>\n",
       "    <tr>\n",
       "      <th>3</th>\n",
       "      <td>[[-0.59582114, 0.6739678, -0.54739684, 0.43669...</td>\n",
       "      <td>1</td>\n",
       "      <td>5778</td>\n",
       "    </tr>\n",
       "    <tr>\n",
       "      <th>4</th>\n",
       "      <td>[[-0.17796452, 1.5538232, -0.1271606, 0.483559...</td>\n",
       "      <td>0</td>\n",
       "      <td>2922</td>\n",
       "    </tr>\n",
       "  </tbody>\n",
       "</table>\n",
       "</div>"
      ],
      "text/plain": [
       "                                        hidden_state  label   idx\n",
       "0  [[-0.6905054, 0.10080558, -3.5896642, 0.688696...      0  1934\n",
       "1  [[0.71386486, 1.624135, 0.39983767, 1.6060241,...      0  1408\n",
       "2  [[-1.4997008, -2.5545237, -2.6850965, 2.128371...      0  2589\n",
       "3  [[-0.59582114, 0.6739678, -0.54739684, 0.43669...      1  5778\n",
       "4  [[-0.17796452, 1.5538232, -0.1271606, 0.483559...      0  2922"
      ]
     },
     "execution_count": 3,
     "metadata": {},
     "output_type": "execute_result"
    }
   ],
   "source": [
    "df_goss_train.head()"
   ]
  },
  {
   "cell_type": "code",
   "execution_count": 4,
   "id": "97a2a8a1",
   "metadata": {},
   "outputs": [],
   "source": [
    "def label_change(df):\n",
    "    if df['label'] == 0: return 1\n",
    "    else: return 0"
   ]
  },
  {
   "cell_type": "code",
   "execution_count": 5,
   "id": "7c9b52ff",
   "metadata": {},
   "outputs": [
    {
     "data": {
      "text/html": [
       "<div>\n",
       "<style scoped>\n",
       "    .dataframe tbody tr th:only-of-type {\n",
       "        vertical-align: middle;\n",
       "    }\n",
       "\n",
       "    .dataframe tbody tr th {\n",
       "        vertical-align: top;\n",
       "    }\n",
       "\n",
       "    .dataframe thead th {\n",
       "        text-align: right;\n",
       "    }\n",
       "</style>\n",
       "<table border=\"1\" class=\"dataframe\">\n",
       "  <thead>\n",
       "    <tr style=\"text-align: right;\">\n",
       "      <th></th>\n",
       "      <th>hidden_state</th>\n",
       "      <th>label</th>\n",
       "      <th>idx</th>\n",
       "      <th>target</th>\n",
       "    </tr>\n",
       "  </thead>\n",
       "  <tbody>\n",
       "    <tr>\n",
       "      <th>0</th>\n",
       "      <td>[[-0.6905054, 0.10080558, -3.5896642, 0.688696...</td>\n",
       "      <td>0</td>\n",
       "      <td>1934</td>\n",
       "      <td>1</td>\n",
       "    </tr>\n",
       "    <tr>\n",
       "      <th>1</th>\n",
       "      <td>[[0.71386486, 1.624135, 0.39983767, 1.6060241,...</td>\n",
       "      <td>0</td>\n",
       "      <td>1408</td>\n",
       "      <td>1</td>\n",
       "    </tr>\n",
       "    <tr>\n",
       "      <th>2</th>\n",
       "      <td>[[-1.4997008, -2.5545237, -2.6850965, 2.128371...</td>\n",
       "      <td>0</td>\n",
       "      <td>2589</td>\n",
       "      <td>1</td>\n",
       "    </tr>\n",
       "    <tr>\n",
       "      <th>3</th>\n",
       "      <td>[[-0.59582114, 0.6739678, -0.54739684, 0.43669...</td>\n",
       "      <td>1</td>\n",
       "      <td>5778</td>\n",
       "      <td>0</td>\n",
       "    </tr>\n",
       "    <tr>\n",
       "      <th>4</th>\n",
       "      <td>[[-0.17796452, 1.5538232, -0.1271606, 0.483559...</td>\n",
       "      <td>0</td>\n",
       "      <td>2922</td>\n",
       "      <td>1</td>\n",
       "    </tr>\n",
       "  </tbody>\n",
       "</table>\n",
       "</div>"
      ],
      "text/plain": [
       "                                        hidden_state  label   idx  target\n",
       "0  [[-0.6905054, 0.10080558, -3.5896642, 0.688696...      0  1934       1\n",
       "1  [[0.71386486, 1.624135, 0.39983767, 1.6060241,...      0  1408       1\n",
       "2  [[-1.4997008, -2.5545237, -2.6850965, 2.128371...      0  2589       1\n",
       "3  [[-0.59582114, 0.6739678, -0.54739684, 0.43669...      1  5778       0\n",
       "4  [[-0.17796452, 1.5538232, -0.1271606, 0.483559...      0  2922       1"
      ]
     },
     "execution_count": 5,
     "metadata": {},
     "output_type": "execute_result"
    }
   ],
   "source": [
    "df_goss_train['target'] = df_goss_train.apply(label_change, axis=1)\n",
    "df_goss_train.head()"
   ]
  },
  {
   "cell_type": "code",
   "execution_count": 6,
   "id": "ffd94fd1",
   "metadata": {},
   "outputs": [],
   "source": [
    "df_goss_val['target'] = df_goss_val.apply(label_change, axis=1)\n",
    "df_goss_test['target'] = df_goss_test.apply(label_change, axis=1)"
   ]
  },
  {
   "cell_type": "code",
   "execution_count": 7,
   "id": "84ec57ff",
   "metadata": {},
   "outputs": [
    {
     "name": "stdout",
     "output_type": "stream",
     "text": [
      "[0.64400494 2.2360515 ]\n"
     ]
    },
    {
     "name": "stderr",
     "output_type": "stream",
     "text": [
      "C:\\Users\\labca\\anaconda3\\lib\\site-packages\\sklearn\\utils\\validation.py:70: FutureWarning: Pass classes=[0 1], y=[0 0 0 ... 1 1 1] as keyword args. From version 1.0 (renaming of 0.25) passing these as positional arguments will result in an error\n",
      "  warnings.warn(f\"Pass {args_msg} as keyword args. From version \"\n"
     ]
    }
   ],
   "source": [
    "# Count samples per class: 0-real, 1-fake\n",
    "classes_zero = df_goss_train[df_goss_train['target'] == 0]\n",
    "classes_one = df_goss_train[df_goss_train['target'] == 1]\n",
    "\n",
    "# Convert parts into NumPy arrays for weight computation\n",
    "zero_numpy = classes_zero['target'].to_numpy()\n",
    "one_numpy = classes_one['target'].to_numpy()\n",
    "all_together = np.concatenate((zero_numpy, one_numpy))\n",
    "unique_classes = np.unique(all_together)\n",
    "\n",
    "# Compute weights\n",
    "weights = sklearn.utils.class_weight.compute_class_weight('balanced', unique_classes, all_together)\n",
    "print(weights)"
   ]
  },
  {
   "cell_type": "code",
   "execution_count": 8,
   "id": "9222804e",
   "metadata": {},
   "outputs": [
    {
     "data": {
      "text/plain": [
       "{0: 0.6440049443757726, 1: 2.236051502145923}"
      ]
     },
     "execution_count": 8,
     "metadata": {},
     "output_type": "execute_result"
    }
   ],
   "source": [
    "weights_ker = {i : weights[i] for i in range(2)}\n",
    "weights_ker"
   ]
  },
  {
   "cell_type": "code",
   "execution_count": 9,
   "id": "fedaae25",
   "metadata": {},
   "outputs": [
    {
     "data": {
      "text/plain": [
       "(10420, 1, 768)"
      ]
     },
     "execution_count": 9,
     "metadata": {},
     "output_type": "execute_result"
    }
   ],
   "source": [
    "array_train = df_goss_train[[\"hidden_state\",\"target\"]].to_numpy() \n",
    "X_train = np.array(array_train[:,0].tolist())\n",
    "X_train.shape"
   ]
  },
  {
   "cell_type": "code",
   "execution_count": 10,
   "id": "b9b2b545",
   "metadata": {},
   "outputs": [
    {
     "data": {
      "text/plain": [
       "(10420, 768)"
      ]
     },
     "execution_count": 10,
     "metadata": {},
     "output_type": "execute_result"
    }
   ],
   "source": [
    "X_train = np.squeeze(X_train, 1)\n",
    "X_train.shape"
   ]
  },
  {
   "cell_type": "code",
   "execution_count": 11,
   "id": "c524a0b3",
   "metadata": {},
   "outputs": [
    {
     "data": {
      "text/plain": [
       "(10420,)"
      ]
     },
     "execution_count": 11,
     "metadata": {},
     "output_type": "execute_result"
    }
   ],
   "source": [
    "y_label = np.array(array_train[:,1].tolist())\n",
    "y_label.shape"
   ]
  },
  {
   "cell_type": "code",
   "execution_count": 12,
   "id": "248a00ef",
   "metadata": {},
   "outputs": [],
   "source": [
    "array_val = df_goss_val[[\"hidden_state\",\"target\"]].to_numpy() \n",
    "X_val = np.array(array_val[:,0].tolist())\n",
    "X_val = np.squeeze(X_val, 1)\n",
    "y_val_label = np.array(array_val[:,1].tolist())\n",
    "\n",
    "array_test = df_goss_test[[\"hidden_state\",\"target\"]].to_numpy() \n",
    "X_test = np.array(array_test[:,0].tolist())\n",
    "X_test = np.squeeze(X_test, 1)\n",
    "y_test_label = np.array(array_test[:,1].tolist())"
   ]
  },
  {
   "cell_type": "code",
   "execution_count": 13,
   "id": "036c42e4",
   "metadata": {},
   "outputs": [],
   "source": [
    "def reset_tensorflow_keras_backend():\n",
    "    keras.backend.clear_session()\n",
    "    tf.compat.v1.reset_default_graph()\n",
    "    _ = gc.collect()"
   ]
  },
  {
   "cell_type": "code",
   "execution_count": 14,
   "id": "4845b495",
   "metadata": {},
   "outputs": [],
   "source": [
    "def reinitialize(model):\n",
    "    for l in model.layers:\n",
    "        if hasattr(l,\"kernel_initializer\"):\n",
    "            l.kernel.assign(l.kernel_initializer(tf.shape(l.kernel)))\n",
    "        if hasattr(l,\"bias_initializer\"):\n",
    "            l.bias.assign(l.bias_initializer(tf.shape(l.bias)))\n",
    "        if hasattr(l,\"recurrent_initializer\"):\n",
    "            l.recurrent_kernel.assign(l.recurrent_initializer(tf.shape(l.recurrent_kernel)))"
   ]
  },
  {
   "cell_type": "code",
   "execution_count": 15,
   "id": "74044f1f",
   "metadata": {},
   "outputs": [],
   "source": [
    "def run_model(X_train, train_label, X_val, val_label, X_test, test_label, batch_size=32,epochs=100, verbose=1, class_weight=weights_ker, \\\n",
    "              itr=30, shuffle=True):\n",
    "    \n",
    "    adam = optimizers.Adam(learning_rate=1e-4)\n",
    "    callback = tf.keras.callbacks.EarlyStopping(monitor='val_loss', patience=3, restore_best_weights=True)\n",
    "    \n",
    "    real_precision_list = []\n",
    "    real_recall_list = []\n",
    "    real_f1_list = []\n",
    "    fake_precision_list = []\n",
    "    fake_recall_list = []\n",
    "    fake_f1_list = []\n",
    "    \n",
    "    macro_precision_list = []\n",
    "    macro_recall_list = []\n",
    "    macro_f1_list = []\n",
    "    accuracy_list = []\n",
    "    num_epochs = []\n",
    "\n",
    "    #Define model\n",
    "    input_text = Input(shape=(768))\n",
    "    dense_text = Dense(1024, activation='relu', kernel_regularizer=regularizers.l2(0.01),\\\n",
    "                kernel_initializer=initializers.he_normal(seed=0))(input_text)\n",
    "    dropout = Dropout(0.4)(dense_text)\n",
    "    dense_text = Dense(512, activation='relu', kernel_regularizer=regularizers.l2(0.01),\\\n",
    "                kernel_initializer=initializers.he_normal(seed=0))(dropout)\n",
    "    dense_text = Dense(128, activation='relu', kernel_regularizer=regularizers.l2(0.01),\\\n",
    "                kernel_initializer=initializers.he_normal(seed=0))(dense_text)\n",
    "    output = Dense(1, activation='sigmoid')(dense_text)\n",
    "    model = Model(inputs=input_text, outputs=output)\n",
    "    model.compile(loss='binary_crossentropy', optimizer=adam, metrics='accuracy')\n",
    "        \n",
    "    for i in range(0,itr):\n",
    "        print(\"\\nTraining for iteration number: \", i)\n",
    "        reset_tensorflow_keras_backend()\n",
    "        reinitialize(model)\n",
    "        history = model.fit(X_train, train_label, validation_data=(X_val, val_label), batch_size=batch_size,epochs=epochs,\n",
    "                            callbacks=[callback], verbose=verbose, class_weight=class_weight, shuffle=shuffle)\n",
    "        \n",
    "        y_pred = model.predict(X_test)\n",
    "        predictions = list(map(lambda x: 0 if x<0.5 else 1, y_pred))\n",
    "        \n",
    "        report = classification_report(y_test_label, predictions, target_names=['real','fake'], output_dict=True)\n",
    "        real_precision = report['real']['precision'] \n",
    "        real_recall = report['real']['recall'] \n",
    "        real_f1 = report['real']['f1-score'] \n",
    "        fake_precision = report['fake']['precision'] \n",
    "        fake_recall = report['fake']['recall'] \n",
    "        fake_f1 = report['fake']['f1-score'] \n",
    "        \n",
    "        macro_precision =  report['macro avg']['precision'] \n",
    "        macro_recall = report['macro avg']['recall']    \n",
    "        macro_f1 = report['macro avg']['f1-score']\n",
    "        accuracy = report['accuracy']\n",
    "\n",
    "        real_precision_list.append(real_precision)\n",
    "        real_recall_list.append(real_recall)\n",
    "        real_f1_list.append(real_f1)\n",
    "        fake_precision_list.append(fake_precision)\n",
    "        fake_recall_list.append(fake_recall)\n",
    "        fake_f1_list.append(fake_f1)\n",
    "        \n",
    "        macro_precision_list.append(macro_precision)\n",
    "        macro_recall_list.append(macro_recall)\n",
    "        macro_f1_list.append(macro_f1)\n",
    "        accuracy_list.append(accuracy)\n",
    "        num_epochs.append(len(history.history['loss']))\n",
    "        \n",
    "        \n",
    "    mean_real_precision = np.mean(real_precision_list)\n",
    "    mean_real_recall = np.mean(real_recall_list)\n",
    "    mean_real_f1 = np.mean(real_f1_list)\n",
    "    mean_fake_precision = np.mean(fake_precision_list)\n",
    "    mean_fake_recall= np.mean(fake_recall_list)\n",
    "    mean_fake_f1 = np.mean(fake_f1_list)\n",
    "    \n",
    "    mean_macro_precision = np.mean(macro_precision_list)\n",
    "    mean_macro_recall = np.mean(macro_recall)\n",
    "    mean_macro_f1 = np.mean(macro_f1_list)\n",
    "    mean_accuracy = np.mean(accuracy_list)\n",
    "    mean_epoch = np.mean(num_epochs)\n",
    "    \n",
    "    std_real_precision = np.std(real_precision_list)\n",
    "    std_real_recall = np.std(real_recall_list)\n",
    "    std_real_f1 = np.std(real_f1_list)\n",
    "    std_fake_precision = np.std(fake_precision_list)\n",
    "    std_fake_recall= np.std(fake_recall_list)\n",
    "    std_fake_f1 = np.std(fake_f1_list)\n",
    "    \n",
    "    std_macro_precision = np.std(macro_precision_list)\n",
    "    std_macro_recall = np.std(macro_recall)\n",
    "    std_macro_f1 = np.std(macro_f1_list)\n",
    "    std_accuracy = np.std(accuracy_list)\n",
    "\n",
    "    print (report)\n",
    "    \n",
    "    print(\"The standard deviation on real precision : \", std_real_precision)\n",
    "    print(\"The standard deviation on real recall: \", std_real_recall)\n",
    "    print(\"The standard deviation on real f1: \", std_real_f1)\n",
    "    print(\"The standard deviation on fake precision : \", std_fake_precision)\n",
    "    print(\"The standard deviation on fake recall: \", std_fake_recall)\n",
    "    print(\"The standard deviation on macro precision: \", std_macro_precision)\n",
    "    print(\"The standard deviation on macro recall: \", std_macro_recall)\n",
    "    print(\"The standard deviation on macro_f1: \", std_macro_f1)\n",
    "    print(\"The standard deviation on macro accuracy: \", std_accuracy)\n",
    "    print(\"Average number of epochs\", mean_epoch)\n",
    "    \n",
    "    return real_precision_list, real_recall_list, real_f1_list, fake_precision_list, fake_recall_list, fake_f1_list,\\\n",
    "    macro_precision_list, macro_recall_list, macro_f1_list, accuracy_list"
   ]
  },
  {
   "cell_type": "code",
   "execution_count": 16,
   "id": "5b0e2910",
   "metadata": {},
   "outputs": [
    {
     "name": "stdout",
     "output_type": "stream",
     "text": [
      "\n",
      "Training for iteration number:  0\n",
      "41/41 [==============================] - 0s 1ms/step\n",
      "\n",
      "Training for iteration number:  1\n",
      "41/41 [==============================] - 0s 1ms/step\n",
      "\n",
      "Training for iteration number:  2\n",
      "41/41 [==============================] - 0s 1ms/step\n",
      "\n",
      "Training for iteration number:  3\n",
      "41/41 [==============================] - 0s 1ms/step\n",
      "\n",
      "Training for iteration number:  4\n",
      "41/41 [==============================] - 0s 1ms/step\n",
      "\n",
      "Training for iteration number:  5\n",
      "41/41 [==============================] - 0s 1ms/step\n",
      "\n",
      "Training for iteration number:  6\n",
      "41/41 [==============================] - 0s 1ms/step\n",
      "\n",
      "Training for iteration number:  7\n",
      "41/41 [==============================] - 0s 1ms/step\n",
      "\n",
      "Training for iteration number:  8\n",
      "41/41 [==============================] - 0s 1ms/step\n",
      "\n",
      "Training for iteration number:  9\n",
      "41/41 [==============================] - 0s 1ms/step\n",
      "\n",
      "Training for iteration number:  10\n",
      "41/41 [==============================] - 0s 1ms/step\n",
      "\n",
      "Training for iteration number:  11\n",
      "41/41 [==============================] - 0s 1ms/step\n",
      "\n",
      "Training for iteration number:  12\n",
      "41/41 [==============================] - 0s 1ms/step\n",
      "\n",
      "Training for iteration number:  13\n",
      "41/41 [==============================] - 0s 1ms/step\n",
      "\n",
      "Training for iteration number:  14\n",
      "41/41 [==============================] - 0s 1ms/step\n",
      "\n",
      "Training for iteration number:  15\n",
      "41/41 [==============================] - 0s 1ms/step\n",
      "\n",
      "Training for iteration number:  16\n",
      "41/41 [==============================] - 0s 1ms/step\n",
      "\n",
      "Training for iteration number:  17\n",
      "41/41 [==============================] - 0s 1ms/step\n",
      "\n",
      "Training for iteration number:  18\n",
      "41/41 [==============================] - 0s 1ms/step\n",
      "\n",
      "Training for iteration number:  19\n",
      "41/41 [==============================] - 0s 1ms/step\n",
      "\n",
      "Training for iteration number:  20\n",
      "41/41 [==============================] - 0s 1ms/step\n",
      "\n",
      "Training for iteration number:  21\n",
      "41/41 [==============================] - 0s 1ms/step\n",
      "\n",
      "Training for iteration number:  22\n",
      "41/41 [==============================] - 0s 1ms/step\n",
      "\n",
      "Training for iteration number:  23\n",
      "41/41 [==============================] - 0s 1ms/step\n",
      "\n",
      "Training for iteration number:  24\n",
      "41/41 [==============================] - 0s 1ms/step\n",
      "\n",
      "Training for iteration number:  25\n",
      "41/41 [==============================] - 0s 1ms/step\n",
      "\n",
      "Training for iteration number:  26\n",
      "41/41 [==============================] - 0s 1ms/step\n",
      "\n",
      "Training for iteration number:  27\n",
      "41/41 [==============================] - 0s 1ms/step\n",
      "\n",
      "Training for iteration number:  28\n",
      "41/41 [==============================] - 0s 1ms/step\n",
      "\n",
      "Training for iteration number:  29\n",
      "41/41 [==============================] - 0s 1ms/step\n",
      "{'real': {'precision': 0.8678733031674208, 'recall': 0.9411187438665358, 'f1-score': 0.9030131826741996, 'support': 1019}, 'fake': {'precision': 0.696969696969697, 'recall': 0.4859154929577465, 'f1-score': 0.5726141078838175, 'support': 284}, 'accuracy': 0.841903300076746, 'macro avg': {'precision': 0.7824215000685589, 'recall': 0.7135171184121412, 'f1-score': 0.7378136452790085, 'support': 1303}, 'weighted avg': {'precision': 0.8306233997444327, 'recall': 0.841903300076746, 'f1-score': 0.8309998770406857, 'support': 1303}}\n",
      "The standard deviation on real precision :  0.012163881643167913\n",
      "The standard deviation on real recall:  0.030598326051963446\n",
      "The standard deviation on real f1:  0.00988229627142411\n",
      "The standard deviation on fake precision :  0.0470720512107062\n",
      "The standard deviation on fake recall:  0.06269803205321789\n",
      "The standard deviation on macro precision:  0.01805118024321341\n",
      "The standard deviation on macro recall:  0.0\n",
      "The standard deviation on macro_f1:  0.007777783410546848\n",
      "The standard deviation on macro accuracy:  0.01152678040576336\n",
      "Average number of epochs 27.666666666666668\n"
     ]
    }
   ],
   "source": [
    "real_precision, real_recall, real_f_score, fake_precision, fake_recall,\\\n",
    "fake_f1, macro_precision, macro_recall, macro_f1, accuracy = run_model(X_train, \\\n",
    "y_label, X_val, y_val_label, X_test, y_test_label, verbose=0, itr=30)"
   ]
  },
  {
   "cell_type": "code",
   "execution_count": 17,
   "id": "d0ee8741",
   "metadata": {},
   "outputs": [
    {
     "name": "stdout",
     "output_type": "stream",
     "text": [
      "Fake Precision:\n",
      "  [0.6477732793522267, 0.6111111111111112, 0.6066666666666667, 0.5791044776119403, 0.6612244897959184, 0.553314121037464, 0.6875, 0.6346863468634686, 0.5932203389830508, 0.7348066298342542, 0.5840978593272171, 0.6006711409395973, 0.6328671328671329, 0.6200716845878136, 0.6091549295774648, 0.5849056603773585, 0.607773851590106, 0.6064516129032258, 0.6199261992619927, 0.5953177257525084, 0.5271317829457365, 0.6213235294117647, 0.7035175879396985, 0.5429362880886427, 0.5815384615384616, 0.5853658536585366, 0.5462184873949579, 0.6164874551971327, 0.5918367346938775, 0.696969696969697]\n",
      "Fake Recall:\n",
      "  [0.5633802816901409, 0.6584507042253521, 0.6408450704225352, 0.6830985915492958, 0.5704225352112676, 0.676056338028169, 0.5035211267605634, 0.6056338028169014, 0.6161971830985915, 0.46830985915492956, 0.6725352112676056, 0.6302816901408451, 0.6373239436619719, 0.6091549295774648, 0.6091549295774648, 0.6549295774647887, 0.6056338028169014, 0.6619718309859155, 0.5915492957746479, 0.6267605633802817, 0.7183098591549296, 0.5950704225352113, 0.49295774647887325, 0.6901408450704225, 0.6654929577464789, 0.676056338028169, 0.6866197183098591, 0.6056338028169014, 0.6126760563380281, 0.4859154929577465]\n",
      "Fake F1-Score:\n",
      "  [0.6026365348399247, 0.6338983050847459, 0.6232876712328768, 0.6268174474959612, 0.612476370510397, 0.6085578446909669, 0.58130081300813, 0.6198198198198198, 0.6044905008635578, 0.5720430107526883, 0.6252045826513911, 0.6151202749140893, 0.6350877192982456, 0.6145648312611012, 0.6091549295774648, 0.6179401993355482, 0.6067019400352733, 0.632996632996633, 0.6054054054054053, 0.6106346483704975, 0.6080476900149032, 0.6079136690647482, 0.5797101449275363, 0.607751937984496, 0.6206896551724138, 0.6274509803921567, 0.6084243369734789, 0.61101243339254, 0.6020761245674741, 0.5726141078838175]\n"
     ]
    }
   ],
   "source": [
    "print(\"Fake Precision:\\n \", fake_precision)\n",
    "print(\"Fake Recall:\\n \", fake_recall)\n",
    "print(\"Fake F1-Score:\\n \", fake_f1)"
   ]
  },
  {
   "cell_type": "code",
   "execution_count": 20,
   "id": "5bfd2da3",
   "metadata": {},
   "outputs": [
    {
     "name": "stdout",
     "output_type": "stream",
     "text": [
      "Real Precision:\n",
      "  [0.8825757575757576, 0.9027081243731193, 0.8983050847457628, 0.9070247933884298, 0.8846880907372401, 0.9037656903765691, 0.8712328767123287, 0.8914728682170543, 0.8918650793650794, 0.8654188948306596, 0.9047131147540983, 0.8955223880597015, 0.8987217305801377, 0.8916015625, 0.8910696761530913, 0.9005076142131979, 0.8901960784313725, 0.9033232628398792, 0.8875968992248062, 0.8944223107569721, 0.9126637554585153, 0.8884578079534433, 0.8695652173913043, 0.9065817409766455, 0.9028629856850716, 0.9056410256410257, 0.9059196617336153, 0.890625, 0.8909811694747275, 0.8678733031674208]\n",
      "Real Recall:\n",
      "  [0.914622178606477, 0.8832188420019627, 0.8842001962708538, 0.8616290480863592, 0.9185475956820413, 0.8478900883218842, 0.9362119725220804, 0.9028459273797841, 0.8822374877330716, 0.9528949950932286, 0.8665358194308145, 0.8832188420019627, 0.8969578017664377, 0.8959764474975466, 0.8910696761530913, 0.8704612365063789, 0.8910696761530913, 0.8802747791952895, 0.8989205103042198, 0.8812561334641805, 0.8204121687929342, 0.8989205103042198, 0.9421000981354269, 0.8380765456329735, 0.8665358194308145, 0.8665358194308145, 0.8410206084396468, 0.8949950932286556, 0.8822374877330716, 0.9411187438665358]\n",
      "Real F1-Score:\n",
      "  [0.8983132530120482, 0.8928571428571428, 0.8911968348170127, 0.8837443381982889, 0.9012999518536351, 0.8749367088607595, 0.9025543992431408, 0.8971233544612385, 0.8870251603354711, 0.9070527790751984, 0.8852130325814536, 0.8893280632411067, 0.8978388998035363, 0.8937836514929025, 0.8910696761530913, 0.8852295409181635, 0.8906326630701324, 0.8916500994035785, 0.8932228181374938, 0.8877904102817598, 0.8640826873385012, 0.8936585365853659, 0.9043805934997644, 0.8709841917389087, 0.8843264897346018, 0.8856569709127383, 0.872264631043257, 0.8928046989720998, 0.8865877712031558, 0.9030131826741996]\n"
     ]
    }
   ],
   "source": [
    "print(\"Real Precision:\\n \", real_precision)\n",
    "print(\"Real Recall:\\n \", real_recall)\n",
    "print(\"Real F1-Score:\\n \",  real_f_score) "
   ]
  },
  {
   "cell_type": "code",
   "execution_count": 18,
   "id": "52cc355f",
   "metadata": {},
   "outputs": [
    {
     "name": "stdout",
     "output_type": "stream",
     "text": [
      "Macro Precision:\n",
      "  [0.7651745184639922, 0.7569096177421153, 0.7524858757062147, 0.7430646355001851, 0.7729562902665792, 0.7285399057070165, 0.7793664383561644, 0.7630796075402615, 0.7425427091740651, 0.8001127623324569, 0.7444054870406578, 0.7480967644996495, 0.7657944317236354, 0.7558366235439068, 0.7501123028652781, 0.7427066372952782, 0.7489849650107392, 0.7548874378715524, 0.7537615492433994, 0.7448700182547403, 0.7198977692021259, 0.754890668682604, 0.7865414026655014, 0.7247590145326441, 0.7422007236117666, 0.745503439649781, 0.7260690745642866, 0.7535562275985663, 0.7414089520843026, 0.7824215000685589]\n",
      "Macro Recall:\n",
      "  [0.7390012301483089, 0.7708347731136573, 0.7625226333466946, 0.7723638198178275, 0.7444850654466544, 0.7619732131750265, 0.7198665496413219, 0.7542398650983427, 0.7492173354158316, 0.7106024271240791, 0.76953551534921, 0.7567502660714038, 0.7671408727142048, 0.7525656885375056, 0.7501123028652781, 0.7626954069855838, 0.7483517394849963, 0.7711233050906026, 0.7452349030394338, 0.7540083484222311, 0.769361013973932, 0.7469954664197156, 0.7175289223071502, 0.764108695351698, 0.7660143885886467, 0.7712960787294918, 0.763820163374753, 0.7503144480227785, 0.7474567720355498, 0.7135171184121412]\n",
      "Macro F1-Score:\n",
      "  [0.7504748939259864, 0.7633777239709443, 0.7572422530249447, 0.7552808928471251, 0.7568881611820161, 0.7417472767758632, 0.7419276061256355, 0.7584715871405292, 0.7457578305995145, 0.7395478949139433, 0.7552088076164223, 0.7522241690775979, 0.7664633095508909, 0.7541742413770018, 0.7501123028652781, 0.7515848701268559, 0.7486673015527029, 0.7623233662001058, 0.7493141117714496, 0.7492125293261287, 0.7360651886767022, 0.7507861028250571, 0.7420453692136504, 0.7393680648617024, 0.7525080724535078, 0.7565539756524475, 0.7403444840083679, 0.7519085661823199, 0.744331947885315, 0.7378136452790085]\n",
      "Accuracy Score:\n",
      "  [0.8380660015349194, 0.8342287029930928, 0.8311588641596316, 0.8227168073676132, 0.8426707597851113, 0.8104374520337683, 0.841903300076746, 0.8380660015349194, 0.8242517267843438, 0.8472755180353031, 0.8242517267843438, 0.8280890253261703, 0.8403683806600154, 0.8334612432847276, 0.829623944742901, 0.8234842670759785, 0.8288564850345357, 0.8326937835763623, 0.8319263238679969, 0.8257866462010744, 0.7981580966999232, 0.8326937835763623, 0.8442056792018419, 0.8058326937835764, 0.8227168073676132, 0.8250191864927091, 0.807367613200307, 0.8319263238679969, 0.8234842670759785, 0.841903300076746]\n"
     ]
    }
   ],
   "source": [
    "print(\"Macro Precision:\\n \", macro_precision)\n",
    "print(\"Macro Recall:\\n \", macro_recall)\n",
    "print(\"Macro F1-Score:\\n \", macro_f1)\n",
    "print(\"Accuracy Score:\\n \", accuracy)"
   ]
  },
  {
   "cell_type": "code",
   "execution_count": 1,
   "id": "a69eba58",
   "metadata": {},
   "outputs": [
    {
     "data": {
      "text/plain": [
       "0.8287541570734204"
      ]
     },
     "execution_count": 1,
     "metadata": {},
     "output_type": "execute_result"
    }
   ],
   "source": [
    "import numpy as np\n",
    "acc_mean = np.mean([0.8380660015349194, 0.8342287029930928, 0.8311588641596316, 0.8227168073676132, 0.8426707597851113, 0.8104374520337683, 0.841903300076746, 0.8380660015349194, 0.8242517267843438, 0.8472755180353031, 0.8242517267843438, 0.8280890253261703, 0.8403683806600154, 0.8334612432847276, 0.829623944742901, 0.8234842670759785, 0.8288564850345357, 0.8326937835763623, 0.8319263238679969, 0.8257866462010744, 0.7981580966999232, 0.8326937835763623, 0.8442056792018419, 0.8058326937835764, 0.8227168073676132, 0.8250191864927091, 0.807367613200307, 0.8319263238679969, 0.8234842670759785, 0.841903300076746])\n",
    "acc_mean"
   ]
  },
  {
   "cell_type": "code",
   "execution_count": 2,
   "id": "d0abec8f",
   "metadata": {},
   "outputs": [
    {
     "data": {
      "text/plain": [
       "0.8932634521772342"
      ]
     },
     "execution_count": 2,
     "metadata": {},
     "output_type": "execute_result"
    }
   ],
   "source": [
    "real_precision_mean = np.mean([0.8825757575757576, 0.9027081243731193, 0.8983050847457628, 0.9070247933884298, 0.8846880907372401, 0.9037656903765691, 0.8712328767123287, 0.8914728682170543, 0.8918650793650794, 0.8654188948306596, 0.9047131147540983, 0.8955223880597015, 0.8987217305801377, 0.8916015625, 0.8910696761530913, 0.9005076142131979, 0.8901960784313725, 0.9033232628398792, 0.8875968992248062, 0.8944223107569721, 0.9126637554585153, 0.8884578079534433, 0.8695652173913043, 0.9065817409766455, 0.9028629856850716, 0.9056410256410257, 0.9059196617336153, 0.890625, 0.8909811694747275, 0.8678733031674208])\n",
    "real_precision_mean"
   ]
  },
  {
   "cell_type": "code",
   "execution_count": 3,
   "id": "114677b7",
   "metadata": {},
   "outputs": [
    {
     "data": {
      "text/plain": [
       "0.8877330716388616"
      ]
     },
     "execution_count": 3,
     "metadata": {},
     "output_type": "execute_result"
    }
   ],
   "source": [
    "real_recall_mean = np.mean([0.914622178606477, 0.8832188420019627, 0.8842001962708538, 0.8616290480863592, 0.9185475956820413, 0.8478900883218842, 0.9362119725220804, 0.9028459273797841, 0.8822374877330716, 0.9528949950932286, 0.8665358194308145, 0.8832188420019627, 0.8969578017664377, 0.8959764474975466, 0.8910696761530913, 0.8704612365063789, 0.8910696761530913, 0.8802747791952895, 0.8989205103042198, 0.8812561334641805, 0.8204121687929342, 0.8989205103042198, 0.9421000981354269, 0.8380765456329735, 0.8665358194308145, 0.8665358194308145, 0.8410206084396468, 0.8949950932286556, 0.8822374877330716, 0.9411187438665358])\n",
    "real_recall_mean"
   ]
  },
  {
   "cell_type": "code",
   "execution_count": 4,
   "id": "46354f82",
   "metadata": {},
   "outputs": [
    {
     "data": {
      "text/plain": [
       "0.8899874177166581"
      ]
     },
     "execution_count": 4,
     "metadata": {},
     "output_type": "execute_result"
    }
   ],
   "source": [
    "real_f1_mean = np.mean([0.8983132530120482, 0.8928571428571428, 0.8911968348170127, 0.8837443381982889, 0.9012999518536351, 0.8749367088607595, 0.9025543992431408, 0.8971233544612385, 0.8870251603354711, 0.9070527790751984, 0.8852130325814536, 0.8893280632411067, 0.8978388998035363, 0.8937836514929025, 0.8910696761530913, 0.8852295409181635, 0.8906326630701324, 0.8916500994035785, 0.8932228181374938, 0.8877904102817598, 0.8640826873385012, 0.8936585365853659, 0.9043805934997644, 0.8709841917389087, 0.8843264897346018, 0.8856569709127383, 0.872264631043257, 0.8928046989720998, 0.8865877712031558, 0.9030131826741996])\n",
    "real_f1_mean"
   ]
  },
  {
   "cell_type": "code",
   "execution_count": 5,
   "id": "c20e9370",
   "metadata": {},
   "outputs": [
    {
     "data": {
      "text/plain": [
       "0.6127990378759675"
      ]
     },
     "execution_count": 5,
     "metadata": {},
     "output_type": "execute_result"
    }
   ],
   "source": [
    "fake_precision_mean = np.mean([0.6477732793522267, 0.6111111111111112, 0.6066666666666667, 0.5791044776119403, 0.6612244897959184, 0.553314121037464, 0.6875, 0.6346863468634686, 0.5932203389830508, 0.7348066298342542, 0.5840978593272171, 0.6006711409395973, 0.6328671328671329, 0.6200716845878136, 0.6091549295774648, 0.5849056603773585, 0.607773851590106, 0.6064516129032258, 0.6199261992619927, 0.5953177257525084, 0.5271317829457365, 0.6213235294117647, 0.7035175879396985, 0.5429362880886427, 0.5815384615384616, 0.5853658536585366, 0.5462184873949579, 0.6164874551971327, 0.5918367346938775, 0.696969696969697])\n",
    "fake_precision_mean"
   ]
  },
  {
   "cell_type": "code",
   "execution_count": 6,
   "id": "f9608b9e",
   "metadata": {},
   "outputs": [
    {
     "data": {
      "text/plain": [
       "0.6171361502347419"
      ]
     },
     "execution_count": 6,
     "metadata": {},
     "output_type": "execute_result"
    }
   ],
   "source": [
    "fake_recall_mean = np.mean([0.5633802816901409, 0.6584507042253521, 0.6408450704225352, 0.6830985915492958, 0.5704225352112676, 0.676056338028169, 0.5035211267605634, 0.6056338028169014, 0.6161971830985915, 0.46830985915492956, 0.6725352112676056, 0.6302816901408451, 0.6373239436619719, 0.6091549295774648, 0.6091549295774648, 0.6549295774647887, 0.6056338028169014, 0.6619718309859155, 0.5915492957746479, 0.6267605633802817, 0.7183098591549296, 0.5950704225352113, 0.49295774647887325, 0.6901408450704225, 0.6654929577464789, 0.676056338028169, 0.6866197183098591, 0.6056338028169014, 0.6126760563380281, 0.4859154929577465])\n",
    "fake_recall_mean"
   ]
  },
  {
   "cell_type": "code",
   "execution_count": 7,
   "id": "84b2290c",
   "metadata": {},
   "outputs": [
    {
     "data": {
      "text/plain": [
       "0.610127685417276"
      ]
     },
     "execution_count": 7,
     "metadata": {},
     "output_type": "execute_result"
    }
   ],
   "source": [
    "fake_f1_mean = np.mean( [0.6026365348399247, 0.6338983050847459, 0.6232876712328768, 0.6268174474959612, 0.612476370510397, 0.6085578446909669, 0.58130081300813, 0.6198198198198198, 0.6044905008635578, 0.5720430107526883, 0.6252045826513911, 0.6151202749140893, 0.6350877192982456, 0.6145648312611012, 0.6091549295774648, 0.6179401993355482, 0.6067019400352733, 0.632996632996633, 0.6054054054054053, 0.6106346483704975, 0.6080476900149032, 0.6079136690647482, 0.5797101449275363, 0.607751937984496, 0.6206896551724138, 0.6274509803921567, 0.6084243369734789, 0.61101243339254, 0.6020761245674741, 0.5726141078838175])\n",
    "fake_f1_mean"
   ]
  },
  {
   "cell_type": "code",
   "execution_count": 2,
   "id": "238c722f",
   "metadata": {},
   "outputs": [
    {
     "data": {
      "text/plain": [
       "0.7500575515669671"
      ]
     },
     "execution_count": 2,
     "metadata": {},
     "output_type": "execute_result"
    }
   ],
   "source": [
    "macro_f1_mean = np.mean([0.7504748939259864, 0.7633777239709443, 0.7572422530249447, 0.7552808928471251, 0.7568881611820161, 0.7417472767758632, 0.7419276061256355, 0.7584715871405292, 0.7457578305995145, 0.7395478949139433, 0.7552088076164223, 0.7522241690775979, 0.7664633095508909, 0.7541742413770018, 0.7501123028652781, 0.7515848701268559, 0.7486673015527029, 0.7623233662001058, 0.7493141117714496, 0.7492125293261287, 0.7360651886767022, 0.7507861028250571, 0.7420453692136504, 0.7393680648617024, 0.7525080724535078, 0.7565539756524475, 0.7403444840083679, 0.7519085661823199, 0.744331947885315, 0.7378136452790085])\n",
    "macro_f1_mean"
   ]
  },
  {
   "cell_type": "code",
   "execution_count": null,
   "id": "b1bd19f0",
   "metadata": {},
   "outputs": [],
   "source": []
  }
 ],
 "metadata": {
  "kernelspec": {
   "display_name": "Python 3",
   "language": "python",
   "name": "python3"
  },
  "language_info": {
   "codemirror_mode": {
    "name": "ipython",
    "version": 3
   },
   "file_extension": ".py",
   "mimetype": "text/x-python",
   "name": "python",
   "nbconvert_exporter": "python",
   "pygments_lexer": "ipython3",
   "version": "3.8.8"
  }
 },
 "nbformat": 4,
 "nbformat_minor": 5
}
