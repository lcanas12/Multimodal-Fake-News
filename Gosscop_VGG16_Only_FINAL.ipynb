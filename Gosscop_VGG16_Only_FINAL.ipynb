{
 "cells": [
  {
   "cell_type": "code",
   "execution_count": 1,
   "id": "8eb43939",
   "metadata": {},
   "outputs": [],
   "source": [
    "import pandas as pd\n",
    "import sklearn\n",
    "import numpy as np\n",
    "import os\n",
    "from pathlib import Path\n",
    "from sklearn.model_selection import train_test_split\n",
    "import torch\n",
    "from datasets import load_dataset\n",
    "import tensorflow as tf\n",
    "import tensorflow_addons as tfa\n",
    "import gc\n",
    "\n",
    "from keras import optimizers\n",
    "import matplotlib.pyplot as plt\n",
    "from keras import initializers\n",
    "from keras.utils import np_utils\n",
    "from keras import regularizers\n",
    "from keras.models import Sequential, Model\n",
    "from keras.callbacks import ModelCheckpoint\n",
    "from keras.layers import concatenate\n",
    "from keras.layers import Dense, Flatten, Dropout, Input, BatchNormalization, ReLU\n",
    "from keras.layers import LSTM, Bidirectional\n",
    "import pickle\n",
    "from sklearn.metrics import confusion_matrix\n",
    "from sklearn.metrics import classification_report, accuracy_score\n",
    "\n",
    "\n",
    "import keras\n",
    "\n",
    "import matplotlib.pyplot as plt\n",
    "%matplotlib inline"
   ]
  },
  {
   "cell_type": "code",
   "execution_count": 2,
   "id": "71be2295",
   "metadata": {},
   "outputs": [],
   "source": [
    "df_goss_train = pd.read_pickle('../../Dissertation - Fake News/Embeddings/df_train_vgg16.pkl')\n",
    "df_goss_val = pd.read_pickle('../../Dissertation - Fake News/Embeddings/df_val_vgg16.pkl')\n",
    "df_goss_test = pd.read_pickle('../../Dissertation - Fake News/Embeddings/df_test_vgg16.pkl')"
   ]
  },
  {
   "cell_type": "code",
   "execution_count": 3,
   "id": "6c51d2c4",
   "metadata": {},
   "outputs": [
    {
     "data": {
      "text/html": [
       "<div>\n",
       "<style scoped>\n",
       "    .dataframe tbody tr th:only-of-type {\n",
       "        vertical-align: middle;\n",
       "    }\n",
       "\n",
       "    .dataframe tbody tr th {\n",
       "        vertical-align: top;\n",
       "    }\n",
       "\n",
       "    .dataframe thead th {\n",
       "        text-align: right;\n",
       "    }\n",
       "</style>\n",
       "<table border=\"1\" class=\"dataframe\">\n",
       "  <thead>\n",
       "    <tr style=\"text-align: right;\">\n",
       "      <th></th>\n",
       "      <th>img_features</th>\n",
       "      <th>label</th>\n",
       "      <th>idx</th>\n",
       "    </tr>\n",
       "  </thead>\n",
       "  <tbody>\n",
       "    <tr>\n",
       "      <th>1902</th>\n",
       "      <td>[[[[ 0.          0.          0.          0.   ...</td>\n",
       "      <td>0</td>\n",
       "      <td>1934</td>\n",
       "    </tr>\n",
       "    <tr>\n",
       "      <th>1386</th>\n",
       "      <td>[[[[0.0000000e+00 0.0000000e+00 0.0000000e+00 ...</td>\n",
       "      <td>0</td>\n",
       "      <td>1408</td>\n",
       "    </tr>\n",
       "    <tr>\n",
       "      <th>2539</th>\n",
       "      <td>[[[[ 0.          0.          0.          7.050...</td>\n",
       "      <td>0</td>\n",
       "      <td>2589</td>\n",
       "    </tr>\n",
       "    <tr>\n",
       "      <th>5649</th>\n",
       "      <td>[[[[ 0.          0.          0.          0.   ...</td>\n",
       "      <td>1</td>\n",
       "      <td>5778</td>\n",
       "    </tr>\n",
       "    <tr>\n",
       "      <th>2869</th>\n",
       "      <td>[[[[0.00000000e+00 0.00000000e+00 0.00000000e+...</td>\n",
       "      <td>0</td>\n",
       "      <td>2922</td>\n",
       "    </tr>\n",
       "  </tbody>\n",
       "</table>\n",
       "</div>"
      ],
      "text/plain": [
       "                                           img_features  label   idx\n",
       "1902  [[[[ 0.          0.          0.          0.   ...      0  1934\n",
       "1386  [[[[0.0000000e+00 0.0000000e+00 0.0000000e+00 ...      0  1408\n",
       "2539  [[[[ 0.          0.          0.          7.050...      0  2589\n",
       "5649  [[[[ 0.          0.          0.          0.   ...      1  5778\n",
       "2869  [[[[0.00000000e+00 0.00000000e+00 0.00000000e+...      0  2922"
      ]
     },
     "execution_count": 3,
     "metadata": {},
     "output_type": "execute_result"
    }
   ],
   "source": [
    "df_goss_train.head()"
   ]
  },
  {
   "cell_type": "code",
   "execution_count": 4,
   "id": "97a2a8a1",
   "metadata": {},
   "outputs": [],
   "source": [
    "def label_change(df):\n",
    "    if df['label'] == 0: return 1\n",
    "    else: return 0"
   ]
  },
  {
   "cell_type": "code",
   "execution_count": 5,
   "id": "7c9b52ff",
   "metadata": {},
   "outputs": [
    {
     "data": {
      "text/html": [
       "<div>\n",
       "<style scoped>\n",
       "    .dataframe tbody tr th:only-of-type {\n",
       "        vertical-align: middle;\n",
       "    }\n",
       "\n",
       "    .dataframe tbody tr th {\n",
       "        vertical-align: top;\n",
       "    }\n",
       "\n",
       "    .dataframe thead th {\n",
       "        text-align: right;\n",
       "    }\n",
       "</style>\n",
       "<table border=\"1\" class=\"dataframe\">\n",
       "  <thead>\n",
       "    <tr style=\"text-align: right;\">\n",
       "      <th></th>\n",
       "      <th>img_features</th>\n",
       "      <th>label</th>\n",
       "      <th>idx</th>\n",
       "      <th>target</th>\n",
       "    </tr>\n",
       "  </thead>\n",
       "  <tbody>\n",
       "    <tr>\n",
       "      <th>1902</th>\n",
       "      <td>[[[[ 0.          0.          0.          0.   ...</td>\n",
       "      <td>0</td>\n",
       "      <td>1934</td>\n",
       "      <td>1</td>\n",
       "    </tr>\n",
       "    <tr>\n",
       "      <th>1386</th>\n",
       "      <td>[[[[0.0000000e+00 0.0000000e+00 0.0000000e+00 ...</td>\n",
       "      <td>0</td>\n",
       "      <td>1408</td>\n",
       "      <td>1</td>\n",
       "    </tr>\n",
       "    <tr>\n",
       "      <th>2539</th>\n",
       "      <td>[[[[ 0.          0.          0.          7.050...</td>\n",
       "      <td>0</td>\n",
       "      <td>2589</td>\n",
       "      <td>1</td>\n",
       "    </tr>\n",
       "    <tr>\n",
       "      <th>5649</th>\n",
       "      <td>[[[[ 0.          0.          0.          0.   ...</td>\n",
       "      <td>1</td>\n",
       "      <td>5778</td>\n",
       "      <td>0</td>\n",
       "    </tr>\n",
       "    <tr>\n",
       "      <th>2869</th>\n",
       "      <td>[[[[0.00000000e+00 0.00000000e+00 0.00000000e+...</td>\n",
       "      <td>0</td>\n",
       "      <td>2922</td>\n",
       "      <td>1</td>\n",
       "    </tr>\n",
       "  </tbody>\n",
       "</table>\n",
       "</div>"
      ],
      "text/plain": [
       "                                           img_features  label   idx  target\n",
       "1902  [[[[ 0.          0.          0.          0.   ...      0  1934       1\n",
       "1386  [[[[0.0000000e+00 0.0000000e+00 0.0000000e+00 ...      0  1408       1\n",
       "2539  [[[[ 0.          0.          0.          7.050...      0  2589       1\n",
       "5649  [[[[ 0.          0.          0.          0.   ...      1  5778       0\n",
       "2869  [[[[0.00000000e+00 0.00000000e+00 0.00000000e+...      0  2922       1"
      ]
     },
     "execution_count": 5,
     "metadata": {},
     "output_type": "execute_result"
    }
   ],
   "source": [
    "df_goss_train['target'] = df_goss_train.apply(label_change, axis=1)\n",
    "df_goss_train.head()"
   ]
  },
  {
   "cell_type": "code",
   "execution_count": 6,
   "id": "ffd94fd1",
   "metadata": {},
   "outputs": [],
   "source": [
    "df_goss_val['target'] = df_goss_val.apply(label_change, axis=1)\n",
    "df_goss_test['target'] = df_goss_test.apply(label_change, axis=1)"
   ]
  },
  {
   "cell_type": "code",
   "execution_count": 7,
   "id": "84ec57ff",
   "metadata": {},
   "outputs": [
    {
     "name": "stdout",
     "output_type": "stream",
     "text": [
      "[0.64400494 2.2360515 ]\n"
     ]
    },
    {
     "name": "stderr",
     "output_type": "stream",
     "text": [
      "C:\\Users\\labca\\anaconda3\\lib\\site-packages\\sklearn\\utils\\validation.py:70: FutureWarning: Pass classes=[0 1], y=[0 0 0 ... 1 1 1] as keyword args. From version 1.0 (renaming of 0.25) passing these as positional arguments will result in an error\n",
      "  warnings.warn(f\"Pass {args_msg} as keyword args. From version \"\n"
     ]
    }
   ],
   "source": [
    "# Count samples per class: 0-real, 1-fake\n",
    "classes_zero = df_goss_train[df_goss_train['target'] == 0]\n",
    "classes_one = df_goss_train[df_goss_train['target'] == 1]\n",
    "\n",
    "# Convert parts into NumPy arrays for weight computation\n",
    "zero_numpy = classes_zero['target'].to_numpy()\n",
    "one_numpy = classes_one['target'].to_numpy()\n",
    "all_together = np.concatenate((zero_numpy, one_numpy))\n",
    "unique_classes = np.unique(all_together)\n",
    "\n",
    "# Compute weights\n",
    "weights = sklearn.utils.class_weight.compute_class_weight('balanced', unique_classes, all_together)\n",
    "print(weights)"
   ]
  },
  {
   "cell_type": "code",
   "execution_count": 8,
   "id": "9222804e",
   "metadata": {},
   "outputs": [
    {
     "data": {
      "text/plain": [
       "{0: 0.6440049443757726, 1: 2.236051502145923}"
      ]
     },
     "execution_count": 8,
     "metadata": {},
     "output_type": "execute_result"
    }
   ],
   "source": [
    "weights_ker = {i : weights[i] for i in range(2)}\n",
    "weights_ker"
   ]
  },
  {
   "cell_type": "code",
   "execution_count": 9,
   "id": "fedaae25",
   "metadata": {},
   "outputs": [
    {
     "data": {
      "text/plain": [
       "(10420, 1, 7, 7, 512)"
      ]
     },
     "execution_count": 9,
     "metadata": {},
     "output_type": "execute_result"
    }
   ],
   "source": [
    "array_train = df_goss_train[[\"img_features\",\"target\"]].to_numpy() \n",
    "X_train = np.array(array_train[:,0].tolist())\n",
    "X_train.shape"
   ]
  },
  {
   "cell_type": "code",
   "execution_count": 10,
   "id": "b9b2b545",
   "metadata": {},
   "outputs": [
    {
     "data": {
      "text/plain": [
       "(10420, 7, 7, 512)"
      ]
     },
     "execution_count": 10,
     "metadata": {},
     "output_type": "execute_result"
    }
   ],
   "source": [
    "X_train = np.squeeze(X_train, 1)\n",
    "X_train.shape"
   ]
  },
  {
   "cell_type": "code",
   "execution_count": 11,
   "id": "c524a0b3",
   "metadata": {},
   "outputs": [
    {
     "data": {
      "text/plain": [
       "(10420,)"
      ]
     },
     "execution_count": 11,
     "metadata": {},
     "output_type": "execute_result"
    }
   ],
   "source": [
    "y_label = np.array(array_train[:,1].tolist())\n",
    "y_label.shape"
   ]
  },
  {
   "cell_type": "code",
   "execution_count": 12,
   "id": "248a00ef",
   "metadata": {},
   "outputs": [],
   "source": [
    "array_val = df_goss_val[[\"img_features\",\"target\"]].to_numpy() \n",
    "X_val = np.array(array_val[:,0].tolist())\n",
    "X_val = np.squeeze(X_val, 1)\n",
    "y_val_label = np.array(array_val[:,1].tolist())\n",
    "\n",
    "array_test = df_goss_test[[\"img_features\",\"target\"]].to_numpy() \n",
    "X_test = np.array(array_test[:,0].tolist())\n",
    "X_test = np.squeeze(X_test, 1)\n",
    "y_test_label = np.array(array_test[:,1].tolist())"
   ]
  },
  {
   "cell_type": "code",
   "execution_count": 13,
   "id": "036c42e4",
   "metadata": {},
   "outputs": [],
   "source": [
    "def reset_tensorflow_keras_backend():\n",
    "    keras.backend.clear_session()\n",
    "    tf.compat.v1.reset_default_graph()\n",
    "    _ = gc.collect()"
   ]
  },
  {
   "cell_type": "code",
   "execution_count": 14,
   "id": "4845b495",
   "metadata": {},
   "outputs": [],
   "source": [
    "def reinitialize(model):\n",
    "    for l in model.layers:\n",
    "        if hasattr(l,\"kernel_initializer\"):\n",
    "            l.kernel.assign(l.kernel_initializer(tf.shape(l.kernel)))\n",
    "        if hasattr(l,\"bias_initializer\"):\n",
    "            l.bias.assign(l.bias_initializer(tf.shape(l.bias)))\n",
    "        if hasattr(l,\"recurrent_initializer\"):\n",
    "            l.recurrent_kernel.assign(l.recurrent_initializer(tf.shape(l.recurrent_kernel)))"
   ]
  },
  {
   "cell_type": "code",
   "execution_count": 15,
   "id": "7d159b5d",
   "metadata": {},
   "outputs": [],
   "source": [
    "adam = optimizers.Adam(learning_rate=1e-4)\n",
    "callback = tf.keras.callbacks.EarlyStopping(monitor='val_loss', patience=3, restore_best_weights=True)"
   ]
  },
  {
   "cell_type": "code",
   "execution_count": 16,
   "id": "b3e62209",
   "metadata": {},
   "outputs": [],
   "source": [
    "input_img = Input(shape=(7, 7, 512))\n",
    "img_flat = Flatten()(input_img)\n",
    "img_dense = Dense(1024, activation='relu', kernel_regularizer=regularizers.l2(0.05),\\\n",
    "                kernel_initializer=initializers.he_normal(seed=0))(img_flat)\n",
    "dropout = Dropout(0.2)(img_dense)\n",
    "img_dense = Dense(512, activation='relu', kernel_regularizer=regularizers.l2(0.01),\\\n",
    "                kernel_initializer=initializers.he_normal(seed=0))(dropout)\n",
    "img_dense = Dense(128, activation='relu', kernel_regularizer=regularizers.l2(0.01),\\\n",
    "                kernel_initializer=initializers.he_normal(seed=0))(img_dense)\n",
    "output = Dense(1, activation='sigmoid')(img_dense)\n",
    "model = Model(inputs=input_img, outputs=output)\n",
    "model.compile(loss='binary_crossentropy', optimizer=adam, metrics='accuracy')"
   ]
  },
  {
   "cell_type": "code",
   "execution_count": 17,
   "id": "109b7623",
   "metadata": {},
   "outputs": [],
   "source": [
    "#model.summary()"
   ]
  },
  {
   "cell_type": "code",
   "execution_count": 18,
   "id": "74044f1f",
   "metadata": {},
   "outputs": [],
   "source": [
    "def run_model(X_train, train_label, X_val, val_label, X_test, test_label, batch_size=32,epochs=100, verbose=1, class_weight=weights_ker, \\\n",
    "              itr=30, shuffle=True):\n",
    "    \n",
    "    adam = optimizers.Adam(learning_rate=1e-4)\n",
    "    callback = tf.keras.callbacks.EarlyStopping(monitor='val_loss', patience=3, restore_best_weights=True)\n",
    "    \n",
    "    real_precision_list = []\n",
    "    real_recall_list = []\n",
    "    real_f1_list = []\n",
    "    fake_precision_list = []\n",
    "    fake_recall_list = []\n",
    "    fake_f1_list = []\n",
    "    \n",
    "    macro_precision_list = []\n",
    "    macro_recall_list = []\n",
    "    macro_f1_list = []\n",
    "    accuracy_list = []\n",
    "    num_epochs = []\n",
    "\n",
    "    #Define model\n",
    "    input_img = Input(shape=(7, 7, 512))\n",
    "    img_flat = Flatten()(input_img)\n",
    "    dense_img = Dense(1024, activation='relu', kernel_regularizer=regularizers.l2(0.05),\\\n",
    "                kernel_initializer=initializers.he_normal(seed=0))(img_flat)\n",
    "    dropout = Dropout(0.2)(dense_img)\n",
    "    dense_img = Dense(512, activation='relu', kernel_regularizer=regularizers.l2(0.01),\\\n",
    "                kernel_initializer=initializers.he_normal(seed=0))(dropout)\n",
    "    dense_img = Dense(128, activation='relu', kernel_regularizer=regularizers.l2(0.01),\\\n",
    "                kernel_initializer=initializers.he_normal(seed=0))(dense_img)\n",
    "    output = Dense(1, activation='sigmoid')(dense_img)\n",
    "    model = Model(inputs=input_img, outputs=output)\n",
    "    model.compile(loss='binary_crossentropy', optimizer=adam, metrics='accuracy')\n",
    "        \n",
    "    for i in range(0,itr):\n",
    "        print(\"\\nTraining for iteration number: \", i)\n",
    "        reset_tensorflow_keras_backend()\n",
    "        reinitialize(model)\n",
    "        history = model.fit(X_train, train_label, validation_data=(X_val, val_label), batch_size=batch_size,epochs=epochs,\n",
    "                            callbacks=[callback], verbose=verbose, class_weight=class_weight, shuffle=shuffle)\n",
    "        \n",
    "        y_pred = model.predict(X_test)\n",
    "        predictions = list(map(lambda x: 0 if x<0.5 else 1, y_pred))\n",
    "        \n",
    "        report = classification_report(y_test_label, predictions, target_names=['real','fake'], output_dict=True)\n",
    "        real_precision = report['real']['precision'] \n",
    "        real_recall = report['real']['recall'] \n",
    "        real_f1 = report['real']['f1-score'] \n",
    "        fake_precision = report['fake']['precision'] \n",
    "        fake_recall = report['fake']['recall'] \n",
    "        fake_f1 = report['fake']['f1-score'] \n",
    "        \n",
    "        macro_precision =  report['macro avg']['precision'] \n",
    "        macro_recall = report['macro avg']['recall']    \n",
    "        macro_f1 = report['macro avg']['f1-score']\n",
    "        accuracy = report['accuracy']\n",
    "\n",
    "        real_precision_list.append(real_precision)\n",
    "        real_recall_list.append(real_recall)\n",
    "        real_f1_list.append(real_f1)\n",
    "        fake_precision_list.append(fake_precision)\n",
    "        fake_recall_list.append(fake_recall)\n",
    "        fake_f1_list.append(fake_f1)\n",
    "        \n",
    "        macro_precision_list.append(macro_precision)\n",
    "        macro_recall_list.append(macro_recall)\n",
    "        macro_f1_list.append(macro_f1)\n",
    "        accuracy_list.append(accuracy)\n",
    "        num_epochs.append(len(history.history['loss']))\n",
    "        \n",
    "        \n",
    "    mean_real_precision = np.mean(real_precision_list)\n",
    "    mean_real_recall = np.mean(real_recall_list)\n",
    "    mean_real_f1 = np.mean(real_f1_list)\n",
    "    mean_fake_precision = np.mean(fake_precision_list)\n",
    "    mean_fake_recall= np.mean(fake_recall_list)\n",
    "    mean_fake_f1 = np.mean(fake_f1_list)\n",
    "    \n",
    "    mean_macro_precision = np.mean(macro_precision_list)\n",
    "    mean_macro_recall = np.mean(macro_recall)\n",
    "    mean_macro_f1 = np.mean(macro_f1_list)\n",
    "    mean_accuracy = np.mean(accuracy_list)\n",
    "    mean_epoch = np.mean(num_epochs)\n",
    "    \n",
    "    std_real_precision = np.std(real_precision_list)\n",
    "    std_real_recall = np.std(real_recall_list)\n",
    "    std_real_f1 = np.std(real_f1_list)\n",
    "    std_fake_precision = np.std(fake_precision_list)\n",
    "    std_fake_recall= np.std(fake_recall_list)\n",
    "    std_fake_f1 = np.std(fake_f1_list)\n",
    "    \n",
    "    std_macro_precision = np.std(macro_precision_list)\n",
    "    std_macro_recall = np.std(macro_recall)\n",
    "    std_macro_f1 = np.std(macro_f1_list)\n",
    "    std_accuracy = np.std(accuracy_list)\n",
    "\n",
    "    print(\"The average real precision : \", mean_real_precision)\n",
    "    print(\"The average real recall: \", mean_real_recall)\n",
    "    print(\"The average real f1: \", mean_real_f1)\n",
    "    print(\"The average fake precision : \", mean_fake_precision)\n",
    "    print(\"The average fake recall: \", mean_fake_recall)\n",
    "    print(\"The average fake f1: \", mean_fake_f1)\n",
    "    print(\"The average macro precision: \", mean_macro_precision)\n",
    "    print(\"The average macro recall: \", mean_macro_recall)\n",
    "    print(\"The average macro_f1: \", mean_macro_f1)\n",
    "    print(\"The average macro accuracy: \", mean_accuracy)\n",
    "    \n",
    "    print(\"The standard deviation on real precision : \", std_real_precision)\n",
    "    print(\"The standard deviation on real recall: \", std_real_recall)\n",
    "    print(\"The standard deviation on real f1: \", std_real_f1)\n",
    "    print(\"The standard deviation on fake precision : \", std_fake_precision)\n",
    "    print(\"The standard deviation on fake recall: \", std_fake_recall)\n",
    "    print(\"The standard deviation on macro precision: \", std_macro_precision)\n",
    "    print(\"The standard deviation on macro recall: \", std_macro_recall)\n",
    "    print(\"The standard deviation on macro_f1: \", std_macro_f1)\n",
    "    print(\"The standard deviation on macro accuracy: \", std_accuracy)\n",
    "    print(\"Average number of epochs\", mean_epoch)\n",
    "    \n",
    "    return real_precision_list, real_recall_list, real_f1_list, fake_precision_list, fake_recall_list, fake_f1_list,\\\n",
    "    macro_precision_list, macro_recall_list, macro_f1_list, accuracy_list"
   ]
  },
  {
   "cell_type": "code",
   "execution_count": 19,
   "id": "b4a42ef1",
   "metadata": {},
   "outputs": [
    {
     "name": "stdout",
     "output_type": "stream",
     "text": [
      "Epoch 1/100\n",
      "326/326 [==============================] - 7s 15ms/step - loss: 91.7633 - accuracy: 0.5386 - val_loss: 72.8666 - val_accuracy: 0.5602\n",
      "Epoch 2/100\n",
      "326/326 [==============================] - 4s 14ms/step - loss: 59.0520 - accuracy: 0.7253 - val_loss: 47.3287 - val_accuracy: 0.7260\n",
      "Epoch 3/100\n",
      "326/326 [==============================] - 4s 13ms/step - loss: 38.2953 - accuracy: 0.8428 - val_loss: 31.2349 - val_accuracy: 0.6754\n",
      "Epoch 4/100\n",
      "326/326 [==============================] - 4s 13ms/step - loss: 25.5398 - accuracy: 0.8804 - val_loss: 21.5690 - val_accuracy: 0.7552\n",
      "Epoch 5/100\n",
      "326/326 [==============================] - 4s 13ms/step - loss: 17.9862 - accuracy: 0.8784 - val_loss: 15.9046 - val_accuracy: 0.6938\n",
      "Epoch 6/100\n",
      "326/326 [==============================] - 4s 13ms/step - loss: 13.5247 - accuracy: 0.8633 - val_loss: 12.3719 - val_accuracy: 0.6516\n",
      "Epoch 7/100\n",
      "326/326 [==============================] - 4s 13ms/step - loss: 10.4910 - accuracy: 0.8827 - val_loss: 9.8707 - val_accuracy: 0.6846\n",
      "Epoch 8/100\n",
      "326/326 [==============================] - 4s 13ms/step - loss: 8.4916 - accuracy: 0.8664 - val_loss: 8.2271 - val_accuracy: 0.7252\n",
      "Epoch 9/100\n",
      "326/326 [==============================] - 4s 14ms/step - loss: 6.9955 - accuracy: 0.8884 - val_loss: 6.8850 - val_accuracy: 0.7122\n",
      "Epoch 10/100\n",
      "326/326 [==============================] - 4s 13ms/step - loss: 5.8813 - accuracy: 0.8863 - val_loss: 6.0716 - val_accuracy: 0.6355\n",
      "Epoch 11/100\n",
      "326/326 [==============================] - 4s 13ms/step - loss: 5.0571 - accuracy: 0.8903 - val_loss: 5.1739 - val_accuracy: 0.6738\n",
      "Epoch 12/100\n",
      "326/326 [==============================] - 4s 13ms/step - loss: 4.2168 - accuracy: 0.9107 - val_loss: 4.5117 - val_accuracy: 0.7467\n",
      "Epoch 13/100\n",
      "326/326 [==============================] - 4s 13ms/step - loss: 3.6856 - accuracy: 0.8988 - val_loss: 3.9452 - val_accuracy: 0.6784\n",
      "Epoch 14/100\n",
      "326/326 [==============================] - 4s 13ms/step - loss: 3.1632 - accuracy: 0.9139 - val_loss: 3.5824 - val_accuracy: 0.6708\n",
      "Epoch 15/100\n",
      "326/326 [==============================] - 4s 13ms/step - loss: 2.7287 - accuracy: 0.9175 - val_loss: 3.1168 - val_accuracy: 0.6969\n",
      "Epoch 16/100\n",
      "326/326 [==============================] - 4s 13ms/step - loss: 2.3567 - accuracy: 0.9283 - val_loss: 2.8679 - val_accuracy: 0.6876\n",
      "Epoch 17/100\n",
      "326/326 [==============================] - 4s 13ms/step - loss: 1.9942 - accuracy: 0.9376 - val_loss: 2.4683 - val_accuracy: 0.7053\n",
      "Epoch 18/100\n",
      "326/326 [==============================] - 4s 13ms/step - loss: 1.7502 - accuracy: 0.9382 - val_loss: 2.3472 - val_accuracy: 0.6608\n",
      "Epoch 19/100\n",
      "326/326 [==============================] - 4s 13ms/step - loss: 1.5411 - accuracy: 0.9403 - val_loss: 2.2883 - val_accuracy: 0.6408\n",
      "Epoch 20/100\n",
      "326/326 [==============================] - 4s 13ms/step - loss: 1.3618 - accuracy: 0.9441 - val_loss: 1.9941 - val_accuracy: 0.6800\n",
      "Epoch 21/100\n",
      "326/326 [==============================] - 4s 13ms/step - loss: 1.1873 - accuracy: 0.9532 - val_loss: 1.8068 - val_accuracy: 0.7130\n",
      "Epoch 22/100\n",
      "326/326 [==============================] - 4s 13ms/step - loss: 1.0514 - accuracy: 0.9512 - val_loss: 1.7150 - val_accuracy: 0.7061\n",
      "Epoch 23/100\n",
      "326/326 [==============================] - 4s 13ms/step - loss: 0.9641 - accuracy: 0.9535 - val_loss: 1.6650 - val_accuracy: 0.7160\n",
      "Epoch 24/100\n",
      "326/326 [==============================] - 4s 13ms/step - loss: 0.8685 - accuracy: 0.9583 - val_loss: 1.5541 - val_accuracy: 0.7329\n",
      "Epoch 25/100\n",
      "326/326 [==============================] - 4s 13ms/step - loss: 0.8392 - accuracy: 0.9463 - val_loss: 1.5028 - val_accuracy: 0.7053\n",
      "Epoch 26/100\n",
      "326/326 [==============================] - 4s 13ms/step - loss: 0.7680 - accuracy: 0.9586 - val_loss: 1.6960 - val_accuracy: 0.6094\n",
      "Epoch 27/100\n",
      "326/326 [==============================] - 4s 13ms/step - loss: 0.7516 - accuracy: 0.9512 - val_loss: 1.5877 - val_accuracy: 0.6309\n",
      "Epoch 28/100\n",
      "326/326 [==============================] - 4s 13ms/step - loss: 0.6969 - accuracy: 0.9561 - val_loss: 1.3160 - val_accuracy: 0.7222\n",
      "Epoch 29/100\n",
      "326/326 [==============================] - 4s 13ms/step - loss: 0.6472 - accuracy: 0.9608 - val_loss: 1.2806 - val_accuracy: 0.6922\n",
      "Epoch 30/100\n",
      "326/326 [==============================] - 4s 13ms/step - loss: 0.6125 - accuracy: 0.9601 - val_loss: 1.2890 - val_accuracy: 0.7084\n",
      "Epoch 31/100\n",
      "326/326 [==============================] - 4s 13ms/step - loss: 0.6015 - accuracy: 0.9610 - val_loss: 1.3479 - val_accuracy: 0.7137\n",
      "Epoch 32/100\n",
      "326/326 [==============================] - 4s 13ms/step - loss: 0.5968 - accuracy: 0.9575 - val_loss: 1.3589 - val_accuracy: 0.7329\n"
     ]
    }
   ],
   "source": [
    "history = model.fit(X_train, y_label, validation_data=(X_val, y_val_label), batch_size=32,epochs=100,\\\n",
    "                            callbacks=[callback], verbose=1, class_weight=weights_ker, shuffle=True)"
   ]
  },
  {
   "cell_type": "code",
   "execution_count": 20,
   "id": "5b0e2910",
   "metadata": {},
   "outputs": [
    {
     "name": "stdout",
     "output_type": "stream",
     "text": [
      "\n",
      "Training for iteration number:  0\n",
      "41/41 [==============================] - 0s 2ms/step\n",
      "\n",
      "Training for iteration number:  1\n",
      "41/41 [==============================] - 0s 3ms/step\n",
      "\n",
      "Training for iteration number:  2\n",
      "41/41 [==============================] - 0s 2ms/step\n",
      "\n",
      "Training for iteration number:  3\n",
      "41/41 [==============================] - 0s 2ms/step\n",
      "\n",
      "Training for iteration number:  4\n",
      "41/41 [==============================] - 0s 2ms/step\n",
      "\n",
      "Training for iteration number:  5\n",
      "41/41 [==============================] - 0s 2ms/step\n",
      "\n",
      "Training for iteration number:  6\n",
      "41/41 [==============================] - 0s 2ms/step\n",
      "\n",
      "Training for iteration number:  7\n",
      "41/41 [==============================] - 0s 2ms/step\n",
      "\n",
      "Training for iteration number:  8\n",
      "41/41 [==============================] - 0s 2ms/step\n",
      "\n",
      "Training for iteration number:  9\n",
      "41/41 [==============================] - 0s 2ms/step\n",
      "\n",
      "Training for iteration number:  10\n",
      "41/41 [==============================] - 0s 2ms/step\n",
      "\n",
      "Training for iteration number:  11\n",
      "41/41 [==============================] - 0s 2ms/step\n",
      "\n",
      "Training for iteration number:  12\n",
      "41/41 [==============================] - 0s 2ms/step\n",
      "\n",
      "Training for iteration number:  13\n",
      "41/41 [==============================] - 0s 2ms/step\n",
      "\n",
      "Training for iteration number:  14\n",
      "41/41 [==============================] - 0s 2ms/step\n",
      "\n",
      "Training for iteration number:  15\n",
      "41/41 [==============================] - 0s 2ms/step\n",
      "\n",
      "Training for iteration number:  16\n",
      "41/41 [==============================] - 0s 2ms/step\n",
      "\n",
      "Training for iteration number:  17\n",
      "41/41 [==============================] - 0s 2ms/step\n",
      "\n",
      "Training for iteration number:  18\n",
      "41/41 [==============================] - 0s 2ms/step\n",
      "\n",
      "Training for iteration number:  19\n",
      "41/41 [==============================] - 0s 2ms/step\n",
      "\n",
      "Training for iteration number:  20\n",
      "41/41 [==============================] - 0s 2ms/step\n",
      "\n",
      "Training for iteration number:  21\n",
      "41/41 [==============================] - 0s 2ms/step\n",
      "\n",
      "Training for iteration number:  22\n",
      "41/41 [==============================] - 0s 2ms/step\n",
      "\n",
      "Training for iteration number:  23\n",
      "41/41 [==============================] - 0s 2ms/step\n",
      "\n",
      "Training for iteration number:  24\n",
      "41/41 [==============================] - 0s 2ms/step\n",
      "\n",
      "Training for iteration number:  25\n",
      "41/41 [==============================] - 0s 2ms/step\n",
      "\n",
      "Training for iteration number:  26\n",
      "41/41 [==============================] - 0s 2ms/step\n",
      "\n",
      "Training for iteration number:  27\n",
      "41/41 [==============================] - 0s 2ms/step\n",
      "\n",
      "Training for iteration number:  28\n",
      "41/41 [==============================] - 0s 2ms/step\n",
      "\n",
      "Training for iteration number:  29\n",
      "41/41 [==============================] - 0s 2ms/step\n",
      "The average real precision :  0.8088114212380858\n",
      "The average real recall:  0.8215570821066406\n",
      "The average real f1:  0.8148023169487869\n",
      "The average fake precision :  0.3219745207146922\n",
      "The average fake recall:  0.3025821596244132\n",
      "The average fake f1:  0.31010977920575683\n",
      "The average macro precision:  0.565392970976389\n",
      "The average macro recall:  0.5653084355001452\n",
      "The average macro_f1:  0.5624560480772719\n",
      "The average macro accuracy:  0.7084420567920184\n",
      "The standard deviation on real precision :  0.005352381180831402\n",
      "The standard deviation on real recall:  0.029880138092912633\n",
      "The standard deviation on real f1:  0.013639045866725532\n",
      "The standard deviation on fake precision :  0.017706585293361186\n",
      "The standard deviation on fake recall:  0.04307623669728098\n",
      "The standard deviation on macro precision:  0.010348346961687805\n",
      "The standard deviation on macro recall:  0.0\n",
      "The standard deviation on macro_f1:  0.010472070012734239\n",
      "The standard deviation on macro accuracy:  0.01577355316462412\n",
      "Average number of epochs 31.433333333333334\n"
     ]
    }
   ],
   "source": [
    "real_precision, real_recall, real_f_score, fake_precision, fake_recall,\\\n",
    "fake_f1, macro_precision, macro_recall, macro_f1, accuracy = run_model(X_train, \\\n",
    "y_label, X_val, y_val_label, X_test, y_test_label, verbose=0, itr=30)"
   ]
  },
  {
   "cell_type": "code",
   "execution_count": 21,
   "id": "26bf3895",
   "metadata": {},
   "outputs": [
    {
     "name": "stdout",
     "output_type": "stream",
     "text": [
      "Real Precision:\n",
      "  [0.8147058823529412, 0.8107287449392713, 0.8062015503875969, 0.8078393881453155, 0.8084696823869105, 0.8103946102021174, 0.8087279480037141, 0.7972972972972973, 0.8202614379084967, 0.8115384615384615, 0.8165680473372781, 0.8213228035538006, 0.8020735155513666, 0.8086124401913876, 0.8119575699132112, 0.8045634920634921, 0.812133072407045, 0.8007279344858963, 0.8003784295175024, 0.8095723014256619, 0.8062780269058296, 0.8104448742746615, 0.8091603053435115, 0.801477377654663, 0.8106995884773662, 0.8073929961089494, 0.8075160403299725, 0.812015503875969, 0.8046324269889225, 0.8106508875739645]\n",
      "Real Recall:\n",
      "  [0.8155053974484789, 0.7860647693817469, 0.81648675171737, 0.8292443572129539, 0.8243375858684985, 0.8263002944062807, 0.8547595682041217, 0.8684985279685966, 0.7389597644749755, 0.8282630029440629, 0.8125613346418057, 0.81648675171737, 0.8351324828263003, 0.8292443572129539, 0.8263002944062807, 0.7958783120706575, 0.8145240431795878, 0.8635917566241413, 0.830225711481845, 0.7801766437684003, 0.8822374877330716, 0.8223748773307163, 0.8321884200196271, 0.8518155053974484, 0.7733071638861629, 0.8145240431795878, 0.8645731108930323, 0.8223748773307163, 0.7841020608439647, 0.8066732090284593]\n",
      "Real F1-Score:\n",
      "  [0.815105443845022, 0.7982062780269059, 0.811311555338859, 0.8184019370460048, 0.8163265306122448, 0.8182701652089407, 0.8311068702290076, 0.8313762329732268, 0.7774909654104285, 0.8198154443904808, 0.8145597638957206, 0.8188976377952756, 0.8182692307692307, 0.8187984496124031, 0.8190661478599223, 0.8001973359644796, 0.813326800587947, 0.8309726156751653, 0.8150289017341041, 0.7946026986506746, 0.8425492033739456, 0.8163662932294202, 0.8205128205128205, 0.8258801141769743, 0.7915620291310899, 0.810942843185149, 0.8350710900473933, 0.8171623598244758, 0.7942345924453281, 0.808657156910969]\n"
     ]
    }
   ],
   "source": [
    "print(\"Real Precision:\\n \", real_precision)\n",
    "print(\"Real Recall:\\n \", real_recall)\n",
    "print(\"Real F1-Score:\\n \",  real_f_score) "
   ]
  },
  {
   "cell_type": "code",
   "execution_count": 22,
   "id": "ca4a2aae",
   "metadata": {},
   "outputs": [
    {
     "name": "stdout",
     "output_type": "stream",
     "text": [
      "Fake Precision:\n",
      "  [0.33568904593639576, 0.30793650793650795, 0.30996309963099633, 0.3229571984435798, 0.32196969696969696, 0.32954545454545453, 0.34513274336283184, 0.30569948186528495, 0.3090909090909091, 0.33460076045627374, 0.3391003460207612, 0.35517241379310344, 0.30578512396694213, 0.32558139534883723, 0.33458646616541354, 0.29491525423728815, 0.3274021352313167, 0.31862745098039214, 0.2967479674796748, 0.30218068535825543, 0.3617021276595745, 0.3271375464684015, 0.32941176470588235, 0.31363636363636366, 0.3021148036253776, 0.31272727272727274, 0.3490566037735849, 0.33210332103321033, 0.2903225806451613, 0.31833910034602075]\n",
      "Fake Recall:\n",
      "  [0.3345070422535211, 0.3415492957746479, 0.29577464788732394, 0.29225352112676056, 0.2992957746478873, 0.30633802816901406, 0.2746478873239437, 0.20774647887323944, 0.41901408450704225, 0.30985915492957744, 0.34507042253521125, 0.3626760563380282, 0.2605633802816901, 0.29577464788732394, 0.31338028169014087, 0.30633802816901406, 0.323943661971831, 0.22887323943661972, 0.25704225352112675, 0.3415492957746479, 0.23943661971830985, 0.30985915492957744, 0.29577464788732394, 0.24295774647887325, 0.352112676056338, 0.3028169014084507, 0.2605633802816901, 0.31690140845070425, 0.31690140845070425, 0.323943661971831]\n",
      "Fake F1-Score:\n",
      "  [0.3350970017636684, 0.323873121869783, 0.30270270270270266, 0.3068391866913124, 0.3102189781021898, 0.3175182481751825, 0.3058823529411765, 0.2473794549266247, 0.3557548579970105, 0.3217550274223034, 0.34205933682373474, 0.3588850174216028, 0.2813688212927757, 0.30996309963099633, 0.32363636363636367, 0.3005181347150259, 0.32566371681415923, 0.26639344262295084, 0.27547169811320754, 0.32066115702479336, 0.288135593220339, 0.3182640144665461, 0.3116883116883117, 0.2738095238095238, 0.3252032520325203, 0.30769230769230765, 0.29838709677419356, 0.3243243243243244, 0.3030303030303031, 0.32111692844677137]\n"
     ]
    }
   ],
   "source": [
    "print(\"Fake Precision:\\n \", fake_precision)\n",
    "print(\"Fake Recall:\\n \", fake_recall)\n",
    "print(\"Fake F1-Score:\\n \", fake_f1)"
   ]
  },
  {
   "cell_type": "code",
   "execution_count": 23,
   "id": "0187e829",
   "metadata": {},
   "outputs": [
    {
     "name": "stdout",
     "output_type": "stream",
     "text": [
      "Macro Precision:\n",
      "  [0.5751974641446684, 0.5593326264378896, 0.5580823250092966, 0.5653982932944477, 0.5652196896783037, 0.569970032373786, 0.576930345683273, 0.551498389581291, 0.5646761734997029, 0.5730696109973676, 0.5778341966790197, 0.588247608673452, 0.5539293197591544, 0.5670969177701124, 0.5732720180393124, 0.5497393731503901, 0.5697676038191809, 0.5596776927331442, 0.5485631984985886, 0.5558764933919587, 0.583990077282702, 0.5687912103715315, 0.5692860350246969, 0.5575568706455133, 0.5564071960513719, 0.5600601344181111, 0.5782863220517787, 0.5720594124545897, 0.5474775038170419, 0.5644949939599926]\n",
      "Macro Recall:\n",
      "  [0.575006219851, 0.5638070325781974, 0.556130699802347, 0.5607489391698572, 0.5618166802581929, 0.5663191612876474, 0.5647037277640327, 0.538122503420918, 0.5789869244910089, 0.5690610789368201, 0.5788158785885085, 0.5895814040276991, 0.5478479315539952, 0.5625095025501389, 0.5698402880482107, 0.5511081701198358, 0.5692338525757095, 0.5462324980303805, 0.5436339825014859, 0.5608629697715242, 0.5608370537256907, 0.5661170161301469, 0.5639815339534755, 0.5473866259381608, 0.5627099199712504, 0.5586704722940192, 0.5625682455873613, 0.5696381428907102, 0.5505017346473344, 0.5653084355001452]\n",
      "Macro F1-Score:\n",
      "  [0.5751012228043453, 0.5610396999483445, 0.5570071290207809, 0.5626205618686586, 0.5632727543572174, 0.5678942066920616, 0.5684946115850921, 0.5393778439499257, 0.5666229117037195, 0.5707852359063921, 0.5783095503597276, 0.5888913276084392, 0.5498190260310032, 0.5643807746216998, 0.5713512557481429, 0.5503577353397527, 0.5694952587010531, 0.5486830291490581, 0.5452502999236558, 0.557631927837734, 0.5653423982971423, 0.5673151538479831, 0.566100566100566, 0.549844818993249, 0.5583826405818051, 0.5593175754387283, 0.5667290934107935, 0.5707433420744001, 0.5486324477378156, 0.5648870426788701]\n",
      "Accuracy Score:\n",
      "  [0.7106676899462778, 0.6891788181120491, 0.7029930928626247, 0.7122026093630084, 0.7099002302379125, 0.7129700690713737, 0.72831926323868, 0.7244819646968534, 0.6692248656945511, 0.7152724481964697, 0.7106676899462778, 0.7175748273215656, 0.7099002302379125, 0.7129700690713737, 0.7145049884881044, 0.6891788181120491, 0.7075978511128166, 0.7252494244052188, 0.7052954719877207, 0.6845740598618573, 0.7421335379892555, 0.7106676899462778, 0.7152724481964697, 0.7191097467382962, 0.681504221028396, 0.7029930928626247, 0.7329240214888718, 0.7122026093630084, 0.6822716807367614, 0.7014581734458941]\n"
     ]
    }
   ],
   "source": [
    "print(\"Macro Precision:\\n \", macro_precision)\n",
    "print(\"Macro Recall:\\n \", macro_recall)\n",
    "print(\"Macro F1-Score:\\n \", macro_f1)\n",
    "print(\"Accuracy Score:\\n \", accuracy)"
   ]
  },
  {
   "cell_type": "code",
   "execution_count": 24,
   "id": "d0ee8741",
   "metadata": {},
   "outputs": [],
   "source": [
    "def plot_accuracy(history):\n",
    "    plt.plot(history.history['accuracy'])\n",
    "    plt.plot(history.history['val_accuracy'])\n",
    "    plt.title('Model accuracy')\n",
    "    plt.ylabel('Accuracy')\n",
    "    plt.xlabel('Epoch')\n",
    "    plt.legend(['Train', 'Test'], loc='upper left')\n",
    "    plt.show()"
   ]
  },
  {
   "cell_type": "code",
   "execution_count": 25,
   "id": "52cc355f",
   "metadata": {},
   "outputs": [],
   "source": [
    "def plot_loss(history):\n",
    "    plt.plot(history.history['loss'])\n",
    "    plt.plot(history.history['val_loss'])\n",
    "    plt.title('Model Loss')\n",
    "    plt.ylabel('Loss')\n",
    "    plt.xlabel('Epoch')\n",
    "    plt.legend(['Train', 'Test'], loc='upper left')\n",
    "    plt.show()"
   ]
  },
  {
   "cell_type": "code",
   "execution_count": 26,
   "id": "9824863d",
   "metadata": {},
   "outputs": [
    {
     "data": {
      "image/png": "[encoded data removed]",
      "text/plain": [
       "<Figure size 432x288 with 1 Axes>"
      ]
     },
     "metadata": {
      "needs_background": "light"
     },
     "output_type": "display_data"
    },
    {
     "data": {
      "image/png": "[encoded data removed]",
      "text/plain": [
       "<Figure size 432x288 with 1 Axes>"
      ]
     },
     "metadata": {
      "needs_background": "light"
     },
     "output_type": "display_data"
    }
   ],
   "source": [
    "model_text_plotacc = plot_accuracy(history)\n",
    "model_text_plotloss = plot_loss(history)"
   ]
  },
  {
   "cell_type": "code",
   "execution_count": null,
   "id": "f07ae6b4",
   "metadata": {},
   "outputs": [],
   "source": []
  }
 ],
 "metadata": {
  "kernelspec": {
   "display_name": "Python 3",
   "language": "python",
   "name": "python3"
  },
  "language_info": {
   "codemirror_mode": {
    "name": "ipython",
    "version": 3
   },
   "file_extension": ".py",
   "mimetype": "text/x-python",
   "name": "python",
   "nbconvert_exporter": "python",
   "pygments_lexer": "ipython3",
   "version": "3.8.8"
  }
 },
 "nbformat": 4,
 "nbformat_minor": 5
}
