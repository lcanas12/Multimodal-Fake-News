{
 "cells": [
  {
   "cell_type": "code",
   "execution_count": 1,
   "id": "2aaba600",
   "metadata": {},
   "outputs": [],
   "source": [
    "import pandas as pd\n",
    "import sklearn\n",
    "import numpy as np\n",
    "import os\n",
    "from pathlib import Path\n",
    "from sklearn.model_selection import train_test_split\n",
    "import torch\n",
    "from datasets import load_dataset\n",
    "import tensorflow as tf\n",
    "import tensorflow_addons as tfa\n",
    "import keras\n",
    "\n",
    "from keras import optimizers\n",
    "import matplotlib.pyplot as plt\n",
    "from keras import initializers\n",
    "from keras.utils import np_utils\n",
    "from keras import regularizers\n",
    "from keras.models import Sequential, Model\n",
    "from keras.callbacks import ModelCheckpoint\n",
    "from keras.layers import concatenate\n",
    "from keras.layers import Dense, Flatten, Dropout, Input, BatchNormalization, ReLU\n",
    "from keras.layers import LSTM, Bidirectional\n",
    "import pickle\n",
    "from tensorflow.keras.utils import to_categorical\n",
    "\n",
    "import matplotlib.pyplot as plt\n",
    "%matplotlib inline"
   ]
  },
  {
   "cell_type": "code",
   "execution_count": 2,
   "id": "f6317551",
   "metadata": {},
   "outputs": [],
   "source": [
    "df_goss_train_xlnet = pd.read_pickle('../../Dissertation - Fake News/Embeddings/df_train_xlnet_simple.pkl')\n",
    "df_goss_val_xlnet = pd.read_pickle('../../Dissertation - Fake News/Embeddings/df_val_xlnet_simple.pkl')\n",
    "df_goss_test_xlnet = pd.read_pickle('../../Dissertation - Fake News/Embeddings/df_test_xlnet_simple.pkl')"
   ]
  },
  {
   "cell_type": "code",
   "execution_count": 3,
   "id": "e914f780",
   "metadata": {},
   "outputs": [],
   "source": [
    "def label_change(df):\n",
    "    if df['label'] == 0: return 1\n",
    "    else: return 0"
   ]
  },
  {
   "cell_type": "code",
   "execution_count": 4,
   "id": "9ab65ec1",
   "metadata": {},
   "outputs": [
    {
     "data": {
      "text/html": [
       "<div>\n",
       "<style scoped>\n",
       "    .dataframe tbody tr th:only-of-type {\n",
       "        vertical-align: middle;\n",
       "    }\n",
       "\n",
       "    .dataframe tbody tr th {\n",
       "        vertical-align: top;\n",
       "    }\n",
       "\n",
       "    .dataframe thead th {\n",
       "        text-align: right;\n",
       "    }\n",
       "</style>\n",
       "<table border=\"1\" class=\"dataframe\">\n",
       "  <thead>\n",
       "    <tr style=\"text-align: right;\">\n",
       "      <th></th>\n",
       "      <th>hidden_state</th>\n",
       "      <th>label</th>\n",
       "      <th>idx</th>\n",
       "      <th>target</th>\n",
       "    </tr>\n",
       "  </thead>\n",
       "  <tbody>\n",
       "    <tr>\n",
       "      <th>0</th>\n",
       "      <td>[[-0.6905054, 0.10080558, -3.5896642, 0.688696...</td>\n",
       "      <td>0</td>\n",
       "      <td>1934</td>\n",
       "      <td>1</td>\n",
       "    </tr>\n",
       "    <tr>\n",
       "      <th>1</th>\n",
       "      <td>[[0.71386486, 1.624135, 0.39983767, 1.6060241,...</td>\n",
       "      <td>0</td>\n",
       "      <td>1408</td>\n",
       "      <td>1</td>\n",
       "    </tr>\n",
       "    <tr>\n",
       "      <th>2</th>\n",
       "      <td>[[-1.4997008, -2.5545237, -2.6850965, 2.128371...</td>\n",
       "      <td>0</td>\n",
       "      <td>2589</td>\n",
       "      <td>1</td>\n",
       "    </tr>\n",
       "    <tr>\n",
       "      <th>3</th>\n",
       "      <td>[[-0.59582114, 0.6739678, -0.54739684, 0.43669...</td>\n",
       "      <td>1</td>\n",
       "      <td>5778</td>\n",
       "      <td>0</td>\n",
       "    </tr>\n",
       "    <tr>\n",
       "      <th>4</th>\n",
       "      <td>[[-0.17796452, 1.5538232, -0.1271606, 0.483559...</td>\n",
       "      <td>0</td>\n",
       "      <td>2922</td>\n",
       "      <td>1</td>\n",
       "    </tr>\n",
       "  </tbody>\n",
       "</table>\n",
       "</div>"
      ],
      "text/plain": [
       "                                        hidden_state  label   idx  target\n",
       "0  [[-0.6905054, 0.10080558, -3.5896642, 0.688696...      0  1934       1\n",
       "1  [[0.71386486, 1.624135, 0.39983767, 1.6060241,...      0  1408       1\n",
       "2  [[-1.4997008, -2.5545237, -2.6850965, 2.128371...      0  2589       1\n",
       "3  [[-0.59582114, 0.6739678, -0.54739684, 0.43669...      1  5778       0\n",
       "4  [[-0.17796452, 1.5538232, -0.1271606, 0.483559...      0  2922       1"
      ]
     },
     "execution_count": 4,
     "metadata": {},
     "output_type": "execute_result"
    }
   ],
   "source": [
    "df_goss_train_xlnet['target'] = df_goss_train_xlnet.apply(label_change, axis=1)\n",
    "df_goss_train_xlnet.head()"
   ]
  },
  {
   "cell_type": "code",
   "execution_count": 5,
   "id": "a46cc055",
   "metadata": {},
   "outputs": [],
   "source": [
    "df_goss_val_xlnet['target'] = df_goss_val_xlnet.apply(label_change, axis=1)\n",
    "df_goss_test_xlnet['target'] = df_goss_test_xlnet.apply(label_change, axis=1)"
   ]
  },
  {
   "cell_type": "code",
   "execution_count": 6,
   "id": "7e30b9c3",
   "metadata": {},
   "outputs": [
    {
     "name": "stdout",
     "output_type": "stream",
     "text": [
      "[0.64400494 2.2360515 ]\n"
     ]
    },
    {
     "name": "stderr",
     "output_type": "stream",
     "text": [
      "C:\\Users\\labca\\anaconda3\\lib\\site-packages\\sklearn\\utils\\validation.py:70: FutureWarning: Pass classes=[0 1], y=[0 0 0 ... 1 1 1] as keyword args. From version 1.0 (renaming of 0.25) passing these as positional arguments will result in an error\n",
      "  warnings.warn(f\"Pass {args_msg} as keyword args. From version \"\n"
     ]
    }
   ],
   "source": [
    "# Count samples per class: 0-real, 1-fake\n",
    "classes_zero = df_goss_train_xlnet[df_goss_train_xlnet['target'] == 0]\n",
    "classes_one = df_goss_train_xlnet[df_goss_train_xlnet['target'] == 1]\n",
    "\n",
    "# Convert parts into NumPy arrays for weight computation\n",
    "zero_numpy = classes_zero['target'].to_numpy()\n",
    "one_numpy = classes_one['target'].to_numpy()\n",
    "all_together = np.concatenate((zero_numpy, one_numpy))\n",
    "unique_classes = np.unique(all_together)\n",
    "\n",
    "# Compute weights\n",
    "weights = sklearn.utils.class_weight.compute_class_weight('balanced', unique_classes, all_together)\n",
    "print(weights)"
   ]
  },
  {
   "cell_type": "code",
   "execution_count": 7,
   "id": "2f42cce0",
   "metadata": {},
   "outputs": [
    {
     "data": {
      "text/plain": [
       "{0: 0.6440049443757726, 1: 2.236051502145923}"
      ]
     },
     "execution_count": 7,
     "metadata": {},
     "output_type": "execute_result"
    }
   ],
   "source": [
    "weights_ker = {i : weights[i] for i in range(2)}\n",
    "weights_ker"
   ]
  },
  {
   "cell_type": "code",
   "execution_count": 8,
   "id": "1aa6e92a",
   "metadata": {},
   "outputs": [],
   "source": [
    "df_goss_train_xcep = pd.read_pickle('../../Dissertation - Fake News/Embeddings/df_train_xception_block12_tuned.pkl')\n",
    "df_goss_val_xcep = pd.read_pickle('../../Dissertation - Fake News/Embeddings/df_val_xception_block12_tuned.pkl')\n",
    "df_goss_test_xcep = pd.read_pickle('../../Dissertation - Fake News/Embeddings/df_test_xception_block12_tuned.pkl')"
   ]
  },
  {
   "cell_type": "code",
   "execution_count": 9,
   "id": "435c6606",
   "metadata": {},
   "outputs": [
    {
     "data": {
      "text/html": [
       "<div>\n",
       "<style scoped>\n",
       "    .dataframe tbody tr th:only-of-type {\n",
       "        vertical-align: middle;\n",
       "    }\n",
       "\n",
       "    .dataframe tbody tr th {\n",
       "        vertical-align: top;\n",
       "    }\n",
       "\n",
       "    .dataframe thead th {\n",
       "        text-align: right;\n",
       "    }\n",
       "</style>\n",
       "<table border=\"1\" class=\"dataframe\">\n",
       "  <thead>\n",
       "    <tr style=\"text-align: right;\">\n",
       "      <th></th>\n",
       "      <th>hidden_state</th>\n",
       "      <th>label</th>\n",
       "      <th>idx</th>\n",
       "      <th>target</th>\n",
       "    </tr>\n",
       "  </thead>\n",
       "  <tbody>\n",
       "    <tr>\n",
       "      <th>0</th>\n",
       "      <td>[[-0.6905054, 0.10080558, -3.5896642, 0.688696...</td>\n",
       "      <td>0</td>\n",
       "      <td>1934</td>\n",
       "      <td>1</td>\n",
       "    </tr>\n",
       "    <tr>\n",
       "      <th>1</th>\n",
       "      <td>[[0.71386486, 1.624135, 0.39983767, 1.6060241,...</td>\n",
       "      <td>0</td>\n",
       "      <td>1408</td>\n",
       "      <td>1</td>\n",
       "    </tr>\n",
       "    <tr>\n",
       "      <th>2</th>\n",
       "      <td>[[-1.4997008, -2.5545237, -2.6850965, 2.128371...</td>\n",
       "      <td>0</td>\n",
       "      <td>2589</td>\n",
       "      <td>1</td>\n",
       "    </tr>\n",
       "    <tr>\n",
       "      <th>3</th>\n",
       "      <td>[[-0.59582114, 0.6739678, -0.54739684, 0.43669...</td>\n",
       "      <td>1</td>\n",
       "      <td>5778</td>\n",
       "      <td>0</td>\n",
       "    </tr>\n",
       "    <tr>\n",
       "      <th>4</th>\n",
       "      <td>[[-0.17796452, 1.5538232, -0.1271606, 0.483559...</td>\n",
       "      <td>0</td>\n",
       "      <td>2922</td>\n",
       "      <td>1</td>\n",
       "    </tr>\n",
       "  </tbody>\n",
       "</table>\n",
       "</div>"
      ],
      "text/plain": [
       "                                        hidden_state  label   idx  target\n",
       "0  [[-0.6905054, 0.10080558, -3.5896642, 0.688696...      0  1934       1\n",
       "1  [[0.71386486, 1.624135, 0.39983767, 1.6060241,...      0  1408       1\n",
       "2  [[-1.4997008, -2.5545237, -2.6850965, 2.128371...      0  2589       1\n",
       "3  [[-0.59582114, 0.6739678, -0.54739684, 0.43669...      1  5778       0\n",
       "4  [[-0.17796452, 1.5538232, -0.1271606, 0.483559...      0  2922       1"
      ]
     },
     "execution_count": 9,
     "metadata": {},
     "output_type": "execute_result"
    }
   ],
   "source": [
    "df_goss_train_xlnet.head()"
   ]
  },
  {
   "cell_type": "code",
   "execution_count": 10,
   "id": "d48ea346",
   "metadata": {},
   "outputs": [
    {
     "data": {
      "text/html": [
       "<div>\n",
       "<style scoped>\n",
       "    .dataframe tbody tr th:only-of-type {\n",
       "        vertical-align: middle;\n",
       "    }\n",
       "\n",
       "    .dataframe tbody tr th {\n",
       "        vertical-align: top;\n",
       "    }\n",
       "\n",
       "    .dataframe thead th {\n",
       "        text-align: right;\n",
       "    }\n",
       "</style>\n",
       "<table border=\"1\" class=\"dataframe\">\n",
       "  <thead>\n",
       "    <tr style=\"text-align: right;\">\n",
       "      <th></th>\n",
       "      <th>img_features</th>\n",
       "      <th>label</th>\n",
       "      <th>idx</th>\n",
       "    </tr>\n",
       "  </thead>\n",
       "  <tbody>\n",
       "    <tr>\n",
       "      <th>1902</th>\n",
       "      <td>[[0.12345049, 0.103692524, 0.10679071, 0.11953...</td>\n",
       "      <td>0</td>\n",
       "      <td>1934</td>\n",
       "    </tr>\n",
       "    <tr>\n",
       "      <th>1386</th>\n",
       "      <td>[[0.025142414, 0.11223217, 0.02097135, 6.14750...</td>\n",
       "      <td>0</td>\n",
       "      <td>1408</td>\n",
       "    </tr>\n",
       "    <tr>\n",
       "      <th>2539</th>\n",
       "      <td>[[0.027030187, 0.10288904, 0.30019975, 0.05462...</td>\n",
       "      <td>0</td>\n",
       "      <td>2589</td>\n",
       "    </tr>\n",
       "    <tr>\n",
       "      <th>5649</th>\n",
       "      <td>[[0.37826172, 0.4675789, 0.15682955, 0.2555534...</td>\n",
       "      <td>1</td>\n",
       "      <td>5778</td>\n",
       "    </tr>\n",
       "    <tr>\n",
       "      <th>2869</th>\n",
       "      <td>[[0.0014517182, 0.034252882, 0.012506969, 0.04...</td>\n",
       "      <td>0</td>\n",
       "      <td>2922</td>\n",
       "    </tr>\n",
       "  </tbody>\n",
       "</table>\n",
       "</div>"
      ],
      "text/plain": [
       "                                           img_features  label   idx\n",
       "1902  [[0.12345049, 0.103692524, 0.10679071, 0.11953...      0  1934\n",
       "1386  [[0.025142414, 0.11223217, 0.02097135, 6.14750...      0  1408\n",
       "2539  [[0.027030187, 0.10288904, 0.30019975, 0.05462...      0  2589\n",
       "5649  [[0.37826172, 0.4675789, 0.15682955, 0.2555534...      1  5778\n",
       "2869  [[0.0014517182, 0.034252882, 0.012506969, 0.04...      0  2922"
      ]
     },
     "execution_count": 10,
     "metadata": {},
     "output_type": "execute_result"
    }
   ],
   "source": [
    "df_goss_train_xcep.head()"
   ]
  },
  {
   "cell_type": "code",
   "execution_count": 11,
   "id": "721ba108",
   "metadata": {},
   "outputs": [
    {
     "data": {
      "text/html": [
       "<div>\n",
       "<style scoped>\n",
       "    .dataframe tbody tr th:only-of-type {\n",
       "        vertical-align: middle;\n",
       "    }\n",
       "\n",
       "    .dataframe tbody tr th {\n",
       "        vertical-align: top;\n",
       "    }\n",
       "\n",
       "    .dataframe thead th {\n",
       "        text-align: right;\n",
       "    }\n",
       "</style>\n",
       "<table border=\"1\" class=\"dataframe\">\n",
       "  <thead>\n",
       "    <tr style=\"text-align: right;\">\n",
       "      <th></th>\n",
       "      <th>hidden_state</th>\n",
       "      <th>label</th>\n",
       "      <th>idx</th>\n",
       "      <th>target</th>\n",
       "      <th>img_features</th>\n",
       "    </tr>\n",
       "  </thead>\n",
       "  <tbody>\n",
       "    <tr>\n",
       "      <th>0</th>\n",
       "      <td>[[-0.6905054, 0.10080558, -3.5896642, 0.688696...</td>\n",
       "      <td>0</td>\n",
       "      <td>1934</td>\n",
       "      <td>1</td>\n",
       "      <td>[[0.12345049, 0.103692524, 0.10679071, 0.11953...</td>\n",
       "    </tr>\n",
       "    <tr>\n",
       "      <th>1</th>\n",
       "      <td>[[0.71386486, 1.624135, 0.39983767, 1.6060241,...</td>\n",
       "      <td>0</td>\n",
       "      <td>1408</td>\n",
       "      <td>1</td>\n",
       "      <td>[[0.025142414, 0.11223217, 0.02097135, 6.14750...</td>\n",
       "    </tr>\n",
       "    <tr>\n",
       "      <th>2</th>\n",
       "      <td>[[-1.4997008, -2.5545237, -2.6850965, 2.128371...</td>\n",
       "      <td>0</td>\n",
       "      <td>2589</td>\n",
       "      <td>1</td>\n",
       "      <td>[[0.027030187, 0.10288904, 0.30019975, 0.05462...</td>\n",
       "    </tr>\n",
       "    <tr>\n",
       "      <th>3</th>\n",
       "      <td>[[-0.59582114, 0.6739678, -0.54739684, 0.43669...</td>\n",
       "      <td>1</td>\n",
       "      <td>5778</td>\n",
       "      <td>0</td>\n",
       "      <td>[[0.37826172, 0.4675789, 0.15682955, 0.2555534...</td>\n",
       "    </tr>\n",
       "    <tr>\n",
       "      <th>4</th>\n",
       "      <td>[[-0.17796452, 1.5538232, -0.1271606, 0.483559...</td>\n",
       "      <td>0</td>\n",
       "      <td>2922</td>\n",
       "      <td>1</td>\n",
       "      <td>[[0.0014517182, 0.034252882, 0.012506969, 0.04...</td>\n",
       "    </tr>\n",
       "  </tbody>\n",
       "</table>\n",
       "</div>"
      ],
      "text/plain": [
       "                                        hidden_state  label   idx  target  \\\n",
       "0  [[-0.6905054, 0.10080558, -3.5896642, 0.688696...      0  1934       1   \n",
       "1  [[0.71386486, 1.624135, 0.39983767, 1.6060241,...      0  1408       1   \n",
       "2  [[-1.4997008, -2.5545237, -2.6850965, 2.128371...      0  2589       1   \n",
       "3  [[-0.59582114, 0.6739678, -0.54739684, 0.43669...      1  5778       0   \n",
       "4  [[-0.17796452, 1.5538232, -0.1271606, 0.483559...      0  2922       1   \n",
       "\n",
       "                                        img_features  \n",
       "0  [[0.12345049, 0.103692524, 0.10679071, 0.11953...  \n",
       "1  [[0.025142414, 0.11223217, 0.02097135, 6.14750...  \n",
       "2  [[0.027030187, 0.10288904, 0.30019975, 0.05462...  \n",
       "3  [[0.37826172, 0.4675789, 0.15682955, 0.2555534...  \n",
       "4  [[0.0014517182, 0.034252882, 0.012506969, 0.04...  "
      ]
     },
     "execution_count": 11,
     "metadata": {},
     "output_type": "execute_result"
    }
   ],
   "source": [
    "df_train_merge = df_goss_train_xlnet.merge(df_goss_train_xcep, left_on=[\"label\",\"idx\"], right_on=[\"label\",\"idx\"], how = 'left')\n",
    "df_train_merge.head()"
   ]
  },
  {
   "cell_type": "code",
   "execution_count": 12,
   "id": "34f75bc4",
   "metadata": {},
   "outputs": [
    {
     "data": {
      "text/html": [
       "<div>\n",
       "<style scoped>\n",
       "    .dataframe tbody tr th:only-of-type {\n",
       "        vertical-align: middle;\n",
       "    }\n",
       "\n",
       "    .dataframe tbody tr th {\n",
       "        vertical-align: top;\n",
       "    }\n",
       "\n",
       "    .dataframe thead th {\n",
       "        text-align: right;\n",
       "    }\n",
       "</style>\n",
       "<table border=\"1\" class=\"dataframe\">\n",
       "  <thead>\n",
       "    <tr style=\"text-align: right;\">\n",
       "      <th></th>\n",
       "      <th>hidden_state</th>\n",
       "      <th>idx</th>\n",
       "      <th>target</th>\n",
       "      <th>img_features</th>\n",
       "    </tr>\n",
       "  </thead>\n",
       "  <tbody>\n",
       "    <tr>\n",
       "      <th>0</th>\n",
       "      <td>[[-0.6905054, 0.10080558, -3.5896642, 0.688696...</td>\n",
       "      <td>1934</td>\n",
       "      <td>1</td>\n",
       "      <td>[[0.12345049, 0.103692524, 0.10679071, 0.11953...</td>\n",
       "    </tr>\n",
       "    <tr>\n",
       "      <th>1</th>\n",
       "      <td>[[0.71386486, 1.624135, 0.39983767, 1.6060241,...</td>\n",
       "      <td>1408</td>\n",
       "      <td>1</td>\n",
       "      <td>[[0.025142414, 0.11223217, 0.02097135, 6.14750...</td>\n",
       "    </tr>\n",
       "    <tr>\n",
       "      <th>2</th>\n",
       "      <td>[[-1.4997008, -2.5545237, -2.6850965, 2.128371...</td>\n",
       "      <td>2589</td>\n",
       "      <td>1</td>\n",
       "      <td>[[0.027030187, 0.10288904, 0.30019975, 0.05462...</td>\n",
       "    </tr>\n",
       "    <tr>\n",
       "      <th>3</th>\n",
       "      <td>[[-0.59582114, 0.6739678, -0.54739684, 0.43669...</td>\n",
       "      <td>5778</td>\n",
       "      <td>0</td>\n",
       "      <td>[[0.37826172, 0.4675789, 0.15682955, 0.2555534...</td>\n",
       "    </tr>\n",
       "    <tr>\n",
       "      <th>4</th>\n",
       "      <td>[[-0.17796452, 1.5538232, -0.1271606, 0.483559...</td>\n",
       "      <td>2922</td>\n",
       "      <td>1</td>\n",
       "      <td>[[0.0014517182, 0.034252882, 0.012506969, 0.04...</td>\n",
       "    </tr>\n",
       "    <tr>\n",
       "      <th>...</th>\n",
       "      <td>...</td>\n",
       "      <td>...</td>\n",
       "      <td>...</td>\n",
       "      <td>...</td>\n",
       "    </tr>\n",
       "    <tr>\n",
       "      <th>10415</th>\n",
       "      <td>[[-0.7371248, 0.6129089, -3.298514, 1.209125, ...</td>\n",
       "      <td>286</td>\n",
       "      <td>1</td>\n",
       "      <td>[[0.16177247, 0.3310165, 0.59982514, 0.2488132...</td>\n",
       "    </tr>\n",
       "    <tr>\n",
       "      <th>10416</th>\n",
       "      <td>[[1.0488812, -1.935956, -1.8871863, -0.7197717...</td>\n",
       "      <td>8822</td>\n",
       "      <td>0</td>\n",
       "      <td>[[0.29817665, 0.32366443, 0.19224147, 0.146774...</td>\n",
       "    </tr>\n",
       "    <tr>\n",
       "      <th>10417</th>\n",
       "      <td>[[-1.5430726, 0.7797304, 0.09906371, -2.101035...</td>\n",
       "      <td>376</td>\n",
       "      <td>1</td>\n",
       "      <td>[[0.24539898, 0.02857017, 0.0927768, 0.0, 0.16...</td>\n",
       "    </tr>\n",
       "    <tr>\n",
       "      <th>10418</th>\n",
       "      <td>[[0.8006587, -1.8282557, -1.5217248, 0.6617957...</td>\n",
       "      <td>2667</td>\n",
       "      <td>1</td>\n",
       "      <td>[[0.009503191, 0.020403562, 0.070773065, 0.001...</td>\n",
       "    </tr>\n",
       "    <tr>\n",
       "      <th>10419</th>\n",
       "      <td>[[1.45003, -1.0803003, -3.4229722, 1.7872121, ...</td>\n",
       "      <td>11663</td>\n",
       "      <td>0</td>\n",
       "      <td>[[0.5741713, 0.11742664, 0.21211013, 0.0, 0.05...</td>\n",
       "    </tr>\n",
       "  </tbody>\n",
       "</table>\n",
       "<p>10420 rows × 4 columns</p>\n",
       "</div>"
      ],
      "text/plain": [
       "                                            hidden_state    idx  target  \\\n",
       "0      [[-0.6905054, 0.10080558, -3.5896642, 0.688696...   1934       1   \n",
       "1      [[0.71386486, 1.624135, 0.39983767, 1.6060241,...   1408       1   \n",
       "2      [[-1.4997008, -2.5545237, -2.6850965, 2.128371...   2589       1   \n",
       "3      [[-0.59582114, 0.6739678, -0.54739684, 0.43669...   5778       0   \n",
       "4      [[-0.17796452, 1.5538232, -0.1271606, 0.483559...   2922       1   \n",
       "...                                                  ...    ...     ...   \n",
       "10415  [[-0.7371248, 0.6129089, -3.298514, 1.209125, ...    286       1   \n",
       "10416  [[1.0488812, -1.935956, -1.8871863, -0.7197717...   8822       0   \n",
       "10417  [[-1.5430726, 0.7797304, 0.09906371, -2.101035...    376       1   \n",
       "10418  [[0.8006587, -1.8282557, -1.5217248, 0.6617957...   2667       1   \n",
       "10419  [[1.45003, -1.0803003, -3.4229722, 1.7872121, ...  11663       0   \n",
       "\n",
       "                                            img_features  \n",
       "0      [[0.12345049, 0.103692524, 0.10679071, 0.11953...  \n",
       "1      [[0.025142414, 0.11223217, 0.02097135, 6.14750...  \n",
       "2      [[0.027030187, 0.10288904, 0.30019975, 0.05462...  \n",
       "3      [[0.37826172, 0.4675789, 0.15682955, 0.2555534...  \n",
       "4      [[0.0014517182, 0.034252882, 0.012506969, 0.04...  \n",
       "...                                                  ...  \n",
       "10415  [[0.16177247, 0.3310165, 0.59982514, 0.2488132...  \n",
       "10416  [[0.29817665, 0.32366443, 0.19224147, 0.146774...  \n",
       "10417  [[0.24539898, 0.02857017, 0.0927768, 0.0, 0.16...  \n",
       "10418  [[0.009503191, 0.020403562, 0.070773065, 0.001...  \n",
       "10419  [[0.5741713, 0.11742664, 0.21211013, 0.0, 0.05...  \n",
       "\n",
       "[10420 rows x 4 columns]"
      ]
     },
     "execution_count": 12,
     "metadata": {},
     "output_type": "execute_result"
    }
   ],
   "source": [
    "df_train_merge.drop(columns=['label'])"
   ]
  },
  {
   "cell_type": "code",
   "execution_count": 13,
   "id": "ca302536",
   "metadata": {},
   "outputs": [
    {
     "data": {
      "text/plain": [
       "False"
      ]
     },
     "execution_count": 13,
     "metadata": {},
     "output_type": "execute_result"
    }
   ],
   "source": [
    "df_train_merge.isnull().values.any()"
   ]
  },
  {
   "cell_type": "code",
   "execution_count": 14,
   "id": "d6b6b149",
   "metadata": {},
   "outputs": [
    {
     "data": {
      "text/plain": [
       "False"
      ]
     },
     "execution_count": 14,
     "metadata": {},
     "output_type": "execute_result"
    }
   ],
   "source": [
    "df_val_merge = df_goss_val_xlnet.merge(df_goss_val_xcep, left_on=[\"label\",\"idx\"], right_on=[\"label\",\"idx\"], how = 'left')\n",
    "df_val_merge.drop(columns=['label'])\n",
    "df_val_merge.isnull().values.any()"
   ]
  },
  {
   "cell_type": "code",
   "execution_count": 15,
   "id": "774b11f9",
   "metadata": {},
   "outputs": [
    {
     "data": {
      "text/plain": [
       "False"
      ]
     },
     "execution_count": 15,
     "metadata": {},
     "output_type": "execute_result"
    }
   ],
   "source": [
    "df_test_merge = df_goss_test_xlnet.merge(df_goss_test_xcep, left_on=[\"label\",\"idx\"], right_on=[\"label\",\"idx\"], how = 'left')\n",
    "df_test_merge.drop(columns=['label'])\n",
    "df_test_merge.isnull().values.any()"
   ]
  },
  {
   "cell_type": "code",
   "execution_count": 16,
   "id": "7a9b5730",
   "metadata": {},
   "outputs": [
    {
     "data": {
      "text/plain": [
       "hidden_state    object\n",
       "label            int64\n",
       "idx              int64\n",
       "target           int64\n",
       "img_features    object\n",
       "dtype: object"
      ]
     },
     "execution_count": 16,
     "metadata": {},
     "output_type": "execute_result"
    }
   ],
   "source": [
    "df_train_merge.dtypes"
   ]
  },
  {
   "cell_type": "code",
   "execution_count": 17,
   "id": "74be1020",
   "metadata": {},
   "outputs": [
    {
     "data": {
      "text/plain": [
       "(10420, 768)"
      ]
     },
     "execution_count": 17,
     "metadata": {},
     "output_type": "execute_result"
    }
   ],
   "source": [
    "array_train = df_train_merge[[\"hidden_state\", \"img_features\",\"target\"]].to_numpy() \n",
    "X_train_txt = np.array(array_train[:,0].tolist())\n",
    "X_train_txt = np.squeeze(X_train_txt, 1)\n",
    "X_train_txt.shape"
   ]
  },
  {
   "cell_type": "code",
   "execution_count": 18,
   "id": "9221f212",
   "metadata": {},
   "outputs": [],
   "source": [
    "X_train_txt = torch.from_numpy(X_train_txt)\n",
    "X_train_img = np.array(array_train[:,1].tolist())\n",
    "X_train_img = np.squeeze(X_train_img, 1)\n",
    "X_train_img = torch.from_numpy(X_train_img)\n",
    "\n",
    "X_train_label = np.array(array_train[:,2].tolist())\n",
    "X_train_label = np.asarray(X_train_label).astype('float32')\n",
    "X_train_label = torch.from_numpy(X_train_label)\n",
    "\n",
    "train_dataset1 = tf.data.Dataset.from_tensor_slices(X_train_txt)\n",
    "train_dataset2 = tf.data.Dataset.from_tensor_slices((X_train_img))\n",
    "train_dataset3 = tf.data.Dataset.from_tensor_slices((X_train_label))\n",
    "train_dataset_all = tf.data.Dataset.zip((train_dataset1, train_dataset2))\n",
    "train_dataset_all = tf.data.Dataset.zip((train_dataset_all, train_dataset3))\n",
    "\n",
    "train_text_only = tf.data.Dataset.zip((train_dataset1, train_dataset3))\n",
    "train_image_only = tf.data.Dataset.zip((train_dataset2, train_dataset3))"
   ]
  },
  {
   "cell_type": "code",
   "execution_count": 19,
   "id": "2bcfa20d",
   "metadata": {},
   "outputs": [
    {
     "data": {
      "text/plain": [
       "((TensorSpec(shape=(768,), dtype=tf.float32, name=None),\n",
       "  TensorSpec(shape=(2048,), dtype=tf.float32, name=None)),\n",
       " TensorSpec(shape=(), dtype=tf.float32, name=None))"
      ]
     },
     "execution_count": 19,
     "metadata": {},
     "output_type": "execute_result"
    }
   ],
   "source": [
    "train_dataset_all.element_spec"
   ]
  },
  {
   "cell_type": "code",
   "execution_count": 20,
   "id": "fc77e86b",
   "metadata": {},
   "outputs": [],
   "source": [
    "train_dataset_all = train_dataset_all.batch(32)\n",
    "train_text_only = train_text_only.batch(32)\n",
    "train_image_only = train_image_only.batch(32)"
   ]
  },
  {
   "cell_type": "code",
   "execution_count": 21,
   "id": "e94d3e78",
   "metadata": {},
   "outputs": [],
   "source": [
    "array_val = df_val_merge[[\"hidden_state\", \"img_features\",\"target\"]].to_numpy() \n",
    "X_val_txt = np.array(array_val[:,0].tolist())\n",
    "X_val_txt = np.squeeze(X_val_txt, 1)"
   ]
  },
  {
   "cell_type": "code",
   "execution_count": 22,
   "id": "42e17988",
   "metadata": {},
   "outputs": [],
   "source": [
    "X_val_txt = torch.from_numpy(X_val_txt)\n",
    "X_val_img = np.array(array_val[:,1].tolist())\n",
    "X_val_img = np.squeeze(X_val_img, 1)\n",
    "X_val_img = torch.from_numpy(X_val_img)\n",
    "\n",
    "X_val_label = np.array(array_val[:,2].tolist())\n",
    "X_val_label = np.asarray(X_val_label).astype('float32')\n",
    "X_val_label = torch.from_numpy(X_val_label)\n",
    "\n",
    "val_dataset1 = tf.data.Dataset.from_tensor_slices(X_val_txt)\n",
    "val_dataset2 = tf.data.Dataset.from_tensor_slices((X_val_img))\n",
    "val_dataset3 = tf.data.Dataset.from_tensor_slices((X_val_label))\n",
    "val_dataset_all = tf.data.Dataset.zip((val_dataset1, val_dataset2))\n",
    "val_dataset_all = tf.data.Dataset.zip((val_dataset_all, val_dataset3))\n",
    "\n",
    "val_text_only = tf.data.Dataset.zip((val_dataset1, val_dataset3))\n",
    "val_image_only = tf.data.Dataset.zip((val_dataset2, val_dataset3))"
   ]
  },
  {
   "cell_type": "code",
   "execution_count": 23,
   "id": "862e79a5",
   "metadata": {},
   "outputs": [],
   "source": [
    "val_dataset_all = val_dataset_all.batch(32)\n",
    "val_text_only = val_text_only.batch(32)\n",
    "val_image_only = val_image_only.batch(32)"
   ]
  },
  {
   "cell_type": "code",
   "execution_count": 24,
   "id": "171aa1b9",
   "metadata": {},
   "outputs": [],
   "source": [
    "array_test = df_test_merge[[\"hidden_state\", \"img_features\",\"target\"]].to_numpy()\n",
    "X_test_txt = np.array(array_test[:,0].tolist())\n",
    "X_test_txt = np.squeeze(X_test_txt, 1)\n",
    "X_test_txt = torch.from_numpy(X_test_txt)\n",
    "X_test_img = np.array(array_test[:,1].tolist())\n",
    "X_test_img = np.squeeze(X_test_img, 1)\n",
    "X_test_img = torch.from_numpy(X_test_img)\n",
    "\n",
    "X_test_label = np.array(array_test[:,2].tolist())\n",
    "X_test_label = np.asarray(X_test_label).astype('float32')\n",
    "X_test_label = torch.from_numpy(X_test_label)\n",
    "\n",
    "test_dataset1 = tf.data.Dataset.from_tensor_slices(X_test_txt)\n",
    "test_dataset2 = tf.data.Dataset.from_tensor_slices((X_test_img))\n",
    "test_dataset3 = tf.data.Dataset.from_tensor_slices((X_test_label))\n",
    "test_dataset_all = tf.data.Dataset.zip((test_dataset1, test_dataset2))\n",
    "test_dataset_all = tf.data.Dataset.zip((test_dataset_all, test_dataset3))\n",
    "\n",
    "test_text_only = tf.data.Dataset.zip((test_dataset1, test_dataset3))\n",
    "test_image_only = tf.data.Dataset.zip((test_dataset2, test_dataset3))"
   ]
  },
  {
   "cell_type": "code",
   "execution_count": 25,
   "id": "a91dc34f",
   "metadata": {},
   "outputs": [],
   "source": [
    "X_test_txt1 = np.array(array_test[:,0].tolist())\n",
    "X_test_txt1 = np.squeeze(X_test_txt, 1)\n",
    "X_test_img1 = np.array(array_test[:,1].tolist())\n",
    "X_test_img1 = np.squeeze(X_test_img, 1)"
   ]
  },
  {
   "cell_type": "code",
   "execution_count": 26,
   "id": "f4e4c644",
   "metadata": {},
   "outputs": [],
   "source": [
    "test_dataset_input = tf.data.Dataset.zip((test_dataset1, test_dataset2))\n",
    "test_dataset_input = test_dataset_input.batch(32)"
   ]
  },
  {
   "cell_type": "code",
   "execution_count": 27,
   "id": "24f6ae4f",
   "metadata": {},
   "outputs": [],
   "source": [
    "test_dataset_all = test_dataset_all.batch(32)\n",
    "test_text_only = test_text_only.batch(32)\n",
    "test_image_only = test_image_only.batch(32)"
   ]
  },
  {
   "cell_type": "code",
   "execution_count": 28,
   "id": "e087ac2f",
   "metadata": {},
   "outputs": [],
   "source": [
    "macro_f1 =tfa.metrics.F1Score(num_classes=2, average='macro')\n",
    "adam = optimizers.Adam(learning_rate=1e-5)\n",
    "callback = tf.keras.callbacks.EarlyStopping(monitor='val_loss', patience=3, restore_best_weights=True)"
   ]
  },
  {
   "cell_type": "code",
   "execution_count": 29,
   "id": "9ea67b36",
   "metadata": {},
   "outputs": [],
   "source": [
    "def reset_tensorflow_keras_backend():\n",
    "    keras.backend.clear_session()\n",
    "    tf.compat.v1.reset_default_graph()\n",
    "    _ = gc.collect()"
   ]
  },
  {
   "cell_type": "code",
   "execution_count": 30,
   "id": "e99fb36c",
   "metadata": {},
   "outputs": [],
   "source": [
    "input_text = Input(shape=(768))\n",
    "dense_text = Dense(1024, activation='relu', kernel_regularizer=regularizers.l2(0.01),\\\n",
    "                kernel_initializer=initializers.he_normal(seed=0))(input_text)\n",
    "dropout = Dropout(0.4)(dense_text)\n",
    "dense_text = Dense(512, activation='relu', kernel_regularizer=regularizers.l2(0.01),\\\n",
    "                kernel_initializer=initializers.he_normal(seed=0))(dropout)\n",
    "dense_text = Dense(128, activation='relu', kernel_regularizer=regularizers.l2(0.01),\\\n",
    "                kernel_initializer=initializers.he_normal(seed=0))(dense_text)\n",
    "\n",
    "input_image = Input(shape=(2048))\n",
    "img_dense = Dense(1024,activation='relu',kernel_regularizer=regularizers.l2(0.05),\\\n",
    "                kernel_initializer=initializers.he_normal(seed=0))(input_image)\n",
    "dropout_img = Dropout(0.4)(img_dense)\n",
    "img_dense = Dense(512,activation='relu',kernel_regularizer=regularizers.l2(0.01),\\\n",
    "                kernel_initializer=initializers.he_normal(seed=0))(dropout_img)\n",
    "img_dense = Dense(128,activation='relu',kernel_regularizer=regularizers.l2(0.01),\\\n",
    "                kernel_initializer=initializers.he_normal(seed=0))(img_dense)\n",
    "\n",
    "concat = concatenate([dense_text,img_dense])\n",
    "\n",
    "inter1_dense = Dense(256,activation='relu',kernel_regularizer=regularizers.l2(0.001), kernel_initializer=initializers.he_normal(seed=0))(concat)\n",
    "final_dense = Dense(128,activation='relu',kernel_regularizer=regularizers.l2(0.001), kernel_initializer=initializers.he_normal(seed=0))(inter1_dense)\n",
    "final_dropout = Dropout(0.4)(final_dense)\n",
    "\n",
    "output = Dense(1, activation='sigmoid')(final_dropout)"
   ]
  },
  {
   "cell_type": "code",
   "execution_count": 31,
   "id": "293175d6",
   "metadata": {},
   "outputs": [
    {
     "name": "stdout",
     "output_type": "stream",
     "text": [
      "Model: \"model\"\n",
      "__________________________________________________________________________________________________\n",
      " Layer (type)                   Output Shape         Param #     Connected to                     \n",
      "==================================================================================================\n",
      " input_1 (InputLayer)           [(None, 768)]        0           []                               \n",
      "                                                                                                  \n",
      " input_2 (InputLayer)           [(None, 2048)]       0           []                               \n",
      "                                                                                                  \n",
      " dense (Dense)                  (None, 1024)         787456      ['input_1[0][0]']                \n",
      "                                                                                                  \n",
      " dense_3 (Dense)                (None, 1024)         2098176     ['input_2[0][0]']                \n",
      "                                                                                                  \n",
      " dropout (Dropout)              (None, 1024)         0           ['dense[0][0]']                  \n",
      "                                                                                                  \n",
      " dropout_1 (Dropout)            (None, 1024)         0           ['dense_3[0][0]']                \n",
      "                                                                                                  \n",
      " dense_1 (Dense)                (None, 512)          524800      ['dropout[0][0]']                \n",
      "                                                                                                  \n",
      " dense_4 (Dense)                (None, 512)          524800      ['dropout_1[0][0]']              \n",
      "                                                                                                  \n",
      " dense_2 (Dense)                (None, 128)          65664       ['dense_1[0][0]']                \n",
      "                                                                                                  \n",
      " dense_5 (Dense)                (None, 128)          65664       ['dense_4[0][0]']                \n",
      "                                                                                                  \n",
      " concatenate (Concatenate)      (None, 256)          0           ['dense_2[0][0]',                \n",
      "                                                                  'dense_5[0][0]']                \n",
      "                                                                                                  \n",
      " dense_6 (Dense)                (None, 256)          65792       ['concatenate[0][0]']            \n",
      "                                                                                                  \n",
      " dense_7 (Dense)                (None, 128)          32896       ['dense_6[0][0]']                \n",
      "                                                                                                  \n",
      " dropout_2 (Dropout)            (None, 128)          0           ['dense_7[0][0]']                \n",
      "                                                                                                  \n",
      " dense_8 (Dense)                (None, 1)            129         ['dropout_2[0][0]']              \n",
      "                                                                                                  \n",
      "==================================================================================================\n",
      "Total params: 4,165,377\n",
      "Trainable params: 4,165,377\n",
      "Non-trainable params: 0\n",
      "__________________________________________________________________________________________________\n"
     ]
    }
   ],
   "source": [
    "model = Model(inputs=[input_text,input_image], outputs=output)\n",
    "model.compile(loss='binary_crossentropy', optimizer=adam, metrics=['accuracy', tf.keras.metrics.TruePositives(),\\\n",
    "                                                                  tf.keras.metrics.TrueNegatives(),\\\n",
    "                                                                  tf.keras.metrics.FalsePositives(),\\\n",
    "                                                                  tf.keras.metrics.FalseNegatives()])\n",
    "model.summary()"
   ]
  },
  {
   "cell_type": "code",
   "execution_count": 32,
   "id": "345381df",
   "metadata": {},
   "outputs": [
    {
     "name": "stdout",
     "output_type": "stream",
     "text": [
      "Epoch 1/100\n",
      "326/326 [==============================] - 6s 13ms/step - loss: 142.1610 - accuracy: 0.5086 - true_positives: 1164.0000 - true_negatives: 4136.0000 - false_positives: 3954.0000 - false_negatives: 1166.0000 - val_loss: 132.4887 - val_accuracy: 0.5756 - val_true_positives: 188.0000 - val_true_negatives: 562.0000 - val_false_positives: 449.0000 - val_false_negatives: 104.0000\n",
      "Epoch 2/100\n",
      "326/326 [==============================] - 4s 12ms/step - loss: 125.1370 - accuracy: 0.5371 - true_positives: 1267.0000 - true_negatives: 4330.0000 - false_positives: 3760.0000 - false_negatives: 1063.0000 - val_loss: 117.0533 - val_accuracy: 0.6163 - val_true_positives: 166.0000 - val_true_negatives: 637.0000 - val_false_positives: 374.0000 - val_false_negatives: 126.0000\n",
      "Epoch 3/100\n",
      "326/326 [==============================] - 4s 12ms/step - loss: 110.4858 - accuracy: 0.5521 - true_positives: 1244.0000 - true_negatives: 4509.0000 - false_positives: 3581.0000 - false_negatives: 1086.0000 - val_loss: 103.5257 - val_accuracy: 0.6431 - val_true_positives: 156.0000 - val_true_negatives: 682.0000 - val_false_positives: 329.0000 - val_false_negatives: 136.0000\n",
      "Epoch 4/100\n",
      "326/326 [==============================] - 4s 12ms/step - loss: 97.6908 - accuracy: 0.5797 - true_positives: 1278.0000 - true_negatives: 4762.0000 - false_positives: 3328.0000 - false_negatives: 1052.0000 - val_loss: 91.6305 - val_accuracy: 0.6700 - val_true_positives: 138.0000 - val_true_negatives: 735.0000 - val_false_positives: 276.0000 - val_false_negatives: 154.0000\n",
      "Epoch 5/100\n",
      "326/326 [==============================] - 4s 12ms/step - loss: 86.4594 - accuracy: 0.6051 - true_positives: 1314.0000 - true_negatives: 4991.0000 - false_positives: 3099.0000 - false_negatives: 1016.0000 - val_loss: 81.1854 - val_accuracy: 0.6677 - val_true_positives: 135.0000 - val_true_negatives: 735.0000 - val_false_positives: 276.0000 - val_false_negatives: 157.0000\n",
      "Epoch 6/100\n",
      "326/326 [==============================] - 4s 12ms/step - loss: 76.6079 - accuracy: 0.6300 - true_positives: 1363.0000 - true_negatives: 5202.0000 - false_positives: 2888.0000 - false_negatives: 967.0000 - val_loss: 72.0026 - val_accuracy: 0.6470 - val_true_positives: 144.0000 - val_true_negatives: 699.0000 - val_false_positives: 312.0000 - val_false_negatives: 148.0000\n",
      "Epoch 7/100\n",
      "326/326 [==============================] - 4s 12ms/step - loss: 67.9480 - accuracy: 0.6414 - true_positives: 1367.0000 - true_negatives: 5316.0000 - false_positives: 2774.0000 - false_negatives: 963.0000 - val_loss: 63.8867 - val_accuracy: 0.6792 - val_true_positives: 126.0000 - val_true_negatives: 759.0000 - val_false_positives: 252.0000 - val_false_negatives: 166.0000\n",
      "Epoch 8/100\n",
      "326/326 [==============================] - 4s 12ms/step - loss: 60.3209 - accuracy: 0.6516 - true_positives: 1386.0000 - true_negatives: 5404.0000 - false_positives: 2686.0000 - false_negatives: 944.0000 - val_loss: 56.7393 - val_accuracy: 0.7030 - val_true_positives: 117.0000 - val_true_negatives: 799.0000 - val_false_positives: 212.0000 - val_false_negatives: 175.0000\n",
      "Epoch 9/100\n",
      "326/326 [==============================] - 4s 12ms/step - loss: 53.6003 - accuracy: 0.6708 - true_positives: 1437.0000 - true_negatives: 5553.0000 - false_positives: 2537.0000 - false_negatives: 893.0000 - val_loss: 50.4663 - val_accuracy: 0.6969 - val_true_positives: 117.0000 - val_true_negatives: 791.0000 - val_false_positives: 220.0000 - val_false_negatives: 175.0000\n",
      "Epoch 10/100\n",
      "326/326 [==============================] - 4s 12ms/step - loss: 47.6968 - accuracy: 0.6784 - true_positives: 1465.0000 - true_negatives: 5604.0000 - false_positives: 2486.0000 - false_negatives: 865.0000 - val_loss: 44.9411 - val_accuracy: 0.7153 - val_true_positives: 123.0000 - val_true_negatives: 809.0000 - val_false_positives: 202.0000 - val_false_negatives: 169.0000\n",
      "Epoch 11/100\n",
      "326/326 [==============================] - 4s 12ms/step - loss: 42.5024 - accuracy: 0.6888 - true_positives: 1507.0000 - true_negatives: 5670.0000 - false_positives: 2420.0000 - false_negatives: 823.0000 - val_loss: 40.0779 - val_accuracy: 0.7214 - val_true_positives: 117.0000 - val_true_negatives: 823.0000 - val_false_positives: 188.0000 - val_false_negatives: 175.0000\n",
      "Epoch 12/100\n",
      "326/326 [==============================] - 4s 12ms/step - loss: 37.9519 - accuracy: 0.6925 - true_positives: 1525.0000 - true_negatives: 5691.0000 - false_positives: 2399.0000 - false_negatives: 805.0000 - val_loss: 35.8170 - val_accuracy: 0.7322 - val_true_positives: 121.0000 - val_true_negatives: 833.0000 - val_false_positives: 178.0000 - val_false_negatives: 171.0000\n",
      "Epoch 13/100\n",
      "326/326 [==============================] - 4s 12ms/step - loss: 33.9543 - accuracy: 0.6981 - true_positives: 1518.0000 - true_negatives: 5756.0000 - false_positives: 2334.0000 - false_negatives: 812.0000 - val_loss: 32.0975 - val_accuracy: 0.7268 - val_true_positives: 130.0000 - val_true_negatives: 817.0000 - val_false_positives: 194.0000 - val_false_negatives: 162.0000\n",
      "Epoch 14/100\n",
      "326/326 [==============================] - 4s 13ms/step - loss: 30.4531 - accuracy: 0.7073 - true_positives: 1543.0000 - true_negatives: 5827.0000 - false_positives: 2263.0000 - false_negatives: 787.0000 - val_loss: 28.8349 - val_accuracy: 0.7252 - val_true_positives: 138.0000 - val_true_negatives: 807.0000 - val_false_positives: 204.0000 - val_false_negatives: 154.0000\n",
      "Epoch 15/100\n",
      "326/326 [==============================] - 4s 12ms/step - loss: 27.3918 - accuracy: 0.7089 - true_positives: 1549.0000 - true_negatives: 5838.0000 - false_positives: 2252.0000 - false_negatives: 781.0000 - val_loss: 25.9942 - val_accuracy: 0.7107 - val_true_positives: 146.0000 - val_true_negatives: 780.0000 - val_false_positives: 231.0000 - val_false_negatives: 146.0000\n",
      "Epoch 16/100\n",
      "326/326 [==============================] - 4s 12ms/step - loss: 24.7166 - accuracy: 0.7156 - true_positives: 1589.0000 - true_negatives: 5868.0000 - false_positives: 2222.0000 - false_negatives: 741.0000 - val_loss: 23.4851 - val_accuracy: 0.7291 - val_true_positives: 145.0000 - val_true_negatives: 805.0000 - val_false_positives: 206.0000 - val_false_negatives: 147.0000\n",
      "Epoch 17/100\n",
      "326/326 [==============================] - 4s 12ms/step - loss: 22.3841 - accuracy: 0.7169 - true_positives: 1593.0000 - true_negatives: 5877.0000 - false_positives: 2213.0000 - false_negatives: 737.0000 - val_loss: 21.3165 - val_accuracy: 0.7168 - val_true_positives: 144.0000 - val_true_negatives: 790.0000 - val_false_positives: 221.0000 - val_false_negatives: 148.0000\n",
      "Epoch 18/100\n",
      "326/326 [==============================] - 4s 12ms/step - loss: 20.3441 - accuracy: 0.7247 - true_positives: 1622.0000 - true_negatives: 5929.0000 - false_positives: 2161.0000 - false_negatives: 708.0000 - val_loss: 19.3984 - val_accuracy: 0.7437 - val_true_positives: 140.0000 - val_true_negatives: 829.0000 - val_false_positives: 182.0000 - val_false_negatives: 152.0000\n",
      "Epoch 19/100\n",
      "326/326 [==============================] - 4s 12ms/step - loss: 18.5714 - accuracy: 0.7255 - true_positives: 1611.0000 - true_negatives: 5949.0000 - false_positives: 2141.0000 - false_negatives: 719.0000 - val_loss: 17.7410 - val_accuracy: 0.7460 - val_true_positives: 132.0000 - val_true_negatives: 840.0000 - val_false_positives: 171.0000 - val_false_negatives: 160.0000\n",
      "Epoch 20/100\n",
      "326/326 [==============================] - 4s 12ms/step - loss: 17.0223 - accuracy: 0.7291 - true_positives: 1625.0000 - true_negatives: 5972.0000 - false_positives: 2118.0000 - false_negatives: 705.0000 - val_loss: 16.3029 - val_accuracy: 0.7460 - val_true_positives: 138.0000 - val_true_negatives: 834.0000 - val_false_positives: 177.0000 - val_false_negatives: 154.0000\n",
      "Epoch 21/100\n",
      "326/326 [==============================] - 4s 12ms/step - loss: 15.6622 - accuracy: 0.7272 - true_positives: 1624.0000 - true_negatives: 5953.0000 - false_positives: 2137.0000 - false_negatives: 706.0000 - val_loss: 15.0320 - val_accuracy: 0.7521 - val_true_positives: 131.0000 - val_true_negatives: 849.0000 - val_false_positives: 162.0000 - val_false_negatives: 161.0000\n",
      "Epoch 22/100\n",
      "326/326 [==============================] - 4s 12ms/step - loss: 14.4860 - accuracy: 0.7322 - true_positives: 1635.0000 - true_negatives: 5995.0000 - false_positives: 2095.0000 - false_negatives: 695.0000 - val_loss: 13.9338 - val_accuracy: 0.7406 - val_true_positives: 133.0000 - val_true_negatives: 832.0000 - val_false_positives: 179.0000 - val_false_negatives: 159.0000\n",
      "Epoch 23/100\n",
      "326/326 [==============================] - 4s 12ms/step - loss: 13.4377 - accuracy: 0.7386 - true_positives: 1671.0000 - true_negatives: 6025.0000 - false_positives: 2065.0000 - false_negatives: 659.0000 - val_loss: 12.9553 - val_accuracy: 0.7460 - val_true_positives: 143.0000 - val_true_negatives: 829.0000 - val_false_positives: 182.0000 - val_false_negatives: 149.0000\n",
      "Epoch 24/100\n",
      "326/326 [==============================] - 4s 12ms/step - loss: 12.5168 - accuracy: 0.7423 - true_positives: 1659.0000 - true_negatives: 6076.0000 - false_positives: 2014.0000 - false_negatives: 671.0000 - val_loss: 12.0849 - val_accuracy: 0.7559 - val_true_positives: 138.0000 - val_true_negatives: 847.0000 - val_false_positives: 164.0000 - val_false_negatives: 154.0000\n",
      "Epoch 25/100\n",
      "326/326 [==============================] - 4s 12ms/step - loss: 11.7052 - accuracy: 0.7436 - true_positives: 1701.0000 - true_negatives: 6047.0000 - false_positives: 2043.0000 - false_negatives: 629.0000 - val_loss: 11.3180 - val_accuracy: 0.7536 - val_true_positives: 138.0000 - val_true_negatives: 844.0000 - val_false_positives: 167.0000 - val_false_negatives: 154.0000\n",
      "Epoch 26/100\n",
      "326/326 [==============================] - 4s 12ms/step - loss: 10.9693 - accuracy: 0.7400 - true_positives: 1695.0000 - true_negatives: 6016.0000 - false_positives: 2074.0000 - false_negatives: 635.0000 - val_loss: 10.6443 - val_accuracy: 0.7398 - val_true_positives: 153.0000 - val_true_negatives: 811.0000 - val_false_positives: 200.0000 - val_false_negatives: 139.0000\n",
      "Epoch 27/100\n",
      "326/326 [==============================] - 4s 12ms/step - loss: 10.3125 - accuracy: 0.7453 - true_positives: 1716.0000 - true_negatives: 6050.0000 - false_positives: 2040.0000 - false_negatives: 614.0000 - val_loss: 10.0138 - val_accuracy: 0.7444 - val_true_positives: 145.0000 - val_true_negatives: 825.0000 - val_false_positives: 186.0000 - val_false_negatives: 147.0000\n",
      "Epoch 28/100\n",
      "326/326 [==============================] - 4s 13ms/step - loss: 9.7153 - accuracy: 0.7433 - true_positives: 1701.0000 - true_negatives: 6044.0000 - false_positives: 2046.0000 - false_negatives: 629.0000 - val_loss: 9.4364 - val_accuracy: 0.7583 - val_true_positives: 135.0000 - val_true_negatives: 853.0000 - val_false_positives: 158.0000 - val_false_negatives: 157.0000\n",
      "Epoch 29/100\n",
      "326/326 [==============================] - 4s 12ms/step - loss: 9.1820 - accuracy: 0.7449 - true_positives: 1726.0000 - true_negatives: 6036.0000 - false_positives: 2054.0000 - false_negatives: 604.0000 - val_loss: 8.9468 - val_accuracy: 0.7398 - val_true_positives: 153.0000 - val_true_negatives: 811.0000 - val_false_positives: 200.0000 - val_false_negatives: 139.0000\n",
      "Epoch 30/100\n",
      "326/326 [==============================] - 4s 12ms/step - loss: 8.6871 - accuracy: 0.7561 - true_positives: 1729.0000 - true_negatives: 6150.0000 - false_positives: 1940.0000 - false_negatives: 601.0000 - val_loss: 8.4682 - val_accuracy: 0.7490 - val_true_positives: 154.0000 - val_true_negatives: 822.0000 - val_false_positives: 189.0000 - val_false_negatives: 138.0000\n",
      "Epoch 31/100\n",
      "326/326 [==============================] - 4s 13ms/step - loss: 8.2336 - accuracy: 0.7544 - true_positives: 1728.0000 - true_negatives: 6133.0000 - false_positives: 1957.0000 - false_negatives: 602.0000 - val_loss: 8.0287 - val_accuracy: 0.7606 - val_true_positives: 146.0000 - val_true_negatives: 845.0000 - val_false_positives: 166.0000 - val_false_negatives: 146.0000\n",
      "Epoch 32/100\n",
      "326/326 [==============================] - 4s 12ms/step - loss: 7.8322 - accuracy: 0.7523 - true_positives: 1722.0000 - true_negatives: 6117.0000 - false_positives: 1973.0000 - false_negatives: 608.0000 - val_loss: 7.6423 - val_accuracy: 0.7498 - val_true_positives: 149.0000 - val_true_negatives: 828.0000 - val_false_positives: 183.0000 - val_false_negatives: 143.0000\n",
      "Epoch 33/100\n",
      "326/326 [==============================] - 4s 12ms/step - loss: 7.4408 - accuracy: 0.7541 - true_positives: 1721.0000 - true_negatives: 6137.0000 - false_positives: 1953.0000 - false_negatives: 609.0000 - val_loss: 7.2752 - val_accuracy: 0.7575 - val_true_positives: 149.0000 - val_true_negatives: 838.0000 - val_false_positives: 173.0000 - val_false_negatives: 143.0000\n",
      "Epoch 34/100\n",
      "326/326 [==============================] - 4s 12ms/step - loss: 7.0938 - accuracy: 0.7527 - true_positives: 1705.0000 - true_negatives: 6138.0000 - false_positives: 1952.0000 - false_negatives: 625.0000 - val_loss: 6.9486 - val_accuracy: 0.7437 - val_true_positives: 155.0000 - val_true_negatives: 814.0000 - val_false_positives: 197.0000 - val_false_negatives: 137.0000\n",
      "Epoch 35/100\n",
      "326/326 [==============================] - 4s 12ms/step - loss: 6.7648 - accuracy: 0.7637 - true_positives: 1778.0000 - true_negatives: 6180.0000 - false_positives: 1910.0000 - false_negatives: 552.0000 - val_loss: 6.6391 - val_accuracy: 0.7467 - val_true_positives: 162.0000 - val_true_negatives: 811.0000 - val_false_positives: 200.0000 - val_false_negatives: 130.0000\n",
      "Epoch 36/100\n",
      "326/326 [==============================] - 4s 13ms/step - loss: 6.4730 - accuracy: 0.7619 - true_positives: 1751.0000 - true_negatives: 6188.0000 - false_positives: 1902.0000 - false_negatives: 579.0000 - val_loss: 6.3465 - val_accuracy: 0.7521 - val_true_positives: 155.0000 - val_true_negatives: 825.0000 - val_false_positives: 186.0000 - val_false_negatives: 137.0000\n",
      "Epoch 37/100\n",
      "326/326 [==============================] - 4s 12ms/step - loss: 6.1895 - accuracy: 0.7626 - true_positives: 1771.0000 - true_negatives: 6175.0000 - false_positives: 1915.0000 - false_negatives: 559.0000 - val_loss: 6.0879 - val_accuracy: 0.7467 - val_true_positives: 163.0000 - val_true_negatives: 810.0000 - val_false_positives: 201.0000 - val_false_negatives: 129.0000\n",
      "Epoch 38/100\n",
      "326/326 [==============================] - 4s 12ms/step - loss: 5.9282 - accuracy: 0.7657 - true_positives: 1779.0000 - true_negatives: 6200.0000 - false_positives: 1890.0000 - false_negatives: 551.0000 - val_loss: 5.8476 - val_accuracy: 0.7444 - val_true_positives: 172.0000 - val_true_negatives: 798.0000 - val_false_positives: 213.0000 - val_false_negatives: 120.0000\n",
      "Epoch 39/100\n",
      "326/326 [==============================] - 4s 12ms/step - loss: 5.6836 - accuracy: 0.7665 - true_positives: 1764.0000 - true_negatives: 6223.0000 - false_positives: 1867.0000 - false_negatives: 566.0000 - val_loss: 5.6055 - val_accuracy: 0.7506 - val_true_positives: 166.0000 - val_true_negatives: 812.0000 - val_false_positives: 199.0000 - val_false_negatives: 126.0000\n",
      "Epoch 40/100\n",
      "326/326 [==============================] - 4s 12ms/step - loss: 5.4565 - accuracy: 0.7689 - true_positives: 1771.0000 - true_negatives: 6241.0000 - false_positives: 1849.0000 - false_negatives: 559.0000 - val_loss: 5.3949 - val_accuracy: 0.7452 - val_true_positives: 163.0000 - val_true_negatives: 808.0000 - val_false_positives: 203.0000 - val_false_negatives: 129.0000\n",
      "Epoch 41/100\n",
      "326/326 [==============================] - 4s 12ms/step - loss: 5.2468 - accuracy: 0.7719 - true_positives: 1772.0000 - true_negatives: 6271.0000 - false_positives: 1819.0000 - false_negatives: 558.0000 - val_loss: 5.1950 - val_accuracy: 0.7467 - val_true_positives: 173.0000 - val_true_negatives: 800.0000 - val_false_positives: 211.0000 - val_false_negatives: 119.0000\n",
      "Epoch 42/100\n",
      "326/326 [==============================] - 4s 12ms/step - loss: 5.0551 - accuracy: 0.7702 - true_positives: 1795.0000 - true_negatives: 6231.0000 - false_positives: 1859.0000 - false_negatives: 535.0000 - val_loss: 4.9977 - val_accuracy: 0.7513 - val_true_positives: 162.0000 - val_true_negatives: 817.0000 - val_false_positives: 194.0000 - val_false_negatives: 130.0000\n",
      "Epoch 43/100\n"
     ]
    },
    {
     "name": "stdout",
     "output_type": "stream",
     "text": [
      "326/326 [==============================] - 4s 12ms/step - loss: 4.8645 - accuracy: 0.7777 - true_positives: 1790.0000 - true_negatives: 6314.0000 - false_positives: 1776.0000 - false_negatives: 540.0000 - val_loss: 4.8350 - val_accuracy: 0.7444 - val_true_positives: 174.0000 - val_true_negatives: 796.0000 - val_false_positives: 215.0000 - val_false_negatives: 118.0000\n",
      "Epoch 44/100\n",
      "326/326 [==============================] - 4s 12ms/step - loss: 4.6911 - accuracy: 0.7774 - true_positives: 1788.0000 - true_negatives: 6313.0000 - false_positives: 1777.0000 - false_negatives: 542.0000 - val_loss: 4.6734 - val_accuracy: 0.7368 - val_true_positives: 173.0000 - val_true_negatives: 787.0000 - val_false_positives: 224.0000 - val_false_negatives: 119.0000\n",
      "Epoch 45/100\n",
      "326/326 [==============================] - 4s 12ms/step - loss: 4.5288 - accuracy: 0.7762 - true_positives: 1803.0000 - true_negatives: 6285.0000 - false_positives: 1805.0000 - false_negatives: 527.0000 - val_loss: 4.5090 - val_accuracy: 0.7490 - val_true_positives: 172.0000 - val_true_negatives: 804.0000 - val_false_positives: 207.0000 - val_false_negatives: 120.0000\n",
      "Epoch 46/100\n",
      "326/326 [==============================] - 4s 12ms/step - loss: 4.3782 - accuracy: 0.7780 - true_positives: 1811.0000 - true_negatives: 6296.0000 - false_positives: 1794.0000 - false_negatives: 519.0000 - val_loss: 4.3469 - val_accuracy: 0.7544 - val_true_positives: 162.0000 - val_true_negatives: 821.0000 - val_false_positives: 190.0000 - val_false_negatives: 130.0000\n",
      "Epoch 47/100\n",
      "326/326 [==============================] - 4s 12ms/step - loss: 4.2296 - accuracy: 0.7813 - true_positives: 1803.0000 - true_negatives: 6338.0000 - false_positives: 1752.0000 - false_negatives: 527.0000 - val_loss: 4.2212 - val_accuracy: 0.7467 - val_true_positives: 172.0000 - val_true_negatives: 801.0000 - val_false_positives: 210.0000 - val_false_negatives: 120.0000\n",
      "Epoch 48/100\n",
      "326/326 [==============================] - 4s 12ms/step - loss: 4.0974 - accuracy: 0.7797 - true_positives: 1802.0000 - true_negatives: 6322.0000 - false_positives: 1768.0000 - false_negatives: 528.0000 - val_loss: 4.1025 - val_accuracy: 0.7437 - val_true_positives: 175.0000 - val_true_negatives: 794.0000 - val_false_positives: 217.0000 - val_false_negatives: 117.0000\n",
      "Epoch 49/100\n",
      "326/326 [==============================] - 4s 12ms/step - loss: 3.9647 - accuracy: 0.7857 - true_positives: 1832.0000 - true_negatives: 6355.0000 - false_positives: 1735.0000 - false_negatives: 498.0000 - val_loss: 3.9776 - val_accuracy: 0.7490 - val_true_positives: 175.0000 - val_true_negatives: 801.0000 - val_false_positives: 210.0000 - val_false_negatives: 117.0000\n",
      "Epoch 50/100\n",
      "326/326 [==============================] - 4s 12ms/step - loss: 3.8533 - accuracy: 0.7773 - true_positives: 1798.0000 - true_negatives: 6301.0000 - false_positives: 1789.0000 - false_negatives: 532.0000 - val_loss: 3.8670 - val_accuracy: 0.7437 - val_true_positives: 172.0000 - val_true_negatives: 797.0000 - val_false_positives: 214.0000 - val_false_negatives: 120.0000\n",
      "Epoch 51/100\n",
      "326/326 [==============================] - 4s 12ms/step - loss: 3.7344 - accuracy: 0.7869 - true_positives: 1822.0000 - true_negatives: 6377.0000 - false_positives: 1713.0000 - false_negatives: 508.0000 - val_loss: 3.7571 - val_accuracy: 0.7421 - val_true_positives: 176.0000 - val_true_negatives: 791.0000 - val_false_positives: 220.0000 - val_false_negatives: 116.0000\n",
      "Epoch 52/100\n",
      "326/326 [==============================] - 4s 12ms/step - loss: 3.6250 - accuracy: 0.7883 - true_positives: 1838.0000 - true_negatives: 6376.0000 - false_positives: 1714.0000 - false_negatives: 492.0000 - val_loss: 3.6436 - val_accuracy: 0.7536 - val_true_positives: 173.0000 - val_true_negatives: 809.0000 - val_false_positives: 202.0000 - val_false_negatives: 119.0000\n",
      "Epoch 53/100\n",
      "326/326 [==============================] - 4s 12ms/step - loss: 3.5186 - accuracy: 0.7895 - true_positives: 1836.0000 - true_negatives: 6391.0000 - false_positives: 1699.0000 - false_negatives: 494.0000 - val_loss: 3.5505 - val_accuracy: 0.7506 - val_true_positives: 178.0000 - val_true_negatives: 800.0000 - val_false_positives: 211.0000 - val_false_negatives: 114.0000\n",
      "Epoch 54/100\n",
      "326/326 [==============================] - 4s 12ms/step - loss: 3.4350 - accuracy: 0.7879 - true_positives: 1801.0000 - true_negatives: 6409.0000 - false_positives: 1681.0000 - false_negatives: 529.0000 - val_loss: 3.4585 - val_accuracy: 0.7483 - val_true_positives: 178.0000 - val_true_negatives: 797.0000 - val_false_positives: 214.0000 - val_false_negatives: 114.0000\n",
      "Epoch 55/100\n",
      "326/326 [==============================] - 4s 12ms/step - loss: 3.3400 - accuracy: 0.7893 - true_positives: 1852.0000 - true_negatives: 6373.0000 - false_positives: 1717.0000 - false_negatives: 478.0000 - val_loss: 3.3969 - val_accuracy: 0.7299 - val_true_positives: 180.0000 - val_true_negatives: 771.0000 - val_false_positives: 240.0000 - val_false_negatives: 112.0000\n",
      "Epoch 56/100\n",
      "326/326 [==============================] - 4s 12ms/step - loss: 3.2480 - accuracy: 0.7958 - true_positives: 1856.0000 - true_negatives: 6436.0000 - false_positives: 1654.0000 - false_negatives: 474.0000 - val_loss: 3.2994 - val_accuracy: 0.7429 - val_true_positives: 181.0000 - val_true_negatives: 787.0000 - val_false_positives: 224.0000 - val_false_negatives: 111.0000\n",
      "Epoch 57/100\n",
      "326/326 [==============================] - 4s 12ms/step - loss: 3.1749 - accuracy: 0.7911 - true_positives: 1828.0000 - true_negatives: 6415.0000 - false_positives: 1675.0000 - false_negatives: 502.0000 - val_loss: 3.2367 - val_accuracy: 0.7245 - val_true_positives: 181.0000 - val_true_negatives: 763.0000 - val_false_positives: 248.0000 - val_false_negatives: 111.0000\n",
      "Epoch 58/100\n",
      "326/326 [==============================] - 4s 12ms/step - loss: 3.0936 - accuracy: 0.7917 - true_positives: 1850.0000 - true_negatives: 6400.0000 - false_positives: 1690.0000 - false_negatives: 480.0000 - val_loss: 3.1599 - val_accuracy: 0.7268 - val_true_positives: 183.0000 - val_true_negatives: 764.0000 - val_false_positives: 247.0000 - val_false_negatives: 109.0000\n",
      "Epoch 59/100\n",
      "326/326 [==============================] - 4s 12ms/step - loss: 3.0182 - accuracy: 0.7981 - true_positives: 1900.0000 - true_negatives: 6416.0000 - false_positives: 1674.0000 - false_negatives: 430.0000 - val_loss: 3.0684 - val_accuracy: 0.7536 - val_true_positives: 178.0000 - val_true_negatives: 804.0000 - val_false_positives: 207.0000 - val_false_negatives: 114.0000\n",
      "Epoch 60/100\n",
      "326/326 [==============================] - 4s 13ms/step - loss: 2.9480 - accuracy: 0.7972 - true_positives: 1861.0000 - true_negatives: 6446.0000 - false_positives: 1644.0000 - false_negatives: 469.0000 - val_loss: 3.0149 - val_accuracy: 0.7421 - val_true_positives: 178.0000 - val_true_negatives: 789.0000 - val_false_positives: 222.0000 - val_false_negatives: 114.0000\n",
      "Epoch 61/100\n",
      "326/326 [==============================] - 4s 12ms/step - loss: 2.8826 - accuracy: 0.7992 - true_positives: 1865.0000 - true_negatives: 6463.0000 - false_positives: 1627.0000 - false_negatives: 465.0000 - val_loss: 2.9395 - val_accuracy: 0.7552 - val_true_positives: 175.0000 - val_true_negatives: 809.0000 - val_false_positives: 202.0000 - val_false_negatives: 117.0000\n",
      "Epoch 62/100\n",
      "326/326 [==============================] - 4s 12ms/step - loss: 2.8163 - accuracy: 0.7988 - true_positives: 1890.0000 - true_negatives: 6433.0000 - false_positives: 1657.0000 - false_negatives: 440.0000 - val_loss: 2.8775 - val_accuracy: 0.7544 - val_true_positives: 173.0000 - val_true_negatives: 810.0000 - val_false_positives: 201.0000 - val_false_negatives: 119.0000\n",
      "Epoch 63/100\n",
      "326/326 [==============================] - 4s 13ms/step - loss: 2.7570 - accuracy: 0.8023 - true_positives: 1886.0000 - true_negatives: 6474.0000 - false_positives: 1616.0000 - false_negatives: 444.0000 - val_loss: 2.8331 - val_accuracy: 0.7437 - val_true_positives: 183.0000 - val_true_negatives: 786.0000 - val_false_positives: 225.0000 - val_false_negatives: 109.0000\n",
      "Epoch 64/100\n",
      "326/326 [==============================] - 4s 12ms/step - loss: 2.7037 - accuracy: 0.7986 - true_positives: 1859.0000 - true_negatives: 6462.0000 - false_positives: 1628.0000 - false_negatives: 471.0000 - val_loss: 2.7593 - val_accuracy: 0.7590 - val_true_positives: 173.0000 - val_true_negatives: 816.0000 - val_false_positives: 195.0000 - val_false_negatives: 119.0000\n",
      "Epoch 65/100\n",
      "326/326 [==============================] - 4s 13ms/step - loss: 2.6484 - accuracy: 0.8052 - true_positives: 1869.0000 - true_negatives: 6521.0000 - false_positives: 1569.0000 - false_negatives: 461.0000 - val_loss: 2.7447 - val_accuracy: 0.7268 - val_true_positives: 184.0000 - val_true_negatives: 763.0000 - val_false_positives: 248.0000 - val_false_negatives: 108.0000\n",
      "Epoch 66/100\n",
      "326/326 [==============================] - 4s 12ms/step - loss: 2.5942 - accuracy: 0.8061 - true_positives: 1895.0000 - true_negatives: 6505.0000 - false_positives: 1585.0000 - false_negatives: 435.0000 - val_loss: 2.6788 - val_accuracy: 0.7437 - val_true_positives: 183.0000 - val_true_negatives: 786.0000 - val_false_positives: 225.0000 - val_false_negatives: 109.0000\n",
      "Epoch 67/100\n",
      "326/326 [==============================] - 4s 12ms/step - loss: 2.5387 - accuracy: 0.8043 - true_positives: 1886.0000 - true_negatives: 6495.0000 - false_positives: 1595.0000 - false_negatives: 444.0000 - val_loss: 2.6248 - val_accuracy: 0.7536 - val_true_positives: 180.0000 - val_true_negatives: 802.0000 - val_false_positives: 209.0000 - val_false_negatives: 112.0000\n",
      "Epoch 68/100\n",
      "326/326 [==============================] - 4s 12ms/step - loss: 2.4941 - accuracy: 0.8026 - true_positives: 1887.0000 - true_negatives: 6476.0000 - false_positives: 1614.0000 - false_negatives: 443.0000 - val_loss: 2.5755 - val_accuracy: 0.7506 - val_true_positives: 179.0000 - val_true_negatives: 799.0000 - val_false_positives: 212.0000 - val_false_negatives: 113.0000\n",
      "Epoch 69/100\n",
      "326/326 [==============================] - 4s 12ms/step - loss: 2.4381 - accuracy: 0.8116 - true_positives: 1890.0000 - true_negatives: 6567.0000 - false_positives: 1523.0000 - false_negatives: 440.0000 - val_loss: 2.5380 - val_accuracy: 0.7490 - val_true_positives: 182.0000 - val_true_negatives: 794.0000 - val_false_positives: 217.0000 - val_false_negatives: 110.0000\n",
      "Epoch 70/100\n",
      "326/326 [==============================] - 4s 12ms/step - loss: 2.3929 - accuracy: 0.8133 - true_positives: 1900.0000 - true_negatives: 6575.0000 - false_positives: 1515.0000 - false_negatives: 430.0000 - val_loss: 2.5002 - val_accuracy: 0.7398 - val_true_positives: 183.0000 - val_true_negatives: 781.0000 - val_false_positives: 230.0000 - val_false_negatives: 109.0000\n",
      "Epoch 71/100\n",
      "326/326 [==============================] - 4s 12ms/step - loss: 2.3563 - accuracy: 0.8046 - true_positives: 1897.0000 - true_negatives: 6487.0000 - false_positives: 1603.0000 - false_negatives: 433.0000 - val_loss: 2.4462 - val_accuracy: 0.7536 - val_true_positives: 179.0000 - val_true_negatives: 803.0000 - val_false_positives: 208.0000 - val_false_negatives: 113.0000\n",
      "Epoch 72/100\n",
      "326/326 [==============================] - 4s 12ms/step - loss: 2.3100 - accuracy: 0.8095 - true_positives: 1903.0000 - true_negatives: 6532.0000 - false_positives: 1558.0000 - false_negatives: 427.0000 - val_loss: 2.4204 - val_accuracy: 0.7391 - val_true_positives: 183.0000 - val_true_negatives: 780.0000 - val_false_positives: 231.0000 - val_false_negatives: 109.0000\n",
      "Epoch 73/100\n",
      "326/326 [==============================] - 4s 12ms/step - loss: 2.2623 - accuracy: 0.8126 - true_positives: 1917.0000 - true_negatives: 6550.0000 - false_positives: 1540.0000 - false_negatives: 413.0000 - val_loss: 2.3668 - val_accuracy: 0.7498 - val_true_positives: 182.0000 - val_true_negatives: 795.0000 - val_false_positives: 216.0000 - val_false_negatives: 110.0000\n",
      "Epoch 74/100\n",
      "326/326 [==============================] - 4s 12ms/step - loss: 2.2251 - accuracy: 0.8131 - true_positives: 1909.0000 - true_negatives: 6563.0000 - false_positives: 1527.0000 - false_negatives: 421.0000 - val_loss: 2.3485 - val_accuracy: 0.7398 - val_true_positives: 185.0000 - val_true_negatives: 779.0000 - val_false_positives: 232.0000 - val_false_negatives: 107.0000\n",
      "Epoch 75/100\n",
      "326/326 [==============================] - 4s 12ms/step - loss: 2.1931 - accuracy: 0.8140 - true_positives: 1907.0000 - true_negatives: 6575.0000 - false_positives: 1515.0000 - false_negatives: 423.0000 - val_loss: 2.3073 - val_accuracy: 0.7444 - val_true_positives: 183.0000 - val_true_negatives: 787.0000 - val_false_positives: 224.0000 - val_false_negatives: 109.0000\n",
      "Epoch 76/100\n",
      "326/326 [==============================] - 4s 12ms/step - loss: 2.1508 - accuracy: 0.8157 - true_positives: 1936.0000 - true_negatives: 6564.0000 - false_positives: 1526.0000 - false_negatives: 394.0000 - val_loss: 2.2673 - val_accuracy: 0.7444 - val_true_positives: 181.0000 - val_true_negatives: 789.0000 - val_false_positives: 222.0000 - val_false_negatives: 111.0000\n",
      "Epoch 77/100\n",
      "326/326 [==============================] - 4s 12ms/step - loss: 2.1212 - accuracy: 0.8121 - true_positives: 1907.0000 - true_negatives: 6555.0000 - false_positives: 1535.0000 - false_negatives: 423.0000 - val_loss: 2.2123 - val_accuracy: 0.7667 - val_true_positives: 174.0000 - val_true_negatives: 825.0000 - val_false_positives: 186.0000 - val_false_negatives: 118.0000\n",
      "Epoch 78/100\n",
      "326/326 [==============================] - 4s 12ms/step - loss: 2.0776 - accuracy: 0.8212 - true_positives: 1929.0000 - true_negatives: 6628.0000 - false_positives: 1462.0000 - false_negatives: 401.0000 - val_loss: 2.1942 - val_accuracy: 0.7544 - val_true_positives: 176.0000 - val_true_negatives: 807.0000 - val_false_positives: 204.0000 - val_false_negatives: 116.0000\n",
      "Epoch 79/100\n",
      "326/326 [==============================] - 4s 12ms/step - loss: 2.0460 - accuracy: 0.8218 - true_positives: 1925.0000 - true_negatives: 6638.0000 - false_positives: 1452.0000 - false_negatives: 405.0000 - val_loss: 2.1733 - val_accuracy: 0.7475 - val_true_positives: 178.0000 - val_true_negatives: 796.0000 - val_false_positives: 215.0000 - val_false_negatives: 114.0000\n",
      "Epoch 80/100\n",
      "326/326 [==============================] - 4s 13ms/step - loss: 2.0145 - accuracy: 0.8216 - true_positives: 1940.0000 - true_negatives: 6621.0000 - false_positives: 1469.0000 - false_negatives: 390.0000 - val_loss: 2.1410 - val_accuracy: 0.7513 - val_true_positives: 177.0000 - val_true_negatives: 802.0000 - val_false_positives: 209.0000 - val_false_negatives: 115.0000\n",
      "Epoch 81/100\n",
      "326/326 [==============================] - 4s 13ms/step - loss: 1.9868 - accuracy: 0.8207 - true_positives: 1944.0000 - true_negatives: 6608.0000 - false_positives: 1482.0000 - false_negatives: 386.0000 - val_loss: 2.0942 - val_accuracy: 0.7667 - val_true_positives: 168.0000 - val_true_negatives: 831.0000 - val_false_positives: 180.0000 - val_false_negatives: 124.0000\n",
      "Epoch 82/100\n",
      "326/326 [==============================] - 4s 12ms/step - loss: 1.9565 - accuracy: 0.8229 - true_positives: 1948.0000 - true_negatives: 6627.0000 - false_positives: 1463.0000 - false_negatives: 382.0000 - val_loss: 2.0732 - val_accuracy: 0.7590 - val_true_positives: 173.0000 - val_true_negatives: 816.0000 - val_false_positives: 195.0000 - val_false_negatives: 119.0000\n",
      "Epoch 83/100\n",
      "326/326 [==============================] - 4s 12ms/step - loss: 1.9277 - accuracy: 0.8236 - true_positives: 1933.0000 - true_negatives: 6649.0000 - false_positives: 1441.0000 - false_negatives: 397.0000 - val_loss: 2.0521 - val_accuracy: 0.7552 - val_true_positives: 175.0000 - val_true_negatives: 809.0000 - val_false_positives: 202.0000 - val_false_negatives: 117.0000\n",
      "Epoch 84/100\n",
      "326/326 [==============================] - 4s 13ms/step - loss: 1.9001 - accuracy: 0.8243 - true_positives: 1951.0000 - true_negatives: 6638.0000 - false_positives: 1452.0000 - false_negatives: 379.0000 - val_loss: 2.0207 - val_accuracy: 0.7575 - val_true_positives: 174.0000 - val_true_negatives: 813.0000 - val_false_positives: 198.0000 - val_false_negatives: 118.0000\n",
      "Epoch 85/100\n"
     ]
    },
    {
     "name": "stdout",
     "output_type": "stream",
     "text": [
      "326/326 [==============================] - 4s 12ms/step - loss: 1.8753 - accuracy: 0.8275 - true_positives: 1967.0000 - true_negatives: 6656.0000 - false_positives: 1434.0000 - false_negatives: 363.0000 - val_loss: 2.0194 - val_accuracy: 0.7521 - val_true_positives: 182.0000 - val_true_negatives: 798.0000 - val_false_positives: 213.0000 - val_false_negatives: 110.0000\n",
      "Epoch 86/100\n",
      "326/326 [==============================] - 4s 12ms/step - loss: 1.8482 - accuracy: 0.8275 - true_positives: 1950.0000 - true_negatives: 6673.0000 - false_positives: 1417.0000 - false_negatives: 380.0000 - val_loss: 1.9742 - val_accuracy: 0.7590 - val_true_positives: 173.0000 - val_true_negatives: 816.0000 - val_false_positives: 195.0000 - val_false_negatives: 119.0000\n",
      "Epoch 87/100\n",
      "326/326 [==============================] - 4s 12ms/step - loss: 1.8210 - accuracy: 0.8263 - true_positives: 1961.0000 - true_negatives: 6649.0000 - false_positives: 1441.0000 - false_negatives: 369.0000 - val_loss: 1.9840 - val_accuracy: 0.7444 - val_true_positives: 185.0000 - val_true_negatives: 785.0000 - val_false_positives: 226.0000 - val_false_negatives: 107.0000\n",
      "Epoch 88/100\n",
      "326/326 [==============================] - 4s 12ms/step - loss: 1.7932 - accuracy: 0.8331 - true_positives: 1977.0000 - true_negatives: 6704.0000 - false_positives: 1386.0000 - false_negatives: 353.0000 - val_loss: 1.9590 - val_accuracy: 0.7437 - val_true_positives: 184.0000 - val_true_negatives: 785.0000 - val_false_positives: 226.0000 - val_false_negatives: 108.0000\n",
      "Epoch 89/100\n",
      "326/326 [==============================] - 4s 12ms/step - loss: 1.7687 - accuracy: 0.8324 - true_positives: 1975.0000 - true_negatives: 6699.0000 - false_positives: 1391.0000 - false_negatives: 355.0000 - val_loss: 1.9310 - val_accuracy: 0.7475 - val_true_positives: 183.0000 - val_true_negatives: 791.0000 - val_false_positives: 220.0000 - val_false_negatives: 109.0000\n",
      "Epoch 90/100\n",
      "326/326 [==============================] - 4s 12ms/step - loss: 1.7463 - accuracy: 0.8330 - true_positives: 1965.0000 - true_negatives: 6715.0000 - false_positives: 1375.0000 - false_negatives: 365.0000 - val_loss: 1.8929 - val_accuracy: 0.7552 - val_true_positives: 174.0000 - val_true_negatives: 810.0000 - val_false_positives: 201.0000 - val_false_negatives: 118.0000\n",
      "Epoch 91/100\n",
      "326/326 [==============================] - 4s 12ms/step - loss: 1.7276 - accuracy: 0.8325 - true_positives: 1985.0000 - true_negatives: 6690.0000 - false_positives: 1400.0000 - false_negatives: 345.0000 - val_loss: 1.8785 - val_accuracy: 0.7513 - val_true_positives: 176.0000 - val_true_negatives: 803.0000 - val_false_positives: 208.0000 - val_false_negatives: 116.0000\n",
      "Epoch 92/100\n",
      "326/326 [==============================] - 4s 12ms/step - loss: 1.7010 - accuracy: 0.8327 - true_positives: 1982.0000 - true_negatives: 6695.0000 - false_positives: 1395.0000 - false_negatives: 348.0000 - val_loss: 1.8613 - val_accuracy: 0.7529 - val_true_positives: 174.0000 - val_true_negatives: 807.0000 - val_false_positives: 204.0000 - val_false_negatives: 118.0000\n",
      "Epoch 93/100\n",
      "326/326 [==============================] - 4s 12ms/step - loss: 1.6806 - accuracy: 0.8371 - true_positives: 1974.0000 - true_negatives: 6749.0000 - false_positives: 1341.0000 - false_negatives: 356.0000 - val_loss: 1.8580 - val_accuracy: 0.7444 - val_true_positives: 181.0000 - val_true_negatives: 789.0000 - val_false_positives: 222.0000 - val_false_negatives: 111.0000\n",
      "Epoch 94/100\n",
      "326/326 [==============================] - 4s 12ms/step - loss: 1.6601 - accuracy: 0.8373 - true_positives: 2004.0000 - true_negatives: 6721.0000 - false_positives: 1369.0000 - false_negatives: 326.0000 - val_loss: 1.8181 - val_accuracy: 0.7590 - val_true_positives: 176.0000 - val_true_negatives: 813.0000 - val_false_positives: 198.0000 - val_false_negatives: 116.0000\n",
      "Epoch 95/100\n",
      "326/326 [==============================] - 4s 12ms/step - loss: 1.6403 - accuracy: 0.8355 - true_positives: 1986.0000 - true_negatives: 6720.0000 - false_positives: 1370.0000 - false_negatives: 344.0000 - val_loss: 1.7864 - val_accuracy: 0.7613 - val_true_positives: 169.0000 - val_true_negatives: 823.0000 - val_false_positives: 188.0000 - val_false_negatives: 123.0000\n",
      "Epoch 96/100\n",
      "326/326 [==============================] - 4s 12ms/step - loss: 1.6209 - accuracy: 0.8354 - true_positives: 1982.0000 - true_negatives: 6723.0000 - false_positives: 1367.0000 - false_negatives: 348.0000 - val_loss: 1.7776 - val_accuracy: 0.7559 - val_true_positives: 171.0000 - val_true_negatives: 814.0000 - val_false_positives: 197.0000 - val_false_negatives: 121.0000\n",
      "Epoch 97/100\n",
      "326/326 [==============================] - 4s 12ms/step - loss: 1.6025 - accuracy: 0.8415 - true_positives: 1990.0000 - true_negatives: 6778.0000 - false_positives: 1312.0000 - false_negatives: 340.0000 - val_loss: 1.7687 - val_accuracy: 0.7529 - val_true_positives: 175.0000 - val_true_negatives: 806.0000 - val_false_positives: 205.0000 - val_false_negatives: 117.0000\n",
      "Epoch 98/100\n",
      "326/326 [==============================] - 4s 12ms/step - loss: 1.5820 - accuracy: 0.8420 - true_positives: 1990.0000 - true_negatives: 6784.0000 - false_positives: 1306.0000 - false_negatives: 340.0000 - val_loss: 1.7815 - val_accuracy: 0.7391 - val_true_positives: 182.0000 - val_true_negatives: 781.0000 - val_false_positives: 230.0000 - val_false_negatives: 110.0000\n",
      "Epoch 99/100\n",
      "326/326 [==============================] - 4s 12ms/step - loss: 1.5627 - accuracy: 0.8410 - true_positives: 2000.0000 - true_negatives: 6763.0000 - false_positives: 1327.0000 - false_negatives: 330.0000 - val_loss: 1.7337 - val_accuracy: 0.7583 - val_true_positives: 170.0000 - val_true_negatives: 818.0000 - val_false_positives: 193.0000 - val_false_negatives: 122.0000\n",
      "Epoch 100/100\n",
      "326/326 [==============================] - 4s 12ms/step - loss: 1.5423 - accuracy: 0.8440 - true_positives: 2009.0000 - true_negatives: 6786.0000 - false_positives: 1304.0000 - false_negatives: 321.0000 - val_loss: 1.7486 - val_accuracy: 0.7391 - val_true_positives: 185.0000 - val_true_negatives: 778.0000 - val_false_positives: 233.0000 - val_false_negatives: 107.0000\n"
     ]
    }
   ],
   "source": [
    "history_combined = model.fit(train_dataset_all,\n",
    "                    validation_data=(val_dataset_all), batch_size=32,epochs=100,\n",
    "                            callbacks=[callback], verbose=1, class_weight= weights_ker, shuffle=True)"
   ]
  },
  {
   "cell_type": "code",
   "execution_count": 33,
   "id": "488a8cef",
   "metadata": {},
   "outputs": [],
   "source": [
    "def plot_accuracy(history):\n",
    "    plt.plot(history.history['accuracy'])\n",
    "    plt.plot(history.history['val_accuracy'])\n",
    "    plt.title('Model accuracy')\n",
    "    plt.ylabel('Accuracy')\n",
    "    plt.xlabel('Epoch')\n",
    "    plt.legend(['Train', 'Test'], loc='upper left')\n",
    "    plt.show()"
   ]
  },
  {
   "cell_type": "code",
   "execution_count": 34,
   "id": "2fe6ac4f",
   "metadata": {},
   "outputs": [],
   "source": [
    "def plot_loss(history):\n",
    "    plt.plot(history.history['loss'])\n",
    "    plt.plot(history.history['val_loss'])\n",
    "    plt.title('Model Loss')\n",
    "    plt.ylabel('Loss')\n",
    "    plt.xlabel('Epoch')\n",
    "    plt.legend(['Train', 'Test'], loc='upper left')\n",
    "    plt.show()"
   ]
  },
  {
   "cell_type": "code",
   "execution_count": 35,
   "id": "5b6a54fa",
   "metadata": {},
   "outputs": [
    {
     "data": {
      "image/png": "[encoded data removed]",
      "text/plain": [
       "<Figure size 432x288 with 1 Axes>"
      ]
     },
     "metadata": {
      "needs_background": "light"
     },
     "output_type": "display_data"
    },
    {
     "data": {
      "image/png": "[encoded data removed]",
      "text/plain": [
       "<Figure size 432x288 with 1 Axes>"
      ]
     },
     "metadata": {
      "needs_background": "light"
     },
     "output_type": "display_data"
    }
   ],
   "source": [
    "model_comb_plotacc = plot_accuracy(history_combined)\n",
    "model_comb_plotloss = plot_loss(history_combined)"
   ]
  },
  {
   "cell_type": "code",
   "execution_count": 36,
   "id": "ee430454",
   "metadata": {},
   "outputs": [
    {
     "name": "stdout",
     "output_type": "stream",
     "text": [
      "41/41 [==============================] - 0s 7ms/step - loss: 1.7313 - accuracy: 0.7467 - true_positives: 194.0000 - true_negatives: 779.0000 - false_positives: 240.0000 - false_negatives: 90.0000\n",
      "[1.7313390970230103, 0.7467383146286011, 194.0, 779.0, 240.0, 90.0]\n"
     ]
    }
   ],
   "source": [
    "results = model.evaluate(test_dataset_all, batch_size=32)\n",
    "print(results)"
   ]
  },
  {
   "cell_type": "code",
   "execution_count": 44,
   "id": "8fd1cef7",
   "metadata": {},
   "outputs": [],
   "source": [
    "cm_list = [[194, 240], [90, 779]]"
   ]
  },
  {
   "cell_type": "code",
   "execution_count": 55,
   "id": "068cfbc3",
   "metadata": {},
   "outputs": [
    {
     "data": {
      "image/png": "[encoded data removed]",
      "text/plain": [
       "<Figure size 720x720 with 2 Axes>"
      ]
     },
     "metadata": {
      "needs_background": "light"
     },
     "output_type": "display_data"
    }
   ],
   "source": [
    "import seaborn as sns\n",
    "from sklearn.metrics import confusion_matrix\n",
    "cm = pd.DataFrame(cm_list, range(2),range(2))\n",
    "plt.figure(figsize = (10,10))\n",
    "\n",
    "s = sns.heatmap(cm, annot=True, annot_kws={\"size\": 12}, fmt='g',\n",
    "           xticklabels=['Fake','Real'], yticklabels=['Fake', 'Real'])\n",
    "s.set(xlabel='Predicted labels', ylabel = 'True labels')\n",
    "plt.show()"
   ]
  },
  {
   "cell_type": "code",
   "execution_count": 59,
   "id": "05e5d954",
   "metadata": {},
   "outputs": [
    {
     "name": "stdout",
     "output_type": "stream",
     "text": [
      "0.4470046082949309 0.6830985915492958 0.5403899721448467\n"
     ]
    }
   ],
   "source": [
    "precision_fake = 194/(194+240)\n",
    "recall_fake = 194/(194+90)\n",
    "f1_fake = (2*precision_fake*recall_fake)/(precision_fake+recall_fake)\n",
    "print(precision_fake, recall_fake, f1_fake)"
   ]
  },
  {
   "cell_type": "code",
   "execution_count": 62,
   "id": "cb3aeb3d",
   "metadata": {},
   "outputs": [
    {
     "name": "stdout",
     "output_type": "stream",
     "text": [
      "0.8964326812428078 0.7644749754661433 0.8252118644067797\n"
     ]
    }
   ],
   "source": [
    "precision_real = 779/(779+90)\n",
    "recall_real = 779/(779+240)\n",
    "f1_real = (2*precision_real*recall_real)/(precision_real+recall_real)\n",
    "print(precision_real, recall_real, f1_real)"
   ]
  },
  {
   "cell_type": "code",
   "execution_count": 66,
   "id": "7a0cd6b0",
   "metadata": {},
   "outputs": [
    {
     "name": "stdout",
     "output_type": "stream",
     "text": [
      "0.6828009182758132\n"
     ]
    }
   ],
   "source": [
    "print(np.mean([f1_fake,f1_real]))"
   ]
  },
  {
   "cell_type": "code",
   "execution_count": null,
   "id": "47e87cbc",
   "metadata": {},
   "outputs": [],
   "source": []
  }
 ],
 "metadata": {
  "kernelspec": {
   "display_name": "Python 3",
   "language": "python",
   "name": "python3"
  },
  "language_info": {
   "codemirror_mode": {
    "name": "ipython",
    "version": 3
   },
   "file_extension": ".py",
   "mimetype": "text/x-python",
   "name": "python",
   "nbconvert_exporter": "python",
   "pygments_lexer": "ipython3",
   "version": "3.8.8"
  }
 },
 "nbformat": 4,
 "nbformat_minor": 5
}
