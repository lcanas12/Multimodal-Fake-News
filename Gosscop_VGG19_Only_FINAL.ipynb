{
 "cells": [
  {
   "cell_type": "code",
   "execution_count": 1,
   "id": "8eb43939",
   "metadata": {},
   "outputs": [],
   "source": [
    "import pandas as pd\n",
    "import sklearn\n",
    "import numpy as np\n",
    "import os\n",
    "from pathlib import Path\n",
    "from sklearn.model_selection import train_test_split\n",
    "import torch\n",
    "from datasets import load_dataset\n",
    "import tensorflow as tf\n",
    "import tensorflow_addons as tfa\n",
    "import gc\n",
    "\n",
    "from keras import optimizers\n",
    "import matplotlib.pyplot as plt\n",
    "from keras import initializers\n",
    "from keras.utils import np_utils\n",
    "from keras import regularizers\n",
    "from keras.models import Sequential, Model\n",
    "from keras.callbacks import ModelCheckpoint\n",
    "from keras.layers import concatenate\n",
    "from keras.layers import Dense, Flatten, Dropout, Input, BatchNormalization, ReLU\n",
    "from keras.layers import LSTM, Bidirectional\n",
    "import pickle\n",
    "from sklearn.metrics import confusion_matrix\n",
    "from sklearn.metrics import classification_report, accuracy_score\n",
    "\n",
    "\n",
    "import keras\n",
    "\n",
    "import matplotlib.pyplot as plt\n",
    "%matplotlib inline"
   ]
  },
  {
   "cell_type": "code",
   "execution_count": 2,
   "id": "71be2295",
   "metadata": {},
   "outputs": [],
   "source": [
    "df_goss_train = pd.read_pickle('../../Dissertation - Fake News/Embeddings/df_train_vgg19.pkl')\n",
    "df_goss_val = pd.read_pickle('../../Dissertation - Fake News/Embeddings/df_val_vgg19.pkl')\n",
    "df_goss_test = pd.read_pickle('../../Dissertation - Fake News/Embeddings/df_test_vgg19.pkl')"
   ]
  },
  {
   "cell_type": "code",
   "execution_count": 3,
   "id": "6c51d2c4",
   "metadata": {},
   "outputs": [
    {
     "data": {
      "text/html": [
       "<div>\n",
       "<style scoped>\n",
       "    .dataframe tbody tr th:only-of-type {\n",
       "        vertical-align: middle;\n",
       "    }\n",
       "\n",
       "    .dataframe tbody tr th {\n",
       "        vertical-align: top;\n",
       "    }\n",
       "\n",
       "    .dataframe thead th {\n",
       "        text-align: right;\n",
       "    }\n",
       "</style>\n",
       "<table border=\"1\" class=\"dataframe\">\n",
       "  <thead>\n",
       "    <tr style=\"text-align: right;\">\n",
       "      <th></th>\n",
       "      <th>img_features</th>\n",
       "      <th>label</th>\n",
       "      <th>idx</th>\n",
       "    </tr>\n",
       "  </thead>\n",
       "  <tbody>\n",
       "    <tr>\n",
       "      <th>1902</th>\n",
       "      <td>[[[[ 0.          0.          0.          0.   ...</td>\n",
       "      <td>0</td>\n",
       "      <td>1934</td>\n",
       "    </tr>\n",
       "    <tr>\n",
       "      <th>1386</th>\n",
       "      <td>[[[[0.0000000e+00 0.0000000e+00 0.0000000e+00 ...</td>\n",
       "      <td>0</td>\n",
       "      <td>1408</td>\n",
       "    </tr>\n",
       "    <tr>\n",
       "      <th>2539</th>\n",
       "      <td>[[[[ 0.          0.          0.          0.   ...</td>\n",
       "      <td>0</td>\n",
       "      <td>2589</td>\n",
       "    </tr>\n",
       "    <tr>\n",
       "      <th>5649</th>\n",
       "      <td>[[[[0.00000000e+00 0.00000000e+00 0.00000000e+...</td>\n",
       "      <td>1</td>\n",
       "      <td>5778</td>\n",
       "    </tr>\n",
       "    <tr>\n",
       "      <th>2869</th>\n",
       "      <td>[[[[ 0.          0.          0.          0.   ...</td>\n",
       "      <td>0</td>\n",
       "      <td>2922</td>\n",
       "    </tr>\n",
       "  </tbody>\n",
       "</table>\n",
       "</div>"
      ],
      "text/plain": [
       "                                           img_features  label   idx\n",
       "1902  [[[[ 0.          0.          0.          0.   ...      0  1934\n",
       "1386  [[[[0.0000000e+00 0.0000000e+00 0.0000000e+00 ...      0  1408\n",
       "2539  [[[[ 0.          0.          0.          0.   ...      0  2589\n",
       "5649  [[[[0.00000000e+00 0.00000000e+00 0.00000000e+...      1  5778\n",
       "2869  [[[[ 0.          0.          0.          0.   ...      0  2922"
      ]
     },
     "execution_count": 3,
     "metadata": {},
     "output_type": "execute_result"
    }
   ],
   "source": [
    "df_goss_train.head()"
   ]
  },
  {
   "cell_type": "code",
   "execution_count": 4,
   "id": "97a2a8a1",
   "metadata": {},
   "outputs": [],
   "source": [
    "def label_change(df):\n",
    "    if df['label'] == 0: return 1\n",
    "    else: return 0"
   ]
  },
  {
   "cell_type": "code",
   "execution_count": 5,
   "id": "7c9b52ff",
   "metadata": {},
   "outputs": [
    {
     "data": {
      "text/html": [
       "<div>\n",
       "<style scoped>\n",
       "    .dataframe tbody tr th:only-of-type {\n",
       "        vertical-align: middle;\n",
       "    }\n",
       "\n",
       "    .dataframe tbody tr th {\n",
       "        vertical-align: top;\n",
       "    }\n",
       "\n",
       "    .dataframe thead th {\n",
       "        text-align: right;\n",
       "    }\n",
       "</style>\n",
       "<table border=\"1\" class=\"dataframe\">\n",
       "  <thead>\n",
       "    <tr style=\"text-align: right;\">\n",
       "      <th></th>\n",
       "      <th>img_features</th>\n",
       "      <th>label</th>\n",
       "      <th>idx</th>\n",
       "      <th>target</th>\n",
       "    </tr>\n",
       "  </thead>\n",
       "  <tbody>\n",
       "    <tr>\n",
       "      <th>1902</th>\n",
       "      <td>[[[[ 0.          0.          0.          0.   ...</td>\n",
       "      <td>0</td>\n",
       "      <td>1934</td>\n",
       "      <td>1</td>\n",
       "    </tr>\n",
       "    <tr>\n",
       "      <th>1386</th>\n",
       "      <td>[[[[0.0000000e+00 0.0000000e+00 0.0000000e+00 ...</td>\n",
       "      <td>0</td>\n",
       "      <td>1408</td>\n",
       "      <td>1</td>\n",
       "    </tr>\n",
       "    <tr>\n",
       "      <th>2539</th>\n",
       "      <td>[[[[ 0.          0.          0.          0.   ...</td>\n",
       "      <td>0</td>\n",
       "      <td>2589</td>\n",
       "      <td>1</td>\n",
       "    </tr>\n",
       "    <tr>\n",
       "      <th>5649</th>\n",
       "      <td>[[[[0.00000000e+00 0.00000000e+00 0.00000000e+...</td>\n",
       "      <td>1</td>\n",
       "      <td>5778</td>\n",
       "      <td>0</td>\n",
       "    </tr>\n",
       "    <tr>\n",
       "      <th>2869</th>\n",
       "      <td>[[[[ 0.          0.          0.          0.   ...</td>\n",
       "      <td>0</td>\n",
       "      <td>2922</td>\n",
       "      <td>1</td>\n",
       "    </tr>\n",
       "  </tbody>\n",
       "</table>\n",
       "</div>"
      ],
      "text/plain": [
       "                                           img_features  label   idx  target\n",
       "1902  [[[[ 0.          0.          0.          0.   ...      0  1934       1\n",
       "1386  [[[[0.0000000e+00 0.0000000e+00 0.0000000e+00 ...      0  1408       1\n",
       "2539  [[[[ 0.          0.          0.          0.   ...      0  2589       1\n",
       "5649  [[[[0.00000000e+00 0.00000000e+00 0.00000000e+...      1  5778       0\n",
       "2869  [[[[ 0.          0.          0.          0.   ...      0  2922       1"
      ]
     },
     "execution_count": 5,
     "metadata": {},
     "output_type": "execute_result"
    }
   ],
   "source": [
    "df_goss_train['target'] = df_goss_train.apply(label_change, axis=1)\n",
    "df_goss_train.head()"
   ]
  },
  {
   "cell_type": "code",
   "execution_count": 6,
   "id": "ffd94fd1",
   "metadata": {},
   "outputs": [],
   "source": [
    "df_goss_val['target'] = df_goss_val.apply(label_change, axis=1)\n",
    "df_goss_test['target'] = df_goss_test.apply(label_change, axis=1)"
   ]
  },
  {
   "cell_type": "code",
   "execution_count": 7,
   "id": "84ec57ff",
   "metadata": {},
   "outputs": [
    {
     "name": "stdout",
     "output_type": "stream",
     "text": [
      "[0.64400494 2.2360515 ]\n"
     ]
    },
    {
     "name": "stderr",
     "output_type": "stream",
     "text": [
      "C:\\Users\\labca\\anaconda3\\lib\\site-packages\\sklearn\\utils\\validation.py:70: FutureWarning: Pass classes=[0 1], y=[0 0 0 ... 1 1 1] as keyword args. From version 1.0 (renaming of 0.25) passing these as positional arguments will result in an error\n",
      "  warnings.warn(f\"Pass {args_msg} as keyword args. From version \"\n"
     ]
    }
   ],
   "source": [
    "# Count samples per class: 0-real, 1-fake\n",
    "classes_zero = df_goss_train[df_goss_train['target'] == 0]\n",
    "classes_one = df_goss_train[df_goss_train['target'] == 1]\n",
    "\n",
    "# Convert parts into NumPy arrays for weight computation\n",
    "zero_numpy = classes_zero['target'].to_numpy()\n",
    "one_numpy = classes_one['target'].to_numpy()\n",
    "all_together = np.concatenate((zero_numpy, one_numpy))\n",
    "unique_classes = np.unique(all_together)\n",
    "\n",
    "# Compute weights\n",
    "weights = sklearn.utils.class_weight.compute_class_weight('balanced', unique_classes, all_together)\n",
    "print(weights)"
   ]
  },
  {
   "cell_type": "code",
   "execution_count": 8,
   "id": "9222804e",
   "metadata": {},
   "outputs": [
    {
     "data": {
      "text/plain": [
       "{0: 0.6440049443757726, 1: 2.236051502145923}"
      ]
     },
     "execution_count": 8,
     "metadata": {},
     "output_type": "execute_result"
    }
   ],
   "source": [
    "weights_ker = {i : weights[i] for i in range(2)}\n",
    "weights_ker"
   ]
  },
  {
   "cell_type": "code",
   "execution_count": 9,
   "id": "fedaae25",
   "metadata": {},
   "outputs": [
    {
     "data": {
      "text/plain": [
       "(10420, 1, 7, 7, 512)"
      ]
     },
     "execution_count": 9,
     "metadata": {},
     "output_type": "execute_result"
    }
   ],
   "source": [
    "array_train = df_goss_train[[\"img_features\",\"target\"]].to_numpy() \n",
    "X_train = np.array(array_train[:,0].tolist())\n",
    "X_train.shape"
   ]
  },
  {
   "cell_type": "code",
   "execution_count": 10,
   "id": "b9b2b545",
   "metadata": {},
   "outputs": [
    {
     "data": {
      "text/plain": [
       "(10420, 7, 7, 512)"
      ]
     },
     "execution_count": 10,
     "metadata": {},
     "output_type": "execute_result"
    }
   ],
   "source": [
    "X_train = np.squeeze(X_train, 1)\n",
    "X_train.shape"
   ]
  },
  {
   "cell_type": "code",
   "execution_count": 11,
   "id": "c524a0b3",
   "metadata": {},
   "outputs": [
    {
     "data": {
      "text/plain": [
       "(10420,)"
      ]
     },
     "execution_count": 11,
     "metadata": {},
     "output_type": "execute_result"
    }
   ],
   "source": [
    "y_label = np.array(array_train[:,1].tolist())\n",
    "y_label.shape"
   ]
  },
  {
   "cell_type": "code",
   "execution_count": 12,
   "id": "248a00ef",
   "metadata": {},
   "outputs": [],
   "source": [
    "array_val = df_goss_val[[\"img_features\",\"target\"]].to_numpy() \n",
    "X_val = np.array(array_val[:,0].tolist())\n",
    "X_val = np.squeeze(X_val, 1)\n",
    "y_val_label = np.array(array_val[:,1].tolist())\n",
    "\n",
    "array_test = df_goss_test[[\"img_features\",\"target\"]].to_numpy() \n",
    "X_test = np.array(array_test[:,0].tolist())\n",
    "X_test = np.squeeze(X_test, 1)\n",
    "y_test_label = np.array(array_test[:,1].tolist())"
   ]
  },
  {
   "cell_type": "code",
   "execution_count": 13,
   "id": "036c42e4",
   "metadata": {},
   "outputs": [],
   "source": [
    "def reset_tensorflow_keras_backend():\n",
    "    keras.backend.clear_session()\n",
    "    tf.compat.v1.reset_default_graph()\n",
    "    _ = gc.collect()"
   ]
  },
  {
   "cell_type": "code",
   "execution_count": 14,
   "id": "4845b495",
   "metadata": {},
   "outputs": [],
   "source": [
    "def reinitialize(model):\n",
    "    for l in model.layers:\n",
    "        if hasattr(l,\"kernel_initializer\"):\n",
    "            l.kernel.assign(l.kernel_initializer(tf.shape(l.kernel)))\n",
    "        if hasattr(l,\"bias_initializer\"):\n",
    "            l.bias.assign(l.bias_initializer(tf.shape(l.bias)))\n",
    "        if hasattr(l,\"recurrent_initializer\"):\n",
    "            l.recurrent_kernel.assign(l.recurrent_initializer(tf.shape(l.recurrent_kernel)))"
   ]
  },
  {
   "cell_type": "code",
   "execution_count": 15,
   "id": "7d159b5d",
   "metadata": {},
   "outputs": [],
   "source": [
    "adam = optimizers.Adam(learning_rate=1e-4)\n",
    "callback = tf.keras.callbacks.EarlyStopping(monitor='val_loss', patience=3, restore_best_weights=True)"
   ]
  },
  {
   "cell_type": "code",
   "execution_count": 16,
   "id": "b3e62209",
   "metadata": {},
   "outputs": [],
   "source": [
    "input_img = Input(shape=(7, 7, 512))\n",
    "img_flat = Flatten()(input_img)\n",
    "img_dense = Dense(1024, activation='relu', kernel_regularizer=regularizers.l2(0.05),\\\n",
    "                kernel_initializer=initializers.he_normal(seed=0))(img_flat)\n",
    "dropout_img = Dropout(0.2)(img_dense)\n",
    "img_dense = Dense(512, activation='relu', kernel_regularizer=regularizers.l2(0.01),\\\n",
    "                kernel_initializer=initializers.he_normal(seed=0))(dropout_img)\n",
    "img_dense = Dense(128, activation='relu', kernel_regularizer=regularizers.l2(0.01),\\\n",
    "                kernel_initializer=initializers.he_normal(seed=0))(img_dense)\n",
    "output = Dense(1, activation='sigmoid')(img_dense)\n",
    "model = Model(inputs=input_img, outputs=output)\n",
    "model.compile(loss='binary_crossentropy', optimizer=adam, metrics='accuracy')"
   ]
  },
  {
   "cell_type": "code",
   "execution_count": 17,
   "id": "109b7623",
   "metadata": {},
   "outputs": [
    {
     "name": "stdout",
     "output_type": "stream",
     "text": [
      "Model: \"model\"\n",
      "_________________________________________________________________\n",
      " Layer (type)                Output Shape              Param #   \n",
      "=================================================================\n",
      " input_1 (InputLayer)        [(None, 7, 7, 512)]       0         \n",
      "                                                                 \n",
      " flatten (Flatten)           (None, 25088)             0         \n",
      "                                                                 \n",
      " dense (Dense)               (None, 1024)              25691136  \n",
      "                                                                 \n",
      " dropout (Dropout)           (None, 1024)              0         \n",
      "                                                                 \n",
      " dense_1 (Dense)             (None, 512)               524800    \n",
      "                                                                 \n",
      " dense_2 (Dense)             (None, 128)               65664     \n",
      "                                                                 \n",
      " dense_3 (Dense)             (None, 1)                 129       \n",
      "                                                                 \n",
      "=================================================================\n",
      "Total params: 26,281,729\n",
      "Trainable params: 26,281,729\n",
      "Non-trainable params: 0\n",
      "_________________________________________________________________\n"
     ]
    }
   ],
   "source": [
    "model.summary()"
   ]
  },
  {
   "cell_type": "code",
   "execution_count": 18,
   "id": "74044f1f",
   "metadata": {},
   "outputs": [],
   "source": [
    "def run_model(X_train, train_label, X_val, val_label, X_test, test_label, batch_size=32,epochs=100, verbose=1, class_weight=weights_ker, \\\n",
    "              itr=30, shuffle=True):\n",
    "    \n",
    "    adam = optimizers.Adam(learning_rate=1e-4)\n",
    "    callback = tf.keras.callbacks.EarlyStopping(monitor='val_loss', patience=3, restore_best_weights=True)\n",
    "    \n",
    "    real_precision_list = []\n",
    "    real_recall_list = []\n",
    "    real_f1_list = []\n",
    "    fake_precision_list = []\n",
    "    fake_recall_list = []\n",
    "    fake_f1_list = []\n",
    "    \n",
    "    macro_precision_list = []\n",
    "    macro_recall_list = []\n",
    "    macro_f1_list = []\n",
    "    accuracy_list = []\n",
    "    num_epochs = []\n",
    "\n",
    "    #Define model\n",
    "    input_img = Input(shape=(7, 7, 512))\n",
    "    img_flat = Flatten()(input_img)\n",
    "    dense_img = Dense(1024, activation='relu', kernel_regularizer=regularizers.l2(0.05),\\\n",
    "                kernel_initializer=initializers.he_normal(seed=0))(img_flat)\n",
    "    dropout_img = Dropout(0.2)(dense_img)\n",
    "    dense_img = Dense(512, activation='relu', kernel_regularizer=regularizers.l2(0.01),\\\n",
    "                kernel_initializer=initializers.he_normal(seed=0))(dropout_img)\n",
    "    dense_img = Dense(128, activation='relu', kernel_regularizer=regularizers.l2(0.01),\\\n",
    "                kernel_initializer=initializers.he_normal(seed=0))(dense_img)\n",
    "    output = Dense(1, activation='sigmoid')(dense_img)\n",
    "    model = Model(inputs=input_img, outputs=output)\n",
    "    model.compile(loss='binary_crossentropy', optimizer=adam, metrics='accuracy')\n",
    "        \n",
    "    for i in range(0,itr):\n",
    "        print(\"\\nTraining for iteration number: \", i)\n",
    "        reset_tensorflow_keras_backend()\n",
    "        reinitialize(model)\n",
    "        history = model.fit(X_train, train_label, validation_data=(X_val, val_label), batch_size=batch_size,epochs=epochs,\n",
    "                            callbacks=[callback], verbose=verbose, class_weight=class_weight, shuffle=shuffle)\n",
    "        \n",
    "        y_pred = model.predict(X_test)\n",
    "        predictions = list(map(lambda x: 0 if x<0.5 else 1, y_pred))\n",
    "        \n",
    "        report = classification_report(y_test_label, predictions, target_names=['real','fake'], output_dict=True)\n",
    "        real_precision = report['real']['precision'] \n",
    "        real_recall = report['real']['recall'] \n",
    "        real_f1 = report['real']['f1-score'] \n",
    "        fake_precision = report['fake']['precision'] \n",
    "        fake_recall = report['fake']['recall'] \n",
    "        fake_f1 = report['fake']['f1-score'] \n",
    "        \n",
    "        macro_precision =  report['macro avg']['precision'] \n",
    "        macro_recall = report['macro avg']['recall']    \n",
    "        macro_f1 = report['macro avg']['f1-score']\n",
    "        accuracy = report['accuracy']\n",
    "\n",
    "        real_precision_list.append(real_precision)\n",
    "        real_recall_list.append(real_recall)\n",
    "        real_f1_list.append(real_f1)\n",
    "        fake_precision_list.append(fake_precision)\n",
    "        fake_recall_list.append(fake_recall)\n",
    "        fake_f1_list.append(fake_f1)\n",
    "        \n",
    "        macro_precision_list.append(macro_precision)\n",
    "        macro_recall_list.append(macro_recall)\n",
    "        macro_f1_list.append(macro_f1)\n",
    "        accuracy_list.append(accuracy)\n",
    "        num_epochs.append(len(history.history['loss']))\n",
    "        \n",
    "        \n",
    "    mean_real_precision = np.mean(real_precision_list)\n",
    "    mean_real_recall = np.mean(real_recall_list)\n",
    "    mean_real_f1 = np.mean(real_f1_list)\n",
    "    mean_fake_precision = np.mean(fake_precision_list)\n",
    "    mean_fake_recall= np.mean(fake_recall_list)\n",
    "    mean_fake_f1 = np.mean(fake_f1_list)\n",
    "    \n",
    "    mean_macro_precision = np.mean(macro_precision_list)\n",
    "    mean_macro_recall = np.mean(macro_recall)\n",
    "    mean_macro_f1 = np.mean(macro_f1_list)\n",
    "    mean_accuracy = np.mean(accuracy_list)\n",
    "    mean_epoch = np.mean(num_epochs)\n",
    "    \n",
    "    std_real_precision = np.std(real_precision_list)\n",
    "    std_real_recall = np.std(real_recall_list)\n",
    "    std_real_f1 = np.std(real_f1_list)\n",
    "    std_fake_precision = np.std(fake_precision_list)\n",
    "    std_fake_recall= np.std(fake_recall_list)\n",
    "    std_fake_f1 = np.std(fake_f1_list)\n",
    "    \n",
    "    std_macro_precision = np.std(macro_precision_list)\n",
    "    std_macro_recall = np.std(macro_recall)\n",
    "    std_macro_f1 = np.std(macro_f1_list)\n",
    "    std_accuracy = np.std(accuracy_list)\n",
    "\n",
    "    print(\"The average real precision : \", mean_real_precision)\n",
    "    print(\"The average real recall: \", mean_real_recall)\n",
    "    print(\"The average real f1: \", mean_real_f1)\n",
    "    print(\"The average fake precision : \", mean_fake_precision)\n",
    "    print(\"The average fake recall: \", mean_fake_recall)\n",
    "    print(\"The average fake f1: \", mean_fake_f1)\n",
    "    print(\"The average macro precision: \", mean_macro_precision)\n",
    "    print(\"The average macro recall: \", mean_macro_recall)\n",
    "    print(\"The average macro_f1: \", mean_macro_f1)\n",
    "    print(\"The average macro accuracy: \", mean_accuracy)\n",
    "    \n",
    "    print(\"The standard deviation on real precision : \", std_real_precision)\n",
    "    print(\"The standard deviation on real recall: \", std_real_recall)\n",
    "    print(\"The standard deviation on real f1: \", std_real_f1)\n",
    "    print(\"The standard deviation on fake precision : \", std_fake_precision)\n",
    "    print(\"The standard deviation on fake recall: \", std_fake_recall)\n",
    "    print(\"The standard deviation on macro precision: \", std_macro_precision)\n",
    "    print(\"The standard deviation on macro recall: \", std_macro_recall)\n",
    "    print(\"The standard deviation on macro_f1: \", std_macro_f1)\n",
    "    print(\"The standard deviation on macro accuracy: \", std_accuracy)\n",
    "    print(\"Average number of epochs\", mean_epoch)\n",
    "    \n",
    "    return real_precision_list, real_recall_list, real_f1_list, fake_precision_list, fake_recall_list, fake_f1_list,\\\n",
    "    macro_precision_list, macro_recall_list, macro_f1_list, accuracy_list"
   ]
  },
  {
   "cell_type": "code",
   "execution_count": 19,
   "id": "b4a42ef1",
   "metadata": {},
   "outputs": [
    {
     "name": "stdout",
     "output_type": "stream",
     "text": [
      "Epoch 1/100\n",
      "326/326 [==============================] - 6s 14ms/step - loss: 85.6920 - accuracy: 0.5417 - val_loss: 65.0712 - val_accuracy: 0.6086\n",
      "Epoch 2/100\n",
      "326/326 [==============================] - 4s 13ms/step - loss: 51.1716 - accuracy: 0.7397 - val_loss: 39.8099 - val_accuracy: 0.7183\n",
      "Epoch 3/100\n",
      "326/326 [==============================] - 4s 12ms/step - loss: 31.7169 - accuracy: 0.8394 - val_loss: 25.6047 - val_accuracy: 0.7360\n",
      "Epoch 4/100\n",
      "326/326 [==============================] - 4s 12ms/step - loss: 20.8834 - accuracy: 0.8679 - val_loss: 17.7363 - val_accuracy: 0.6769\n",
      "Epoch 5/100\n",
      "326/326 [==============================] - 4s 12ms/step - loss: 14.7942 - accuracy: 0.8564 - val_loss: 13.1581 - val_accuracy: 0.7038\n",
      "Epoch 6/100\n",
      "326/326 [==============================] - 4s 13ms/step - loss: 11.1714 - accuracy: 0.8694 - val_loss: 10.2419 - val_accuracy: 0.7613\n",
      "Epoch 7/100\n",
      "326/326 [==============================] - 4s 12ms/step - loss: 8.7931 - accuracy: 0.8756 - val_loss: 8.3373 - val_accuracy: 0.7437\n",
      "Epoch 8/100\n",
      "326/326 [==============================] - 4s 12ms/step - loss: 7.1848 - accuracy: 0.8760 - val_loss: 7.0222 - val_accuracy: 0.7299\n",
      "Epoch 9/100\n",
      "326/326 [==============================] - 4s 13ms/step - loss: 6.0192 - accuracy: 0.8734 - val_loss: 5.9411 - val_accuracy: 0.7475\n",
      "Epoch 10/100\n",
      "326/326 [==============================] - 4s 13ms/step - loss: 5.0565 - accuracy: 0.8849 - val_loss: 5.1235 - val_accuracy: 0.7015\n",
      "Epoch 11/100\n",
      "326/326 [==============================] - 4s 13ms/step - loss: 4.2641 - accuracy: 0.8988 - val_loss: 4.4636 - val_accuracy: 0.6769\n",
      "Epoch 12/100\n",
      "326/326 [==============================] - 4s 13ms/step - loss: 3.6912 - accuracy: 0.8956 - val_loss: 4.0636 - val_accuracy: 0.6178\n",
      "Epoch 13/100\n",
      "326/326 [==============================] - 4s 13ms/step - loss: 3.1823 - accuracy: 0.9041 - val_loss: 3.4247 - val_accuracy: 0.7222\n",
      "Epoch 14/100\n",
      "326/326 [==============================] - 4s 14ms/step - loss: 2.7625 - accuracy: 0.9093 - val_loss: 3.0700 - val_accuracy: 0.7506\n",
      "Epoch 15/100\n",
      "326/326 [==============================] - 4s 13ms/step - loss: 2.3425 - accuracy: 0.9271 - val_loss: 2.7573 - val_accuracy: 0.7306\n",
      "Epoch 16/100\n",
      "326/326 [==============================] - 4s 13ms/step - loss: 2.0308 - accuracy: 0.9311 - val_loss: 2.4834 - val_accuracy: 0.6907\n",
      "Epoch 17/100\n",
      "326/326 [==============================] - 4s 13ms/step - loss: 1.7744 - accuracy: 0.9383 - val_loss: 2.2007 - val_accuracy: 0.7629\n",
      "Epoch 18/100\n",
      "326/326 [==============================] - 4s 13ms/step - loss: 1.5566 - accuracy: 0.9416 - val_loss: 2.0762 - val_accuracy: 0.6907\n",
      "Epoch 19/100\n",
      "326/326 [==============================] - 4s 13ms/step - loss: 1.3840 - accuracy: 0.9446 - val_loss: 2.0359 - val_accuracy: 0.6969\n",
      "Epoch 20/100\n",
      "326/326 [==============================] - 4s 13ms/step - loss: 1.2169 - accuracy: 0.9477 - val_loss: 1.7985 - val_accuracy: 0.7114\n",
      "Epoch 21/100\n",
      "326/326 [==============================] - 4s 13ms/step - loss: 1.1014 - accuracy: 0.9480 - val_loss: 1.6352 - val_accuracy: 0.7429\n",
      "Epoch 22/100\n",
      "326/326 [==============================] - 4s 13ms/step - loss: 0.9883 - accuracy: 0.9526 - val_loss: 1.6328 - val_accuracy: 0.7114\n",
      "Epoch 23/100\n",
      "326/326 [==============================] - 4s 13ms/step - loss: 0.9093 - accuracy: 0.9557 - val_loss: 1.6059 - val_accuracy: 0.7137\n",
      "Epoch 24/100\n",
      "326/326 [==============================] - 4s 13ms/step - loss: 0.8481 - accuracy: 0.9536 - val_loss: 1.5660 - val_accuracy: 0.6869\n",
      "Epoch 25/100\n",
      "326/326 [==============================] - 4s 13ms/step - loss: 0.7910 - accuracy: 0.9552 - val_loss: 1.3979 - val_accuracy: 0.7375\n",
      "Epoch 26/100\n",
      "326/326 [==============================] - 4s 13ms/step - loss: 0.7558 - accuracy: 0.9556 - val_loss: 1.4572 - val_accuracy: 0.6708\n",
      "Epoch 27/100\n",
      "326/326 [==============================] - 4s 13ms/step - loss: 0.6980 - accuracy: 0.9572 - val_loss: 1.2482 - val_accuracy: 0.7252\n",
      "Epoch 28/100\n",
      "326/326 [==============================] - 4s 13ms/step - loss: 0.6698 - accuracy: 0.9576 - val_loss: 1.2684 - val_accuracy: 0.7337\n",
      "Epoch 29/100\n",
      "326/326 [==============================] - 4s 13ms/step - loss: 0.6419 - accuracy: 0.9542 - val_loss: 1.3941 - val_accuracy: 0.6662\n",
      "Epoch 30/100\n",
      "326/326 [==============================] - 4s 13ms/step - loss: 0.6078 - accuracy: 0.9534 - val_loss: 1.3122 - val_accuracy: 0.6761\n"
     ]
    }
   ],
   "source": [
    "history = model.fit(X_train, y_label, validation_data=(X_val, y_val_label), batch_size=32,epochs=100,\\\n",
    "                            callbacks=[callback], verbose=1, class_weight=weights_ker, shuffle=True)"
   ]
  },
  {
   "cell_type": "code",
   "execution_count": 20,
   "id": "5b0e2910",
   "metadata": {},
   "outputs": [
    {
     "name": "stdout",
     "output_type": "stream",
     "text": [
      "\n",
      "Training for iteration number:  0\n",
      "41/41 [==============================] - 0s 2ms/step\n",
      "\n",
      "Training for iteration number:  1\n",
      "41/41 [==============================] - 0s 2ms/step\n",
      "\n",
      "Training for iteration number:  2\n",
      "41/41 [==============================] - 0s 2ms/step\n",
      "\n",
      "Training for iteration number:  3\n",
      "41/41 [==============================] - 0s 2ms/step\n",
      "\n",
      "Training for iteration number:  4\n",
      "41/41 [==============================] - 0s 2ms/step\n",
      "\n",
      "Training for iteration number:  5\n",
      "41/41 [==============================] - 0s 2ms/step\n",
      "\n",
      "Training for iteration number:  6\n",
      "41/41 [==============================] - 0s 2ms/step\n",
      "\n",
      "Training for iteration number:  7\n",
      "41/41 [==============================] - 0s 2ms/step\n",
      "\n",
      "Training for iteration number:  8\n",
      "41/41 [==============================] - 0s 2ms/step\n",
      "\n",
      "Training for iteration number:  9\n",
      "41/41 [==============================] - 0s 2ms/step\n",
      "\n",
      "Training for iteration number:  10\n",
      "41/41 [==============================] - 0s 2ms/step\n",
      "\n",
      "Training for iteration number:  11\n",
      "41/41 [==============================] - 0s 2ms/step\n",
      "\n",
      "Training for iteration number:  12\n",
      "41/41 [==============================] - 0s 2ms/step\n",
      "\n",
      "Training for iteration number:  13\n",
      "41/41 [==============================] - 0s 2ms/step\n",
      "\n",
      "Training for iteration number:  14\n",
      "41/41 [==============================] - 0s 2ms/step\n",
      "\n",
      "Training for iteration number:  15\n",
      "41/41 [==============================] - 0s 2ms/step\n",
      "\n",
      "Training for iteration number:  16\n",
      "41/41 [==============================] - 0s 2ms/step\n",
      "\n",
      "Training for iteration number:  17\n",
      "41/41 [==============================] - 0s 2ms/step\n",
      "\n",
      "Training for iteration number:  18\n",
      "41/41 [==============================] - 0s 2ms/step\n",
      "\n",
      "Training for iteration number:  19\n",
      "41/41 [==============================] - 0s 2ms/step\n",
      "\n",
      "Training for iteration number:  20\n",
      "41/41 [==============================] - 0s 2ms/step\n",
      "\n",
      "Training for iteration number:  21\n",
      "41/41 [==============================] - 0s 2ms/step\n",
      "\n",
      "Training for iteration number:  22\n",
      "41/41 [==============================] - 0s 2ms/step\n",
      "\n",
      "Training for iteration number:  23\n",
      "41/41 [==============================] - 0s 2ms/step\n",
      "\n",
      "Training for iteration number:  24\n",
      "41/41 [==============================] - 0s 2ms/step\n",
      "\n",
      "Training for iteration number:  25\n",
      "41/41 [==============================] - 0s 2ms/step\n",
      "\n",
      "Training for iteration number:  26\n",
      "41/41 [==============================] - 0s 2ms/step\n",
      "\n",
      "Training for iteration number:  27\n",
      "41/41 [==============================] - 0s 2ms/step\n",
      "\n",
      "Training for iteration number:  28\n",
      "41/41 [==============================] - 0s 2ms/step\n",
      "\n",
      "Training for iteration number:  29\n",
      "41/41 [==============================] - 0s 2ms/step\n",
      "The average real precision :  0.8072897188729383\n",
      "The average real recall:  0.8364736669937848\n",
      "The average real f1:  0.8212402689084313\n",
      "The average fake precision :  0.3262648134818219\n",
      "The average fake recall:  0.2827464788732394\n",
      "The average fake f1:  0.3003936075352388\n",
      "The average macro precision:  0.5667772661773801\n",
      "The average macro recall:  0.5709944159559911\n",
      "The average macro_f1:  0.5608169382218351\n",
      "The average macro accuracy:  0.7157840880020466\n",
      "The standard deviation on real precision :  0.0066798165220264384\n",
      "The standard deviation on real recall:  0.03228788112584372\n",
      "The standard deviation on real f1:  0.014391088297915598\n",
      "The standard deviation on fake precision :  0.023266446978278045\n",
      "The standard deviation on fake recall:  0.05026010175549973\n",
      "The standard deviation on macro precision:  0.013913481716173483\n",
      "The standard deviation on macro recall:  0.0\n",
      "The standard deviation on macro_f1:  0.014800163990242825\n",
      "The standard deviation on macro accuracy:  0.017137260533150168\n",
      "Average number of epochs 31.666666666666668\n"
     ]
    }
   ],
   "source": [
    "real_precision, real_recall, real_f_score, fake_precision, fake_recall,\\\n",
    "fake_f1, macro_precision, macro_recall, macro_f1, accuracy = run_model(X_train, \\\n",
    "y_label, X_val, y_val_label, X_test, y_test_label, verbose=0, itr=30)"
   ]
  },
  {
   "cell_type": "code",
   "execution_count": 21,
   "id": "ba01a5d3",
   "metadata": {},
   "outputs": [
    {
     "name": "stdout",
     "output_type": "stream",
     "text": [
      "Real Precision:\n",
      "  [0.8045454545454546, 0.8051470588235294, 0.8147783251231527, 0.8102409638554217, 0.81640625, 0.8136125654450261, 0.8093457943925234, 0.8149284253578732, 0.8105646630236795, 0.8085714285714286, 0.8005415162454874, 0.8023715415019763, 0.7988929889298892, 0.8109452736318408, 0.7965779467680608, 0.800718132854578, 0.8027777777777778, 0.8073929961089494, 0.8149197355996223, 0.8050436469447139, 0.804496578690127, 0.8243243243243243, 0.8097014925373134, 0.7977332170880558, 0.8118433619866284, 0.7945566286215979, 0.8099173553719008, 0.8039585296889726, 0.8009090909090909, 0.8129285014691479]\n",
      "Real Recall:\n",
      "  [0.8684985279685966, 0.8596663395485771, 0.8115799803729146, 0.7919528949950932, 0.8204121687929342, 0.7625122669283612, 0.8498527968596663, 0.7821393523061825, 0.873405299313052, 0.8331697742885181, 0.8704612365063789, 0.7968596663395485, 0.8498527968596663, 0.7998037291462218, 0.8223748773307163, 0.8753680078508341, 0.8508341511285574, 0.8145240431795878, 0.8469087340529932, 0.8145240431795878, 0.8076545632973503, 0.8380765456329735, 0.8518155053974484, 0.8979391560353287, 0.8341511285574092, 0.888125613346418, 0.8655544651619235, 0.8370951913640824, 0.8645731108930323, 0.8145240431795878]\n",
      "Real F1-Score:\n",
      "  [0.8352996696554977, 0.8315140009492169, 0.8131760078662733, 0.8009925558312656, 0.8184043073910916, 0.7872340425531915, 0.82910483484921, 0.7981972959439159, 0.8408124704770903, 0.8206863218946351, 0.8340385519511049, 0.7996061053668143, 0.823585354255825, 0.8053359683794467, 0.809270883631096, 0.8363806844819504, 0.8261076703191996, 0.810942843185149, 0.8306063522617902, 0.8097560975609757, 0.8060724779627816, 0.8311435523114356, 0.8302247728359637, 0.8448753462603878, 0.8228460793804453, 0.8387395736793327, 0.8368121442125236, 0.8201923076923078, 0.8315243039169418, 0.8137254901960783]\n"
     ]
    }
   ],
   "source": [
    "print(\"Real Precision:\\n \", real_precision)\n",
    "print(\"Real Recall:\\n \", real_recall)\n",
    "print(\"Real F1-Score:\\n \",  real_f_score) "
   ]
  },
  {
   "cell_type": "code",
   "execution_count": 22,
   "id": "f989c849",
   "metadata": {},
   "outputs": [
    {
     "name": "stdout",
     "output_type": "stream",
     "text": [
      "Fake Precision:\n",
      "  [0.3399014778325123, 0.33488372093023255, 0.3333333333333333, 0.30944625407166126, 0.34408602150537637, 0.3045977011494253, 0.34334763948497854, 0.3169230769230769, 0.37073170731707317, 0.32806324110671936, 0.3230769230769231, 0.28865979381443296, 0.3013698630136986, 0.31543624161073824, 0.2788844621513944, 0.328042328042328, 0.3183856502242152, 0.31272727272727274, 0.36065573770491804, 0.30514705882352944, 0.3, 0.38202247191011235, 0.3463203463203463, 0.3333333333333333, 0.33984375, 0.3048780487804878, 0.3598130841121495, 0.3140495867768595, 0.32019704433497537, 0.32978723404255317]\n",
      "Fake Recall:\n",
      "  [0.24295774647887325, 0.2535211267605634, 0.3380281690140845, 0.3345070422535211, 0.3380281690140845, 0.3732394366197183, 0.28169014084507044, 0.3626760563380282, 0.2676056338028169, 0.29225352112676056, 0.22183098591549297, 0.29577464788732394, 0.2323943661971831, 0.33098591549295775, 0.24647887323943662, 0.21830985915492956, 0.25, 0.3028169014084507, 0.30985915492957744, 0.29225352112676056, 0.29577464788732394, 0.3591549295774648, 0.28169014084507044, 0.18309859154929578, 0.30633802816901406, 0.176056338028169, 0.2711267605633803, 0.2676056338028169, 0.22887323943661972, 0.3274647887323944]\n",
      "Fake F1-Score:\n",
      "  [0.2833675564681725, 0.28857715430861725, 0.3356643356643357, 0.3214890016920474, 0.3410301953818828, 0.33544303797468356, 0.30947775628626695, 0.3382594417077176, 0.3108384458077709, 0.3091247672253259, 0.2630480167014614, 0.2921739130434783, 0.26242544731610334, 0.32302405498281783, 0.2616822429906542, 0.2621564482029598, 0.28007889546351084, 0.30769230769230765, 0.3333333333333333, 0.2985611510791367, 0.2978723404255319, 0.3702359346642468, 0.31067961165048547, 0.23636363636363636, 0.32222222222222224, 0.2232142857142857, 0.3092369477911647, 0.2889733840304183, 0.2669404517453799, 0.3286219081272085]\n"
     ]
    }
   ],
   "source": [
    "print(\"Fake Precision:\\n \", fake_precision)\n",
    "print(\"Fake Recall:\\n \", fake_recall)\n",
    "print(\"Fake F1-Score:\\n \", fake_f1)"
   ]
  },
  {
   "cell_type": "code",
   "execution_count": 23,
   "id": "51d3102a",
   "metadata": {},
   "outputs": [
    {
     "name": "stdout",
     "output_type": "stream",
     "text": [
      "Macro Precision:\n",
      "  [0.5722234661889835, 0.5700153898768809, 0.574055829228243, 0.5598436089635415, 0.5802461357526882, 0.5591051332972257, 0.576346716938751, 0.565925751140475, 0.5906481851703763, 0.568317334839074, 0.5618092196612052, 0.5455156676582047, 0.550131425971794, 0.5631907576212896, 0.5377312044597276, 0.5643802304484531, 0.5605817140009965, 0.5600601344181111, 0.5877877366522701, 0.5550953528841216, 0.5522482893450635, 0.6031733981172184, 0.5780109194288299, 0.5655332752106945, 0.5758435559933142, 0.5497173387010429, 0.5848652197420252, 0.5590040582329161, 0.5605530676220332, 0.5713578677558505]\n",
      "Macro Recall:\n",
      "  [0.5557281372237349, 0.5565937331545703, 0.5748040746934995, 0.5632299686243072, 0.5792201689035094, 0.5678758517740398, 0.5657714688523684, 0.5724077043221053, 0.5705054665579344, 0.5627116477076394, 0.5461461112109359, 0.5463171571134362, 0.5411235815284247, 0.5653948223195897, 0.5344268752850765, 0.5468389335028818, 0.5504170755642788, 0.5586704722940192, 0.5783839444912853, 0.5533887821531742, 0.5517146055923371, 0.5986157376052191, 0.5667528231212594, 0.5405188737923122, 0.5702445783632116, 0.5320909756872936, 0.5683406128626519, 0.5523504125834496, 0.546723175164826, 0.5709944159559911]\n",
      "Macro F1-Score:\n",
      "  [0.5593336130618352, 0.560045577628917, 0.5744201717653045, 0.5612407787616565, 0.5797172513864872, 0.5613385402639375, 0.5692912955677385, 0.5682283688258167, 0.5758254581424306, 0.5649055445599804, 0.5485432843262832, 0.5458900092051463, 0.5430054007859642, 0.5641800116811322, 0.5354765633108751, 0.549268566342455, 0.5530932828913553, 0.5593175754387283, 0.5819698427975618, 0.5541586243200562, 0.5519724091941567, 0.6006897434878412, 0.5704521922432246, 0.5406194913120121, 0.5725341508013337, 0.5309769296968092, 0.5730245460018442, 0.5545828458613631, 0.5492323778311609, 0.5711736991616434]\n",
      "Accuracy Score:\n",
      "  [0.7321565617805065, 0.7275518035303147, 0.7083653108211819, 0.6922486569455104, 0.7152724481964697, 0.6776669224865695, 0.726016884113584, 0.6907137375287797, 0.7413660782808903, 0.7152724481964697, 0.7290867229470452, 0.6876438986953185, 0.7152724481964697, 0.6976208749040675, 0.6968534151957022, 0.7321565617805065, 0.7198772064466615, 0.7029930928626247, 0.7298541826554106, 0.7006907137375288, 0.6960859554873369, 0.7336914811972371, 0.7275518035303147, 0.7421335379892555, 0.7191097467382962, 0.7329240214888718, 0.735993860322333, 0.7129700690713737, 0.726016884113584, 0.7083653108211819]\n"
     ]
    }
   ],
   "source": [
    "print(\"Macro Precision:\\n \", macro_precision)\n",
    "print(\"Macro Recall:\\n \", macro_recall)\n",
    "print(\"Macro F1-Score:\\n \", macro_f1)\n",
    "print(\"Accuracy Score:\\n \", accuracy)"
   ]
  },
  {
   "cell_type": "code",
   "execution_count": 24,
   "id": "d0ee8741",
   "metadata": {},
   "outputs": [],
   "source": [
    "def plot_accuracy(history):\n",
    "    plt.plot(history.history['accuracy'])\n",
    "    plt.plot(history.history['val_accuracy'])\n",
    "    plt.title('Model accuracy')\n",
    "    plt.ylabel('Accuracy')\n",
    "    plt.xlabel('Epoch')\n",
    "    plt.legend(['Train', 'Test'], loc='upper left')\n",
    "    plt.show()"
   ]
  },
  {
   "cell_type": "code",
   "execution_count": 25,
   "id": "52cc355f",
   "metadata": {},
   "outputs": [],
   "source": [
    "def plot_loss(history):\n",
    "    plt.plot(history.history['loss'])\n",
    "    plt.plot(history.history['val_loss'])\n",
    "    plt.title('Model Loss')\n",
    "    plt.ylabel('Loss')\n",
    "    plt.xlabel('Epoch')\n",
    "    plt.legend(['Train', 'Test'], loc='upper left')\n",
    "    plt.show()"
   ]
  },
  {
   "cell_type": "code",
   "execution_count": 26,
   "id": "9824863d",
   "metadata": {},
   "outputs": [
    {
     "data": {
      "image/png": "[encoded data removed]",
      "text/plain": [
       "<Figure size 432x288 with 1 Axes>"
      ]
     },
     "metadata": {
      "needs_background": "light"
     },
     "output_type": "display_data"
    },
    {
     "data": {
      "image/png": "[encoded data removed]",
      "text/plain": [
       "<Figure size 432x288 with 1 Axes>"
      ]
     },
     "metadata": {
      "needs_background": "light"
     },
     "output_type": "display_data"
    }
   ],
   "source": [
    "model_text_plotacc = plot_accuracy(history)\n",
    "model_text_plotloss = plot_loss(history)"
   ]
  },
  {
   "cell_type": "code",
   "execution_count": null,
   "id": "f07ae6b4",
   "metadata": {},
   "outputs": [],
   "source": []
  }
 ],
 "metadata": {
  "kernelspec": {
   "display_name": "Python 3",
   "language": "python",
   "name": "python3"
  },
  "language_info": {
   "codemirror_mode": {
    "name": "ipython",
    "version": 3
   },
   "file_extension": ".py",
   "mimetype": "text/x-python",
   "name": "python",
   "nbconvert_exporter": "python",
   "pygments_lexer": "ipython3",
   "version": "3.8.8"
  }
 },
 "nbformat": 4,
 "nbformat_minor": 5
}
