{
 "cells": [
  {
   "cell_type": "code",
   "execution_count": 1,
   "id": "1ef8f1c1",
   "metadata": {},
   "outputs": [],
   "source": [
    "import pandas as pd\n",
    "import numpy as np\n",
    "import os\n",
    "from pathlib import Path\n",
    "from sklearn.model_selection import train_test_split\n",
    "import torch\n",
    "from datasets import load_dataset\n",
    "from transformers import BertModel, BertTokenizer\n",
    "import re"
   ]
  },
  {
   "cell_type": "code",
   "execution_count": 2,
   "id": "8c8ec3cc",
   "metadata": {},
   "outputs": [],
   "source": [
    "df_goss_raw = pd.read_csv(\"df_gosscop.csv\")"
   ]
  },
  {
   "cell_type": "code",
   "execution_count": 3,
   "id": "360d0364",
   "metadata": {},
   "outputs": [],
   "source": [
    "def clean_txt(text):\n",
    "    text = re.sub(\"'\", \"\",text)\n",
    "    text = re.sub(\"_\", \"\",text)\n",
    "    text=re.sub(\"(\\\\W)+\",\" \",text)    \n",
    "    return text"
   ]
  },
  {
   "cell_type": "code",
   "execution_count": 4,
   "id": "cb5fd3ea",
   "metadata": {},
   "outputs": [],
   "source": [
    "df_goss_raw['clean_text'] = df_goss_raw.clean_text_combined.apply(clean_txt)\n",
    "\n",
    "#apply additional preprocessing\n",
    "punctuation = r'!\"#$%&()*+-/:;<=>?@[\\\\]^_`{|}~\\',.'\n",
    "df_goss_raw['clean_txt'] = df_goss_raw['clean_text_combined'].apply(lambda x: ''.join(ch for ch in x if ch not in set(punctuation)))\n",
    "df_goss_raw['clean_txt'] = df_goss_raw['clean_txt'].str.lower()\n",
    "df_goss_raw['clean_txt'] = df_goss_raw['clean_txt'].apply(lambda x:' '.join(x.split()))"
   ]
  },
  {
   "cell_type": "code",
   "execution_count": 5,
   "id": "d35e720d",
   "metadata": {},
   "outputs": [
    {
     "data": {
      "text/html": [
       "<div>\n",
       "<style scoped>\n",
       "    .dataframe tbody tr th:only-of-type {\n",
       "        vertical-align: middle;\n",
       "    }\n",
       "\n",
       "    .dataframe tbody tr th {\n",
       "        vertical-align: top;\n",
       "    }\n",
       "\n",
       "    .dataframe thead th {\n",
       "        text-align: right;\n",
       "    }\n",
       "</style>\n",
       "<table border=\"1\" class=\"dataframe\">\n",
       "  <thead>\n",
       "    <tr style=\"text-align: right;\">\n",
       "      <th></th>\n",
       "      <th>idx</th>\n",
       "      <th>clean_txt</th>\n",
       "      <th>label</th>\n",
       "    </tr>\n",
       "  </thead>\n",
       "  <tbody>\n",
       "    <tr>\n",
       "      <th>0</th>\n",
       "      <td>0</td>\n",
       "      <td>selena gomez goes barefoot on the street after...</td>\n",
       "      <td>0</td>\n",
       "    </tr>\n",
       "    <tr>\n",
       "      <th>1</th>\n",
       "      <td>1</td>\n",
       "      <td>jessica simpson stumbles out of hubbys birthda...</td>\n",
       "      <td>0</td>\n",
       "    </tr>\n",
       "    <tr>\n",
       "      <th>2</th>\n",
       "      <td>2</td>\n",
       "      <td>kanye west is reportedly opening a restaurant ...</td>\n",
       "      <td>0</td>\n",
       "    </tr>\n",
       "    <tr>\n",
       "      <th>3</th>\n",
       "      <td>3</td>\n",
       "      <td>is kanye west heading to rehab it’s that time ...</td>\n",
       "      <td>0</td>\n",
       "    </tr>\n",
       "    <tr>\n",
       "      <th>4</th>\n",
       "      <td>4</td>\n",
       "      <td>pregnant kate middleton hit with cocaine bombs...</td>\n",
       "      <td>0</td>\n",
       "    </tr>\n",
       "    <tr>\n",
       "      <th>...</th>\n",
       "      <td>...</td>\n",
       "      <td>...</td>\n",
       "      <td>...</td>\n",
       "    </tr>\n",
       "    <tr>\n",
       "      <th>13021</th>\n",
       "      <td>13269</td>\n",
       "      <td>chris pratt ‘guardians of the galaxy’ cast cal...</td>\n",
       "      <td>1</td>\n",
       "    </tr>\n",
       "    <tr>\n",
       "      <th>13022</th>\n",
       "      <td>13270</td>\n",
       "      <td>robert pattinson and suki waterhouse spark rom...</td>\n",
       "      <td>1</td>\n",
       "    </tr>\n",
       "    <tr>\n",
       "      <th>13023</th>\n",
       "      <td>13271</td>\n",
       "      <td>review the marvelous mrs maisel rides emmy win...</td>\n",
       "      <td>1</td>\n",
       "    </tr>\n",
       "    <tr>\n",
       "      <th>13024</th>\n",
       "      <td>13272</td>\n",
       "      <td>the trailer for keshas new documentary reveale...</td>\n",
       "      <td>1</td>\n",
       "    </tr>\n",
       "    <tr>\n",
       "      <th>13025</th>\n",
       "      <td>13273</td>\n",
       "      <td>meghan markle and prince harrys royal monogram...</td>\n",
       "      <td>1</td>\n",
       "    </tr>\n",
       "  </tbody>\n",
       "</table>\n",
       "<p>13026 rows × 3 columns</p>\n",
       "</div>"
      ],
      "text/plain": [
       "         idx                                          clean_txt  label\n",
       "0          0  selena gomez goes barefoot on the street after...      0\n",
       "1          1  jessica simpson stumbles out of hubbys birthda...      0\n",
       "2          2  kanye west is reportedly opening a restaurant ...      0\n",
       "3          3  is kanye west heading to rehab it’s that time ...      0\n",
       "4          4  pregnant kate middleton hit with cocaine bombs...      0\n",
       "...      ...                                                ...    ...\n",
       "13021  13269  chris pratt ‘guardians of the galaxy’ cast cal...      1\n",
       "13022  13270  robert pattinson and suki waterhouse spark rom...      1\n",
       "13023  13271  review the marvelous mrs maisel rides emmy win...      1\n",
       "13024  13272  the trailer for keshas new documentary reveale...      1\n",
       "13025  13273  meghan markle and prince harrys royal monogram...      1\n",
       "\n",
       "[13026 rows x 3 columns]"
      ]
     },
     "execution_count": 5,
     "metadata": {},
     "output_type": "execute_result"
    }
   ],
   "source": [
    "df = df_goss_raw[['Unnamed: 0','clean_txt','label']]\n",
    "df = df.rename(columns={'Unnamed: 0': 'idx'})\n",
    "df"
   ]
  },
  {
   "cell_type": "code",
   "execution_count": 7,
   "id": "216997ba",
   "metadata": {},
   "outputs": [],
   "source": [
    "ratio_train = 0.8\n",
    "ratio_val = 0.1\n",
    "ratio_test = 0.1\n",
    "\n",
    "# Produces test split.\n",
    "remaining, test = train_test_split(df, test_size=ratio_test, random_state=214)\n",
    "\n",
    "# Adjusts val ratio, w.r.t. remaining dataset.\n",
    "ratio_remaining = 1 - ratio_test\n",
    "ratio_val_adjusted = ratio_val / ratio_remaining\n",
    "\n",
    "# Produces train and val splits.\n",
    "train, val, = train_test_split(remaining, test_size=ratio_val_adjusted, random_state=214)"
   ]
  },
  {
   "cell_type": "code",
   "execution_count": 8,
   "id": "79d30d06",
   "metadata": {},
   "outputs": [
    {
     "name": "stdout",
     "output_type": "stream",
     "text": [
      "(10420, 3) (1303, 3) (1303, 3)\n"
     ]
    }
   ],
   "source": [
    "print(train.shape, val.shape, test.shape)"
   ]
  },
  {
   "cell_type": "code",
   "execution_count": 9,
   "id": "de0dd1d4",
   "metadata": {},
   "outputs": [
    {
     "data": {
      "text/html": [
       "<div>\n",
       "<style scoped>\n",
       "    .dataframe tbody tr th:only-of-type {\n",
       "        vertical-align: middle;\n",
       "    }\n",
       "\n",
       "    .dataframe tbody tr th {\n",
       "        vertical-align: top;\n",
       "    }\n",
       "\n",
       "    .dataframe thead th {\n",
       "        text-align: right;\n",
       "    }\n",
       "</style>\n",
       "<table border=\"1\" class=\"dataframe\">\n",
       "  <thead>\n",
       "    <tr style=\"text-align: right;\">\n",
       "      <th></th>\n",
       "      <th>idx</th>\n",
       "      <th>clean_txt</th>\n",
       "      <th>label</th>\n",
       "    </tr>\n",
       "  </thead>\n",
       "  <tbody>\n",
       "    <tr>\n",
       "      <th>1902</th>\n",
       "      <td>1934</td>\n",
       "      <td>kourtney kardashian opens up about restricting...</td>\n",
       "      <td>0</td>\n",
       "    </tr>\n",
       "    <tr>\n",
       "      <th>1386</th>\n",
       "      <td>1408</td>\n",
       "      <td>15 spectacular celebrity feuds of 2016 1 kanye...</td>\n",
       "      <td>0</td>\n",
       "    </tr>\n",
       "    <tr>\n",
       "      <th>2539</th>\n",
       "      <td>2589</td>\n",
       "      <td>nicole kidman and prince harry named sexiest r...</td>\n",
       "      <td>0</td>\n",
       "    </tr>\n",
       "    <tr>\n",
       "      <th>5649</th>\n",
       "      <td>5778</td>\n",
       "      <td>jamielynn sigler on her special chance to reco...</td>\n",
       "      <td>1</td>\n",
       "    </tr>\n",
       "    <tr>\n",
       "      <th>2869</th>\n",
       "      <td>2922</td>\n",
       "      <td>dakota johnson and chris martin fasttrack wedd...</td>\n",
       "      <td>0</td>\n",
       "    </tr>\n",
       "  </tbody>\n",
       "</table>\n",
       "</div>"
      ],
      "text/plain": [
       "       idx                                          clean_txt  label\n",
       "1902  1934  kourtney kardashian opens up about restricting...      0\n",
       "1386  1408  15 spectacular celebrity feuds of 2016 1 kanye...      0\n",
       "2539  2589  nicole kidman and prince harry named sexiest r...      0\n",
       "5649  5778  jamielynn sigler on her special chance to reco...      1\n",
       "2869  2922  dakota johnson and chris martin fasttrack wedd...      0"
      ]
     },
     "execution_count": 9,
     "metadata": {},
     "output_type": "execute_result"
    }
   ],
   "source": [
    "train.head()"
   ]
  },
  {
   "cell_type": "code",
   "execution_count": 10,
   "id": "7dd94673",
   "metadata": {},
   "outputs": [
    {
     "data": {
      "text/html": [
       "<div>\n",
       "<style scoped>\n",
       "    .dataframe tbody tr th:only-of-type {\n",
       "        vertical-align: middle;\n",
       "    }\n",
       "\n",
       "    .dataframe tbody tr th {\n",
       "        vertical-align: top;\n",
       "    }\n",
       "\n",
       "    .dataframe thead th {\n",
       "        text-align: right;\n",
       "    }\n",
       "</style>\n",
       "<table border=\"1\" class=\"dataframe\">\n",
       "  <thead>\n",
       "    <tr style=\"text-align: right;\">\n",
       "      <th></th>\n",
       "      <th>idx</th>\n",
       "      <th>clean_txt</th>\n",
       "      <th>label</th>\n",
       "    </tr>\n",
       "  </thead>\n",
       "  <tbody>\n",
       "    <tr>\n",
       "      <th>190</th>\n",
       "      <td>192</td>\n",
       "      <td>angelina jolies honeytrap plot to seize uganda...</td>\n",
       "      <td>0</td>\n",
       "    </tr>\n",
       "    <tr>\n",
       "      <th>5266</th>\n",
       "      <td>5378</td>\n",
       "      <td>teen wolf reboot eyed at mtv — yes weeks befor...</td>\n",
       "      <td>1</td>\n",
       "    </tr>\n",
       "    <tr>\n",
       "      <th>11875</th>\n",
       "      <td>12103</td>\n",
       "      <td>farrah abrahams daughter sips 150 apple juice ...</td>\n",
       "      <td>1</td>\n",
       "    </tr>\n",
       "    <tr>\n",
       "      <th>11325</th>\n",
       "      <td>11547</td>\n",
       "      <td>david beckham tears up after son brooklyn surp...</td>\n",
       "      <td>1</td>\n",
       "    </tr>\n",
       "    <tr>\n",
       "      <th>7021</th>\n",
       "      <td>7177</td>\n",
       "      <td>kelly dodd slams meghan king edmonds’ marriage...</td>\n",
       "      <td>1</td>\n",
       "    </tr>\n",
       "  </tbody>\n",
       "</table>\n",
       "</div>"
      ],
      "text/plain": [
       "         idx                                          clean_txt  label\n",
       "190      192  angelina jolies honeytrap plot to seize uganda...      0\n",
       "5266    5378  teen wolf reboot eyed at mtv — yes weeks befor...      1\n",
       "11875  12103  farrah abrahams daughter sips 150 apple juice ...      1\n",
       "11325  11547  david beckham tears up after son brooklyn surp...      1\n",
       "7021    7177  kelly dodd slams meghan king edmonds’ marriage...      1"
      ]
     },
     "execution_count": 10,
     "metadata": {},
     "output_type": "execute_result"
    }
   ],
   "source": [
    "val.head()"
   ]
  },
  {
   "cell_type": "code",
   "execution_count": 11,
   "id": "e6cc11e5",
   "metadata": {},
   "outputs": [
    {
     "data": {
      "text/html": [
       "<div>\n",
       "<style scoped>\n",
       "    .dataframe tbody tr th:only-of-type {\n",
       "        vertical-align: middle;\n",
       "    }\n",
       "\n",
       "    .dataframe tbody tr th {\n",
       "        vertical-align: top;\n",
       "    }\n",
       "\n",
       "    .dataframe thead th {\n",
       "        text-align: right;\n",
       "    }\n",
       "</style>\n",
       "<table border=\"1\" class=\"dataframe\">\n",
       "  <thead>\n",
       "    <tr style=\"text-align: right;\">\n",
       "      <th></th>\n",
       "      <th>idx</th>\n",
       "      <th>clean_txt</th>\n",
       "      <th>label</th>\n",
       "    </tr>\n",
       "  </thead>\n",
       "  <tbody>\n",
       "    <tr>\n",
       "      <th>430</th>\n",
       "      <td>436</td>\n",
       "      <td>jessica simpson stumbles nearly falls before b...</td>\n",
       "      <td>0</td>\n",
       "    </tr>\n",
       "    <tr>\n",
       "      <th>4881</th>\n",
       "      <td>4980</td>\n",
       "      <td>shannon beador addresses weight gain on ‘rhoc’...</td>\n",
       "      <td>1</td>\n",
       "    </tr>\n",
       "    <tr>\n",
       "      <th>11750</th>\n",
       "      <td>11973</td>\n",
       "      <td>emilia clarke on ‘solo’ director shakeup ‘game...</td>\n",
       "      <td>1</td>\n",
       "    </tr>\n",
       "    <tr>\n",
       "      <th>1701</th>\n",
       "      <td>1729</td>\n",
       "      <td>will eminem run for president in 2020 after vi...</td>\n",
       "      <td>0</td>\n",
       "    </tr>\n",
       "    <tr>\n",
       "      <th>5031</th>\n",
       "      <td>5134</td>\n",
       "      <td>jessica alba expecting baby no 3 with husband ...</td>\n",
       "      <td>1</td>\n",
       "    </tr>\n",
       "  </tbody>\n",
       "</table>\n",
       "</div>"
      ],
      "text/plain": [
       "         idx                                          clean_txt  label\n",
       "430      436  jessica simpson stumbles nearly falls before b...      0\n",
       "4881    4980  shannon beador addresses weight gain on ‘rhoc’...      1\n",
       "11750  11973  emilia clarke on ‘solo’ director shakeup ‘game...      1\n",
       "1701    1729  will eminem run for president in 2020 after vi...      0\n",
       "5031    5134  jessica alba expecting baby no 3 with husband ...      1"
      ]
     },
     "execution_count": 11,
     "metadata": {},
     "output_type": "execute_result"
    }
   ],
   "source": [
    "test.head()"
   ]
  },
  {
   "cell_type": "code",
   "execution_count": 12,
   "id": "6686a176",
   "metadata": {},
   "outputs": [
    {
     "data": {
      "text/plain": [
       "1    8090\n",
       "0    2330\n",
       "Name: label, dtype: int64"
      ]
     },
     "execution_count": 12,
     "metadata": {},
     "output_type": "execute_result"
    }
   ],
   "source": [
    "train['label'].value_counts()"
   ]
  },
  {
   "cell_type": "code",
   "execution_count": 13,
   "id": "dbbdceb0",
   "metadata": {},
   "outputs": [
    {
     "data": {
      "text/plain": [
       "1    1011\n",
       "0     292\n",
       "Name: label, dtype: int64"
      ]
     },
     "execution_count": 13,
     "metadata": {},
     "output_type": "execute_result"
    }
   ],
   "source": [
    "val['label'].value_counts()"
   ]
  },
  {
   "cell_type": "code",
   "execution_count": 14,
   "id": "7a98dcf1",
   "metadata": {},
   "outputs": [
    {
     "data": {
      "text/plain": [
       "1    1019\n",
       "0     284\n",
       "Name: label, dtype: int64"
      ]
     },
     "execution_count": 14,
     "metadata": {},
     "output_type": "execute_result"
    }
   ],
   "source": [
    "test['label'].value_counts()"
   ]
  },
  {
   "cell_type": "code",
   "execution_count": 15,
   "id": "40d8b12c",
   "metadata": {},
   "outputs": [],
   "source": [
    "#adapted from: https://colab.research.google.com/gist/beatobongco/98aa1ed3fe0ec1e1922edecbf2af934f/using-roberta-to-generate-features-for-a-simple-neural-network.ipynb\n",
    "class FeatureExtractor:\n",
    "    \"\"\"Class that uses a Transformer model to vectorize batches of strings\"\"\"\n",
    "    def __init__(self, model_type):\n",
    "        MODELS = {\n",
    "             'bert': (BertModel,       BertTokenizer,       'bert-base-uncased'),\n",
    "            # 'xl-net': (XLNetModel,      XLNetTokenizer,      'xlnet-base-cased'),\n",
    "            # 'roberta': (RobertaModel,    RobertaTokenizer,    'roberta-base')\n",
    "        }\n",
    "        m = MODELS[model_type]    \n",
    "        self.model = m[0].from_pretrained(m[2])\n",
    "        self.tokenizer = m[1].from_pretrained(m[2])\n",
    "\n",
    "    def encode_strings(self, input_strings):\n",
    "    # Encode text\n",
    "        embeddings = []\n",
    "        for s in input_strings:\n",
    "\n",
    "            input_ids = torch.tensor([self.tokenizer.encode(s, add_special_tokens=True, max_length=512, padding = True,\\\n",
    "                                                            truncation=True)])\n",
    "            with torch.no_grad():\n",
    "                last_hidden_states = self.model(input_ids).last_hidden_state  \n",
    "      \n",
    "            embeddings.append(last_hidden_states[:,0].numpy())\n",
    "        return embeddings"
   ]
  },
  {
   "cell_type": "code",
   "execution_count": 16,
   "id": "22bf7499",
   "metadata": {},
   "outputs": [
    {
     "name": "stderr",
     "output_type": "stream",
     "text": [
      "Some weights of the model checkpoint at bert-base-uncased were not used when initializing BertModel: ['cls.seq_relationship.bias', 'cls.predictions.bias', 'cls.predictions.transform.dense.bias', 'cls.seq_relationship.weight', 'cls.predictions.transform.LayerNorm.bias', 'cls.predictions.transform.dense.weight', 'cls.predictions.transform.LayerNorm.weight', 'cls.predictions.decoder.weight']\n",
      "- This IS expected if you are initializing BertModel from the checkpoint of a model trained on another task or with another architecture (e.g. initializing a BertForSequenceClassification model from a BertForPreTraining model).\n",
      "- This IS NOT expected if you are initializing BertModel from the checkpoint of a model that you expect to be exactly identical (initializing a BertForSequenceClassification model from a BertForSequenceClassification model).\n"
     ]
    }
   ],
   "source": [
    "fe = FeatureExtractor('bert')"
   ]
  },
  {
   "cell_type": "code",
   "execution_count": 18,
   "id": "eca0d58e",
   "metadata": {},
   "outputs": [],
   "source": [
    "array_train = train[[\"clean_txt\"]].to_numpy() \n",
    "X_train_txt = np.array(array_train[:,0].tolist())"
   ]
  },
  {
   "cell_type": "code",
   "execution_count": 19,
   "id": "99dd27aa",
   "metadata": {},
   "outputs": [],
   "source": [
    "train_hidden = fe.encode_strings(X_train_txt)"
   ]
  },
  {
   "cell_type": "code",
   "execution_count": 20,
   "id": "d96aa4b5",
   "metadata": {},
   "outputs": [],
   "source": [
    "np.save('train_bert_simple.npy', train_hidden, allow_pickle=True)"
   ]
  },
  {
   "cell_type": "code",
   "execution_count": 21,
   "id": "a55ef983",
   "metadata": {},
   "outputs": [],
   "source": [
    "array_val = val[[\"clean_txt\"]].to_numpy() \n",
    "X_val_txt = np.array(array_val[:,0].tolist())\n",
    "val_hidden = fe.encode_strings(X_val_txt)\n",
    "np.save('val_bert_simple.npy', val_hidden, allow_pickle=True)"
   ]
  },
  {
   "cell_type": "code",
   "execution_count": 22,
   "id": "fcdf754a",
   "metadata": {},
   "outputs": [],
   "source": [
    "array_test = test[[\"clean_txt\"]].to_numpy() \n",
    "X_test_txt = np.array(array_test[:,0].tolist())\n",
    "test_hidden = fe.encode_strings(X_test_txt)\n",
    "np.save('test_bert_simple.npy', test_hidden, allow_pickle=True)"
   ]
  },
  {
   "cell_type": "code",
   "execution_count": 23,
   "id": "623a5ec3",
   "metadata": {},
   "outputs": [
    {
     "data": {
      "text/html": [
       "<div>\n",
       "<style scoped>\n",
       "    .dataframe tbody tr th:only-of-type {\n",
       "        vertical-align: middle;\n",
       "    }\n",
       "\n",
       "    .dataframe tbody tr th {\n",
       "        vertical-align: top;\n",
       "    }\n",
       "\n",
       "    .dataframe thead th {\n",
       "        text-align: right;\n",
       "    }\n",
       "</style>\n",
       "<table border=\"1\" class=\"dataframe\">\n",
       "  <thead>\n",
       "    <tr style=\"text-align: right;\">\n",
       "      <th></th>\n",
       "      <th>hidden_state</th>\n",
       "      <th>label</th>\n",
       "      <th>idx</th>\n",
       "    </tr>\n",
       "  </thead>\n",
       "  <tbody>\n",
       "    <tr>\n",
       "      <th>0</th>\n",
       "      <td>[[-0.6351673, 0.014559049, 0.29377505, 0.37676...</td>\n",
       "      <td>0</td>\n",
       "      <td>1934</td>\n",
       "    </tr>\n",
       "    <tr>\n",
       "      <th>1</th>\n",
       "      <td>[[-0.3496328, -0.1398266, 0.20144267, 0.455405...</td>\n",
       "      <td>0</td>\n",
       "      <td>1408</td>\n",
       "    </tr>\n",
       "    <tr>\n",
       "      <th>2</th>\n",
       "      <td>[[-0.45250654, 0.11762404, 0.14361618, -0.6483...</td>\n",
       "      <td>0</td>\n",
       "      <td>2589</td>\n",
       "    </tr>\n",
       "    <tr>\n",
       "      <th>3</th>\n",
       "      <td>[[0.11294373, -0.20785874, 0.2868215, -0.27205...</td>\n",
       "      <td>1</td>\n",
       "      <td>5778</td>\n",
       "    </tr>\n",
       "    <tr>\n",
       "      <th>4</th>\n",
       "      <td>[[-0.07389187, 0.09317138, 0.5003885, -0.26259...</td>\n",
       "      <td>0</td>\n",
       "      <td>2922</td>\n",
       "    </tr>\n",
       "  </tbody>\n",
       "</table>\n",
       "</div>"
      ],
      "text/plain": [
       "                                        hidden_state  label   idx\n",
       "0  [[-0.6351673, 0.014559049, 0.29377505, 0.37676...      0  1934\n",
       "1  [[-0.3496328, -0.1398266, 0.20144267, 0.455405...      0  1408\n",
       "2  [[-0.45250654, 0.11762404, 0.14361618, -0.6483...      0  2589\n",
       "3  [[0.11294373, -0.20785874, 0.2868215, -0.27205...      1  5778\n",
       "4  [[-0.07389187, 0.09317138, 0.5003885, -0.26259...      0  2922"
      ]
     },
     "execution_count": 23,
     "metadata": {},
     "output_type": "execute_result"
    }
   ],
   "source": [
    "train_label = np.array(train['label'])\n",
    "train_idx = np.array(train['idx'])\n",
    "list_train = list(zip(train_hidden, train_label, train_idx))\n",
    "df_train = pd.DataFrame(list_train, columns=['hidden_state','label','idx'])\n",
    "df_train.head()"
   ]
  },
  {
   "cell_type": "code",
   "execution_count": 24,
   "id": "53803dc6",
   "metadata": {},
   "outputs": [
    {
     "data": {
      "text/html": [
       "<div>\n",
       "<style scoped>\n",
       "    .dataframe tbody tr th:only-of-type {\n",
       "        vertical-align: middle;\n",
       "    }\n",
       "\n",
       "    .dataframe tbody tr th {\n",
       "        vertical-align: top;\n",
       "    }\n",
       "\n",
       "    .dataframe thead th {\n",
       "        text-align: right;\n",
       "    }\n",
       "</style>\n",
       "<table border=\"1\" class=\"dataframe\">\n",
       "  <thead>\n",
       "    <tr style=\"text-align: right;\">\n",
       "      <th></th>\n",
       "      <th>hidden_state</th>\n",
       "      <th>label</th>\n",
       "      <th>idx</th>\n",
       "    </tr>\n",
       "  </thead>\n",
       "  <tbody>\n",
       "    <tr>\n",
       "      <th>0</th>\n",
       "      <td>[[-0.36481032, -0.002037473, 0.421112, 0.19184...</td>\n",
       "      <td>0</td>\n",
       "      <td>192</td>\n",
       "    </tr>\n",
       "    <tr>\n",
       "      <th>1</th>\n",
       "      <td>[[-0.087618366, -0.53036445, 0.35774526, 0.315...</td>\n",
       "      <td>1</td>\n",
       "      <td>5378</td>\n",
       "    </tr>\n",
       "    <tr>\n",
       "      <th>2</th>\n",
       "      <td>[[-0.3008975, -0.12119578, 0.4158599, 0.195135...</td>\n",
       "      <td>1</td>\n",
       "      <td>12103</td>\n",
       "    </tr>\n",
       "    <tr>\n",
       "      <th>3</th>\n",
       "      <td>[[-0.5137289, -0.26202345, 0.35133645, 0.53006...</td>\n",
       "      <td>1</td>\n",
       "      <td>11547</td>\n",
       "    </tr>\n",
       "    <tr>\n",
       "      <th>4</th>\n",
       "      <td>[[-0.13322158, 0.04337415, 0.11195108, 0.02458...</td>\n",
       "      <td>1</td>\n",
       "      <td>7177</td>\n",
       "    </tr>\n",
       "  </tbody>\n",
       "</table>\n",
       "</div>"
      ],
      "text/plain": [
       "                                        hidden_state  label    idx\n",
       "0  [[-0.36481032, -0.002037473, 0.421112, 0.19184...      0    192\n",
       "1  [[-0.087618366, -0.53036445, 0.35774526, 0.315...      1   5378\n",
       "2  [[-0.3008975, -0.12119578, 0.4158599, 0.195135...      1  12103\n",
       "3  [[-0.5137289, -0.26202345, 0.35133645, 0.53006...      1  11547\n",
       "4  [[-0.13322158, 0.04337415, 0.11195108, 0.02458...      1   7177"
      ]
     },
     "execution_count": 24,
     "metadata": {},
     "output_type": "execute_result"
    }
   ],
   "source": [
    "val_label = np.array(val['label'])\n",
    "val_idx = np.array(val['idx'])\n",
    "list_val = list(zip(val_hidden, val_label, val_idx))\n",
    "df_val = pd.DataFrame(list_val, columns=['hidden_state','label','idx'])\n",
    "df_val.head()"
   ]
  },
  {
   "cell_type": "code",
   "execution_count": 25,
   "id": "5a68c839",
   "metadata": {},
   "outputs": [
    {
     "data": {
      "text/html": [
       "<div>\n",
       "<style scoped>\n",
       "    .dataframe tbody tr th:only-of-type {\n",
       "        vertical-align: middle;\n",
       "    }\n",
       "\n",
       "    .dataframe tbody tr th {\n",
       "        vertical-align: top;\n",
       "    }\n",
       "\n",
       "    .dataframe thead th {\n",
       "        text-align: right;\n",
       "    }\n",
       "</style>\n",
       "<table border=\"1\" class=\"dataframe\">\n",
       "  <thead>\n",
       "    <tr style=\"text-align: right;\">\n",
       "      <th></th>\n",
       "      <th>hidden_state</th>\n",
       "      <th>label</th>\n",
       "      <th>idx</th>\n",
       "    </tr>\n",
       "  </thead>\n",
       "  <tbody>\n",
       "    <tr>\n",
       "      <th>0</th>\n",
       "      <td>[[0.050070293, -0.28424078, 0.29238722, 0.2928...</td>\n",
       "      <td>0</td>\n",
       "      <td>436</td>\n",
       "    </tr>\n",
       "    <tr>\n",
       "      <th>1</th>\n",
       "      <td>[[-0.58470356, -0.18257326, 0.14449677, -0.007...</td>\n",
       "      <td>1</td>\n",
       "      <td>4980</td>\n",
       "    </tr>\n",
       "    <tr>\n",
       "      <th>2</th>\n",
       "      <td>[[0.15742663, -0.1125668, 0.1829456, 0.0956175...</td>\n",
       "      <td>1</td>\n",
       "      <td>11973</td>\n",
       "    </tr>\n",
       "    <tr>\n",
       "      <th>3</th>\n",
       "      <td>[[-0.3247289, -0.27901417, 0.04718214, 0.24377...</td>\n",
       "      <td>0</td>\n",
       "      <td>1729</td>\n",
       "    </tr>\n",
       "    <tr>\n",
       "      <th>4</th>\n",
       "      <td>[[-0.58893657, 0.0008235853, 0.06734834, 0.262...</td>\n",
       "      <td>1</td>\n",
       "      <td>5134</td>\n",
       "    </tr>\n",
       "  </tbody>\n",
       "</table>\n",
       "</div>"
      ],
      "text/plain": [
       "                                        hidden_state  label    idx\n",
       "0  [[0.050070293, -0.28424078, 0.29238722, 0.2928...      0    436\n",
       "1  [[-0.58470356, -0.18257326, 0.14449677, -0.007...      1   4980\n",
       "2  [[0.15742663, -0.1125668, 0.1829456, 0.0956175...      1  11973\n",
       "3  [[-0.3247289, -0.27901417, 0.04718214, 0.24377...      0   1729\n",
       "4  [[-0.58893657, 0.0008235853, 0.06734834, 0.262...      1   5134"
      ]
     },
     "execution_count": 25,
     "metadata": {},
     "output_type": "execute_result"
    }
   ],
   "source": [
    "test_label = np.array(test['label'])\n",
    "test_idx = np.array(test['idx'])\n",
    "list_test = list(zip(test_hidden, test_label, test_idx))\n",
    "df_test = pd.DataFrame(list_test, columns=['hidden_state','label','idx'])\n",
    "df_test.head()"
   ]
  },
  {
   "cell_type": "code",
   "execution_count": 26,
   "id": "996ef1a9",
   "metadata": {},
   "outputs": [],
   "source": [
    "df_train.to_pickle('C:/Users/labca/Documents/Dissertation - Fake News/Embeddings/df_train_bert_simple.pkl')"
   ]
  },
  {
   "cell_type": "code",
   "execution_count": 27,
   "id": "95450f33",
   "metadata": {},
   "outputs": [],
   "source": [
    "df_val.to_pickle('C:/Users/labca/Documents/Dissertation - Fake News/Embeddings/df_val_bert_simple.pkl')"
   ]
  },
  {
   "cell_type": "code",
   "execution_count": 28,
   "id": "53a68304",
   "metadata": {},
   "outputs": [],
   "source": [
    "df_test.to_pickle('C:/Users/labca/Documents/Dissertation - Fake News/Embeddings/df_test_bert_simple.pkl')"
   ]
  },
  {
   "cell_type": "code",
   "execution_count": null,
   "id": "0af21220",
   "metadata": {},
   "outputs": [],
   "source": []
  }
 ],
 "metadata": {
  "kernelspec": {
   "display_name": "Python 3",
   "language": "python",
   "name": "python3"
  },
  "language_info": {
   "codemirror_mode": {
    "name": "ipython",
    "version": 3
   },
   "file_extension": ".py",
   "mimetype": "text/x-python",
   "name": "python",
   "nbconvert_exporter": "python",
   "pygments_lexer": "ipython3",
   "version": "3.8.8"
  }
 },
 "nbformat": 4,
 "nbformat_minor": 5
}
