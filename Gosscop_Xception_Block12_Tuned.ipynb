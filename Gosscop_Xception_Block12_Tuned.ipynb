{
 "cells": [
  {
   "cell_type": "code",
   "execution_count": 1,
   "id": "8eb43939",
   "metadata": {},
   "outputs": [],
   "source": [
    "import pandas as pd\n",
    "import sklearn\n",
    "import numpy as np\n",
    "import os\n",
    "from pathlib import Path\n",
    "from sklearn.model_selection import train_test_split\n",
    "import torch\n",
    "from datasets import load_dataset\n",
    "import tensorflow as tf\n",
    "import tensorflow_addons as tfa\n",
    "import gc\n",
    "\n",
    "from keras import optimizers\n",
    "import matplotlib.pyplot as plt\n",
    "from keras import initializers\n",
    "from keras.utils import np_utils\n",
    "from keras import regularizers\n",
    "from keras.models import Sequential, Model\n",
    "from keras.callbacks import ModelCheckpoint\n",
    "from keras.layers import concatenate\n",
    "from keras.layers import Dense, Flatten, Dropout, Input, BatchNormalization, ReLU\n",
    "from keras.layers import LSTM, Bidirectional\n",
    "import pickle\n",
    "from sklearn.metrics import confusion_matrix\n",
    "from sklearn.metrics import classification_report, accuracy_score\n",
    "\n",
    "\n",
    "import keras\n",
    "\n",
    "import matplotlib.pyplot as plt\n",
    "%matplotlib inline"
   ]
  },
  {
   "cell_type": "code",
   "execution_count": 2,
   "id": "71be2295",
   "metadata": {},
   "outputs": [],
   "source": [
    "df_goss_train = pd.read_pickle('../../Dissertation - Fake News/Embeddings/df_train_xception_block12_tuned.pkl')\n",
    "df_goss_val = pd.read_pickle('../../Dissertation - Fake News/Embeddings/df_val_xception_block12_tuned.pkl')\n",
    "df_goss_test = pd.read_pickle('../../Dissertation - Fake News/Embeddings/df_test_xception_block12_tuned.pkl')"
   ]
  },
  {
   "cell_type": "code",
   "execution_count": 3,
   "id": "6c51d2c4",
   "metadata": {},
   "outputs": [
    {
     "data": {
      "text/html": [
       "<div>\n",
       "<style scoped>\n",
       "    .dataframe tbody tr th:only-of-type {\n",
       "        vertical-align: middle;\n",
       "    }\n",
       "\n",
       "    .dataframe tbody tr th {\n",
       "        vertical-align: top;\n",
       "    }\n",
       "\n",
       "    .dataframe thead th {\n",
       "        text-align: right;\n",
       "    }\n",
       "</style>\n",
       "<table border=\"1\" class=\"dataframe\">\n",
       "  <thead>\n",
       "    <tr style=\"text-align: right;\">\n",
       "      <th></th>\n",
       "      <th>img_features</th>\n",
       "      <th>label</th>\n",
       "      <th>idx</th>\n",
       "    </tr>\n",
       "  </thead>\n",
       "  <tbody>\n",
       "    <tr>\n",
       "      <th>1902</th>\n",
       "      <td>[[0.12345049, 0.103692524, 0.10679071, 0.11953...</td>\n",
       "      <td>0</td>\n",
       "      <td>1934</td>\n",
       "    </tr>\n",
       "    <tr>\n",
       "      <th>1386</th>\n",
       "      <td>[[0.025142414, 0.11223217, 0.02097135, 6.14750...</td>\n",
       "      <td>0</td>\n",
       "      <td>1408</td>\n",
       "    </tr>\n",
       "    <tr>\n",
       "      <th>2539</th>\n",
       "      <td>[[0.027030187, 0.10288904, 0.30019975, 0.05462...</td>\n",
       "      <td>0</td>\n",
       "      <td>2589</td>\n",
       "    </tr>\n",
       "    <tr>\n",
       "      <th>5649</th>\n",
       "      <td>[[0.37826172, 0.4675789, 0.15682955, 0.2555534...</td>\n",
       "      <td>1</td>\n",
       "      <td>5778</td>\n",
       "    </tr>\n",
       "    <tr>\n",
       "      <th>2869</th>\n",
       "      <td>[[0.0014517182, 0.034252882, 0.012506969, 0.04...</td>\n",
       "      <td>0</td>\n",
       "      <td>2922</td>\n",
       "    </tr>\n",
       "  </tbody>\n",
       "</table>\n",
       "</div>"
      ],
      "text/plain": [
       "                                           img_features  label   idx\n",
       "1902  [[0.12345049, 0.103692524, 0.10679071, 0.11953...      0  1934\n",
       "1386  [[0.025142414, 0.11223217, 0.02097135, 6.14750...      0  1408\n",
       "2539  [[0.027030187, 0.10288904, 0.30019975, 0.05462...      0  2589\n",
       "5649  [[0.37826172, 0.4675789, 0.15682955, 0.2555534...      1  5778\n",
       "2869  [[0.0014517182, 0.034252882, 0.012506969, 0.04...      0  2922"
      ]
     },
     "execution_count": 3,
     "metadata": {},
     "output_type": "execute_result"
    }
   ],
   "source": [
    "df_goss_train.head()"
   ]
  },
  {
   "cell_type": "code",
   "execution_count": 4,
   "id": "97a2a8a1",
   "metadata": {},
   "outputs": [],
   "source": [
    "def label_change(df):\n",
    "    if df['label'] == 0: return 1\n",
    "    else: return 0"
   ]
  },
  {
   "cell_type": "code",
   "execution_count": 5,
   "id": "7c9b52ff",
   "metadata": {},
   "outputs": [
    {
     "data": {
      "text/html": [
       "<div>\n",
       "<style scoped>\n",
       "    .dataframe tbody tr th:only-of-type {\n",
       "        vertical-align: middle;\n",
       "    }\n",
       "\n",
       "    .dataframe tbody tr th {\n",
       "        vertical-align: top;\n",
       "    }\n",
       "\n",
       "    .dataframe thead th {\n",
       "        text-align: right;\n",
       "    }\n",
       "</style>\n",
       "<table border=\"1\" class=\"dataframe\">\n",
       "  <thead>\n",
       "    <tr style=\"text-align: right;\">\n",
       "      <th></th>\n",
       "      <th>img_features</th>\n",
       "      <th>label</th>\n",
       "      <th>idx</th>\n",
       "      <th>target</th>\n",
       "    </tr>\n",
       "  </thead>\n",
       "  <tbody>\n",
       "    <tr>\n",
       "      <th>1902</th>\n",
       "      <td>[[0.12345049, 0.103692524, 0.10679071, 0.11953...</td>\n",
       "      <td>0</td>\n",
       "      <td>1934</td>\n",
       "      <td>1</td>\n",
       "    </tr>\n",
       "    <tr>\n",
       "      <th>1386</th>\n",
       "      <td>[[0.025142414, 0.11223217, 0.02097135, 6.14750...</td>\n",
       "      <td>0</td>\n",
       "      <td>1408</td>\n",
       "      <td>1</td>\n",
       "    </tr>\n",
       "    <tr>\n",
       "      <th>2539</th>\n",
       "      <td>[[0.027030187, 0.10288904, 0.30019975, 0.05462...</td>\n",
       "      <td>0</td>\n",
       "      <td>2589</td>\n",
       "      <td>1</td>\n",
       "    </tr>\n",
       "    <tr>\n",
       "      <th>5649</th>\n",
       "      <td>[[0.37826172, 0.4675789, 0.15682955, 0.2555534...</td>\n",
       "      <td>1</td>\n",
       "      <td>5778</td>\n",
       "      <td>0</td>\n",
       "    </tr>\n",
       "    <tr>\n",
       "      <th>2869</th>\n",
       "      <td>[[0.0014517182, 0.034252882, 0.012506969, 0.04...</td>\n",
       "      <td>0</td>\n",
       "      <td>2922</td>\n",
       "      <td>1</td>\n",
       "    </tr>\n",
       "  </tbody>\n",
       "</table>\n",
       "</div>"
      ],
      "text/plain": [
       "                                           img_features  label   idx  target\n",
       "1902  [[0.12345049, 0.103692524, 0.10679071, 0.11953...      0  1934       1\n",
       "1386  [[0.025142414, 0.11223217, 0.02097135, 6.14750...      0  1408       1\n",
       "2539  [[0.027030187, 0.10288904, 0.30019975, 0.05462...      0  2589       1\n",
       "5649  [[0.37826172, 0.4675789, 0.15682955, 0.2555534...      1  5778       0\n",
       "2869  [[0.0014517182, 0.034252882, 0.012506969, 0.04...      0  2922       1"
      ]
     },
     "execution_count": 5,
     "metadata": {},
     "output_type": "execute_result"
    }
   ],
   "source": [
    "df_goss_train['target'] = df_goss_train.apply(label_change, axis=1)\n",
    "df_goss_train.head()"
   ]
  },
  {
   "cell_type": "code",
   "execution_count": 6,
   "id": "ffd94fd1",
   "metadata": {},
   "outputs": [],
   "source": [
    "df_goss_val['target'] = df_goss_val.apply(label_change, axis=1)\n",
    "df_goss_test['target'] = df_goss_test.apply(label_change, axis=1)"
   ]
  },
  {
   "cell_type": "code",
   "execution_count": 7,
   "id": "84ec57ff",
   "metadata": {},
   "outputs": [
    {
     "name": "stdout",
     "output_type": "stream",
     "text": [
      "[0.64400494 2.2360515 ]\n"
     ]
    },
    {
     "name": "stderr",
     "output_type": "stream",
     "text": [
      "C:\\Users\\labca\\anaconda3\\lib\\site-packages\\sklearn\\utils\\validation.py:70: FutureWarning: Pass classes=[0 1], y=[0 0 0 ... 1 1 1] as keyword args. From version 1.0 (renaming of 0.25) passing these as positional arguments will result in an error\n",
      "  warnings.warn(f\"Pass {args_msg} as keyword args. From version \"\n"
     ]
    }
   ],
   "source": [
    "# Count samples per class: 0-real, 1-fake\n",
    "classes_zero = df_goss_train[df_goss_train['target'] == 0]\n",
    "classes_one = df_goss_train[df_goss_train['target'] == 1]\n",
    "\n",
    "# Convert parts into NumPy arrays for weight computation\n",
    "zero_numpy = classes_zero['target'].to_numpy()\n",
    "one_numpy = classes_one['target'].to_numpy()\n",
    "all_together = np.concatenate((zero_numpy, one_numpy))\n",
    "unique_classes = np.unique(all_together)\n",
    "\n",
    "# Compute weights\n",
    "weights = sklearn.utils.class_weight.compute_class_weight('balanced', unique_classes, all_together)\n",
    "print(weights)"
   ]
  },
  {
   "cell_type": "code",
   "execution_count": 8,
   "id": "9222804e",
   "metadata": {},
   "outputs": [
    {
     "data": {
      "text/plain": [
       "{0: 0.6440049443757726, 1: 2.236051502145923}"
      ]
     },
     "execution_count": 8,
     "metadata": {},
     "output_type": "execute_result"
    }
   ],
   "source": [
    "weights_ker = {i : weights[i] for i in range(2)}\n",
    "weights_ker"
   ]
  },
  {
   "cell_type": "code",
   "execution_count": 9,
   "id": "fedaae25",
   "metadata": {},
   "outputs": [
    {
     "data": {
      "text/plain": [
       "(10420, 1, 2048)"
      ]
     },
     "execution_count": 9,
     "metadata": {},
     "output_type": "execute_result"
    }
   ],
   "source": [
    "array_train = df_goss_train[[\"img_features\",\"target\"]].to_numpy() \n",
    "X_train = np.array(array_train[:,0].tolist())\n",
    "X_train.shape"
   ]
  },
  {
   "cell_type": "code",
   "execution_count": 10,
   "id": "b9b2b545",
   "metadata": {},
   "outputs": [
    {
     "data": {
      "text/plain": [
       "(10420, 2048)"
      ]
     },
     "execution_count": 10,
     "metadata": {},
     "output_type": "execute_result"
    }
   ],
   "source": [
    "X_train = np.squeeze(X_train, 1)\n",
    "X_train.shape"
   ]
  },
  {
   "cell_type": "code",
   "execution_count": 11,
   "id": "c524a0b3",
   "metadata": {},
   "outputs": [
    {
     "data": {
      "text/plain": [
       "(10420,)"
      ]
     },
     "execution_count": 11,
     "metadata": {},
     "output_type": "execute_result"
    }
   ],
   "source": [
    "y_label = np.array(array_train[:,1].tolist())\n",
    "y_label.shape"
   ]
  },
  {
   "cell_type": "code",
   "execution_count": 12,
   "id": "248a00ef",
   "metadata": {},
   "outputs": [],
   "source": [
    "array_val = df_goss_val[[\"img_features\",\"target\"]].to_numpy() \n",
    "X_val = np.array(array_val[:,0].tolist())\n",
    "X_val = np.squeeze(X_val, 1)\n",
    "y_val_label = np.array(array_val[:,1].tolist())\n",
    "\n",
    "array_test = df_goss_test[[\"img_features\",\"target\"]].to_numpy() \n",
    "X_test = np.array(array_test[:,0].tolist())\n",
    "X_test = np.squeeze(X_test, 1)\n",
    "y_test_label = np.array(array_test[:,1].tolist())"
   ]
  },
  {
   "cell_type": "code",
   "execution_count": 13,
   "id": "036c42e4",
   "metadata": {},
   "outputs": [],
   "source": [
    "def reset_tensorflow_keras_backend():\n",
    "    keras.backend.clear_session()\n",
    "    tf.compat.v1.reset_default_graph()\n",
    "    _ = gc.collect()"
   ]
  },
  {
   "cell_type": "code",
   "execution_count": 14,
   "id": "4845b495",
   "metadata": {},
   "outputs": [],
   "source": [
    "def reinitialize(model):\n",
    "    for l in model.layers:\n",
    "        if hasattr(l,\"kernel_initializer\"):\n",
    "            l.kernel.assign(l.kernel_initializer(tf.shape(l.kernel)))\n",
    "        if hasattr(l,\"bias_initializer\"):\n",
    "            l.bias.assign(l.bias_initializer(tf.shape(l.bias)))\n",
    "        if hasattr(l,\"recurrent_initializer\"):\n",
    "            l.recurrent_kernel.assign(l.recurrent_initializer(tf.shape(l.recurrent_kernel)))"
   ]
  },
  {
   "cell_type": "code",
   "execution_count": 15,
   "id": "7d159b5d",
   "metadata": {},
   "outputs": [],
   "source": [
    "adam = optimizers.Adam(learning_rate=1e-5)\n",
    "callback = tf.keras.callbacks.EarlyStopping(monitor='val_loss', patience=5, restore_best_weights=True)"
   ]
  },
  {
   "cell_type": "code",
   "execution_count": 16,
   "id": "b3e62209",
   "metadata": {},
   "outputs": [],
   "source": [
    "input_img = Input(shape=(2048))\n",
    "img_dense = Dense(1024, activation='relu', kernel_regularizer=regularizers.l2(0.01),\\\n",
    "                kernel_initializer=initializers.he_normal(seed=0))(input_img)\n",
    "dropout_img = Dropout(0.4)(img_dense)\n",
    "img_dense = Dense(512, activation='relu', kernel_regularizer=regularizers.l2(0.01),\\\n",
    "                kernel_initializer=initializers.he_normal(seed=0))(dropout_img)\n",
    "img_dense = Dense(128, activation='relu', kernel_regularizer=regularizers.l2(0.01),\\\n",
    "                kernel_initializer=initializers.he_normal(seed=0))(dropout_img)\n",
    "output = Dense(1, activation='sigmoid')(img_dense)\n",
    "model = Model(inputs=input_img, outputs=output)\n",
    "model.compile(loss='binary_crossentropy', optimizer=adam, metrics='accuracy')"
   ]
  },
  {
   "cell_type": "code",
   "execution_count": 17,
   "id": "109b7623",
   "metadata": {},
   "outputs": [
    {
     "name": "stdout",
     "output_type": "stream",
     "text": [
      "Model: \"model\"\n",
      "_________________________________________________________________\n",
      " Layer (type)                Output Shape              Param #   \n",
      "=================================================================\n",
      " input_1 (InputLayer)        [(None, 2048)]            0         \n",
      "                                                                 \n",
      " dense (Dense)               (None, 1024)              2098176   \n",
      "                                                                 \n",
      " dropout (Dropout)           (None, 1024)              0         \n",
      "                                                                 \n",
      " dense_2 (Dense)             (None, 128)               131200    \n",
      "                                                                 \n",
      " dense_3 (Dense)             (None, 1)                 129       \n",
      "                                                                 \n",
      "=================================================================\n",
      "Total params: 2,229,505\n",
      "Trainable params: 2,229,505\n",
      "Non-trainable params: 0\n",
      "_________________________________________________________________\n"
     ]
    }
   ],
   "source": [
    "model.summary()"
   ]
  },
  {
   "cell_type": "code",
   "execution_count": 18,
   "id": "74044f1f",
   "metadata": {},
   "outputs": [],
   "source": [
    "def run_model(X_train, train_label, X_val, val_label, X_test, test_label, batch_size=32,epochs=100, verbose=1, class_weight=weights_ker, \\\n",
    "              itr=30, shuffle=True):\n",
    "    \n",
    "    adam = optimizers.Adam(learning_rate=1e-5)\n",
    "    callback = tf.keras.callbacks.EarlyStopping(monitor='val_loss', patience=3, restore_best_weights=True)\n",
    "    \n",
    "    real_precision_list = []\n",
    "    real_recall_list = []\n",
    "    real_f1_list = []\n",
    "    fake_precision_list = []\n",
    "    fake_recall_list = []\n",
    "    fake_f1_list = []\n",
    "    \n",
    "    macro_precision_list = []\n",
    "    macro_recall_list = []\n",
    "    macro_f1_list = []\n",
    "    accuracy_list = []\n",
    "    num_epochs = []\n",
    "\n",
    "    #Define model\n",
    "    input_img = Input(shape=(2048))\n",
    "    dense_img = Dense(1024, activation='relu', kernel_regularizer=regularizers.l2(0.01),\\\n",
    "                kernel_initializer=initializers.he_normal(seed=0))(input_img)\n",
    "    dropout_img = Dropout(0.4)(dense_img)\n",
    "    dense_img = Dense(512, activation='relu', kernel_regularizer=regularizers.l2(0.01),\\\n",
    "                kernel_initializer=initializers.he_normal(seed=0))(dropout_img)\n",
    "    dense_img = Dense(128, activation='relu', kernel_regularizer=regularizers.l2(0.01),\\\n",
    "                kernel_initializer=initializers.he_normal(seed=0))(dense_img)\n",
    "    output = Dense(1, activation='sigmoid')(dense_img)\n",
    "    model = Model(inputs=input_img, outputs=output)\n",
    "    model.compile(loss='binary_crossentropy', optimizer=adam, metrics='accuracy')\n",
    "        \n",
    "    for i in range(0,itr):\n",
    "        print(\"\\nTraining for iteration number: \", i)\n",
    "        reset_tensorflow_keras_backend()\n",
    "        reinitialize(model)\n",
    "        history = model.fit(X_train, train_label, validation_data=(X_val, val_label), batch_size=batch_size,epochs=epochs,\n",
    "                            callbacks=[callback], verbose=verbose, class_weight=class_weight, shuffle=shuffle)\n",
    "        \n",
    "        y_pred = model.predict(X_test)\n",
    "        predictions = list(map(lambda x: 0 if x<0.5 else 1, y_pred))\n",
    "        \n",
    "        report = classification_report(y_test_label, predictions, target_names=['real','fake'], output_dict=True)\n",
    "        real_precision = report['real']['precision'] \n",
    "        real_recall = report['real']['recall'] \n",
    "        real_f1 = report['real']['f1-score'] \n",
    "        fake_precision = report['fake']['precision'] \n",
    "        fake_recall = report['fake']['recall'] \n",
    "        fake_f1 = report['fake']['f1-score'] \n",
    "        \n",
    "        macro_precision =  report['macro avg']['precision'] \n",
    "        macro_recall = report['macro avg']['recall']    \n",
    "        macro_f1 = report['macro avg']['f1-score']\n",
    "        accuracy = report['accuracy']\n",
    "\n",
    "        real_precision_list.append(real_precision)\n",
    "        real_recall_list.append(real_recall)\n",
    "        real_f1_list.append(real_f1)\n",
    "        fake_precision_list.append(fake_precision)\n",
    "        fake_recall_list.append(fake_recall)\n",
    "        fake_f1_list.append(fake_f1)\n",
    "        \n",
    "        macro_precision_list.append(macro_precision)\n",
    "        macro_recall_list.append(macro_recall)\n",
    "        macro_f1_list.append(macro_f1)\n",
    "        accuracy_list.append(accuracy)\n",
    "        num_epochs.append(len(history.history['loss']))\n",
    "        \n",
    "        \n",
    "    mean_real_precision = np.mean(real_precision_list)\n",
    "    mean_real_recall = np.mean(real_recall_list)\n",
    "    mean_real_f1 = np.mean(real_f1_list)\n",
    "    mean_fake_precision = np.mean(fake_precision_list)\n",
    "    mean_fake_recall= np.mean(fake_recall_list)\n",
    "    mean_fake_f1 = np.mean(fake_f1_list)\n",
    "    \n",
    "    mean_macro_precision = np.mean(macro_precision_list)\n",
    "    mean_macro_recall = np.mean(macro_recall)\n",
    "    mean_macro_f1 = np.mean(macro_f1_list)\n",
    "    mean_accuracy = np.mean(accuracy_list)\n",
    "    mean_epoch = np.mean(num_epochs)\n",
    "    \n",
    "    std_real_precision = np.std(real_precision_list)\n",
    "    std_real_recall = np.std(real_recall_list)\n",
    "    std_real_f1 = np.std(real_f1_list)\n",
    "    std_fake_precision = np.std(fake_precision_list)\n",
    "    std_fake_recall= np.std(fake_recall_list)\n",
    "    std_fake_f1 = np.std(fake_f1_list)\n",
    "    \n",
    "    std_macro_precision = np.std(macro_precision_list)\n",
    "    std_macro_recall = np.std(macro_recall)\n",
    "    std_macro_f1 = np.std(macro_f1_list)\n",
    "    std_accuracy = np.std(accuracy_list)\n",
    "\n",
    "    print(\"The average real precision : \", mean_real_precision)\n",
    "    print(\"The average real recall: \", mean_real_recall)\n",
    "    print(\"The average real f1: \", mean_real_f1)\n",
    "    print(\"The average fake precision : \", mean_fake_precision)\n",
    "    print(\"The average fake recall: \", mean_fake_recall)\n",
    "    print(\"The average fake f1: \", mean_fake_f1)\n",
    "    print(\"The average macro precision: \", mean_macro_precision)\n",
    "    print(\"The average macro recall: \", mean_macro_recall)\n",
    "    print(\"The average macro_f1: \", mean_macro_f1)\n",
    "    print(\"The average macro accuracy: \", mean_accuracy)\n",
    "    \n",
    "    print(\"The standard deviation on real precision : \", std_real_precision)\n",
    "    print(\"The standard deviation on real recall: \", std_real_recall)\n",
    "    print(\"The standard deviation on real f1: \", std_real_f1)\n",
    "    print(\"The standard deviation on fake precision : \", std_fake_precision)\n",
    "    print(\"The standard deviation on fake recall: \", std_fake_recall)\n",
    "    print(\"The standard deviation on macro precision: \", std_macro_precision)\n",
    "    print(\"The standard deviation on macro recall: \", std_macro_recall)\n",
    "    print(\"The standard deviation on macro_f1: \", std_macro_f1)\n",
    "    print(\"The standard deviation on macro accuracy: \", std_accuracy)\n",
    "    print(\"Average number of epochs\", mean_epoch)\n",
    "    \n",
    "    return real_precision_list, real_recall_list, real_f1_list, fake_precision_list, fake_recall_list, fake_f1_list,\\\n",
    "    macro_precision_list, macro_recall_list, macro_f1_list, accuracy_list"
   ]
  },
  {
   "cell_type": "code",
   "execution_count": 19,
   "id": "b4a42ef1",
   "metadata": {},
   "outputs": [
    {
     "name": "stdout",
     "output_type": "stream",
     "text": [
      "Epoch 1/100\n",
      "326/326 [==============================] - 3s 6ms/step - loss: 22.4747 - accuracy: 0.7156 - val_loss: 21.2366 - val_accuracy: 0.6853\n",
      "Epoch 2/100\n",
      "326/326 [==============================] - 2s 5ms/step - loss: 20.0845 - accuracy: 0.7253 - val_loss: 19.0458 - val_accuracy: 0.6485\n",
      "Epoch 3/100\n",
      "326/326 [==============================] - 2s 5ms/step - loss: 17.9573 - accuracy: 0.7291 - val_loss: 17.0630 - val_accuracy: 0.6470\n",
      "Epoch 4/100\n",
      "326/326 [==============================] - 2s 5ms/step - loss: 16.0526 - accuracy: 0.7295 - val_loss: 15.2859 - val_accuracy: 0.6316\n",
      "Epoch 5/100\n",
      "326/326 [==============================] - 2s 6ms/step - loss: 14.3454 - accuracy: 0.7304 - val_loss: 13.6341 - val_accuracy: 0.6692\n",
      "Epoch 6/100\n",
      "326/326 [==============================] - 2s 7ms/step - loss: 12.8139 - accuracy: 0.7365 - val_loss: 12.2014 - val_accuracy: 0.6577\n",
      "Epoch 7/100\n",
      "326/326 [==============================] - 2s 5ms/step - loss: 11.4432 - accuracy: 0.7379 - val_loss: 10.9038 - val_accuracy: 0.6654\n",
      "Epoch 8/100\n",
      "326/326 [==============================] - 2s 6ms/step - loss: 10.2157 - accuracy: 0.7392 - val_loss: 9.7558 - val_accuracy: 0.6577\n",
      "Epoch 9/100\n",
      "326/326 [==============================] - 2s 5ms/step - loss: 9.1227 - accuracy: 0.7383 - val_loss: 8.7500 - val_accuracy: 0.6439\n",
      "Epoch 10/100\n",
      "326/326 [==============================] - 2s 5ms/step - loss: 8.1474 - accuracy: 0.7390 - val_loss: 7.8010 - val_accuracy: 0.6662\n",
      "Epoch 11/100\n",
      "326/326 [==============================] - 2s 5ms/step - loss: 7.2798 - accuracy: 0.7470 - val_loss: 7.0050 - val_accuracy: 0.6531\n",
      "Epoch 12/100\n",
      "326/326 [==============================] - 2s 5ms/step - loss: 6.5088 - accuracy: 0.7472 - val_loss: 6.2764 - val_accuracy: 0.6623\n",
      "Epoch 13/100\n",
      "326/326 [==============================] - 2s 5ms/step - loss: 5.8268 - accuracy: 0.7555 - val_loss: 5.6759 - val_accuracy: 0.6378\n",
      "Epoch 14/100\n",
      "326/326 [==============================] - 2s 6ms/step - loss: 5.2254 - accuracy: 0.7487 - val_loss: 5.0716 - val_accuracy: 0.6646\n",
      "Epoch 15/100\n",
      "326/326 [==============================] - 2s 5ms/step - loss: 4.6949 - accuracy: 0.7526 - val_loss: 4.6006 - val_accuracy: 0.6516\n",
      "Epoch 16/100\n",
      "326/326 [==============================] - 2s 5ms/step - loss: 4.2284 - accuracy: 0.7541 - val_loss: 4.1708 - val_accuracy: 0.6500\n",
      "Epoch 17/100\n",
      "326/326 [==============================] - 2s 5ms/step - loss: 3.8176 - accuracy: 0.7527 - val_loss: 3.7730 - val_accuracy: 0.6554\n",
      "Epoch 18/100\n",
      "326/326 [==============================] - 2s 5ms/step - loss: 3.4594 - accuracy: 0.7543 - val_loss: 3.4600 - val_accuracy: 0.6431\n",
      "Epoch 19/100\n",
      "326/326 [==============================] - 2s 5ms/step - loss: 3.1487 - accuracy: 0.7549 - val_loss: 3.1545 - val_accuracy: 0.6577\n",
      "Epoch 20/100\n",
      "326/326 [==============================] - 2s 5ms/step - loss: 2.8736 - accuracy: 0.7580 - val_loss: 2.8931 - val_accuracy: 0.6608\n",
      "Epoch 21/100\n",
      "326/326 [==============================] - 2s 5ms/step - loss: 2.6342 - accuracy: 0.7579 - val_loss: 2.6645 - val_accuracy: 0.6677\n",
      "Epoch 22/100\n",
      "326/326 [==============================] - 2s 5ms/step - loss: 2.4259 - accuracy: 0.7604 - val_loss: 2.4826 - val_accuracy: 0.6585\n",
      "Epoch 23/100\n",
      "326/326 [==============================] - 2s 5ms/step - loss: 2.2407 - accuracy: 0.7606 - val_loss: 2.3135 - val_accuracy: 0.6631\n",
      "Epoch 24/100\n",
      "326/326 [==============================] - 2s 5ms/step - loss: 2.0780 - accuracy: 0.7647 - val_loss: 2.1836 - val_accuracy: 0.6454\n",
      "Epoch 25/100\n",
      "326/326 [==============================] - 2s 5ms/step - loss: 1.9381 - accuracy: 0.7605 - val_loss: 2.0377 - val_accuracy: 0.6639\n",
      "Epoch 26/100\n",
      "326/326 [==============================] - 2s 5ms/step - loss: 1.8131 - accuracy: 0.7650 - val_loss: 1.9213 - val_accuracy: 0.6616\n",
      "Epoch 27/100\n",
      "326/326 [==============================] - 2s 5ms/step - loss: 1.7004 - accuracy: 0.7659 - val_loss: 1.8292 - val_accuracy: 0.6539\n",
      "Epoch 28/100\n",
      "326/326 [==============================] - 2s 5ms/step - loss: 1.6043 - accuracy: 0.7627 - val_loss: 1.7279 - val_accuracy: 0.6608\n",
      "Epoch 29/100\n",
      "326/326 [==============================] - 2s 5ms/step - loss: 1.5135 - accuracy: 0.7689 - val_loss: 1.6559 - val_accuracy: 0.6562\n",
      "Epoch 30/100\n",
      "326/326 [==============================] - 2s 5ms/step - loss: 1.4342 - accuracy: 0.7680 - val_loss: 1.5405 - val_accuracy: 0.6777\n",
      "Epoch 31/100\n",
      "326/326 [==============================] - 2s 5ms/step - loss: 1.3637 - accuracy: 0.7702 - val_loss: 1.5095 - val_accuracy: 0.6608\n",
      "Epoch 32/100\n",
      "326/326 [==============================] - 2s 5ms/step - loss: 1.3012 - accuracy: 0.7714 - val_loss: 1.4249 - val_accuracy: 0.6692\n",
      "Epoch 33/100\n",
      "326/326 [==============================] - 2s 5ms/step - loss: 1.2423 - accuracy: 0.7712 - val_loss: 1.3797 - val_accuracy: 0.6654\n",
      "Epoch 34/100\n",
      "326/326 [==============================] - 2s 5ms/step - loss: 1.1883 - accuracy: 0.7729 - val_loss: 1.3584 - val_accuracy: 0.6500\n",
      "Epoch 35/100\n",
      "326/326 [==============================] - 2s 5ms/step - loss: 1.1417 - accuracy: 0.7749 - val_loss: 1.3071 - val_accuracy: 0.6562\n",
      "Epoch 36/100\n",
      "326/326 [==============================] - 2s 5ms/step - loss: 1.0968 - accuracy: 0.7754 - val_loss: 1.2552 - val_accuracy: 0.6631\n",
      "Epoch 37/100\n",
      "326/326 [==============================] - 2s 5ms/step - loss: 1.0557 - accuracy: 0.7766 - val_loss: 1.2381 - val_accuracy: 0.6470\n",
      "Epoch 38/100\n",
      "326/326 [==============================] - 2s 5ms/step - loss: 1.0184 - accuracy: 0.7777 - val_loss: 1.2289 - val_accuracy: 0.6270\n",
      "Epoch 39/100\n",
      "326/326 [==============================] - 2s 5ms/step - loss: 0.9847 - accuracy: 0.7784 - val_loss: 1.1867 - val_accuracy: 0.6401\n",
      "Epoch 40/100\n",
      "326/326 [==============================] - 2s 5ms/step - loss: 0.9526 - accuracy: 0.7790 - val_loss: 1.1480 - val_accuracy: 0.6424\n",
      "Epoch 41/100\n",
      "326/326 [==============================] - 2s 5ms/step - loss: 0.9249 - accuracy: 0.7789 - val_loss: 1.0888 - val_accuracy: 0.6723\n",
      "Epoch 42/100\n",
      "326/326 [==============================] - 2s 5ms/step - loss: 0.8967 - accuracy: 0.7770 - val_loss: 1.0572 - val_accuracy: 0.6754\n",
      "Epoch 43/100\n",
      "326/326 [==============================] - 2s 5ms/step - loss: 0.8728 - accuracy: 0.7821 - val_loss: 1.0725 - val_accuracy: 0.6462\n",
      "Epoch 44/100\n",
      "326/326 [==============================] - 2s 5ms/step - loss: 0.8489 - accuracy: 0.7810 - val_loss: 1.0608 - val_accuracy: 0.6378\n",
      "Epoch 45/100\n",
      "326/326 [==============================] - 2s 5ms/step - loss: 0.8291 - accuracy: 0.7839 - val_loss: 1.0062 - val_accuracy: 0.6692\n",
      "Epoch 46/100\n",
      "326/326 [==============================] - 2s 5ms/step - loss: 0.8085 - accuracy: 0.7823 - val_loss: 0.9620 - val_accuracy: 0.6892\n",
      "Epoch 47/100\n",
      "326/326 [==============================] - 2s 5ms/step - loss: 0.7897 - accuracy: 0.7843 - val_loss: 1.0045 - val_accuracy: 0.6439\n",
      "Epoch 48/100\n",
      "326/326 [==============================] - 2s 6ms/step - loss: 0.7717 - accuracy: 0.7839 - val_loss: 0.9901 - val_accuracy: 0.6408\n",
      "Epoch 49/100\n",
      "326/326 [==============================] - 2s 5ms/step - loss: 0.7571 - accuracy: 0.7840 - val_loss: 0.9211 - val_accuracy: 0.6823\n",
      "Epoch 50/100\n",
      "326/326 [==============================] - 2s 5ms/step - loss: 0.7414 - accuracy: 0.7853 - val_loss: 0.9243 - val_accuracy: 0.6646\n",
      "Epoch 51/100\n",
      "326/326 [==============================] - 2s 5ms/step - loss: 0.7264 - accuracy: 0.7865 - val_loss: 0.9435 - val_accuracy: 0.6424\n",
      "Epoch 52/100\n",
      "326/326 [==============================] - 2s 6ms/step - loss: 0.7162 - accuracy: 0.7876 - val_loss: 0.9027 - val_accuracy: 0.6746\n",
      "Epoch 53/100\n",
      "326/326 [==============================] - 2s 5ms/step - loss: 0.7031 - accuracy: 0.7831 - val_loss: 0.9047 - val_accuracy: 0.6569\n",
      "Epoch 54/100\n",
      "326/326 [==============================] - 2s 6ms/step - loss: 0.6918 - accuracy: 0.7873 - val_loss: 0.8950 - val_accuracy: 0.6577\n",
      "Epoch 55/100\n",
      "326/326 [==============================] - 2s 5ms/step - loss: 0.6808 - accuracy: 0.7896 - val_loss: 0.8792 - val_accuracy: 0.6646\n",
      "Epoch 56/100\n",
      "326/326 [==============================] - 2s 5ms/step - loss: 0.6708 - accuracy: 0.7889 - val_loss: 0.8759 - val_accuracy: 0.6623\n",
      "Epoch 57/100\n",
      "326/326 [==============================] - 2s 5ms/step - loss: 0.6614 - accuracy: 0.7897 - val_loss: 0.8810 - val_accuracy: 0.6439\n"
     ]
    },
    {
     "name": "stdout",
     "output_type": "stream",
     "text": [
      "Epoch 58/100\n",
      "326/326 [==============================] - 2s 5ms/step - loss: 0.6512 - accuracy: 0.7882 - val_loss: 0.8795 - val_accuracy: 0.6393\n",
      "Epoch 59/100\n",
      "326/326 [==============================] - 2s 5ms/step - loss: 0.6423 - accuracy: 0.7892 - val_loss: 0.8672 - val_accuracy: 0.6447\n",
      "Epoch 60/100\n",
      "326/326 [==============================] - 2s 5ms/step - loss: 0.6348 - accuracy: 0.7898 - val_loss: 0.8435 - val_accuracy: 0.6600\n",
      "Epoch 61/100\n",
      "326/326 [==============================] - 2s 5ms/step - loss: 0.6269 - accuracy: 0.7899 - val_loss: 0.8444 - val_accuracy: 0.6523\n",
      "Epoch 62/100\n",
      "326/326 [==============================] - 2s 5ms/step - loss: 0.6210 - accuracy: 0.7936 - val_loss: 0.8412 - val_accuracy: 0.6485\n",
      "Epoch 63/100\n",
      "326/326 [==============================] - 2s 5ms/step - loss: 0.6143 - accuracy: 0.7930 - val_loss: 0.8886 - val_accuracy: 0.6270\n",
      "Epoch 64/100\n",
      "326/326 [==============================] - 2s 5ms/step - loss: 0.6063 - accuracy: 0.7929 - val_loss: 0.8429 - val_accuracy: 0.6454\n",
      "Epoch 65/100\n",
      "326/326 [==============================] - 2s 5ms/step - loss: 0.6012 - accuracy: 0.7938 - val_loss: 0.8027 - val_accuracy: 0.6738\n",
      "Epoch 66/100\n",
      "326/326 [==============================] - 2s 5ms/step - loss: 0.5956 - accuracy: 0.7946 - val_loss: 0.8079 - val_accuracy: 0.6646\n",
      "Epoch 67/100\n",
      "326/326 [==============================] - 2s 5ms/step - loss: 0.5895 - accuracy: 0.7923 - val_loss: 0.8338 - val_accuracy: 0.6408\n",
      "Epoch 68/100\n",
      "326/326 [==============================] - 2s 5ms/step - loss: 0.5849 - accuracy: 0.7966 - val_loss: 0.8556 - val_accuracy: 0.6332\n",
      "Epoch 69/100\n",
      "326/326 [==============================] - 2s 5ms/step - loss: 0.5808 - accuracy: 0.7976 - val_loss: 0.8383 - val_accuracy: 0.6370\n",
      "Epoch 70/100\n",
      "326/326 [==============================] - 2s 5ms/step - loss: 0.5760 - accuracy: 0.7946 - val_loss: 0.8029 - val_accuracy: 0.6554\n"
     ]
    }
   ],
   "source": [
    "history = model.fit(X_train, y_label, validation_data=(X_val, y_val_label), batch_size=32,epochs=100,\\\n",
    "                            callbacks=[callback], verbose=1, class_weight=weights_ker, shuffle=True)"
   ]
  },
  {
   "cell_type": "code",
   "execution_count": 27,
   "id": "5b0e2910",
   "metadata": {},
   "outputs": [
    {
     "name": "stdout",
     "output_type": "stream",
     "text": [
      "\n",
      "Training for iteration number:  0\n",
      "41/41 [==============================] - 0s 1ms/step\n",
      "\n",
      "Training for iteration number:  1\n",
      "41/41 [==============================] - 0s 1ms/step\n",
      "\n",
      "Training for iteration number:  2\n",
      "41/41 [==============================] - 0s 1ms/step\n",
      "\n",
      "Training for iteration number:  3\n",
      "41/41 [==============================] - 0s 1ms/step\n",
      "\n",
      "Training for iteration number:  4\n",
      "41/41 [==============================] - 0s 1ms/step\n",
      "\n",
      "Training for iteration number:  5\n",
      "41/41 [==============================] - 0s 1ms/step\n",
      "\n",
      "Training for iteration number:  6\n",
      "41/41 [==============================] - 0s 1ms/step\n",
      "\n",
      "Training for iteration number:  7\n",
      "41/41 [==============================] - 0s 3ms/step\n",
      "\n",
      "Training for iteration number:  8\n",
      "41/41 [==============================] - 0s 1ms/step\n",
      "\n",
      "Training for iteration number:  9\n",
      "41/41 [==============================] - 0s 1ms/step\n",
      "\n",
      "Training for iteration number:  10\n",
      "41/41 [==============================] - 0s 1ms/step\n",
      "\n",
      "Training for iteration number:  11\n",
      "41/41 [==============================] - 0s 1ms/step\n",
      "\n",
      "Training for iteration number:  12\n",
      "41/41 [==============================] - 0s 1ms/step\n",
      "\n",
      "Training for iteration number:  13\n",
      "41/41 [==============================] - 0s 1ms/step\n",
      "\n",
      "Training for iteration number:  14\n",
      "41/41 [==============================] - 0s 2ms/step\n",
      "\n",
      "Training for iteration number:  15\n",
      "41/41 [==============================] - 0s 1ms/step\n",
      "\n",
      "Training for iteration number:  16\n",
      "41/41 [==============================] - 0s 1ms/step\n",
      "\n",
      "Training for iteration number:  17\n",
      "41/41 [==============================] - 0s 1ms/step\n",
      "\n",
      "Training for iteration number:  18\n",
      "41/41 [==============================] - 0s 1ms/step\n",
      "\n",
      "Training for iteration number:  19\n",
      "41/41 [==============================] - 0s 1ms/step\n",
      "\n",
      "Training for iteration number:  20\n",
      "41/41 [==============================] - 0s 1ms/step\n",
      "\n",
      "Training for iteration number:  21\n",
      "41/41 [==============================] - 0s 1ms/step\n",
      "\n",
      "Training for iteration number:  22\n",
      "41/41 [==============================] - 0s 1ms/step\n",
      "\n",
      "Training for iteration number:  23\n",
      "41/41 [==============================] - 0s 1ms/step\n",
      "\n",
      "Training for iteration number:  24\n",
      "41/41 [==============================] - 0s 1ms/step\n",
      "\n",
      "Training for iteration number:  25\n",
      "41/41 [==============================] - 0s 1ms/step\n",
      "\n",
      "Training for iteration number:  26\n",
      "41/41 [==============================] - 0s 1ms/step\n",
      "\n",
      "Training for iteration number:  27\n",
      "41/41 [==============================] - 0s 1ms/step\n",
      "\n",
      "Training for iteration number:  28\n",
      "41/41 [==============================] - 0s 1ms/step\n",
      "\n",
      "Training for iteration number:  29\n",
      "41/41 [==============================] - 0s 2ms/step\n",
      "The average real precision :  0.8326448823448314\n",
      "The average real recall:  0.7900556100752372\n",
      "The average real f1:  0.8106470803311169\n",
      "The average fake precision :  0.3635821803044455\n",
      "The average fake recall:  0.4298122065727699\n",
      "The average fake f1:  0.39335129810477576\n",
      "The average macro precision:  0.5981135313246385\n",
      "The average macro recall:  0.6189615613208199\n",
      "The average macro_f1:  0.6019991892179462\n",
      "The average macro accuracy:  0.7115374776157585\n",
      "The standard deviation on real precision :  0.0041673433893889165\n",
      "The standard deviation on real recall:  0.017430084604346086\n",
      "The standard deviation on real f1:  0.007434951888787076\n",
      "The standard deviation on fake precision :  0.005680225331513003\n",
      "The standard deviation on fake recall:  0.029006524684777588\n",
      "The standard deviation on macro precision:  0.002850546897567992\n",
      "The standard deviation on macro recall:  0.0\n",
      "The standard deviation on macro_f1:  0.003368789138994475\n",
      "The standard deviation on macro accuracy:  0.007676472867039155\n",
      "Average number of epochs 63.266666666666666\n"
     ]
    }
   ],
   "source": [
    "real_precision, real_recall, real_f_score, fake_precision, fake_recall,\\\n",
    "fake_f1, macro_precision, macro_recall, macro_f1, accuracy = run_model(X_train, \\\n",
    "y_label, X_val, y_val_label, X_test, y_test_label, verbose=0, itr=30)"
   ]
  },
  {
   "cell_type": "code",
   "execution_count": 28,
   "id": "6e8f6d0b",
   "metadata": {},
   "outputs": [
    {
     "name": "stdout",
     "output_type": "stream",
     "text": [
      "Real Precision:\n",
      "  [0.8316532258064516, 0.8283433133732535, 0.839344262295082, 0.8321243523316062, 0.8347368421052631, 0.8266009852216749, 0.8359456635318704, 0.8322916666666667, 0.8266932270916335, 0.8285714285714286, 0.8354564755838642, 0.8363636363636363, 0.836864406779661, 0.832146490335707, 0.8321167883211679, 0.8230088495575221, 0.8329918032786885, 0.8345473465140478, 0.8271356783919598, 0.8316115702479339, 0.8412526997840173, 0.8376623376623377, 0.8343815513626834, 0.834375, 0.8350730688935282, 0.8314606741573034, 0.8263052208835341, 0.8322981366459627, 0.8302658486707567, 0.8377239199157007]\n",
      "Real Recall:\n",
      "  [0.8096172718351324, 0.8145240431795878, 0.7536800785083415, 0.788027477919529, 0.7782139352306182, 0.8233562315996075, 0.7850834151128557, 0.7841020608439647, 0.8145240431795878, 0.7968596663395485, 0.7723258096172718, 0.7674190382728164, 0.7752698724239451, 0.802747791952895, 0.7831207065750736, 0.8213935230618253, 0.7978410206084396, 0.7870461236506379, 0.8076545632973503, 0.7899901864573111, 0.7644749754661433, 0.7595682041216879, 0.7811579980372915, 0.7860647693817469, 0.7850834151128557, 0.7988223748773308, 0.8076545632973503, 0.78900883218842, 0.7968596663395485, 0.7801766437684003]\n",
      "Real F1-Score:\n",
      "  [0.8204873197414222, 0.8213755566551212, 0.7942088934850052, 0.8094758064516128, 0.8054850177755205, 0.824975417895772, 0.8097165991902834, 0.8074785245073269, 0.8205635195254574, 0.8124062031015508, 0.8026517083120858, 0.8004094165813714, 0.804890473764646, 0.8171828171828173, 0.8068756319514662, 0.8222003929273085, 0.8150375939849623, 0.81010101010101, 0.817279046673287, 0.8102667337695018, 0.8010282776349614, 0.7967061245496655, 0.8068930562595032, 0.809499747347145, 0.8093070308548305, 0.814814814814815, 0.8168734491315136, 0.8100755667506297, 0.8132198297446169, 0.8079268292682926]\n"
     ]
    }
   ],
   "source": [
    "print(\"Real Precision:\\n \", real_precision)\n",
    "print(\"Real Recall:\\n \", real_recall)\n",
    "print(\"Real F1-Score:\\n \",  real_f_score) "
   ]
  },
  {
   "cell_type": "code",
   "execution_count": 29,
   "id": "5bc9fb32",
   "metadata": {},
   "outputs": [
    {
     "name": "stdout",
     "output_type": "stream",
     "text": [
      "Fake Precision:\n",
      "  [0.3762057877813505, 0.37209302325581395, 0.35309278350515466, 0.3609467455621302, 0.3597733711048159, 0.375, 0.3670520231213873, 0.358600583090379, 0.36789297658862874, 0.3591331269349845, 0.3573407202216066, 0.35597826086956524, 0.362116991643454, 0.371875, 0.35755813953488375, 0.36363636363636365, 0.37003058103975534, 0.3654970760233918, 0.36363636363636365, 0.3611940298507463, 0.363395225464191, 0.35356200527704484, 0.36103151862464183, 0.36443148688046645, 0.3652173913043478, 0.36728395061728397, 0.36156351791530944, 0.3620178041543027, 0.3630769230769231, 0.3672316384180791]\n",
      "Fake Recall:\n",
      "  [0.4119718309859155, 0.39436619718309857, 0.4823943661971831, 0.4295774647887324, 0.4471830985915493, 0.38028169014084506, 0.4471830985915493, 0.43309859154929575, 0.3873239436619718, 0.4084507042253521, 0.45422535211267606, 0.4612676056338028, 0.45774647887323944, 0.41901408450704225, 0.43309859154929575, 0.36619718309859156, 0.426056338028169, 0.44014084507042256, 0.39436619718309857, 0.426056338028169, 0.4823943661971831, 0.47183098591549294, 0.44366197183098594, 0.44014084507042256, 0.44366197183098594, 0.41901408450704225, 0.3908450704225352, 0.4295774647887324, 0.4154929577464789, 0.45774647887323944]\n",
      "Fake F1-Score:\n",
      "  [0.39327731092436974, 0.38290598290598293, 0.4077380952380953, 0.39228295819935693, 0.3987441130298274, 0.37762237762237766, 0.40317460317460313, 0.3923444976076555, 0.37735849056603776, 0.3822075782537067, 0.4, 0.401840490797546, 0.4043545878693624, 0.3940397350993378, 0.39171974522292996, 0.36491228070175435, 0.3960720130932897, 0.3993610223642173, 0.3783783783783784, 0.3909531502423263, 0.4145234493192133, 0.4042232277526395, 0.3981042654028436, 0.3987240829346092, 0.40063593004769477, 0.39144736842105265, 0.3756345177664975, 0.3929146537842191, 0.38752052545155996, 0.40752351097178685]\n"
     ]
    }
   ],
   "source": [
    "print(\"Fake Precision:\\n \", fake_precision)\n",
    "print(\"Fake Recall:\\n \", fake_recall)\n",
    "print(\"Fake F1-Score:\\n \", fake_f1)"
   ]
  },
  {
   "cell_type": "code",
   "execution_count": 30,
   "id": "0463d77a",
   "metadata": {},
   "outputs": [
    {
     "name": "stdout",
     "output_type": "stream",
     "text": [
      "Macro Precision:\n",
      "  [0.603929506793901, 0.6002181683145338, 0.5962185229001183, 0.5965355489468682, 0.5972551066050396, 0.6008004926108375, 0.6014988433266288, 0.5954461248785228, 0.5972931018401311, 0.5938522777532066, 0.5963985979027354, 0.5961709486166008, 0.5994906992115575, 0.6020107451678535, 0.5948374639280258, 0.5933226065969428, 0.6015111921592219, 0.6000222112687198, 0.5953860210141617, 0.5964028000493401, 0.6023239626241041, 0.5956121714696913, 0.5977065349936627, 0.5994032434402332, 0.600145230098938, 0.5993723123872937, 0.5939343693994218, 0.5971579704001327, 0.5966713858738399, 0.6024777791668899]\n",
      "Macro Recall:\n",
      "  [0.610794551410524, 0.6044451201813432, 0.6180372223527624, 0.6088024713541307, 0.6126985169110838, 0.6018189608702262, 0.6161332568522025, 0.6086003261966302, 0.6009239934207798, 0.6026551852824503, 0.6132755808649739, 0.6143433219533097, 0.6165081756485923, 0.6108809382299687, 0.6081096490621847, 0.5937953530802085, 0.6119486793183043, 0.6135934843605302, 0.6010103802402245, 0.6080232622427401, 0.6234346708316632, 0.6156995950185904, 0.6124099849341387, 0.6131028072260847, 0.6143726934719208, 0.6089182296921865, 0.5992498168599427, 0.6092931484885762, 0.6061763120430137, 0.6189615613208199]\n",
      "Macro F1-Score:\n",
      "  [0.6068823153328959, 0.6021407697805521, 0.6009734943615502, 0.6008793823254849, 0.6021145654026739, 0.6012988977590749, 0.6064456011824433, 0.5999115110574912, 0.5989610050457476, 0.5973068906776288, 0.6013258541560429, 0.6011249536894587, 0.6046225308170041, 0.6056112761410776, 0.5992976885871981, 0.5935563368145315, 0.605554803539126, 0.6047310162326136, 0.5978287125258327, 0.600609942005914, 0.6077758634770873, 0.6004646761511525, 0.6024986608311734, 0.6041119151408771, 0.6049714804512626, 0.6031310916179338, 0.5962539834490055, 0.6014951102674244, 0.6003701775980884, 0.6077251701200397]\n",
      "Accuracy Score:\n",
      "  [0.7229470452801228, 0.7229470452801228, 0.6945510360706063, 0.7099002302379125, 0.7060629316960859, 0.7267843438219493, 0.7114351496546432, 0.7075978511128166, 0.7214121258633922, 0.7122026093630084, 0.7029930928626247, 0.7006907137375288, 0.7060629316960859, 0.7191097467382962, 0.7068303914044513, 0.7221795855717574, 0.7168073676132003, 0.7114351496546432, 0.7175748273215656, 0.7106676899462778, 0.7029930928626247, 0.6968534151957022, 0.7075978511128166, 0.7106676899462778, 0.7106676899462778, 0.716039907904835, 0.7168073676132003, 0.7106676899462778, 0.7137375287797391, 0.7099002302379125]\n"
     ]
    }
   ],
   "source": [
    "print(\"Macro Precision:\\n \", macro_precision)\n",
    "print(\"Macro Recall:\\n \", macro_recall)\n",
    "print(\"Macro F1-Score:\\n \", macro_f1)\n",
    "print(\"Accuracy Score:\\n \", accuracy)"
   ]
  },
  {
   "cell_type": "code",
   "execution_count": 24,
   "id": "d0ee8741",
   "metadata": {},
   "outputs": [],
   "source": [
    "def plot_accuracy(history):\n",
    "    plt.plot(history.history['accuracy'])\n",
    "    plt.plot(history.history['val_accuracy'])\n",
    "    plt.title('Model accuracy')\n",
    "    plt.ylabel('Accuracy')\n",
    "    plt.xlabel('Epoch')\n",
    "    plt.legend(['Train', 'Test'], loc='upper left')\n",
    "    plt.show()"
   ]
  },
  {
   "cell_type": "code",
   "execution_count": 25,
   "id": "52cc355f",
   "metadata": {},
   "outputs": [],
   "source": [
    "def plot_loss(history):\n",
    "    plt.plot(history.history['loss'])\n",
    "    plt.plot(history.history['val_loss'])\n",
    "    plt.title('Model Loss')\n",
    "    plt.ylabel('Loss')\n",
    "    plt.xlabel('Epoch')\n",
    "    plt.legend(['Train', 'Test'], loc='upper left')\n",
    "    plt.show()"
   ]
  },
  {
   "cell_type": "code",
   "execution_count": 26,
   "id": "9824863d",
   "metadata": {},
   "outputs": [
    {
     "data": {
      "image/png": "[encoded data removed]",
      "text/plain": [
       "<Figure size 432x288 with 1 Axes>"
      ]
     },
     "metadata": {
      "needs_background": "light"
     },
     "output_type": "display_data"
    },
    {
     "data": {
      "image/png": "[encoded data removed]",
      "text/plain": [
       "<Figure size 432x288 with 1 Axes>"
      ]
     },
     "metadata": {
      "needs_background": "light"
     },
     "output_type": "display_data"
    }
   ],
   "source": [
    "model_text_plotacc = plot_accuracy(history)\n",
    "model_text_plotloss = plot_loss(history)"
   ]
  },
  {
   "cell_type": "code",
   "execution_count": null,
   "id": "f07ae6b4",
   "metadata": {},
   "outputs": [],
   "source": []
  }
 ],
 "metadata": {
  "kernelspec": {
   "display_name": "Python 3",
   "language": "python",
   "name": "python3"
  },
  "language_info": {
   "codemirror_mode": {
    "name": "ipython",
    "version": 3
   },
   "file_extension": ".py",
   "mimetype": "text/x-python",
   "name": "python",
   "nbconvert_exporter": "python",
   "pygments_lexer": "ipython3",
   "version": "3.8.8"
  }
 },
 "nbformat": 4,
 "nbformat_minor": 5
}
