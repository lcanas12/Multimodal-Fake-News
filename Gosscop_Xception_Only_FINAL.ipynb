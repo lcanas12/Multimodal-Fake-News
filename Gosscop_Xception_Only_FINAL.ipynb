{
 "cells": [
  {
   "cell_type": "code",
   "execution_count": 1,
   "id": "8eb43939",
   "metadata": {},
   "outputs": [],
   "source": [
    "import pandas as pd\n",
    "import sklearn\n",
    "import numpy as np\n",
    "import os\n",
    "from pathlib import Path\n",
    "from sklearn.model_selection import train_test_split\n",
    "import torch\n",
    "from datasets import load_dataset\n",
    "import tensorflow as tf\n",
    "import tensorflow_addons as tfa\n",
    "import gc\n",
    "\n",
    "from keras import optimizers\n",
    "import matplotlib.pyplot as plt\n",
    "from keras import initializers\n",
    "from keras.utils import np_utils\n",
    "from keras import regularizers\n",
    "from keras.models import Sequential, Model\n",
    "from keras.callbacks import ModelCheckpoint\n",
    "from keras.layers import concatenate\n",
    "from keras.layers import Dense, Flatten, Dropout, Input, BatchNormalization, ReLU\n",
    "from keras.layers import LSTM, Bidirectional\n",
    "import pickle\n",
    "from sklearn.metrics import confusion_matrix\n",
    "from sklearn.metrics import classification_report, accuracy_score\n",
    "\n",
    "\n",
    "import keras\n",
    "\n",
    "import matplotlib.pyplot as plt\n",
    "%matplotlib inline"
   ]
  },
  {
   "cell_type": "code",
   "execution_count": 2,
   "id": "71be2295",
   "metadata": {},
   "outputs": [],
   "source": [
    "df_goss_train = pd.read_pickle('../../Dissertation - Fake News/Embeddings/df_train_xception.pkl')\n",
    "df_goss_val = pd.read_pickle('../../Dissertation - Fake News/Embeddings/df_val_xception.pkl')\n",
    "df_goss_test = pd.read_pickle('../../Dissertation - Fake News/Embeddings/df_test_xception.pkl')"
   ]
  },
  {
   "cell_type": "code",
   "execution_count": 3,
   "id": "6c51d2c4",
   "metadata": {},
   "outputs": [
    {
     "data": {
      "text/html": [
       "<div>\n",
       "<style scoped>\n",
       "    .dataframe tbody tr th:only-of-type {\n",
       "        vertical-align: middle;\n",
       "    }\n",
       "\n",
       "    .dataframe tbody tr th {\n",
       "        vertical-align: top;\n",
       "    }\n",
       "\n",
       "    .dataframe thead th {\n",
       "        text-align: right;\n",
       "    }\n",
       "</style>\n",
       "<table border=\"1\" class=\"dataframe\">\n",
       "  <thead>\n",
       "    <tr style=\"text-align: right;\">\n",
       "      <th></th>\n",
       "      <th>img_features</th>\n",
       "      <th>label</th>\n",
       "      <th>idx</th>\n",
       "    </tr>\n",
       "  </thead>\n",
       "  <tbody>\n",
       "    <tr>\n",
       "      <th>1902</th>\n",
       "      <td>[[0.06194809, 0.057009038, 0.0064003034, 0.008...</td>\n",
       "      <td>0</td>\n",
       "      <td>1934</td>\n",
       "    </tr>\n",
       "    <tr>\n",
       "      <th>1386</th>\n",
       "      <td>[[0.15035054, 0.16874047, 0.12524872, 0.003353...</td>\n",
       "      <td>0</td>\n",
       "      <td>1408</td>\n",
       "    </tr>\n",
       "    <tr>\n",
       "      <th>2539</th>\n",
       "      <td>[[0.14565009, 0.09997965, 0.5346557, 0.0057487...</td>\n",
       "      <td>0</td>\n",
       "      <td>2589</td>\n",
       "    </tr>\n",
       "    <tr>\n",
       "      <th>5649</th>\n",
       "      <td>[[0.32312977, 0.29112035, 0.20511524, 0.093824...</td>\n",
       "      <td>1</td>\n",
       "      <td>5778</td>\n",
       "    </tr>\n",
       "    <tr>\n",
       "      <th>2869</th>\n",
       "      <td>[[0.0056584068, 0.05872748, 0.00397057, 0.2490...</td>\n",
       "      <td>0</td>\n",
       "      <td>2922</td>\n",
       "    </tr>\n",
       "  </tbody>\n",
       "</table>\n",
       "</div>"
      ],
      "text/plain": [
       "                                           img_features  label   idx\n",
       "1902  [[0.06194809, 0.057009038, 0.0064003034, 0.008...      0  1934\n",
       "1386  [[0.15035054, 0.16874047, 0.12524872, 0.003353...      0  1408\n",
       "2539  [[0.14565009, 0.09997965, 0.5346557, 0.0057487...      0  2589\n",
       "5649  [[0.32312977, 0.29112035, 0.20511524, 0.093824...      1  5778\n",
       "2869  [[0.0056584068, 0.05872748, 0.00397057, 0.2490...      0  2922"
      ]
     },
     "execution_count": 3,
     "metadata": {},
     "output_type": "execute_result"
    }
   ],
   "source": [
    "df_goss_train.head()"
   ]
  },
  {
   "cell_type": "code",
   "execution_count": 4,
   "id": "97a2a8a1",
   "metadata": {},
   "outputs": [],
   "source": [
    "def label_change(df):\n",
    "    if df['label'] == 0: return 1\n",
    "    else: return 0"
   ]
  },
  {
   "cell_type": "code",
   "execution_count": 5,
   "id": "7c9b52ff",
   "metadata": {},
   "outputs": [
    {
     "data": {
      "text/html": [
       "<div>\n",
       "<style scoped>\n",
       "    .dataframe tbody tr th:only-of-type {\n",
       "        vertical-align: middle;\n",
       "    }\n",
       "\n",
       "    .dataframe tbody tr th {\n",
       "        vertical-align: top;\n",
       "    }\n",
       "\n",
       "    .dataframe thead th {\n",
       "        text-align: right;\n",
       "    }\n",
       "</style>\n",
       "<table border=\"1\" class=\"dataframe\">\n",
       "  <thead>\n",
       "    <tr style=\"text-align: right;\">\n",
       "      <th></th>\n",
       "      <th>img_features</th>\n",
       "      <th>label</th>\n",
       "      <th>idx</th>\n",
       "      <th>target</th>\n",
       "    </tr>\n",
       "  </thead>\n",
       "  <tbody>\n",
       "    <tr>\n",
       "      <th>1902</th>\n",
       "      <td>[[0.06194809, 0.057009038, 0.0064003034, 0.008...</td>\n",
       "      <td>0</td>\n",
       "      <td>1934</td>\n",
       "      <td>1</td>\n",
       "    </tr>\n",
       "    <tr>\n",
       "      <th>1386</th>\n",
       "      <td>[[0.15035054, 0.16874047, 0.12524872, 0.003353...</td>\n",
       "      <td>0</td>\n",
       "      <td>1408</td>\n",
       "      <td>1</td>\n",
       "    </tr>\n",
       "    <tr>\n",
       "      <th>2539</th>\n",
       "      <td>[[0.14565009, 0.09997965, 0.5346557, 0.0057487...</td>\n",
       "      <td>0</td>\n",
       "      <td>2589</td>\n",
       "      <td>1</td>\n",
       "    </tr>\n",
       "    <tr>\n",
       "      <th>5649</th>\n",
       "      <td>[[0.32312977, 0.29112035, 0.20511524, 0.093824...</td>\n",
       "      <td>1</td>\n",
       "      <td>5778</td>\n",
       "      <td>0</td>\n",
       "    </tr>\n",
       "    <tr>\n",
       "      <th>2869</th>\n",
       "      <td>[[0.0056584068, 0.05872748, 0.00397057, 0.2490...</td>\n",
       "      <td>0</td>\n",
       "      <td>2922</td>\n",
       "      <td>1</td>\n",
       "    </tr>\n",
       "  </tbody>\n",
       "</table>\n",
       "</div>"
      ],
      "text/plain": [
       "                                           img_features  label   idx  target\n",
       "1902  [[0.06194809, 0.057009038, 0.0064003034, 0.008...      0  1934       1\n",
       "1386  [[0.15035054, 0.16874047, 0.12524872, 0.003353...      0  1408       1\n",
       "2539  [[0.14565009, 0.09997965, 0.5346557, 0.0057487...      0  2589       1\n",
       "5649  [[0.32312977, 0.29112035, 0.20511524, 0.093824...      1  5778       0\n",
       "2869  [[0.0056584068, 0.05872748, 0.00397057, 0.2490...      0  2922       1"
      ]
     },
     "execution_count": 5,
     "metadata": {},
     "output_type": "execute_result"
    }
   ],
   "source": [
    "df_goss_train['target'] = df_goss_train.apply(label_change, axis=1)\n",
    "df_goss_train.head()"
   ]
  },
  {
   "cell_type": "code",
   "execution_count": 6,
   "id": "ffd94fd1",
   "metadata": {},
   "outputs": [],
   "source": [
    "df_goss_val['target'] = df_goss_val.apply(label_change, axis=1)\n",
    "df_goss_test['target'] = df_goss_test.apply(label_change, axis=1)"
   ]
  },
  {
   "cell_type": "code",
   "execution_count": 7,
   "id": "84ec57ff",
   "metadata": {},
   "outputs": [
    {
     "name": "stdout",
     "output_type": "stream",
     "text": [
      "[0.64400494 2.2360515 ]\n"
     ]
    },
    {
     "name": "stderr",
     "output_type": "stream",
     "text": [
      "C:\\Users\\labca\\anaconda3\\lib\\site-packages\\sklearn\\utils\\validation.py:70: FutureWarning: Pass classes=[0 1], y=[0 0 0 ... 1 1 1] as keyword args. From version 1.0 (renaming of 0.25) passing these as positional arguments will result in an error\n",
      "  warnings.warn(f\"Pass {args_msg} as keyword args. From version \"\n"
     ]
    }
   ],
   "source": [
    "# Count samples per class: 0-real, 1-fake\n",
    "classes_zero = df_goss_train[df_goss_train['target'] == 0]\n",
    "classes_one = df_goss_train[df_goss_train['target'] == 1]\n",
    "\n",
    "# Convert parts into NumPy arrays for weight computation\n",
    "zero_numpy = classes_zero['target'].to_numpy()\n",
    "one_numpy = classes_one['target'].to_numpy()\n",
    "all_together = np.concatenate((zero_numpy, one_numpy))\n",
    "unique_classes = np.unique(all_together)\n",
    "\n",
    "# Compute weights\n",
    "weights = sklearn.utils.class_weight.compute_class_weight('balanced', unique_classes, all_together)\n",
    "print(weights)"
   ]
  },
  {
   "cell_type": "code",
   "execution_count": 8,
   "id": "9222804e",
   "metadata": {},
   "outputs": [
    {
     "data": {
      "text/plain": [
       "{0: 0.6440049443757726, 1: 2.236051502145923}"
      ]
     },
     "execution_count": 8,
     "metadata": {},
     "output_type": "execute_result"
    }
   ],
   "source": [
    "weights_ker = {i : weights[i] for i in range(2)}\n",
    "weights_ker"
   ]
  },
  {
   "cell_type": "code",
   "execution_count": 9,
   "id": "fedaae25",
   "metadata": {},
   "outputs": [
    {
     "data": {
      "text/plain": [
       "(10420, 1, 2048)"
      ]
     },
     "execution_count": 9,
     "metadata": {},
     "output_type": "execute_result"
    }
   ],
   "source": [
    "array_train = df_goss_train[[\"img_features\",\"target\"]].to_numpy() \n",
    "X_train = np.array(array_train[:,0].tolist())\n",
    "X_train.shape"
   ]
  },
  {
   "cell_type": "code",
   "execution_count": 10,
   "id": "b9b2b545",
   "metadata": {},
   "outputs": [
    {
     "data": {
      "text/plain": [
       "(10420, 2048)"
      ]
     },
     "execution_count": 10,
     "metadata": {},
     "output_type": "execute_result"
    }
   ],
   "source": [
    "X_train = np.squeeze(X_train, 1)\n",
    "X_train.shape"
   ]
  },
  {
   "cell_type": "code",
   "execution_count": 11,
   "id": "c524a0b3",
   "metadata": {},
   "outputs": [
    {
     "data": {
      "text/plain": [
       "(10420,)"
      ]
     },
     "execution_count": 11,
     "metadata": {},
     "output_type": "execute_result"
    }
   ],
   "source": [
    "y_label = np.array(array_train[:,1].tolist())\n",
    "y_label.shape"
   ]
  },
  {
   "cell_type": "code",
   "execution_count": 12,
   "id": "248a00ef",
   "metadata": {},
   "outputs": [],
   "source": [
    "array_val = df_goss_val[[\"img_features\",\"target\"]].to_numpy() \n",
    "X_val = np.array(array_val[:,0].tolist())\n",
    "X_val = np.squeeze(X_val, 1)\n",
    "y_val_label = np.array(array_val[:,1].tolist())\n",
    "\n",
    "array_test = df_goss_test[[\"img_features\",\"target\"]].to_numpy() \n",
    "X_test = np.array(array_test[:,0].tolist())\n",
    "X_test = np.squeeze(X_test, 1)\n",
    "y_test_label = np.array(array_test[:,1].tolist())"
   ]
  },
  {
   "cell_type": "code",
   "execution_count": 13,
   "id": "036c42e4",
   "metadata": {},
   "outputs": [],
   "source": [
    "def reset_tensorflow_keras_backend():\n",
    "    keras.backend.clear_session()\n",
    "    tf.compat.v1.reset_default_graph()\n",
    "    _ = gc.collect()"
   ]
  },
  {
   "cell_type": "code",
   "execution_count": 14,
   "id": "4845b495",
   "metadata": {},
   "outputs": [],
   "source": [
    "def reinitialize(model):\n",
    "    for l in model.layers:\n",
    "        if hasattr(l,\"kernel_initializer\"):\n",
    "            l.kernel.assign(l.kernel_initializer(tf.shape(l.kernel)))\n",
    "        if hasattr(l,\"bias_initializer\"):\n",
    "            l.bias.assign(l.bias_initializer(tf.shape(l.bias)))\n",
    "        if hasattr(l,\"recurrent_initializer\"):\n",
    "            l.recurrent_kernel.assign(l.recurrent_initializer(tf.shape(l.recurrent_kernel)))"
   ]
  },
  {
   "cell_type": "code",
   "execution_count": 15,
   "id": "7d159b5d",
   "metadata": {},
   "outputs": [],
   "source": [
    "adam = optimizers.Adam(learning_rate=1e-5)\n",
    "callback = tf.keras.callbacks.EarlyStopping(monitor='val_loss', patience=5, restore_best_weights=True)"
   ]
  },
  {
   "cell_type": "code",
   "execution_count": 16,
   "id": "b3e62209",
   "metadata": {},
   "outputs": [],
   "source": [
    "input_img = Input(shape=(2048))\n",
    "img_dense = Dense(1024, activation='relu', kernel_regularizer=regularizers.l2(0.01),\\\n",
    "                kernel_initializer=initializers.he_normal(seed=0))(input_img)\n",
    "dropout_img = Dropout(0.4)(img_dense)\n",
    "img_dense = Dense(512, activation='relu', kernel_regularizer=regularizers.l2(0.01),\\\n",
    "                kernel_initializer=initializers.he_normal(seed=0))(dropout_img)\n",
    "img_dense = Dense(128, activation='relu', kernel_regularizer=regularizers.l2(0.01),\\\n",
    "                kernel_initializer=initializers.he_normal(seed=0))(dropout_img)\n",
    "output = Dense(1, activation='sigmoid')(img_dense)\n",
    "model = Model(inputs=input_img, outputs=output)\n",
    "model.compile(loss='binary_crossentropy', optimizer=adam, metrics='accuracy')"
   ]
  },
  {
   "cell_type": "code",
   "execution_count": 17,
   "id": "109b7623",
   "metadata": {},
   "outputs": [
    {
     "name": "stdout",
     "output_type": "stream",
     "text": [
      "Model: \"model\"\n",
      "_________________________________________________________________\n",
      " Layer (type)                Output Shape              Param #   \n",
      "=================================================================\n",
      " input_1 (InputLayer)        [(None, 2048)]            0         \n",
      "                                                                 \n",
      " dense (Dense)               (None, 1024)              2098176   \n",
      "                                                                 \n",
      " dropout (Dropout)           (None, 1024)              0         \n",
      "                                                                 \n",
      " dense_2 (Dense)             (None, 128)               131200    \n",
      "                                                                 \n",
      " dense_3 (Dense)             (None, 1)                 129       \n",
      "                                                                 \n",
      "=================================================================\n",
      "Total params: 2,229,505\n",
      "Trainable params: 2,229,505\n",
      "Non-trainable params: 0\n",
      "_________________________________________________________________\n"
     ]
    }
   ],
   "source": [
    "model.summary()"
   ]
  },
  {
   "cell_type": "code",
   "execution_count": 18,
   "id": "74044f1f",
   "metadata": {},
   "outputs": [],
   "source": [
    "def run_model(X_train, train_label, X_val, val_label, X_test, test_label, batch_size=32,epochs=100, verbose=1, class_weight=weights_ker, \\\n",
    "              itr=30, shuffle=True):\n",
    "    \n",
    "    adam = optimizers.Adam(learning_rate=1e-5)\n",
    "    callback = tf.keras.callbacks.EarlyStopping(monitor='val_loss', patience=3, restore_best_weights=True)\n",
    "    \n",
    "    real_precision_list = []\n",
    "    real_recall_list = []\n",
    "    real_f1_list = []\n",
    "    fake_precision_list = []\n",
    "    fake_recall_list = []\n",
    "    fake_f1_list = []\n",
    "    \n",
    "    macro_precision_list = []\n",
    "    macro_recall_list = []\n",
    "    macro_f1_list = []\n",
    "    accuracy_list = []\n",
    "    num_epochs = []\n",
    "\n",
    "    #Define model\n",
    "    input_img = Input(shape=(2048))\n",
    "    dense_img = Dense(1024, activation='relu', kernel_regularizer=regularizers.l2(0.01),\\\n",
    "                kernel_initializer=initializers.he_normal(seed=0))(input_img)\n",
    "    dropout_img = Dropout(0.4)(dense_img)\n",
    "    dense_img = Dense(512, activation='relu', kernel_regularizer=regularizers.l2(0.01),\\\n",
    "                kernel_initializer=initializers.he_normal(seed=0))(dropout_img)\n",
    "    dense_img = Dense(128, activation='relu', kernel_regularizer=regularizers.l2(0.01),\\\n",
    "                kernel_initializer=initializers.he_normal(seed=0))(dense_img)\n",
    "    output = Dense(1, activation='sigmoid')(dense_img)\n",
    "    model = Model(inputs=input_img, outputs=output)\n",
    "    model.compile(loss='binary_crossentropy', optimizer=adam, metrics='accuracy')\n",
    "        \n",
    "    for i in range(0,itr):\n",
    "        print(\"\\nTraining for iteration number: \", i)\n",
    "        reset_tensorflow_keras_backend()\n",
    "        reinitialize(model)\n",
    "        history = model.fit(X_train, train_label, validation_data=(X_val, val_label), batch_size=batch_size,epochs=epochs,\n",
    "                            callbacks=[callback], verbose=verbose, class_weight=class_weight, shuffle=shuffle)\n",
    "        \n",
    "        y_pred = model.predict(X_test)\n",
    "        predictions = list(map(lambda x: 0 if x<0.5 else 1, y_pred))\n",
    "        \n",
    "        report = classification_report(y_test_label, predictions, target_names=['real','fake'], output_dict=True)\n",
    "        real_precision = report['real']['precision'] \n",
    "        real_recall = report['real']['recall'] \n",
    "        real_f1 = report['real']['f1-score'] \n",
    "        fake_precision = report['fake']['precision'] \n",
    "        fake_recall = report['fake']['recall'] \n",
    "        fake_f1 = report['fake']['f1-score'] \n",
    "        \n",
    "        macro_precision =  report['macro avg']['precision'] \n",
    "        macro_recall = report['macro avg']['recall']    \n",
    "        macro_f1 = report['macro avg']['f1-score']\n",
    "        accuracy = report['accuracy']\n",
    "\n",
    "        real_precision_list.append(real_precision)\n",
    "        real_recall_list.append(real_recall)\n",
    "        real_f1_list.append(real_f1)\n",
    "        fake_precision_list.append(fake_precision)\n",
    "        fake_recall_list.append(fake_recall)\n",
    "        fake_f1_list.append(fake_f1)\n",
    "        \n",
    "        macro_precision_list.append(macro_precision)\n",
    "        macro_recall_list.append(macro_recall)\n",
    "        macro_f1_list.append(macro_f1)\n",
    "        accuracy_list.append(accuracy)\n",
    "        num_epochs.append(len(history.history['loss']))\n",
    "        \n",
    "        \n",
    "    mean_real_precision = np.mean(real_precision_list)\n",
    "    mean_real_recall = np.mean(real_recall_list)\n",
    "    mean_real_f1 = np.mean(real_f1_list)\n",
    "    mean_fake_precision = np.mean(fake_precision_list)\n",
    "    mean_fake_recall= np.mean(fake_recall_list)\n",
    "    mean_fake_f1 = np.mean(fake_f1_list)\n",
    "    \n",
    "    mean_macro_precision = np.mean(macro_precision_list)\n",
    "    mean_macro_recall = np.mean(macro_recall)\n",
    "    mean_macro_f1 = np.mean(macro_f1_list)\n",
    "    mean_accuracy = np.mean(accuracy_list)\n",
    "    mean_epoch = np.mean(num_epochs)\n",
    "    \n",
    "    std_real_precision = np.std(real_precision_list)\n",
    "    std_real_recall = np.std(real_recall_list)\n",
    "    std_real_f1 = np.std(real_f1_list)\n",
    "    std_fake_precision = np.std(fake_precision_list)\n",
    "    std_fake_recall= np.std(fake_recall_list)\n",
    "    std_fake_f1 = np.std(fake_f1_list)\n",
    "    \n",
    "    std_macro_precision = np.std(macro_precision_list)\n",
    "    std_macro_recall = np.std(macro_recall)\n",
    "    std_macro_f1 = np.std(macro_f1_list)\n",
    "    std_accuracy = np.std(accuracy_list)\n",
    "\n",
    "    print(\"The average real precision : \", mean_real_precision)\n",
    "    print(\"The average real recall: \", mean_real_recall)\n",
    "    print(\"The average real f1: \", mean_real_f1)\n",
    "    print(\"The average fake precision : \", mean_fake_precision)\n",
    "    print(\"The average fake recall: \", mean_fake_recall)\n",
    "    print(\"The average fake f1: \", mean_fake_f1)\n",
    "    print(\"The average macro precision: \", mean_macro_precision)\n",
    "    print(\"The average macro recall: \", mean_macro_recall)\n",
    "    print(\"The average macro_f1: \", mean_macro_f1)\n",
    "    print(\"The average macro accuracy: \", mean_accuracy)\n",
    "    \n",
    "    print(\"The standard deviation on real precision : \", std_real_precision)\n",
    "    print(\"The standard deviation on real recall: \", std_real_recall)\n",
    "    print(\"The standard deviation on real f1: \", std_real_f1)\n",
    "    print(\"The standard deviation on fake precision : \", std_fake_precision)\n",
    "    print(\"The standard deviation on fake recall: \", std_fake_recall)\n",
    "    print(\"The standard deviation on macro precision: \", std_macro_precision)\n",
    "    print(\"The standard deviation on macro recall: \", std_macro_recall)\n",
    "    print(\"The standard deviation on macro_f1: \", std_macro_f1)\n",
    "    print(\"The standard deviation on macro accuracy: \", std_accuracy)\n",
    "    print(\"Average number of epochs\", mean_epoch)\n",
    "    \n",
    "    return real_precision_list, real_recall_list, real_f1_list, fake_precision_list, fake_recall_list, fake_f1_list,\\\n",
    "    macro_precision_list, macro_recall_list, macro_f1_list, accuracy_list"
   ]
  },
  {
   "cell_type": "code",
   "execution_count": 19,
   "id": "b4a42ef1",
   "metadata": {},
   "outputs": [
    {
     "name": "stdout",
     "output_type": "stream",
     "text": [
      "Epoch 1/100\n",
      "326/326 [==============================] - 3s 6ms/step - loss: 22.4855 - accuracy: 0.5302 - val_loss: 21.2645 - val_accuracy: 0.5418\n",
      "Epoch 2/100\n",
      "326/326 [==============================] - 2s 5ms/step - loss: 20.1398 - accuracy: 0.5633 - val_loss: 19.0473 - val_accuracy: 0.5733\n",
      "Epoch 3/100\n",
      "326/326 [==============================] - 2s 5ms/step - loss: 18.0386 - accuracy: 0.5711 - val_loss: 17.0807 - val_accuracy: 0.5334\n",
      "Epoch 4/100\n",
      "326/326 [==============================] - 2s 5ms/step - loss: 16.1511 - accuracy: 0.5857 - val_loss: 15.2613 - val_accuracy: 0.6147\n",
      "Epoch 5/100\n",
      "326/326 [==============================] - 2s 5ms/step - loss: 14.4603 - accuracy: 0.5905 - val_loss: 13.6711 - val_accuracy: 0.6117\n",
      "Epoch 6/100\n",
      "326/326 [==============================] - 2s 5ms/step - loss: 12.9460 - accuracy: 0.5959 - val_loss: 12.2394 - val_accuracy: 0.6132\n",
      "Epoch 7/100\n",
      "326/326 [==============================] - 2s 5ms/step - loss: 11.5860 - accuracy: 0.6026 - val_loss: 10.9784 - val_accuracy: 0.5618\n",
      "Epoch 8/100\n",
      "326/326 [==============================] - 2s 5ms/step - loss: 10.3695 - accuracy: 0.6016 - val_loss: 9.8188 - val_accuracy: 0.5879\n",
      "Epoch 9/100\n",
      "326/326 [==============================] - 2s 5ms/step - loss: 9.2841 - accuracy: 0.6059 - val_loss: 8.7976 - val_accuracy: 0.5840\n",
      "Epoch 10/100\n",
      "326/326 [==============================] - 2s 5ms/step - loss: 8.3117 - accuracy: 0.6175 - val_loss: 7.9011 - val_accuracy: 0.5579\n",
      "Epoch 11/100\n",
      "326/326 [==============================] - 2s 5ms/step - loss: 7.4522 - accuracy: 0.6077 - val_loss: 7.0575 - val_accuracy: 0.6201\n",
      "Epoch 12/100\n",
      "326/326 [==============================] - 2s 5ms/step - loss: 6.6866 - accuracy: 0.6101 - val_loss: 6.3328 - val_accuracy: 0.6285\n",
      "Epoch 13/100\n",
      "326/326 [==============================] - 2s 5ms/step - loss: 6.0081 - accuracy: 0.6195 - val_loss: 5.7215 - val_accuracy: 0.5848\n",
      "Epoch 14/100\n",
      "326/326 [==============================] - 2s 5ms/step - loss: 5.4071 - accuracy: 0.6228 - val_loss: 5.1258 - val_accuracy: 0.6378\n",
      "Epoch 15/100\n",
      "326/326 [==============================] - 2s 5ms/step - loss: 4.8751 - accuracy: 0.6312 - val_loss: 4.6530 - val_accuracy: 0.6002\n",
      "Epoch 16/100\n",
      "326/326 [==============================] - 2s 5ms/step - loss: 4.4065 - accuracy: 0.6255 - val_loss: 4.1986 - val_accuracy: 0.6301\n",
      "Epoch 17/100\n",
      "326/326 [==============================] - 2s 5ms/step - loss: 3.9938 - accuracy: 0.6263 - val_loss: 3.8263 - val_accuracy: 0.6101\n",
      "Epoch 18/100\n",
      "326/326 [==============================] - 2s 5ms/step - loss: 3.6333 - accuracy: 0.6316 - val_loss: 3.5189 - val_accuracy: 0.5618\n",
      "Epoch 19/100\n",
      "326/326 [==============================] - 2s 5ms/step - loss: 3.3163 - accuracy: 0.6327 - val_loss: 3.1578 - val_accuracy: 0.6677\n",
      "Epoch 20/100\n",
      "326/326 [==============================] - 2s 5ms/step - loss: 3.0378 - accuracy: 0.6381 - val_loss: 2.9609 - val_accuracy: 0.5748\n",
      "Epoch 21/100\n",
      "326/326 [==============================] - 2s 5ms/step - loss: 2.7922 - accuracy: 0.6434 - val_loss: 2.7030 - val_accuracy: 0.6155\n",
      "Epoch 22/100\n",
      "326/326 [==============================] - 2s 5ms/step - loss: 2.5803 - accuracy: 0.6429 - val_loss: 2.5048 - val_accuracy: 0.6178\n",
      "Epoch 23/100\n",
      "326/326 [==============================] - 2s 6ms/step - loss: 2.3943 - accuracy: 0.6423 - val_loss: 2.3258 - val_accuracy: 0.6178\n",
      "Epoch 24/100\n",
      "326/326 [==============================] - 2s 5ms/step - loss: 2.2295 - accuracy: 0.6422 - val_loss: 2.1767 - val_accuracy: 0.6147\n",
      "Epoch 25/100\n",
      "326/326 [==============================] - 2s 5ms/step - loss: 2.0874 - accuracy: 0.6463 - val_loss: 2.0655 - val_accuracy: 0.5794\n",
      "Epoch 26/100\n",
      "326/326 [==============================] - 2s 6ms/step - loss: 1.9594 - accuracy: 0.6467 - val_loss: 1.9420 - val_accuracy: 0.5909\n",
      "Epoch 27/100\n",
      "326/326 [==============================] - 2s 6ms/step - loss: 1.8483 - accuracy: 0.6498 - val_loss: 1.8278 - val_accuracy: 0.6117\n",
      "Epoch 28/100\n",
      "326/326 [==============================] - 2s 5ms/step - loss: 1.7504 - accuracy: 0.6487 - val_loss: 1.7240 - val_accuracy: 0.6324\n",
      "Epoch 29/100\n",
      "326/326 [==============================] - 2s 5ms/step - loss: 1.6638 - accuracy: 0.6479 - val_loss: 1.6390 - val_accuracy: 0.6447\n",
      "Epoch 30/100\n",
      "326/326 [==============================] - 2s 6ms/step - loss: 1.5842 - accuracy: 0.6504 - val_loss: 1.5495 - val_accuracy: 0.6677\n",
      "Epoch 31/100\n",
      "326/326 [==============================] - 2s 5ms/step - loss: 1.5174 - accuracy: 0.6582 - val_loss: 1.5038 - val_accuracy: 0.6378\n",
      "Epoch 32/100\n",
      "326/326 [==============================] - 2s 5ms/step - loss: 1.4544 - accuracy: 0.6598 - val_loss: 1.4886 - val_accuracy: 0.5718\n",
      "Epoch 33/100\n",
      "326/326 [==============================] - 2s 5ms/step - loss: 1.3983 - accuracy: 0.6585 - val_loss: 1.3824 - val_accuracy: 0.6700\n",
      "Epoch 34/100\n",
      "326/326 [==============================] - 2s 5ms/step - loss: 1.3480 - accuracy: 0.6607 - val_loss: 1.3709 - val_accuracy: 0.6048\n",
      "Epoch 35/100\n",
      "326/326 [==============================] - 2s 5ms/step - loss: 1.3013 - accuracy: 0.6685 - val_loss: 1.3632 - val_accuracy: 0.5518\n",
      "Epoch 36/100\n",
      "326/326 [==============================] - 2s 5ms/step - loss: 1.2600 - accuracy: 0.6630 - val_loss: 1.3233 - val_accuracy: 0.5487\n",
      "Epoch 37/100\n",
      "326/326 [==============================] - 2s 5ms/step - loss: 1.2214 - accuracy: 0.6644 - val_loss: 1.2545 - val_accuracy: 0.6071\n",
      "Epoch 38/100\n",
      "326/326 [==============================] - 2s 5ms/step - loss: 1.1856 - accuracy: 0.6704 - val_loss: 1.2352 - val_accuracy: 0.5848\n",
      "Epoch 39/100\n",
      "326/326 [==============================] - 2s 5ms/step - loss: 1.1531 - accuracy: 0.6732 - val_loss: 1.2196 - val_accuracy: 0.5602\n",
      "Epoch 40/100\n",
      "326/326 [==============================] - 2s 5ms/step - loss: 1.1248 - accuracy: 0.6745 - val_loss: 1.1672 - val_accuracy: 0.6025\n",
      "Epoch 41/100\n",
      "326/326 [==============================] - 2s 5ms/step - loss: 1.0963 - accuracy: 0.6737 - val_loss: 1.1016 - val_accuracy: 0.6784\n",
      "Epoch 42/100\n",
      "326/326 [==============================] - 2s 5ms/step - loss: 1.0705 - accuracy: 0.6832 - val_loss: 1.1433 - val_accuracy: 0.5633\n",
      "Epoch 43/100\n",
      "326/326 [==============================] - 2s 5ms/step - loss: 1.0486 - accuracy: 0.6757 - val_loss: 1.0956 - val_accuracy: 0.6117\n",
      "Epoch 44/100\n",
      "326/326 [==============================] - 2s 5ms/step - loss: 1.0261 - accuracy: 0.6790 - val_loss: 1.0500 - val_accuracy: 0.6439\n",
      "Epoch 45/100\n",
      "326/326 [==============================] - 2s 5ms/step - loss: 1.0050 - accuracy: 0.6826 - val_loss: 1.0135 - val_accuracy: 0.6800\n",
      "Epoch 46/100\n",
      "326/326 [==============================] - 2s 5ms/step - loss: 0.9852 - accuracy: 0.6822 - val_loss: 1.0530 - val_accuracy: 0.5886\n",
      "Epoch 47/100\n",
      "326/326 [==============================] - 2s 5ms/step - loss: 0.9647 - accuracy: 0.6852 - val_loss: 1.0127 - val_accuracy: 0.6262\n",
      "Epoch 48/100\n",
      "326/326 [==============================] - 2s 5ms/step - loss: 0.9504 - accuracy: 0.6867 - val_loss: 0.9669 - val_accuracy: 0.6777\n",
      "Epoch 49/100\n",
      "326/326 [==============================] - 2s 5ms/step - loss: 0.9371 - accuracy: 0.6867 - val_loss: 0.9962 - val_accuracy: 0.6101\n",
      "Epoch 50/100\n",
      "326/326 [==============================] - 2s 5ms/step - loss: 0.9205 - accuracy: 0.6915 - val_loss: 1.0035 - val_accuracy: 0.5733\n",
      "Epoch 51/100\n",
      "326/326 [==============================] - 2s 5ms/step - loss: 0.9069 - accuracy: 0.6903 - val_loss: 0.9148 - val_accuracy: 0.6976\n",
      "Epoch 52/100\n",
      "326/326 [==============================] - 2s 5ms/step - loss: 0.8938 - accuracy: 0.6969 - val_loss: 0.9647 - val_accuracy: 0.6025\n",
      "Epoch 53/100\n",
      "326/326 [==============================] - 2s 5ms/step - loss: 0.8813 - accuracy: 0.6914 - val_loss: 0.9334 - val_accuracy: 0.6347\n",
      "Epoch 54/100\n",
      "326/326 [==============================] - 2s 5ms/step - loss: 0.8696 - accuracy: 0.6992 - val_loss: 0.9799 - val_accuracy: 0.5464\n",
      "Epoch 55/100\n",
      "326/326 [==============================] - 2s 5ms/step - loss: 0.8582 - accuracy: 0.6978 - val_loss: 0.9029 - val_accuracy: 0.6531\n",
      "Epoch 56/100\n",
      "326/326 [==============================] - 2s 6ms/step - loss: 0.8504 - accuracy: 0.6974 - val_loss: 0.9453 - val_accuracy: 0.5710\n",
      "Epoch 57/100\n",
      "326/326 [==============================] - 2s 5ms/step - loss: 0.8378 - accuracy: 0.7051 - val_loss: 0.9653 - val_accuracy: 0.5272\n"
     ]
    },
    {
     "name": "stdout",
     "output_type": "stream",
     "text": [
      "Epoch 58/100\n",
      "326/326 [==============================] - 2s 5ms/step - loss: 0.8293 - accuracy: 0.7036 - val_loss: 0.8972 - val_accuracy: 0.6324\n",
      "Epoch 59/100\n",
      "326/326 [==============================] - 2s 5ms/step - loss: 0.8226 - accuracy: 0.7041 - val_loss: 0.9650 - val_accuracy: 0.5196\n",
      "Epoch 60/100\n",
      "326/326 [==============================] - 2s 5ms/step - loss: 0.8143 - accuracy: 0.7078 - val_loss: 0.8488 - val_accuracy: 0.6915\n",
      "Epoch 61/100\n",
      "326/326 [==============================] - 2s 6ms/step - loss: 0.8072 - accuracy: 0.7081 - val_loss: 0.8875 - val_accuracy: 0.6048\n",
      "Epoch 62/100\n",
      "326/326 [==============================] - 2s 5ms/step - loss: 0.7991 - accuracy: 0.7051 - val_loss: 0.8447 - val_accuracy: 0.6700\n",
      "Epoch 63/100\n",
      "326/326 [==============================] - 2s 5ms/step - loss: 0.7900 - accuracy: 0.7166 - val_loss: 0.8279 - val_accuracy: 0.6907\n",
      "Epoch 64/100\n",
      "326/326 [==============================] - 2s 6ms/step - loss: 0.7845 - accuracy: 0.7122 - val_loss: 0.9163 - val_accuracy: 0.5403\n",
      "Epoch 65/100\n",
      "326/326 [==============================] - 2s 5ms/step - loss: 0.7781 - accuracy: 0.7109 - val_loss: 0.8086 - val_accuracy: 0.7061\n",
      "Epoch 66/100\n",
      "326/326 [==============================] - 2s 5ms/step - loss: 0.7720 - accuracy: 0.7183 - val_loss: 0.8512 - val_accuracy: 0.6324\n",
      "Epoch 67/100\n",
      "326/326 [==============================] - 2s 5ms/step - loss: 0.7640 - accuracy: 0.7221 - val_loss: 0.8314 - val_accuracy: 0.6523\n",
      "Epoch 68/100\n",
      "326/326 [==============================] - 2s 5ms/step - loss: 0.7596 - accuracy: 0.7202 - val_loss: 0.8269 - val_accuracy: 0.6600\n",
      "Epoch 69/100\n",
      "326/326 [==============================] - 2s 5ms/step - loss: 0.7535 - accuracy: 0.7188 - val_loss: 0.8368 - val_accuracy: 0.6370\n",
      "Epoch 70/100\n",
      "326/326 [==============================] - 2s 5ms/step - loss: 0.7486 - accuracy: 0.7263 - val_loss: 0.7883 - val_accuracy: 0.7061\n",
      "Epoch 71/100\n",
      "326/326 [==============================] - 2s 5ms/step - loss: 0.7449 - accuracy: 0.7230 - val_loss: 0.8165 - val_accuracy: 0.6508\n",
      "Epoch 72/100\n",
      "326/326 [==============================] - 2s 5ms/step - loss: 0.7401 - accuracy: 0.7220 - val_loss: 0.8215 - val_accuracy: 0.6416\n",
      "Epoch 73/100\n",
      "326/326 [==============================] - 2s 5ms/step - loss: 0.7349 - accuracy: 0.7274 - val_loss: 0.8157 - val_accuracy: 0.6546\n",
      "Epoch 74/100\n",
      "326/326 [==============================] - 2s 5ms/step - loss: 0.7301 - accuracy: 0.7294 - val_loss: 0.8402 - val_accuracy: 0.6071\n",
      "Epoch 75/100\n",
      "326/326 [==============================] - 2s 5ms/step - loss: 0.7268 - accuracy: 0.7302 - val_loss: 0.8112 - val_accuracy: 0.6470\n"
     ]
    }
   ],
   "source": [
    "history = model.fit(X_train, y_label, validation_data=(X_val, y_val_label), batch_size=32,epochs=100,\\\n",
    "                            callbacks=[callback], verbose=1, class_weight=weights_ker, shuffle=True)"
   ]
  },
  {
   "cell_type": "code",
   "execution_count": 20,
   "id": "5b0e2910",
   "metadata": {},
   "outputs": [
    {
     "name": "stdout",
     "output_type": "stream",
     "text": [
      "\n",
      "Training for iteration number:  0\n",
      "41/41 [==============================] - 0s 1ms/step\n",
      "\n",
      "Training for iteration number:  1\n",
      "41/41 [==============================] - 0s 1ms/step\n",
      "\n",
      "Training for iteration number:  2\n",
      "41/41 [==============================] - 0s 1ms/step\n",
      "\n",
      "Training for iteration number:  3\n",
      "41/41 [==============================] - 0s 1ms/step\n",
      "\n",
      "Training for iteration number:  4\n",
      "41/41 [==============================] - 0s 1ms/step\n",
      "\n",
      "Training for iteration number:  5\n",
      "41/41 [==============================] - 0s 1ms/step\n",
      "\n",
      "Training for iteration number:  6\n",
      "41/41 [==============================] - 0s 1ms/step\n",
      "\n",
      "Training for iteration number:  7\n",
      "41/41 [==============================] - 0s 1ms/step\n",
      "\n",
      "Training for iteration number:  8\n",
      "41/41 [==============================] - 0s 1ms/step\n",
      "\n",
      "Training for iteration number:  9\n",
      "41/41 [==============================] - 0s 1ms/step\n",
      "\n",
      "Training for iteration number:  10\n",
      "41/41 [==============================] - 0s 1ms/step\n",
      "\n",
      "Training for iteration number:  11\n",
      "41/41 [==============================] - 0s 1ms/step\n",
      "\n",
      "Training for iteration number:  12\n",
      "41/41 [==============================] - 0s 1ms/step\n",
      "\n",
      "Training for iteration number:  13\n",
      "41/41 [==============================] - 0s 1ms/step\n",
      "\n",
      "Training for iteration number:  14\n",
      "41/41 [==============================] - 1s 34ms/step\n",
      "\n",
      "Training for iteration number:  15\n",
      "41/41 [==============================] - 0s 1ms/step\n",
      "\n",
      "Training for iteration number:  16\n",
      "41/41 [==============================] - 0s 1ms/step\n",
      "\n",
      "Training for iteration number:  17\n",
      "41/41 [==============================] - 1s 35ms/step\n",
      "\n",
      "Training for iteration number:  18\n",
      "41/41 [==============================] - 0s 1ms/step\n",
      "\n",
      "Training for iteration number:  19\n",
      "41/41 [==============================] - 0s 1ms/step\n",
      "\n",
      "Training for iteration number:  20\n",
      "41/41 [==============================] - 0s 1ms/step\n",
      "\n",
      "Training for iteration number:  21\n",
      "41/41 [==============================] - 0s 1ms/step\n",
      "\n",
      "Training for iteration number:  22\n",
      "41/41 [==============================] - 0s 1ms/step\n",
      "\n",
      "Training for iteration number:  23\n",
      "41/41 [==============================] - 0s 1ms/step\n",
      "\n",
      "Training for iteration number:  24\n",
      "41/41 [==============================] - 0s 1ms/step\n",
      "\n",
      "Training for iteration number:  25\n",
      "41/41 [==============================] - 0s 1ms/step\n",
      "\n",
      "Training for iteration number:  26\n",
      "41/41 [==============================] - 0s 1ms/step\n",
      "\n",
      "Training for iteration number:  27\n",
      "41/41 [==============================] - 0s 1ms/step\n",
      "\n",
      "Training for iteration number:  28\n",
      "41/41 [==============================] - 0s 1ms/step\n",
      "\n",
      "Training for iteration number:  29\n",
      "41/41 [==============================] - 0s 1ms/step\n",
      "The average real precision :  0.8362581051559783\n",
      "The average real recall:  0.7514883873078181\n",
      "The average real f1:  0.7910817236462506\n",
      "The average fake precision :  0.3473254272473841\n",
      "The average fake recall:  0.471244131455399\n",
      "The average fake f1:  0.398413590371975\n",
      "The average macro precision:  0.5917917662016811\n",
      "The average macro recall:  0.6197684142144329\n",
      "The average macro_f1:  0.5947476570091129\n",
      "The average macro accuracy:  0.6904067536454337\n",
      "The standard deviation on real precision :  0.0046398942819556015\n",
      "The standard deviation on real recall:  0.035306651150731935\n",
      "The standard deviation on real f1:  0.017978620667611744\n",
      "The standard deviation on fake precision :  0.01387748183954746\n",
      "The standard deviation on fake recall:  0.04121456771086382\n",
      "The standard deviation on macro precision:  0.00583223695984665\n",
      "The standard deviation on macro recall:  0.0\n",
      "The standard deviation on macro_f1:  0.007463588687768597\n",
      "The standard deviation on macro accuracy:  0.01905671123165975\n",
      "Average number of epochs 53.733333333333334\n"
     ]
    }
   ],
   "source": [
    "real_precision, real_recall, real_f_score, fake_precision, fake_recall,\\\n",
    "fake_f1, macro_precision, macro_recall, macro_f1, accuracy = run_model(X_train, \\\n",
    "y_label, X_val, y_val_label, X_test, y_test_label, verbose=0, itr=30)"
   ]
  },
  {
   "cell_type": "code",
   "execution_count": 21,
   "id": "395602e7",
   "metadata": {},
   "outputs": [
    {
     "name": "stdout",
     "output_type": "stream",
     "text": [
      "Real Precision:\n",
      "  [0.8407281001137656, 0.827893175074184, 0.8355739400206825, 0.8331616889804325, 0.8408071748878924, 0.8383947939262473, 0.8249496981891348, 0.8298319327731093, 0.8384074941451991, 0.8401400233372228, 0.8391684901531729, 0.8419753086419753, 0.8373362445414847, 0.8347732181425486, 0.8363028953229399, 0.8360836083608361, 0.8438617401668653, 0.8362445414847162, 0.8280773143438453, 0.8354978354978355, 0.8340857787810384, 0.8369098712446352, 0.8363832077502691, 0.8346111719605696, 0.8385360602798708, 0.8421658986175116, 0.8338658146964856, 0.8289738430583501, 0.8412514484356894, 0.8417508417508418]\n",
      "Real Recall:\n",
      "  [0.7252208047105005, 0.8213935230618253, 0.7929342492639843, 0.7939156035328754, 0.7360157016683022, 0.7585868498527969, 0.8047105004906772, 0.7752698724239451, 0.7026496565260059, 0.7065750736015701, 0.7526987242394504, 0.6692836113837095, 0.7526987242394504, 0.7585868498527969, 0.7369970559371933, 0.745829244357213, 0.6947988223748773, 0.7517173699705594, 0.7988223748773308, 0.7576054955839058, 0.7252208047105005, 0.7654563297350343, 0.7625122669283612, 0.7477919528949951, 0.7644749754661433, 0.7173699705593719, 0.7684003925417076, 0.8086359175662414, 0.7124631992149166, 0.7360157016683022]\n",
      "Real F1-Score:\n",
      "  [0.7787144362486828, 0.8246305418719211, 0.8136958710976837, 0.8130653266331658, 0.7849293563579276, 0.7964966512107161, 0.8147044212617983, 0.8016235413495688, 0.7645488521089161, 0.7675906183368869, 0.7935851008794619, 0.7457627118644068, 0.7927648578811368, 0.7948586118251928, 0.7835159102764736, 0.7883817427385892, 0.7621097954790097, 0.7917312661498708, 0.8131868131868133, 0.7946474523932064, 0.7758530183727035, 0.7995899538698104, 0.7977412731006159, 0.7888198757763975, 0.7997946611909651, 0.7747747747747747, 0.7997957099080695, 0.8186785891703924, 0.7715196599362382, 0.7853403141361257]\n"
     ]
    }
   ],
   "source": [
    "print(\"Real Precision:\\n \", real_precision)\n",
    "print(\"Real Recall:\\n \", real_recall)\n",
    "print(\"Real F1-Score:\\n \",  real_f_score) "
   ]
  },
  {
   "cell_type": "code",
   "execution_count": 22,
   "id": "0be9cfbb",
   "metadata": {},
   "outputs": [
    {
     "name": "stdout",
     "output_type": "stream",
     "text": [
      "Fake Precision:\n",
      "  [0.33962264150943394, 0.3767123287671233, 0.37202380952380953, 0.3674698795180723, 0.34549878345498786, 0.3543307086614173, 0.3559870550161812, 0.3475783475783476, 0.32516703786191536, 0.3295964125560538, 0.35218508997429304, 0.31643002028397565, 0.3488372093023256, 0.34748010610079577, 0.33827160493827163, 0.3426395939086294, 0.3297413793103448, 0.3462532299741602, 0.359375, 0.3482849604221636, 0.328537170263789, 0.3557951482479784, 0.35294117647058826, 0.34102564102564104, 0.3582887700534759, 0.33793103448275863, 0.3516483516483517, 0.36893203883495146, 0.3340909090909091, 0.3470873786407767]\n",
      "Fake Recall:\n",
      "  [0.5070422535211268, 0.3873239436619718, 0.44014084507042256, 0.4295774647887324, 0.5, 0.4753521126760563, 0.3873239436619718, 0.4295774647887324, 0.5140845070422535, 0.5176056338028169, 0.4823943661971831, 0.5492957746478874, 0.4753521126760563, 0.4612676056338028, 0.4823943661971831, 0.4753521126760563, 0.5387323943661971, 0.47183098591549294, 0.40492957746478875, 0.4647887323943662, 0.4823943661971831, 0.4647887323943662, 0.4647887323943662, 0.46830985915492956, 0.47183098591549294, 0.5176056338028169, 0.4507042253521127, 0.4014084507042254, 0.5176056338028169, 0.5035211267605634]\n",
      "Fake F1-Score:\n",
      "  [0.4067796610169492, 0.3819444444444444, 0.403225806451613, 0.39610389610389607, 0.40863309352517985, 0.40601503759398494, 0.37099494097807756, 0.384251968503937, 0.39836289222373805, 0.4027397260273972, 0.40713224368499257, 0.4015444015444015, 0.4023845007451565, 0.3963691376701967, 0.3976777939042091, 0.3982300884955752, 0.409090909090909, 0.3994038748137109, 0.380794701986755, 0.39819004524886875, 0.39087018544935803, 0.40305343511450376, 0.4012158054711247, 0.3946587537091988, 0.4072948328267477, 0.40890125173852576, 0.39506172839506176, 0.38448566610455315, 0.40607734806629836, 0.4109195402298851]\n"
     ]
    }
   ],
   "source": [
    "print(\"Fake Precision:\\n \", fake_precision)\n",
    "print(\"Fake Recall:\\n \", fake_recall)\n",
    "print(\"Fake F1-Score:\\n \", fake_f1)"
   ]
  },
  {
   "cell_type": "code",
   "execution_count": 23,
   "id": "24b7e65b",
   "metadata": {},
   "outputs": [
    {
     "name": "stdout",
     "output_type": "stream",
     "text": [
      "Macro Precision:\n",
      "  [0.5901753708115998, 0.6023027519206536, 0.603798874772246, 0.6003157842492524, 0.59315297917144, 0.5963627512938323, 0.5904683766026579, 0.5887051401757284, 0.5817872660035572, 0.5848682179466383, 0.595676790063733, 0.5792026644629755, 0.5930867269219051, 0.5911266621216722, 0.5872872501306058, 0.5893616011347327, 0.586801559738605, 0.5912488857294382, 0.5937261571719227, 0.5918913979599996, 0.5813114745224137, 0.5963525097463068, 0.5946621921104287, 0.5878184064931053, 0.5984124151666734, 0.5900484665501351, 0.5927570831724186, 0.5989529409466507, 0.5876711787632993, 0.5944191101958093]\n",
      "Macro Recall:\n",
      "  [0.6161315291158136, 0.6043587333618986, 0.6165375471672034, 0.6117465341608039, 0.6180078508341511, 0.6169694812644266, 0.5960172220763245, 0.6024236686063387, 0.6083670817841297, 0.6120903537021936, 0.6175465452183168, 0.6092896930157985, 0.6140254184577534, 0.6099272277432999, 0.6096957110671882, 0.6105906785166346, 0.6167656083705373, 0.6117741779430261, 0.6018759761710597, 0.611197113989136, 0.6038075854538418, 0.6151225310647003, 0.6136504996613636, 0.6080509060249624, 0.6181529806908181, 0.6174878021810943, 0.6095523089469101, 0.6050221841352335, 0.6150344165088668, 0.6197684142144329]\n",
      "Macro F1-Score:\n",
      "  [0.5927470486328159, 0.6032874931581828, 0.6084608387746484, 0.6045846113685309, 0.5967812249415537, 0.6012558444023506, 0.592849681119938, 0.5929377549267529, 0.5814558721663271, 0.585165172182142, 0.6003586722822272, 0.5736535567044041, 0.5975746793131467, 0.5956138747476948, 0.5905968520903413, 0.5933059156170821, 0.5856003522849593, 0.5955675704817909, 0.5969907575867841, 0.5964187488210376, 0.5833616019110308, 0.6013216944921571, 0.5994785392858704, 0.5917393147427981, 0.6035447470088564, 0.5918380132566503, 0.5974287191515656, 0.6015821276374728, 0.5887985040012682, 0.5981299271830054]\n",
      "Accuracy Score:\n",
      "  [0.6776669224865695, 0.7267843438219493, 0.716039907904835, 0.7145049884881044, 0.6845740598618573, 0.6968534151957022, 0.7137375287797391, 0.6999232540291634, 0.6615502686108979, 0.6653875671527245, 0.693783576362241, 0.6431312356101304, 0.6922486569455104, 0.693783576362241, 0.681504221028396, 0.6868764389869532, 0.6607828089025326, 0.6907137375287797, 0.7129700690713737, 0.693783576362241, 0.6722947045280123, 0.6999232540291634, 0.6976208749040675, 0.6868764389869532, 0.7006907137375288, 0.6738296239447429, 0.6991557943207981, 0.7198772064466615, 0.6699923254029163, 0.6853415195702226]\n"
     ]
    }
   ],
   "source": [
    "print(\"Macro Precision:\\n \", macro_precision)\n",
    "print(\"Macro Recall:\\n \", macro_recall)\n",
    "print(\"Macro F1-Score:\\n \", macro_f1)\n",
    "print(\"Accuracy Score:\\n \", accuracy)"
   ]
  },
  {
   "cell_type": "code",
   "execution_count": 24,
   "id": "d0ee8741",
   "metadata": {},
   "outputs": [],
   "source": [
    "def plot_accuracy(history):\n",
    "    plt.plot(history.history['accuracy'])\n",
    "    plt.plot(history.history['val_accuracy'])\n",
    "    plt.title('Model accuracy')\n",
    "    plt.ylabel('Accuracy')\n",
    "    plt.xlabel('Epoch')\n",
    "    plt.legend(['Train', 'Test'], loc='upper left')\n",
    "    plt.show()"
   ]
  },
  {
   "cell_type": "code",
   "execution_count": 25,
   "id": "52cc355f",
   "metadata": {},
   "outputs": [],
   "source": [
    "def plot_loss(history):\n",
    "    plt.plot(history.history['loss'])\n",
    "    plt.plot(history.history['val_loss'])\n",
    "    plt.title('Model Loss')\n",
    "    plt.ylabel('Loss')\n",
    "    plt.xlabel('Epoch')\n",
    "    plt.legend(['Train', 'Test'], loc='upper left')\n",
    "    plt.show()"
   ]
  },
  {
   "cell_type": "code",
   "execution_count": 26,
   "id": "9824863d",
   "metadata": {},
   "outputs": [
    {
     "data": {
      "image/png": "[encoded data removed]",
      "text/plain": [
       "<Figure size 432x288 with 1 Axes>"
      ]
     },
     "metadata": {
      "needs_background": "light"
     },
     "output_type": "display_data"
    },
    {
     "data": {
      "image/png": "[encoded data removed]",
      "text/plain": [
       "<Figure size 432x288 with 1 Axes>"
      ]
     },
     "metadata": {
      "needs_background": "light"
     },
     "output_type": "display_data"
    }
   ],
   "source": [
    "model_text_plotacc = plot_accuracy(history)\n",
    "model_text_plotloss = plot_loss(history)"
   ]
  },
  {
   "cell_type": "code",
   "execution_count": null,
   "id": "f07ae6b4",
   "metadata": {},
   "outputs": [],
   "source": []
  }
 ],
 "metadata": {
  "kernelspec": {
   "display_name": "Python 3",
   "language": "python",
   "name": "python3"
  },
  "language_info": {
   "codemirror_mode": {
    "name": "ipython",
    "version": 3
   },
   "file_extension": ".py",
   "mimetype": "text/x-python",
   "name": "python",
   "nbconvert_exporter": "python",
   "pygments_lexer": "ipython3",
   "version": "3.8.8"
  }
 },
 "nbformat": 4,
 "nbformat_minor": 5
}
