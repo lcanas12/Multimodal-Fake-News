{
 "cells": [
  {
   "cell_type": "code",
   "execution_count": 1,
   "id": "8eb43939",
   "metadata": {},
   "outputs": [],
   "source": [
    "import pandas as pd\n",
    "import sklearn\n",
    "import numpy as np\n",
    "import os\n",
    "from pathlib import Path\n",
    "from sklearn.model_selection import train_test_split\n",
    "import torch\n",
    "from datasets import load_dataset\n",
    "import tensorflow as tf\n",
    "import tensorflow_addons as tfa\n",
    "import gc\n",
    "\n",
    "from keras import optimizers\n",
    "import matplotlib.pyplot as plt\n",
    "from keras import initializers\n",
    "from keras.utils import np_utils\n",
    "from keras import regularizers\n",
    "from keras.models import Sequential, Model\n",
    "from keras.callbacks import ModelCheckpoint\n",
    "from keras.layers import concatenate\n",
    "from keras.layers import Dense, Flatten, Dropout, Input, BatchNormalization, ReLU\n",
    "from keras.layers import LSTM, Bidirectional\n",
    "import pickle\n",
    "from sklearn.metrics import confusion_matrix\n",
    "from sklearn.metrics import classification_report, accuracy_score\n",
    "\n",
    "\n",
    "import keras\n",
    "\n",
    "import matplotlib.pyplot as plt\n",
    "%matplotlib inline"
   ]
  },
  {
   "cell_type": "code",
   "execution_count": 2,
   "id": "71be2295",
   "metadata": {},
   "outputs": [],
   "source": [
    "df_goss_train = pd.read_pickle('../../Dissertation - Fake News/Embeddings/df_train_bert_simple.pkl')\n",
    "df_goss_val = pd.read_pickle('../../Dissertation - Fake News/Embeddings/df_val_bert_simple.pkl')\n",
    "df_goss_test = pd.read_pickle('../../Dissertation - Fake News/Embeddings/df_test_bert_simple.pkl')"
   ]
  },
  {
   "cell_type": "code",
   "execution_count": 3,
   "id": "6c51d2c4",
   "metadata": {},
   "outputs": [
    {
     "data": {
      "text/html": [
       "<div>\n",
       "<style scoped>\n",
       "    .dataframe tbody tr th:only-of-type {\n",
       "        vertical-align: middle;\n",
       "    }\n",
       "\n",
       "    .dataframe tbody tr th {\n",
       "        vertical-align: top;\n",
       "    }\n",
       "\n",
       "    .dataframe thead th {\n",
       "        text-align: right;\n",
       "    }\n",
       "</style>\n",
       "<table border=\"1\" class=\"dataframe\">\n",
       "  <thead>\n",
       "    <tr style=\"text-align: right;\">\n",
       "      <th></th>\n",
       "      <th>hidden_state</th>\n",
       "      <th>label</th>\n",
       "      <th>idx</th>\n",
       "    </tr>\n",
       "  </thead>\n",
       "  <tbody>\n",
       "    <tr>\n",
       "      <th>0</th>\n",
       "      <td>[[-0.6351673, 0.014559049, 0.29377505, 0.37676...</td>\n",
       "      <td>0</td>\n",
       "      <td>1934</td>\n",
       "    </tr>\n",
       "    <tr>\n",
       "      <th>1</th>\n",
       "      <td>[[-0.3496328, -0.1398266, 0.20144267, 0.455405...</td>\n",
       "      <td>0</td>\n",
       "      <td>1408</td>\n",
       "    </tr>\n",
       "    <tr>\n",
       "      <th>2</th>\n",
       "      <td>[[-0.45250654, 0.11762404, 0.14361618, -0.6483...</td>\n",
       "      <td>0</td>\n",
       "      <td>2589</td>\n",
       "    </tr>\n",
       "    <tr>\n",
       "      <th>3</th>\n",
       "      <td>[[0.11294373, -0.20785874, 0.2868215, -0.27205...</td>\n",
       "      <td>1</td>\n",
       "      <td>5778</td>\n",
       "    </tr>\n",
       "    <tr>\n",
       "      <th>4</th>\n",
       "      <td>[[-0.07389187, 0.09317138, 0.5003885, -0.26259...</td>\n",
       "      <td>0</td>\n",
       "      <td>2922</td>\n",
       "    </tr>\n",
       "  </tbody>\n",
       "</table>\n",
       "</div>"
      ],
      "text/plain": [
       "                                        hidden_state  label   idx\n",
       "0  [[-0.6351673, 0.014559049, 0.29377505, 0.37676...      0  1934\n",
       "1  [[-0.3496328, -0.1398266, 0.20144267, 0.455405...      0  1408\n",
       "2  [[-0.45250654, 0.11762404, 0.14361618, -0.6483...      0  2589\n",
       "3  [[0.11294373, -0.20785874, 0.2868215, -0.27205...      1  5778\n",
       "4  [[-0.07389187, 0.09317138, 0.5003885, -0.26259...      0  2922"
      ]
     },
     "execution_count": 3,
     "metadata": {},
     "output_type": "execute_result"
    }
   ],
   "source": [
    "df_goss_train.head()"
   ]
  },
  {
   "cell_type": "code",
   "execution_count": 4,
   "id": "97a2a8a1",
   "metadata": {},
   "outputs": [],
   "source": [
    "def label_change(df):\n",
    "    if df['label'] == 0: return 1\n",
    "    else: return 0"
   ]
  },
  {
   "cell_type": "code",
   "execution_count": 5,
   "id": "7c9b52ff",
   "metadata": {},
   "outputs": [
    {
     "data": {
      "text/html": [
       "<div>\n",
       "<style scoped>\n",
       "    .dataframe tbody tr th:only-of-type {\n",
       "        vertical-align: middle;\n",
       "    }\n",
       "\n",
       "    .dataframe tbody tr th {\n",
       "        vertical-align: top;\n",
       "    }\n",
       "\n",
       "    .dataframe thead th {\n",
       "        text-align: right;\n",
       "    }\n",
       "</style>\n",
       "<table border=\"1\" class=\"dataframe\">\n",
       "  <thead>\n",
       "    <tr style=\"text-align: right;\">\n",
       "      <th></th>\n",
       "      <th>hidden_state</th>\n",
       "      <th>label</th>\n",
       "      <th>idx</th>\n",
       "      <th>target</th>\n",
       "    </tr>\n",
       "  </thead>\n",
       "  <tbody>\n",
       "    <tr>\n",
       "      <th>0</th>\n",
       "      <td>[[-0.6351673, 0.014559049, 0.29377505, 0.37676...</td>\n",
       "      <td>0</td>\n",
       "      <td>1934</td>\n",
       "      <td>1</td>\n",
       "    </tr>\n",
       "    <tr>\n",
       "      <th>1</th>\n",
       "      <td>[[-0.3496328, -0.1398266, 0.20144267, 0.455405...</td>\n",
       "      <td>0</td>\n",
       "      <td>1408</td>\n",
       "      <td>1</td>\n",
       "    </tr>\n",
       "    <tr>\n",
       "      <th>2</th>\n",
       "      <td>[[-0.45250654, 0.11762404, 0.14361618, -0.6483...</td>\n",
       "      <td>0</td>\n",
       "      <td>2589</td>\n",
       "      <td>1</td>\n",
       "    </tr>\n",
       "    <tr>\n",
       "      <th>3</th>\n",
       "      <td>[[0.11294373, -0.20785874, 0.2868215, -0.27205...</td>\n",
       "      <td>1</td>\n",
       "      <td>5778</td>\n",
       "      <td>0</td>\n",
       "    </tr>\n",
       "    <tr>\n",
       "      <th>4</th>\n",
       "      <td>[[-0.07389187, 0.09317138, 0.5003885, -0.26259...</td>\n",
       "      <td>0</td>\n",
       "      <td>2922</td>\n",
       "      <td>1</td>\n",
       "    </tr>\n",
       "  </tbody>\n",
       "</table>\n",
       "</div>"
      ],
      "text/plain": [
       "                                        hidden_state  label   idx  target\n",
       "0  [[-0.6351673, 0.014559049, 0.29377505, 0.37676...      0  1934       1\n",
       "1  [[-0.3496328, -0.1398266, 0.20144267, 0.455405...      0  1408       1\n",
       "2  [[-0.45250654, 0.11762404, 0.14361618, -0.6483...      0  2589       1\n",
       "3  [[0.11294373, -0.20785874, 0.2868215, -0.27205...      1  5778       0\n",
       "4  [[-0.07389187, 0.09317138, 0.5003885, -0.26259...      0  2922       1"
      ]
     },
     "execution_count": 5,
     "metadata": {},
     "output_type": "execute_result"
    }
   ],
   "source": [
    "df_goss_train['target'] = df_goss_train.apply(label_change, axis=1)\n",
    "df_goss_train.head()"
   ]
  },
  {
   "cell_type": "code",
   "execution_count": 6,
   "id": "ffd94fd1",
   "metadata": {},
   "outputs": [],
   "source": [
    "df_goss_val['target'] = df_goss_val.apply(label_change, axis=1)\n",
    "df_goss_test['target'] = df_goss_test.apply(label_change, axis=1)"
   ]
  },
  {
   "cell_type": "code",
   "execution_count": 7,
   "id": "84ec57ff",
   "metadata": {},
   "outputs": [
    {
     "name": "stdout",
     "output_type": "stream",
     "text": [
      "[0.64400494 2.2360515 ]\n"
     ]
    },
    {
     "name": "stderr",
     "output_type": "stream",
     "text": [
      "C:\\Users\\labca\\anaconda3\\lib\\site-packages\\sklearn\\utils\\validation.py:70: FutureWarning: Pass classes=[0 1], y=[0 0 0 ... 1 1 1] as keyword args. From version 1.0 (renaming of 0.25) passing these as positional arguments will result in an error\n",
      "  warnings.warn(f\"Pass {args_msg} as keyword args. From version \"\n"
     ]
    }
   ],
   "source": [
    "# Count samples per class: 0-real, 1-fake\n",
    "classes_zero = df_goss_train[df_goss_train['target'] == 0]\n",
    "classes_one = df_goss_train[df_goss_train['target'] == 1]\n",
    "\n",
    "# Convert parts into NumPy arrays for weight computation\n",
    "zero_numpy = classes_zero['target'].to_numpy()\n",
    "one_numpy = classes_one['target'].to_numpy()\n",
    "all_together = np.concatenate((zero_numpy, one_numpy))\n",
    "unique_classes = np.unique(all_together)\n",
    "\n",
    "# Compute weights\n",
    "weights = sklearn.utils.class_weight.compute_class_weight('balanced', unique_classes, all_together)\n",
    "print(weights)"
   ]
  },
  {
   "cell_type": "code",
   "execution_count": 8,
   "id": "9222804e",
   "metadata": {},
   "outputs": [
    {
     "data": {
      "text/plain": [
       "{0: 0.6440049443757726, 1: 2.236051502145923}"
      ]
     },
     "execution_count": 8,
     "metadata": {},
     "output_type": "execute_result"
    }
   ],
   "source": [
    "weights_ker = {i : weights[i] for i in range(2)}\n",
    "weights_ker"
   ]
  },
  {
   "cell_type": "code",
   "execution_count": 9,
   "id": "fedaae25",
   "metadata": {},
   "outputs": [
    {
     "data": {
      "text/plain": [
       "(10420, 1, 768)"
      ]
     },
     "execution_count": 9,
     "metadata": {},
     "output_type": "execute_result"
    }
   ],
   "source": [
    "array_train = df_goss_train[[\"hidden_state\",\"target\"]].to_numpy() \n",
    "X_train = np.array(array_train[:,0].tolist())\n",
    "X_train.shape"
   ]
  },
  {
   "cell_type": "code",
   "execution_count": 10,
   "id": "b9b2b545",
   "metadata": {},
   "outputs": [
    {
     "data": {
      "text/plain": [
       "(10420, 768)"
      ]
     },
     "execution_count": 10,
     "metadata": {},
     "output_type": "execute_result"
    }
   ],
   "source": [
    "X_train = np.squeeze(X_train, 1)\n",
    "X_train.shape"
   ]
  },
  {
   "cell_type": "code",
   "execution_count": 11,
   "id": "c524a0b3",
   "metadata": {},
   "outputs": [
    {
     "data": {
      "text/plain": [
       "(10420,)"
      ]
     },
     "execution_count": 11,
     "metadata": {},
     "output_type": "execute_result"
    }
   ],
   "source": [
    "y_label = np.array(array_train[:,1].tolist())\n",
    "y_label.shape"
   ]
  },
  {
   "cell_type": "code",
   "execution_count": 12,
   "id": "248a00ef",
   "metadata": {},
   "outputs": [],
   "source": [
    "array_val = df_goss_val[[\"hidden_state\",\"target\"]].to_numpy() \n",
    "X_val = np.array(array_val[:,0].tolist())\n",
    "X_val = np.squeeze(X_val, 1)\n",
    "y_val_label = np.array(array_val[:,1].tolist())\n",
    "\n",
    "array_test = df_goss_test[[\"hidden_state\",\"target\"]].to_numpy() \n",
    "X_test = np.array(array_test[:,0].tolist())\n",
    "X_test = np.squeeze(X_test, 1)\n",
    "y_test_label = np.array(array_test[:,1].tolist())"
   ]
  },
  {
   "cell_type": "code",
   "execution_count": 13,
   "id": "036c42e4",
   "metadata": {},
   "outputs": [],
   "source": [
    "def reset_tensorflow_keras_backend():\n",
    "    keras.backend.clear_session()\n",
    "    tf.compat.v1.reset_default_graph()\n",
    "    _ = gc.collect()"
   ]
  },
  {
   "cell_type": "code",
   "execution_count": 14,
   "id": "4845b495",
   "metadata": {},
   "outputs": [],
   "source": [
    "def reinitialize(model):\n",
    "    for l in model.layers:\n",
    "        if hasattr(l,\"kernel_initializer\"):\n",
    "            l.kernel.assign(l.kernel_initializer(tf.shape(l.kernel)))\n",
    "        if hasattr(l,\"bias_initializer\"):\n",
    "            l.bias.assign(l.bias_initializer(tf.shape(l.bias)))\n",
    "        if hasattr(l,\"recurrent_initializer\"):\n",
    "            l.recurrent_kernel.assign(l.recurrent_initializer(tf.shape(l.recurrent_kernel)))"
   ]
  },
  {
   "cell_type": "code",
   "execution_count": 15,
   "id": "74044f1f",
   "metadata": {},
   "outputs": [],
   "source": [
    "def run_model(X_train, train_label, X_val, val_label, X_test, test_label, batch_size=32,epochs=100, verbose=1, class_weight=weights_ker, \\\n",
    "              itr=30, shuffle=True):\n",
    "    \n",
    "    adam = optimizers.Adam(learning_rate=1e-5)\n",
    "    callback = tf.keras.callbacks.EarlyStopping(monitor='val_loss', patience=3, restore_best_weights=True)\n",
    "    \n",
    "    real_precision_list = []\n",
    "    real_recall_list = []\n",
    "    real_f1_list = []\n",
    "    fake_precision_list = []\n",
    "    fake_recall_list = []\n",
    "    fake_f1_list = []\n",
    "    \n",
    "    macro_precision_list = []\n",
    "    macro_recall_list = []\n",
    "    macro_f1_list = []\n",
    "    accuracy_list = []\n",
    "    num_epochs = []\n",
    "\n",
    "    #Define model\n",
    "    input_text = Input(shape=(768))\n",
    "    dense_text = Dense(1024, activation='relu', kernel_regularizer=regularizers.l2(0.01),\\\n",
    "                kernel_initializer=initializers.he_normal(seed=0))(input_text)\n",
    "    dropout = Dropout(0.2)(dense_text)\n",
    "    dense_text = Dense(512, activation='relu', kernel_regularizer=regularizers.l2(0.01),\\\n",
    "                kernel_initializer=initializers.he_normal(seed=0))(dropout)\n",
    "    dense_text = Dense(128, activation='relu', kernel_regularizer=regularizers.l2(0.01),\\\n",
    "                kernel_initializer=initializers.he_normal(seed=0))(dense_text)\n",
    "    output = Dense(1, activation='sigmoid')(dense_text)\n",
    "    model = Model(inputs=input_text, outputs=output)\n",
    "    model.compile(loss='binary_crossentropy', optimizer=adam, metrics='accuracy')\n",
    "        \n",
    "    for i in range(0,itr):\n",
    "        print(\"\\nTraining for iteration number: \", i)\n",
    "        reset_tensorflow_keras_backend()\n",
    "        reinitialize(model)\n",
    "        history = model.fit(X_train, train_label, validation_data=(X_val, val_label), batch_size=batch_size,epochs=epochs,\n",
    "                            callbacks=[callback], verbose=verbose, class_weight=class_weight, shuffle=shuffle)\n",
    "        \n",
    "        y_pred = model.predict(X_test)\n",
    "        predictions = list(map(lambda x: 0 if x<0.5 else 1, y_pred))\n",
    "        \n",
    "        report = classification_report(y_test_label, predictions, target_names=['real','fake'], output_dict=True)\n",
    "        real_precision = report['real']['precision'] \n",
    "        real_recall = report['real']['recall'] \n",
    "        real_f1 = report['real']['f1-score'] \n",
    "        fake_precision = report['fake']['precision'] \n",
    "        fake_recall = report['fake']['recall'] \n",
    "        fake_f1 = report['fake']['f1-score'] \n",
    "        \n",
    "        macro_precision =  report['macro avg']['precision'] \n",
    "        macro_recall = report['macro avg']['recall']    \n",
    "        macro_f1 = report['macro avg']['f1-score']\n",
    "        accuracy = report['accuracy']\n",
    "\n",
    "        real_precision_list.append(real_precision)\n",
    "        real_recall_list.append(real_recall)\n",
    "        real_f1_list.append(real_f1)\n",
    "        fake_precision_list.append(fake_precision)\n",
    "        fake_recall_list.append(fake_recall)\n",
    "        fake_f1_list.append(fake_f1)\n",
    "        \n",
    "        macro_precision_list.append(macro_precision)\n",
    "        macro_recall_list.append(macro_recall)\n",
    "        macro_f1_list.append(macro_f1)\n",
    "        accuracy_list.append(accuracy)\n",
    "        num_epochs.append(len(history.history['loss']))\n",
    "        \n",
    "        \n",
    "    mean_real_precision = np.mean(real_precision_list)\n",
    "    mean_real_recall = np.mean(real_recall_list)\n",
    "    mean_real_f1 = np.mean(real_f1_list)\n",
    "    mean_fake_precision = np.mean(fake_precision_list)\n",
    "    mean_fake_recall= np.mean(fake_recall_list)\n",
    "    mean_fake_f1 = np.mean(fake_f1_list)\n",
    "    \n",
    "    mean_macro_precision = np.mean(macro_precision_list)\n",
    "    mean_macro_recall = np.mean(macro_recall)\n",
    "    mean_macro_f1 = np.mean(macro_f1_list)\n",
    "    mean_accuracy = np.mean(accuracy_list)\n",
    "    mean_epoch = np.mean(num_epochs)\n",
    "    \n",
    "    std_real_precision = np.std(real_precision_list)\n",
    "    std_real_recall = np.std(real_recall_list)\n",
    "    std_real_f1 = np.std(real_f1_list)\n",
    "    std_fake_precision = np.std(fake_precision_list)\n",
    "    std_fake_recall= np.std(fake_recall_list)\n",
    "    std_fake_f1 = np.std(fake_f1_list)\n",
    "    \n",
    "    std_macro_precision = np.std(macro_precision_list)\n",
    "    std_macro_recall = np.std(macro_recall)\n",
    "    std_macro_f1 = np.std(macro_f1_list)\n",
    "    std_accuracy = np.std(accuracy_list)\n",
    "\n",
    "    print(\"The average real precision : \", mean_real_precision)\n",
    "    print(\"The average real recall: \", mean_real_recall)\n",
    "    print(\"The average real f1: \", mean_real_f1)\n",
    "    print(\"The average fake precision : \", mean_fake_precision)\n",
    "    print(\"The average fake recall: \", mean_fake_recall)\n",
    "    print(\"The average macro precision: \", mean_macro_precision)\n",
    "    print(\"The average macro recall: \", mean_macro_recall)\n",
    "    print(\"The average macro_f1: \", mean_macro_f1)\n",
    "    print(\"The average macro accuracy: \", mean_accuracy)\n",
    "    \n",
    "    print(\"The standard deviation on real precision : \", std_real_precision)\n",
    "    print(\"The standard deviation on real recall: \", std_real_recall)\n",
    "    print(\"The standard deviation on real f1: \", std_real_f1)\n",
    "    print(\"The standard deviation on fake precision : \", std_fake_precision)\n",
    "    print(\"The standard deviation on fake recall: \", std_fake_recall)\n",
    "    print(\"The standard deviation on macro precision: \", std_macro_precision)\n",
    "    print(\"The standard deviation on macro recall: \", std_macro_recall)\n",
    "    print(\"The standard deviation on macro_f1: \", std_macro_f1)\n",
    "    print(\"The standard deviation on macro accuracy: \", std_accuracy)\n",
    "    print(\"Average number of epochs\", mean_epoch)\n",
    "    \n",
    "    return real_precision_list, real_recall_list, real_f1_list, fake_precision_list, fake_recall_list, fake_f1_list,\\\n",
    "    macro_precision_list, macro_recall_list, macro_f1_list, accuracy_list"
   ]
  },
  {
   "cell_type": "code",
   "execution_count": 18,
   "id": "5b0e2910",
   "metadata": {
    "scrolled": false
   },
   "outputs": [
    {
     "name": "stdout",
     "output_type": "stream",
     "text": [
      "\n",
      "Training for iteration number:  0\n",
      "41/41 [==============================] - 0s 1ms/step\n",
      "\n",
      "Training for iteration number:  1\n",
      "41/41 [==============================] - 0s 1ms/step\n",
      "\n",
      "Training for iteration number:  2\n",
      "41/41 [==============================] - 0s 1ms/step\n",
      "\n",
      "Training for iteration number:  3\n",
      "41/41 [==============================] - 0s 1ms/step\n",
      "\n",
      "Training for iteration number:  4\n",
      "41/41 [==============================] - 0s 1ms/step\n",
      "\n",
      "Training for iteration number:  5\n",
      "41/41 [==============================] - 0s 1ms/step\n",
      "\n",
      "Training for iteration number:  6\n",
      "41/41 [==============================] - 0s 1ms/step\n",
      "\n",
      "Training for iteration number:  7\n",
      "41/41 [==============================] - 0s 1ms/step\n",
      "\n",
      "Training for iteration number:  8\n",
      "41/41 [==============================] - 0s 1ms/step\n",
      "\n",
      "Training for iteration number:  9\n",
      "41/41 [==============================] - 0s 1ms/step\n",
      "\n",
      "Training for iteration number:  10\n",
      "41/41 [==============================] - 0s 1ms/step\n",
      "\n",
      "Training for iteration number:  11\n",
      "41/41 [==============================] - 0s 1ms/step\n",
      "\n",
      "Training for iteration number:  12\n",
      "41/41 [==============================] - 0s 1ms/step\n",
      "\n",
      "Training for iteration number:  13\n",
      "41/41 [==============================] - 0s 1ms/step\n",
      "\n",
      "Training for iteration number:  14\n",
      "41/41 [==============================] - 0s 1ms/step\n",
      "\n",
      "Training for iteration number:  15\n",
      "41/41 [==============================] - 0s 1ms/step\n",
      "\n",
      "Training for iteration number:  16\n",
      "41/41 [==============================] - 0s 1ms/step\n",
      "\n",
      "Training for iteration number:  17\n",
      "41/41 [==============================] - 0s 1ms/step\n",
      "\n",
      "Training for iteration number:  18\n",
      "41/41 [==============================] - 0s 1ms/step\n",
      "\n",
      "Training for iteration number:  19\n",
      "41/41 [==============================] - 0s 1ms/step\n",
      "\n",
      "Training for iteration number:  20\n",
      "41/41 [==============================] - 0s 1ms/step\n",
      "\n",
      "Training for iteration number:  21\n",
      "41/41 [==============================] - 0s 1ms/step\n",
      "\n",
      "Training for iteration number:  22\n",
      "41/41 [==============================] - 0s 1ms/step\n",
      "\n",
      "Training for iteration number:  23\n",
      "41/41 [==============================] - 0s 1ms/step\n",
      "\n",
      "Training for iteration number:  24\n",
      "41/41 [==============================] - 0s 1ms/step\n",
      "\n",
      "Training for iteration number:  25\n",
      "41/41 [==============================] - 0s 1ms/step\n",
      "\n",
      "Training for iteration number:  26\n",
      "41/41 [==============================] - 0s 1ms/step\n",
      "\n",
      "Training for iteration number:  27\n",
      "41/41 [==============================] - 0s 1ms/step\n",
      "\n",
      "Training for iteration number:  28\n",
      "41/41 [==============================] - 0s 1ms/step\n",
      "\n",
      "Training for iteration number:  29\n",
      "41/41 [==============================] - 0s 1ms/step\n",
      "The average real precision :  0.891051631497175\n",
      "The average real recall:  0.8561661759895322\n",
      "The average real f1:  0.8731250463567136\n",
      "The average fake precision :  0.5488621786612946\n",
      "The average fake recall:  0.623943661971831\n",
      "The average macro precision:  0.7199569050792347\n",
      "The average macro recall:  0.739692324703866\n",
      "The average macro_f1:  0.7281135024325671\n",
      "The average macro accuracy:  0.805551291890509\n",
      "The standard deviation on real precision :  0.005002776443894276\n",
      "The standard deviation on real recall:  0.017010172114411925\n",
      "The standard deviation on real f1:  0.006719526916861287\n",
      "The standard deviation on fake precision :  0.021486118639240735\n",
      "The standard deviation on fake recall:  0.02640297282779615\n",
      "The standard deviation on macro precision:  0.00891356656019599\n",
      "The standard deviation on macro recall:  0.0\n",
      "The standard deviation on macro_f1:  0.004840543011706774\n",
      "The standard deviation on macro accuracy:  0.008106262264285288\n",
      "Average number of epochs 86.86666666666666\n"
     ]
    }
   ],
   "source": [
    "real_precision, real_recall, real_f_score, fake_precision, fake_recall,\\\n",
    "fake_f1, macro_precision, macro_recall, macro_f1, accuracy = run_model(X_train, \\\n",
    "y_label, X_val, y_val_label, X_test, y_test_label, verbose=0, itr=30)"
   ]
  },
  {
   "cell_type": "code",
   "execution_count": 19,
   "id": "612871d3",
   "metadata": {},
   "outputs": [
    {
     "name": "stdout",
     "output_type": "stream",
     "text": [
      "Real Precision:\n",
      "  [0.8858858858858859, 0.8864321608040201, 0.8847290640394089, 0.8883248730964467, 0.8936605316973415, 0.897196261682243, 0.8943514644351465, 0.8920863309352518, 0.8944618599791013, 0.8916155419222904, 0.8858585858585859, 0.8899176954732511, 0.8873096446700508, 0.8885511651469098, 0.890927624872579, 0.8918367346938776, 0.8782112274024738, 0.8913705583756345, 0.8892276422764228, 0.8987206823027718, 0.8860887096774194, 0.8842412451361867, 0.8941798941798942, 0.9, 0.8928939237899073, 0.8991596638655462, 0.8940329218106996, 0.8905622489959839, 0.8994708994708994, 0.8902439024390244]\n",
      "Real Recall:\n",
      "  [0.8684985279685966, 0.8655544651619235, 0.8812561334641805, 0.858684985279686, 0.8577036310107949, 0.8478900883218842, 0.8390578999018645, 0.8518155053974484, 0.8400392541707556, 0.8557409224730128, 0.8606476938174681, 0.8488714425907753, 0.8577036310107949, 0.8606476938174681, 0.8577036310107949, 0.8577036310107949, 0.9057899901864573, 0.8616290480863592, 0.858684985279686, 0.8272816486751717, 0.8626104023552502, 0.8920510304219823, 0.8292443572129539, 0.830225711481845, 0.8508341511285574, 0.8400392541707556, 0.8527968596663396, 0.8704612365063789, 0.8341511285574092, 0.8596663395485771]\n",
      "Real F1-Score:\n",
      "  [0.8771060455896927, 0.8758689175769613, 0.8829891838741396, 0.873253493013972, 0.8753129694541814, 0.8718466195761857, 0.8658227848101265, 0.8714859437751005, 0.8663967611336033, 0.8733099649474212, 0.8730711796913887, 0.8689100954294325, 0.872255489021956, 0.8743768693918245, 0.8739999999999999, 0.8744372186093048, 0.8917874396135266, 0.8762475049900199, 0.873689465801298, 0.86152273888605, 0.8741919443063153, 0.8881289692232535, 0.8604887983706722, 0.8637059724349159, 0.871356783919598, 0.8685946220192796, 0.8729281767955802, 0.8803970223325063, 0.8655804480651731, 0.8746879680479281]\n"
     ]
    }
   ],
   "source": [
    "print(\"Real Precision:\\n \", real_precision)\n",
    "print(\"Real Recall:\\n \", real_recall)\n",
    "print(\"Real F1-Score:\\n \",  real_f_score) "
   ]
  },
  {
   "cell_type": "code",
   "execution_count": 20,
   "id": "4efb8244",
   "metadata": {},
   "outputs": [
    {
     "name": "stdout",
     "output_type": "stream",
     "text": [
      "Fake Precision:\n",
      "  [0.5592105263157895, 0.5551948051948052, 0.5798611111111112, 0.5471698113207547, 0.5538461538461539, 0.5441176470588235, 0.5273775216138329, 0.5424242424242425, 0.5289017341040463, 0.5476923076923077, 0.5463258785942492, 0.5347432024169184, 0.5440251572327044, 0.5506329113924051, 0.5496894409937888, 0.5510835913312694, 0.6190476190476191, 0.5566037735849056, 0.54858934169279, 0.5178082191780822, 0.5498392282958199, 0.6, 0.5139664804469274, 0.5234159779614325, 0.5421686746987951, 0.5356125356125356, 0.5468277945619335, 0.5700325732899023, 0.5279329608938548, 0.5517241379310345]\n",
      "Fake Recall:\n",
      "  [0.5985915492957746, 0.602112676056338, 0.5880281690140845, 0.6126760563380281, 0.6338028169014085, 0.6514084507042254, 0.6443661971830986, 0.6302816901408451, 0.6443661971830986, 0.6267605633802817, 0.602112676056338, 0.6232394366197183, 0.6091549295774648, 0.6126760563380281, 0.6232394366197183, 0.6267605633802817, 0.5492957746478874, 0.6232394366197183, 0.6161971830985915, 0.6654929577464789, 0.602112676056338, 0.5809859154929577, 0.647887323943662, 0.6690140845070423, 0.6338028169014085, 0.6619718309859155, 0.6373239436619719, 0.6161971830985915, 0.6654929577464789, 0.6197183098591549]\n",
      "Fake F1-Score:\n",
      "  [0.5782312925170068, 0.5777027027027026, 0.583916083916084, 0.5780730897009966, 0.5911330049261084, 0.5929487179487178, 0.5800316957210777, 0.5830618892508145, 0.580952380952381, 0.5845648604269293, 0.5728643216080401, 0.575609756097561, 0.574750830564784, 0.58, 0.5841584158415841, 0.5864909390444811, 0.582089552238806, 0.5880398671096345, 0.5804311774461028, 0.5824345146379045, 0.5747899159663865, 0.590339892665474, 0.573208722741433, 0.5873261205564142, 0.5844155844155844, 0.5921259842519685, 0.5886178861788618, 0.5922165820642978, 0.588785046728972, 0.5837479270315091]\n"
     ]
    }
   ],
   "source": [
    "print(\"Fake Precision:\\n \", fake_precision)\n",
    "print(\"Fake Recall:\\n \", fake_recall)\n",
    "print(\"Fake F1-Score:\\n \", fake_f1)"
   ]
  },
  {
   "cell_type": "code",
   "execution_count": 21,
   "id": "f78c69af",
   "metadata": {},
   "outputs": [
    {
     "name": "stdout",
     "output_type": "stream",
     "text": [
      "Macro Precision:\n",
      "  [0.7225482061008377, 0.7208134829994126, 0.7322950875752601, 0.7177473422086007, 0.7237533427717477, 0.7206569543705332, 0.7108644930244896, 0.7172552866797471, 0.7116817970415739, 0.7196539248072991, 0.7160922322264176, 0.7123304489450848, 0.7156674009513776, 0.7195920382696575, 0.720308532933184, 0.7214601630125734, 0.7486294232250464, 0.7239871659802701, 0.7189084919846064, 0.708264450740427, 0.7179639689866196, 0.7421206225680934, 0.7040731873134107, 0.7117079889807163, 0.7175312992443512, 0.7173860997390409, 0.7204303581863165, 0.7302974111429431, 0.713701930182377, 0.7209840201850295]\n",
      "Macro Recall:\n",
      "  [0.7335450386321856, 0.7338335706091308, 0.7346421512391326, 0.735680520808857, 0.7457532239561018, 0.7496492695130548, 0.7417120485424815, 0.7410485977691468, 0.7422027256769271, 0.7412507429266473, 0.731380184936903, 0.7360554396052468, 0.7334292802941298, 0.736661875077748, 0.7404715338152565, 0.7422320971955383, 0.7275428824171724, 0.7424342423530388, 0.7374410841891388, 0.7463873032108252, 0.732361539205794, 0.7365184729574701, 0.738565840578308, 0.7496198979944436, 0.742318484014983, 0.7510055425783355, 0.7450604016641558, 0.7433292098024852, 0.749822043151944, 0.739692324703866]\n",
      "Macro F1-Score:\n",
      "  [0.7276686690533498, 0.7267858101398319, 0.7334526338951117, 0.7256632913574843, 0.7332229871901449, 0.7323976687624518, 0.7229272402656022, 0.7272739165129575, 0.7236745710429922, 0.7289374126871753, 0.7229677506497144, 0.7222599257634967, 0.7235031597933701, 0.7271884346959122, 0.729079207920792, 0.730464078826893, 0.7369384959261662, 0.7321436860498272, 0.7270603216237004, 0.7219786267619772, 0.7244909301363509, 0.7392344309443637, 0.7168487605560525, 0.725516046495665, 0.7278861841675912, 0.7303603031356241, 0.730773031487221, 0.736306802198402, 0.7271827473970726, 0.7292179475397187]\n",
      "Accuracy Score:\n",
      "  [0.8096699923254029, 0.8081350729086723, 0.8173445894090561, 0.805065234075211, 0.8089025326170376, 0.805065234075211, 0.7966231772831927, 0.8035303146584805, 0.797390636991558, 0.8058326937835764, 0.8042977743668457, 0.7996930161166539, 0.8035303146584805, 0.8066001534919417, 0.8066001534919417, 0.807367613200307, 0.8280890253261703, 0.8096699923254029, 0.8058326937835764, 0.7920184190330007, 0.8058326937835764, 0.8242517267843438, 0.7897160399079048, 0.795088257866462, 0.8035303146584805, 0.8012279355333844, 0.8058326937835764, 0.8150422102839601, 0.797390636991558, 0.807367613200307]\n"
     ]
    }
   ],
   "source": [
    "print(\"Macro Precision:\\n \", macro_precision)\n",
    "print(\"Macro Recall:\\n \", macro_recall)\n",
    "print(\"Macro F1-Score:\\n \", macro_f1)\n",
    "print(\"Accuracy Score:\\n \", accuracy)"
   ]
  },
  {
   "cell_type": "code",
   "execution_count": null,
   "id": "d9e78ca2",
   "metadata": {},
   "outputs": [],
   "source": []
  }
 ],
 "metadata": {
  "kernelspec": {
   "display_name": "Python 3",
   "language": "python",
   "name": "python3"
  },
  "language_info": {
   "codemirror_mode": {
    "name": "ipython",
    "version": 3
   },
   "file_extension": ".py",
   "mimetype": "text/x-python",
   "name": "python",
   "nbconvert_exporter": "python",
   "pygments_lexer": "ipython3",
   "version": "3.8.8"
  }
 },
 "nbformat": 4,
 "nbformat_minor": 5
}
