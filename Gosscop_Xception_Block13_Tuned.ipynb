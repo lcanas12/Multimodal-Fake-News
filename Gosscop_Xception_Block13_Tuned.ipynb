{
 "cells": [
  {
   "cell_type": "code",
   "execution_count": 1,
   "id": "8eb43939",
   "metadata": {},
   "outputs": [],
   "source": [
    "import pandas as pd\n",
    "import sklearn\n",
    "import numpy as np\n",
    "import os\n",
    "from pathlib import Path\n",
    "from sklearn.model_selection import train_test_split\n",
    "import torch\n",
    "from datasets import load_dataset\n",
    "import tensorflow as tf\n",
    "import tensorflow_addons as tfa\n",
    "import gc\n",
    "\n",
    "from keras import optimizers\n",
    "import matplotlib.pyplot as plt\n",
    "from keras import initializers\n",
    "from keras.utils import np_utils\n",
    "from keras import regularizers\n",
    "from keras.models import Sequential, Model\n",
    "from keras.callbacks import ModelCheckpoint\n",
    "from keras.layers import concatenate\n",
    "from keras.layers import Dense, Flatten, Dropout, Input, BatchNormalization, ReLU\n",
    "from keras.layers import LSTM, Bidirectional\n",
    "import pickle\n",
    "from sklearn.metrics import confusion_matrix\n",
    "from sklearn.metrics import classification_report, accuracy_score\n",
    "\n",
    "\n",
    "import keras\n",
    "\n",
    "import matplotlib.pyplot as plt\n",
    "%matplotlib inline"
   ]
  },
  {
   "cell_type": "code",
   "execution_count": 2,
   "id": "71be2295",
   "metadata": {},
   "outputs": [],
   "source": [
    "df_goss_train = pd.read_pickle('../../Dissertation - Fake News/Embeddings/df_train_xception_block13_tuned.pkl')\n",
    "df_goss_val = pd.read_pickle('../../Dissertation - Fake News/Embeddings/df_val_xception_block13_tuned.pkl')\n",
    "df_goss_test = pd.read_pickle('../../Dissertation - Fake News/Embeddings/df_test_xception_block13_tuned.pkl')"
   ]
  },
  {
   "cell_type": "code",
   "execution_count": 3,
   "id": "6c51d2c4",
   "metadata": {},
   "outputs": [
    {
     "data": {
      "text/html": [
       "<div>\n",
       "<style scoped>\n",
       "    .dataframe tbody tr th:only-of-type {\n",
       "        vertical-align: middle;\n",
       "    }\n",
       "\n",
       "    .dataframe tbody tr th {\n",
       "        vertical-align: top;\n",
       "    }\n",
       "\n",
       "    .dataframe thead th {\n",
       "        text-align: right;\n",
       "    }\n",
       "</style>\n",
       "<table border=\"1\" class=\"dataframe\">\n",
       "  <thead>\n",
       "    <tr style=\"text-align: right;\">\n",
       "      <th></th>\n",
       "      <th>img_features</th>\n",
       "      <th>label</th>\n",
       "      <th>idx</th>\n",
       "    </tr>\n",
       "  </thead>\n",
       "  <tbody>\n",
       "    <tr>\n",
       "      <th>1902</th>\n",
       "      <td>[[0.10558473, 0.16098443, 0.020011356, 0.08344...</td>\n",
       "      <td>0</td>\n",
       "      <td>1934</td>\n",
       "    </tr>\n",
       "    <tr>\n",
       "      <th>1386</th>\n",
       "      <td>[[0.046662774, 0.17724605, 0.042650662, 0.0015...</td>\n",
       "      <td>0</td>\n",
       "      <td>1408</td>\n",
       "    </tr>\n",
       "    <tr>\n",
       "      <th>2539</th>\n",
       "      <td>[[0.06569802, 0.1936235, 0.30632508, 0.0337837...</td>\n",
       "      <td>0</td>\n",
       "      <td>2589</td>\n",
       "    </tr>\n",
       "    <tr>\n",
       "      <th>5649</th>\n",
       "      <td>[[0.33801103, 0.40527448, 0.15830709, 0.200365...</td>\n",
       "      <td>1</td>\n",
       "      <td>5778</td>\n",
       "    </tr>\n",
       "    <tr>\n",
       "      <th>2869</th>\n",
       "      <td>[[0.0074708606, 0.064031914, 0.0031554783, 0.1...</td>\n",
       "      <td>0</td>\n",
       "      <td>2922</td>\n",
       "    </tr>\n",
       "  </tbody>\n",
       "</table>\n",
       "</div>"
      ],
      "text/plain": [
       "                                           img_features  label   idx\n",
       "1902  [[0.10558473, 0.16098443, 0.020011356, 0.08344...      0  1934\n",
       "1386  [[0.046662774, 0.17724605, 0.042650662, 0.0015...      0  1408\n",
       "2539  [[0.06569802, 0.1936235, 0.30632508, 0.0337837...      0  2589\n",
       "5649  [[0.33801103, 0.40527448, 0.15830709, 0.200365...      1  5778\n",
       "2869  [[0.0074708606, 0.064031914, 0.0031554783, 0.1...      0  2922"
      ]
     },
     "execution_count": 3,
     "metadata": {},
     "output_type": "execute_result"
    }
   ],
   "source": [
    "df_goss_train.head()"
   ]
  },
  {
   "cell_type": "code",
   "execution_count": 4,
   "id": "97a2a8a1",
   "metadata": {},
   "outputs": [],
   "source": [
    "def label_change(df):\n",
    "    if df['label'] == 0: return 1\n",
    "    else: return 0"
   ]
  },
  {
   "cell_type": "code",
   "execution_count": 5,
   "id": "7c9b52ff",
   "metadata": {},
   "outputs": [
    {
     "data": {
      "text/html": [
       "<div>\n",
       "<style scoped>\n",
       "    .dataframe tbody tr th:only-of-type {\n",
       "        vertical-align: middle;\n",
       "    }\n",
       "\n",
       "    .dataframe tbody tr th {\n",
       "        vertical-align: top;\n",
       "    }\n",
       "\n",
       "    .dataframe thead th {\n",
       "        text-align: right;\n",
       "    }\n",
       "</style>\n",
       "<table border=\"1\" class=\"dataframe\">\n",
       "  <thead>\n",
       "    <tr style=\"text-align: right;\">\n",
       "      <th></th>\n",
       "      <th>img_features</th>\n",
       "      <th>label</th>\n",
       "      <th>idx</th>\n",
       "      <th>target</th>\n",
       "    </tr>\n",
       "  </thead>\n",
       "  <tbody>\n",
       "    <tr>\n",
       "      <th>1902</th>\n",
       "      <td>[[0.10558473, 0.16098443, 0.020011356, 0.08344...</td>\n",
       "      <td>0</td>\n",
       "      <td>1934</td>\n",
       "      <td>1</td>\n",
       "    </tr>\n",
       "    <tr>\n",
       "      <th>1386</th>\n",
       "      <td>[[0.046662774, 0.17724605, 0.042650662, 0.0015...</td>\n",
       "      <td>0</td>\n",
       "      <td>1408</td>\n",
       "      <td>1</td>\n",
       "    </tr>\n",
       "    <tr>\n",
       "      <th>2539</th>\n",
       "      <td>[[0.06569802, 0.1936235, 0.30632508, 0.0337837...</td>\n",
       "      <td>0</td>\n",
       "      <td>2589</td>\n",
       "      <td>1</td>\n",
       "    </tr>\n",
       "    <tr>\n",
       "      <th>5649</th>\n",
       "      <td>[[0.33801103, 0.40527448, 0.15830709, 0.200365...</td>\n",
       "      <td>1</td>\n",
       "      <td>5778</td>\n",
       "      <td>0</td>\n",
       "    </tr>\n",
       "    <tr>\n",
       "      <th>2869</th>\n",
       "      <td>[[0.0074708606, 0.064031914, 0.0031554783, 0.1...</td>\n",
       "      <td>0</td>\n",
       "      <td>2922</td>\n",
       "      <td>1</td>\n",
       "    </tr>\n",
       "  </tbody>\n",
       "</table>\n",
       "</div>"
      ],
      "text/plain": [
       "                                           img_features  label   idx  target\n",
       "1902  [[0.10558473, 0.16098443, 0.020011356, 0.08344...      0  1934       1\n",
       "1386  [[0.046662774, 0.17724605, 0.042650662, 0.0015...      0  1408       1\n",
       "2539  [[0.06569802, 0.1936235, 0.30632508, 0.0337837...      0  2589       1\n",
       "5649  [[0.33801103, 0.40527448, 0.15830709, 0.200365...      1  5778       0\n",
       "2869  [[0.0074708606, 0.064031914, 0.0031554783, 0.1...      0  2922       1"
      ]
     },
     "execution_count": 5,
     "metadata": {},
     "output_type": "execute_result"
    }
   ],
   "source": [
    "df_goss_train['target'] = df_goss_train.apply(label_change, axis=1)\n",
    "df_goss_train.head()"
   ]
  },
  {
   "cell_type": "code",
   "execution_count": 6,
   "id": "ffd94fd1",
   "metadata": {},
   "outputs": [],
   "source": [
    "df_goss_val['target'] = df_goss_val.apply(label_change, axis=1)\n",
    "df_goss_test['target'] = df_goss_test.apply(label_change, axis=1)"
   ]
  },
  {
   "cell_type": "code",
   "execution_count": 7,
   "id": "84ec57ff",
   "metadata": {},
   "outputs": [
    {
     "name": "stdout",
     "output_type": "stream",
     "text": [
      "[0.64400494 2.2360515 ]\n"
     ]
    },
    {
     "name": "stderr",
     "output_type": "stream",
     "text": [
      "C:\\Users\\labca\\anaconda3\\lib\\site-packages\\sklearn\\utils\\validation.py:70: FutureWarning: Pass classes=[0 1], y=[0 0 0 ... 1 1 1] as keyword args. From version 1.0 (renaming of 0.25) passing these as positional arguments will result in an error\n",
      "  warnings.warn(f\"Pass {args_msg} as keyword args. From version \"\n"
     ]
    }
   ],
   "source": [
    "# Count samples per class: 0-real, 1-fake\n",
    "classes_zero = df_goss_train[df_goss_train['target'] == 0]\n",
    "classes_one = df_goss_train[df_goss_train['target'] == 1]\n",
    "\n",
    "# Convert parts into NumPy arrays for weight computation\n",
    "zero_numpy = classes_zero['target'].to_numpy()\n",
    "one_numpy = classes_one['target'].to_numpy()\n",
    "all_together = np.concatenate((zero_numpy, one_numpy))\n",
    "unique_classes = np.unique(all_together)\n",
    "\n",
    "# Compute weights\n",
    "weights = sklearn.utils.class_weight.compute_class_weight('balanced', unique_classes, all_together)\n",
    "print(weights)"
   ]
  },
  {
   "cell_type": "code",
   "execution_count": 8,
   "id": "9222804e",
   "metadata": {},
   "outputs": [
    {
     "data": {
      "text/plain": [
       "{0: 0.6440049443757726, 1: 2.236051502145923}"
      ]
     },
     "execution_count": 8,
     "metadata": {},
     "output_type": "execute_result"
    }
   ],
   "source": [
    "weights_ker = {i : weights[i] for i in range(2)}\n",
    "weights_ker"
   ]
  },
  {
   "cell_type": "code",
   "execution_count": 9,
   "id": "fedaae25",
   "metadata": {},
   "outputs": [
    {
     "data": {
      "text/plain": [
       "(10420, 1, 2048)"
      ]
     },
     "execution_count": 9,
     "metadata": {},
     "output_type": "execute_result"
    }
   ],
   "source": [
    "array_train = df_goss_train[[\"img_features\",\"target\"]].to_numpy() \n",
    "X_train = np.array(array_train[:,0].tolist())\n",
    "X_train.shape"
   ]
  },
  {
   "cell_type": "code",
   "execution_count": 10,
   "id": "b9b2b545",
   "metadata": {},
   "outputs": [
    {
     "data": {
      "text/plain": [
       "(10420, 2048)"
      ]
     },
     "execution_count": 10,
     "metadata": {},
     "output_type": "execute_result"
    }
   ],
   "source": [
    "X_train = np.squeeze(X_train, 1)\n",
    "X_train.shape"
   ]
  },
  {
   "cell_type": "code",
   "execution_count": 11,
   "id": "c524a0b3",
   "metadata": {},
   "outputs": [
    {
     "data": {
      "text/plain": [
       "(10420,)"
      ]
     },
     "execution_count": 11,
     "metadata": {},
     "output_type": "execute_result"
    }
   ],
   "source": [
    "y_label = np.array(array_train[:,1].tolist())\n",
    "y_label.shape"
   ]
  },
  {
   "cell_type": "code",
   "execution_count": 12,
   "id": "248a00ef",
   "metadata": {},
   "outputs": [],
   "source": [
    "array_val = df_goss_val[[\"img_features\",\"target\"]].to_numpy() \n",
    "X_val = np.array(array_val[:,0].tolist())\n",
    "X_val = np.squeeze(X_val, 1)\n",
    "y_val_label = np.array(array_val[:,1].tolist())\n",
    "\n",
    "array_test = df_goss_test[[\"img_features\",\"target\"]].to_numpy() \n",
    "X_test = np.array(array_test[:,0].tolist())\n",
    "X_test = np.squeeze(X_test, 1)\n",
    "y_test_label = np.array(array_test[:,1].tolist())"
   ]
  },
  {
   "cell_type": "code",
   "execution_count": 13,
   "id": "036c42e4",
   "metadata": {},
   "outputs": [],
   "source": [
    "def reset_tensorflow_keras_backend():\n",
    "    keras.backend.clear_session()\n",
    "    tf.compat.v1.reset_default_graph()\n",
    "    _ = gc.collect()"
   ]
  },
  {
   "cell_type": "code",
   "execution_count": 14,
   "id": "4845b495",
   "metadata": {},
   "outputs": [],
   "source": [
    "def reinitialize(model):\n",
    "    for l in model.layers:\n",
    "        if hasattr(l,\"kernel_initializer\"):\n",
    "            l.kernel.assign(l.kernel_initializer(tf.shape(l.kernel)))\n",
    "        if hasattr(l,\"bias_initializer\"):\n",
    "            l.bias.assign(l.bias_initializer(tf.shape(l.bias)))\n",
    "        if hasattr(l,\"recurrent_initializer\"):\n",
    "            l.recurrent_kernel.assign(l.recurrent_initializer(tf.shape(l.recurrent_kernel)))"
   ]
  },
  {
   "cell_type": "code",
   "execution_count": 15,
   "id": "7d159b5d",
   "metadata": {},
   "outputs": [],
   "source": [
    "adam = optimizers.Adam(learning_rate=1e-5)\n",
    "callback = tf.keras.callbacks.EarlyStopping(monitor='val_loss', patience=5, restore_best_weights=True)"
   ]
  },
  {
   "cell_type": "code",
   "execution_count": 16,
   "id": "b3e62209",
   "metadata": {},
   "outputs": [],
   "source": [
    "input_img = Input(shape=(2048))\n",
    "img_dense = Dense(1024, activation='relu', kernel_regularizer=regularizers.l2(0.01),\\\n",
    "                kernel_initializer=initializers.he_normal(seed=0))(input_img)\n",
    "dropout_img = Dropout(0.4)(img_dense)\n",
    "img_dense = Dense(512, activation='relu', kernel_regularizer=regularizers.l2(0.01),\\\n",
    "                kernel_initializer=initializers.he_normal(seed=0))(dropout_img)\n",
    "img_dense = Dense(128, activation='relu', kernel_regularizer=regularizers.l2(0.01),\\\n",
    "                kernel_initializer=initializers.he_normal(seed=0))(dropout_img)\n",
    "output = Dense(1, activation='sigmoid')(img_dense)\n",
    "model = Model(inputs=input_img, outputs=output)\n",
    "model.compile(loss='binary_crossentropy', optimizer=adam, metrics='accuracy')"
   ]
  },
  {
   "cell_type": "code",
   "execution_count": 17,
   "id": "109b7623",
   "metadata": {},
   "outputs": [
    {
     "name": "stdout",
     "output_type": "stream",
     "text": [
      "Model: \"model\"\n",
      "_________________________________________________________________\n",
      " Layer (type)                Output Shape              Param #   \n",
      "=================================================================\n",
      " input_1 (InputLayer)        [(None, 2048)]            0         \n",
      "                                                                 \n",
      " dense (Dense)               (None, 1024)              2098176   \n",
      "                                                                 \n",
      " dropout (Dropout)           (None, 1024)              0         \n",
      "                                                                 \n",
      " dense_2 (Dense)             (None, 128)               131200    \n",
      "                                                                 \n",
      " dense_3 (Dense)             (None, 1)                 129       \n",
      "                                                                 \n",
      "=================================================================\n",
      "Total params: 2,229,505\n",
      "Trainable params: 2,229,505\n",
      "Non-trainable params: 0\n",
      "_________________________________________________________________\n"
     ]
    }
   ],
   "source": [
    "model.summary()"
   ]
  },
  {
   "cell_type": "code",
   "execution_count": 18,
   "id": "74044f1f",
   "metadata": {},
   "outputs": [],
   "source": [
    "def run_model(X_train, train_label, X_val, val_label, X_test, test_label, batch_size=32,epochs=100, verbose=1, class_weight=weights_ker, \\\n",
    "              itr=30, shuffle=True):\n",
    "    \n",
    "    adam = optimizers.Adam(learning_rate=1e-5)\n",
    "    callback = tf.keras.callbacks.EarlyStopping(monitor='val_loss', patience=3, restore_best_weights=True)\n",
    "    \n",
    "    real_precision_list = []\n",
    "    real_recall_list = []\n",
    "    real_f1_list = []\n",
    "    fake_precision_list = []\n",
    "    fake_recall_list = []\n",
    "    fake_f1_list = []\n",
    "    \n",
    "    macro_precision_list = []\n",
    "    macro_recall_list = []\n",
    "    macro_f1_list = []\n",
    "    accuracy_list = []\n",
    "    num_epochs = []\n",
    "\n",
    "    #Define model\n",
    "    input_img = Input(shape=(2048))\n",
    "    dense_img = Dense(1024, activation='relu', kernel_regularizer=regularizers.l2(0.01),\\\n",
    "                kernel_initializer=initializers.he_normal(seed=0))(input_img)\n",
    "    dropout_img = Dropout(0.4)(dense_img)\n",
    "    dense_img = Dense(512, activation='relu', kernel_regularizer=regularizers.l2(0.01),\\\n",
    "                kernel_initializer=initializers.he_normal(seed=0))(dropout_img)\n",
    "    dense_img = Dense(128, activation='relu', kernel_regularizer=regularizers.l2(0.01),\\\n",
    "                kernel_initializer=initializers.he_normal(seed=0))(dense_img)\n",
    "    output = Dense(1, activation='sigmoid')(dense_img)\n",
    "    model = Model(inputs=input_img, outputs=output)\n",
    "    model.compile(loss='binary_crossentropy', optimizer=adam, metrics='accuracy')\n",
    "        \n",
    "    for i in range(0,itr):\n",
    "        print(\"\\nTraining for iteration number: \", i)\n",
    "        reset_tensorflow_keras_backend()\n",
    "        reinitialize(model)\n",
    "        history = model.fit(X_train, train_label, validation_data=(X_val, val_label), batch_size=batch_size,epochs=epochs,\n",
    "                            callbacks=[callback], verbose=verbose, class_weight=class_weight, shuffle=shuffle)\n",
    "        \n",
    "        y_pred = model.predict(X_test)\n",
    "        predictions = list(map(lambda x: 0 if x<0.5 else 1, y_pred))\n",
    "        \n",
    "        report = classification_report(y_test_label, predictions, target_names=['real','fake'], output_dict=True)\n",
    "        real_precision = report['real']['precision'] \n",
    "        real_recall = report['real']['recall'] \n",
    "        real_f1 = report['real']['f1-score'] \n",
    "        fake_precision = report['fake']['precision'] \n",
    "        fake_recall = report['fake']['recall'] \n",
    "        fake_f1 = report['fake']['f1-score'] \n",
    "        \n",
    "        macro_precision =  report['macro avg']['precision'] \n",
    "        macro_recall = report['macro avg']['recall']    \n",
    "        macro_f1 = report['macro avg']['f1-score']\n",
    "        accuracy = report['accuracy']\n",
    "\n",
    "        real_precision_list.append(real_precision)\n",
    "        real_recall_list.append(real_recall)\n",
    "        real_f1_list.append(real_f1)\n",
    "        fake_precision_list.append(fake_precision)\n",
    "        fake_recall_list.append(fake_recall)\n",
    "        fake_f1_list.append(fake_f1)\n",
    "        \n",
    "        macro_precision_list.append(macro_precision)\n",
    "        macro_recall_list.append(macro_recall)\n",
    "        macro_f1_list.append(macro_f1)\n",
    "        accuracy_list.append(accuracy)\n",
    "        num_epochs.append(len(history.history['loss']))\n",
    "        \n",
    "        \n",
    "    mean_real_precision = np.mean(real_precision_list)\n",
    "    mean_real_recall = np.mean(real_recall_list)\n",
    "    mean_real_f1 = np.mean(real_f1_list)\n",
    "    mean_fake_precision = np.mean(fake_precision_list)\n",
    "    mean_fake_recall= np.mean(fake_recall_list)\n",
    "    mean_fake_f1 = np.mean(fake_f1_list)\n",
    "    \n",
    "    mean_macro_precision = np.mean(macro_precision_list)\n",
    "    mean_macro_recall = np.mean(macro_recall)\n",
    "    mean_macro_f1 = np.mean(macro_f1_list)\n",
    "    mean_accuracy = np.mean(accuracy_list)\n",
    "    mean_epoch = np.mean(num_epochs)\n",
    "    \n",
    "    std_real_precision = np.std(real_precision_list)\n",
    "    std_real_recall = np.std(real_recall_list)\n",
    "    std_real_f1 = np.std(real_f1_list)\n",
    "    std_fake_precision = np.std(fake_precision_list)\n",
    "    std_fake_recall= np.std(fake_recall_list)\n",
    "    std_fake_f1 = np.std(fake_f1_list)\n",
    "    \n",
    "    std_macro_precision = np.std(macro_precision_list)\n",
    "    std_macro_recall = np.std(macro_recall)\n",
    "    std_macro_f1 = np.std(macro_f1_list)\n",
    "    std_accuracy = np.std(accuracy_list)\n",
    "\n",
    "    print(\"The average real precision : \", mean_real_precision)\n",
    "    print(\"The average real recall: \", mean_real_recall)\n",
    "    print(\"The average real f1: \", mean_real_f1)\n",
    "    print(\"The average fake precision : \", mean_fake_precision)\n",
    "    print(\"The average fake recall: \", mean_fake_recall)\n",
    "    print(\"The average fake f1: \", mean_fake_f1)\n",
    "    print(\"The average macro precision: \", mean_macro_precision)\n",
    "    print(\"The average macro recall: \", mean_macro_recall)\n",
    "    print(\"The average macro_f1: \", mean_macro_f1)\n",
    "    print(\"The average macro accuracy: \", mean_accuracy)\n",
    "    \n",
    "    print(\"The standard deviation on real precision : \", std_real_precision)\n",
    "    print(\"The standard deviation on real recall: \", std_real_recall)\n",
    "    print(\"The standard deviation on real f1: \", std_real_f1)\n",
    "    print(\"The standard deviation on fake precision : \", std_fake_precision)\n",
    "    print(\"The standard deviation on fake recall: \", std_fake_recall)\n",
    "    print(\"The standard deviation on macro precision: \", std_macro_precision)\n",
    "    print(\"The standard deviation on macro recall: \", std_macro_recall)\n",
    "    print(\"The standard deviation on macro_f1: \", std_macro_f1)\n",
    "    print(\"The standard deviation on macro accuracy: \", std_accuracy)\n",
    "    print(\"Average number of epochs\", mean_epoch)\n",
    "    \n",
    "    return real_precision_list, real_recall_list, real_f1_list, fake_precision_list, fake_recall_list, fake_f1_list,\\\n",
    "    macro_precision_list, macro_recall_list, macro_f1_list, accuracy_list"
   ]
  },
  {
   "cell_type": "code",
   "execution_count": 19,
   "id": "b4a42ef1",
   "metadata": {},
   "outputs": [
    {
     "name": "stdout",
     "output_type": "stream",
     "text": [
      "Epoch 1/100\n",
      "326/326 [==============================] - 4s 6ms/step - loss: 22.4535 - accuracy: 0.6362 - val_loss: 21.1895 - val_accuracy: 0.6838\n",
      "Epoch 2/100\n",
      "326/326 [==============================] - 2s 5ms/step - loss: 20.0623 - accuracy: 0.6819 - val_loss: 18.9526 - val_accuracy: 0.6930\n",
      "Epoch 3/100\n",
      "326/326 [==============================] - 2s 5ms/step - loss: 17.9440 - accuracy: 0.6865 - val_loss: 16.9653 - val_accuracy: 0.6930\n",
      "Epoch 4/100\n",
      "326/326 [==============================] - 2s 6ms/step - loss: 16.0612 - accuracy: 0.6916 - val_loss: 15.2065 - val_accuracy: 0.6777\n",
      "Epoch 5/100\n",
      "326/326 [==============================] - 2s 5ms/step - loss: 14.3755 - accuracy: 0.6942 - val_loss: 13.6307 - val_accuracy: 0.6631\n",
      "Epoch 6/100\n",
      "326/326 [==============================] - 2s 5ms/step - loss: 12.8678 - accuracy: 0.7015 - val_loss: 12.2010 - val_accuracy: 0.6738\n",
      "Epoch 7/100\n",
      "326/326 [==============================] - 2s 5ms/step - loss: 11.5189 - accuracy: 0.6992 - val_loss: 10.9570 - val_accuracy: 0.6439\n",
      "Epoch 8/100\n",
      "326/326 [==============================] - 2s 5ms/step - loss: 10.3125 - accuracy: 0.7055 - val_loss: 9.8032 - val_accuracy: 0.6616\n",
      "Epoch 9/100\n",
      "326/326 [==============================] - 2s 5ms/step - loss: 9.2358 - accuracy: 0.7042 - val_loss: 8.7790 - val_accuracy: 0.6784\n",
      "Epoch 10/100\n",
      "326/326 [==============================] - 2s 5ms/step - loss: 8.2750 - accuracy: 0.7072 - val_loss: 7.8716 - val_accuracy: 0.6830\n",
      "Epoch 11/100\n",
      "326/326 [==============================] - 2s 5ms/step - loss: 7.4197 - accuracy: 0.7161 - val_loss: 7.1126 - val_accuracy: 0.6385\n",
      "Epoch 12/100\n",
      "326/326 [==============================] - 2s 5ms/step - loss: 6.6591 - accuracy: 0.7135 - val_loss: 6.4007 - val_accuracy: 0.6324\n",
      "Epoch 13/100\n",
      "326/326 [==============================] - 2s 5ms/step - loss: 5.9834 - accuracy: 0.7157 - val_loss: 5.7593 - val_accuracy: 0.6462\n",
      "Epoch 14/100\n",
      "326/326 [==============================] - 2s 5ms/step - loss: 5.3836 - accuracy: 0.7168 - val_loss: 5.1849 - val_accuracy: 0.6562\n",
      "Epoch 15/100\n",
      "326/326 [==============================] - 2s 5ms/step - loss: 4.8563 - accuracy: 0.7201 - val_loss: 4.7104 - val_accuracy: 0.6385\n",
      "Epoch 16/100\n",
      "326/326 [==============================] - 2s 5ms/step - loss: 4.3887 - accuracy: 0.7204 - val_loss: 4.2715 - val_accuracy: 0.6424\n",
      "Epoch 17/100\n",
      "326/326 [==============================] - 2s 5ms/step - loss: 3.9758 - accuracy: 0.7255 - val_loss: 3.9028 - val_accuracy: 0.6232\n",
      "Epoch 18/100\n",
      "326/326 [==============================] - 2s 5ms/step - loss: 3.6164 - accuracy: 0.7205 - val_loss: 3.5203 - val_accuracy: 0.6754\n",
      "Epoch 19/100\n",
      "326/326 [==============================] - 2s 5ms/step - loss: 3.2997 - accuracy: 0.7258 - val_loss: 3.2349 - val_accuracy: 0.6646\n",
      "Epoch 20/100\n",
      "326/326 [==============================] - 2s 5ms/step - loss: 3.0225 - accuracy: 0.7278 - val_loss: 2.9850 - val_accuracy: 0.6562\n",
      "Epoch 21/100\n",
      "326/326 [==============================] - 2s 5ms/step - loss: 2.7795 - accuracy: 0.7257 - val_loss: 2.7788 - val_accuracy: 0.6401\n",
      "Epoch 22/100\n",
      "326/326 [==============================] - 2s 5ms/step - loss: 2.5641 - accuracy: 0.7289 - val_loss: 2.5581 - val_accuracy: 0.6608\n",
      "Epoch 23/100\n",
      "326/326 [==============================] - 2s 5ms/step - loss: 2.3776 - accuracy: 0.7302 - val_loss: 2.3927 - val_accuracy: 0.6523\n",
      "Epoch 24/100\n",
      "326/326 [==============================] - 2s 5ms/step - loss: 2.2141 - accuracy: 0.7334 - val_loss: 2.2567 - val_accuracy: 0.6378\n",
      "Epoch 25/100\n",
      "326/326 [==============================] - 2s 5ms/step - loss: 2.0684 - accuracy: 0.7352 - val_loss: 2.1293 - val_accuracy: 0.6316\n",
      "Epoch 26/100\n",
      "326/326 [==============================] - 2s 5ms/step - loss: 1.9408 - accuracy: 0.7341 - val_loss: 1.9949 - val_accuracy: 0.6470\n",
      "Epoch 27/100\n",
      "326/326 [==============================] - 2s 5ms/step - loss: 1.8267 - accuracy: 0.7400 - val_loss: 1.8989 - val_accuracy: 0.6385\n",
      "Epoch 28/100\n",
      "326/326 [==============================] - 2s 5ms/step - loss: 1.7261 - accuracy: 0.7357 - val_loss: 1.8162 - val_accuracy: 0.6278\n",
      "Epoch 29/100\n",
      "326/326 [==============================] - 2s 5ms/step - loss: 1.6321 - accuracy: 0.7396 - val_loss: 1.6831 - val_accuracy: 0.6685\n",
      "Epoch 30/100\n",
      "326/326 [==============================] - 2s 5ms/step - loss: 1.5540 - accuracy: 0.7397 - val_loss: 1.6769 - val_accuracy: 0.6140\n",
      "Epoch 31/100\n",
      "326/326 [==============================] - 2s 5ms/step - loss: 1.4796 - accuracy: 0.7382 - val_loss: 1.5766 - val_accuracy: 0.6416\n",
      "Epoch 32/100\n",
      "326/326 [==============================] - 2s 5ms/step - loss: 1.4129 - accuracy: 0.7433 - val_loss: 1.5245 - val_accuracy: 0.6355\n",
      "Epoch 33/100\n",
      "326/326 [==============================] - 2s 5ms/step - loss: 1.3499 - accuracy: 0.7430 - val_loss: 1.4297 - val_accuracy: 0.6631\n",
      "Epoch 34/100\n",
      "326/326 [==============================] - 2s 5ms/step - loss: 1.2979 - accuracy: 0.7397 - val_loss: 1.4205 - val_accuracy: 0.6301\n",
      "Epoch 35/100\n",
      "326/326 [==============================] - 2s 5ms/step - loss: 1.2446 - accuracy: 0.7457 - val_loss: 1.4161 - val_accuracy: 0.5909\n",
      "Epoch 36/100\n",
      "326/326 [==============================] - 2s 5ms/step - loss: 1.1979 - accuracy: 0.7437 - val_loss: 1.3098 - val_accuracy: 0.6470\n",
      "Epoch 37/100\n",
      "326/326 [==============================] - 2s 5ms/step - loss: 1.1557 - accuracy: 0.7455 - val_loss: 1.2537 - val_accuracy: 0.6616\n",
      "Epoch 38/100\n",
      "326/326 [==============================] - 2s 5ms/step - loss: 1.1160 - accuracy: 0.7494 - val_loss: 1.2109 - val_accuracy: 0.6631\n",
      "Epoch 39/100\n",
      "326/326 [==============================] - 2s 5ms/step - loss: 1.0806 - accuracy: 0.7479 - val_loss: 1.2119 - val_accuracy: 0.6408\n",
      "Epoch 40/100\n",
      "326/326 [==============================] - 2s 5ms/step - loss: 1.0487 - accuracy: 0.7460 - val_loss: 1.1458 - val_accuracy: 0.6646\n",
      "Epoch 41/100\n",
      "326/326 [==============================] - 2s 5ms/step - loss: 1.0173 - accuracy: 0.7507 - val_loss: 1.1252 - val_accuracy: 0.6569\n",
      "Epoch 42/100\n",
      "326/326 [==============================] - 2s 5ms/step - loss: 0.9903 - accuracy: 0.7498 - val_loss: 1.1239 - val_accuracy: 0.6431\n",
      "Epoch 43/100\n",
      "326/326 [==============================] - 2s 5ms/step - loss: 0.9617 - accuracy: 0.7512 - val_loss: 1.1027 - val_accuracy: 0.6370\n",
      "Epoch 44/100\n",
      "326/326 [==============================] - 2s 5ms/step - loss: 0.9373 - accuracy: 0.7565 - val_loss: 1.1271 - val_accuracy: 0.6009\n",
      "Epoch 45/100\n",
      "326/326 [==============================] - 2s 5ms/step - loss: 0.9142 - accuracy: 0.7551 - val_loss: 1.0610 - val_accuracy: 0.6408\n",
      "Epoch 46/100\n",
      "326/326 [==============================] - 2s 5ms/step - loss: 0.8945 - accuracy: 0.7541 - val_loss: 1.0300 - val_accuracy: 0.6470\n",
      "Epoch 47/100\n",
      "326/326 [==============================] - 2s 5ms/step - loss: 0.8729 - accuracy: 0.7597 - val_loss: 0.9948 - val_accuracy: 0.6600\n",
      "Epoch 48/100\n",
      "326/326 [==============================] - 2s 5ms/step - loss: 0.8570 - accuracy: 0.7566 - val_loss: 1.0161 - val_accuracy: 0.6309\n",
      "Epoch 49/100\n",
      "326/326 [==============================] - 2s 5ms/step - loss: 0.8377 - accuracy: 0.7601 - val_loss: 0.9580 - val_accuracy: 0.6639\n",
      "Epoch 50/100\n",
      "326/326 [==============================] - 2s 5ms/step - loss: 0.8198 - accuracy: 0.7625 - val_loss: 0.9461 - val_accuracy: 0.6646\n",
      "Epoch 51/100\n",
      "326/326 [==============================] - 2s 5ms/step - loss: 0.8066 - accuracy: 0.7620 - val_loss: 0.9465 - val_accuracy: 0.6539\n",
      "Epoch 52/100\n",
      "326/326 [==============================] - 2s 5ms/step - loss: 0.7924 - accuracy: 0.7634 - val_loss: 0.9485 - val_accuracy: 0.6462\n",
      "Epoch 53/100\n",
      "326/326 [==============================] - 2s 5ms/step - loss: 0.7793 - accuracy: 0.7639 - val_loss: 0.9466 - val_accuracy: 0.6401\n",
      "Epoch 54/100\n",
      "326/326 [==============================] - 2s 5ms/step - loss: 0.7672 - accuracy: 0.7595 - val_loss: 0.8917 - val_accuracy: 0.6677\n",
      "Epoch 55/100\n",
      "326/326 [==============================] - 2s 5ms/step - loss: 0.7541 - accuracy: 0.7638 - val_loss: 0.9011 - val_accuracy: 0.6531\n",
      "Epoch 56/100\n",
      "326/326 [==============================] - 2s 5ms/step - loss: 0.7424 - accuracy: 0.7668 - val_loss: 0.9229 - val_accuracy: 0.6278\n",
      "Epoch 57/100\n",
      "326/326 [==============================] - 2s 5ms/step - loss: 0.7307 - accuracy: 0.7625 - val_loss: 0.8445 - val_accuracy: 0.6976\n"
     ]
    },
    {
     "name": "stdout",
     "output_type": "stream",
     "text": [
      "Epoch 58/100\n",
      "326/326 [==============================] - 2s 5ms/step - loss: 0.7224 - accuracy: 0.7677 - val_loss: 0.8599 - val_accuracy: 0.6669\n",
      "Epoch 59/100\n",
      "326/326 [==============================] - 2s 5ms/step - loss: 0.7126 - accuracy: 0.7652 - val_loss: 0.8798 - val_accuracy: 0.6431\n",
      "Epoch 60/100\n",
      "326/326 [==============================] - 2s 5ms/step - loss: 0.7048 - accuracy: 0.7706 - val_loss: 0.8942 - val_accuracy: 0.6247\n",
      "Epoch 61/100\n",
      "326/326 [==============================] - 2s 5ms/step - loss: 0.6949 - accuracy: 0.7674 - val_loss: 0.8526 - val_accuracy: 0.6508\n",
      "Epoch 62/100\n",
      "326/326 [==============================] - 2s 5ms/step - loss: 0.6904 - accuracy: 0.7669 - val_loss: 0.8687 - val_accuracy: 0.6347\n"
     ]
    }
   ],
   "source": [
    "history = model.fit(X_train, y_label, validation_data=(X_val, y_val_label), batch_size=32,epochs=100,\\\n",
    "                            callbacks=[callback], verbose=1, class_weight=weights_ker, shuffle=True)"
   ]
  },
  {
   "cell_type": "code",
   "execution_count": 20,
   "id": "5b0e2910",
   "metadata": {},
   "outputs": [
    {
     "name": "stdout",
     "output_type": "stream",
     "text": [
      "\n",
      "Training for iteration number:  0\n",
      "41/41 [==============================] - 0s 1ms/step\n",
      "\n",
      "Training for iteration number:  1\n",
      "41/41 [==============================] - 0s 1ms/step\n",
      "\n",
      "Training for iteration number:  2\n",
      "41/41 [==============================] - 0s 1ms/step\n",
      "\n",
      "Training for iteration number:  3\n",
      "41/41 [==============================] - 0s 1ms/step\n",
      "\n",
      "Training for iteration number:  4\n",
      "41/41 [==============================] - 0s 1ms/step\n",
      "\n",
      "Training for iteration number:  5\n",
      "41/41 [==============================] - 0s 1ms/step\n",
      "\n",
      "Training for iteration number:  6\n",
      "41/41 [==============================] - 0s 1ms/step\n",
      "\n",
      "Training for iteration number:  7\n",
      "41/41 [==============================] - 0s 1ms/step\n",
      "\n",
      "Training for iteration number:  8\n",
      "41/41 [==============================] - 0s 1ms/step\n",
      "\n",
      "Training for iteration number:  9\n",
      "41/41 [==============================] - 0s 1ms/step\n",
      "\n",
      "Training for iteration number:  10\n",
      "41/41 [==============================] - 0s 1ms/step\n",
      "\n",
      "Training for iteration number:  11\n",
      "41/41 [==============================] - 0s 1ms/step\n",
      "\n",
      "Training for iteration number:  12\n",
      "41/41 [==============================] - 0s 1ms/step\n",
      "\n",
      "Training for iteration number:  13\n",
      "41/41 [==============================] - 0s 1ms/step\n",
      "\n",
      "Training for iteration number:  14\n",
      "41/41 [==============================] - 0s 1ms/step\n",
      "\n",
      "Training for iteration number:  15\n",
      "41/41 [==============================] - 0s 1ms/step\n",
      "\n",
      "Training for iteration number:  16\n",
      "41/41 [==============================] - 0s 1ms/step\n",
      "\n",
      "Training for iteration number:  17\n",
      "41/41 [==============================] - 0s 1ms/step\n",
      "\n",
      "Training for iteration number:  18\n",
      "41/41 [==============================] - 0s 1ms/step\n",
      "\n",
      "Training for iteration number:  19\n",
      "41/41 [==============================] - 0s 1ms/step\n",
      "\n",
      "Training for iteration number:  20\n",
      "41/41 [==============================] - 0s 1ms/step\n",
      "\n",
      "Training for iteration number:  21\n",
      "41/41 [==============================] - 0s 1ms/step\n",
      "\n",
      "Training for iteration number:  22\n",
      "41/41 [==============================] - 0s 1ms/step\n",
      "\n",
      "Training for iteration number:  23\n",
      "41/41 [==============================] - 0s 1ms/step\n",
      "\n",
      "Training for iteration number:  24\n",
      "41/41 [==============================] - 0s 3ms/step\n",
      "\n",
      "Training for iteration number:  25\n",
      "41/41 [==============================] - 0s 1ms/step\n",
      "\n",
      "Training for iteration number:  26\n",
      "41/41 [==============================] - 0s 1ms/step\n",
      "\n",
      "Training for iteration number:  27\n",
      "41/41 [==============================] - 0s 1ms/step\n",
      "\n",
      "Training for iteration number:  28\n",
      "41/41 [==============================] - 0s 1ms/step\n",
      "\n",
      "Training for iteration number:  29\n",
      "41/41 [==============================] - 0s 1ms/step\n",
      "The average real precision :  0.8313180961358791\n",
      "The average real recall:  0.7842001962708538\n",
      "The average real f1:  0.8068269322800152\n",
      "The average fake precision :  0.3576277422891999\n",
      "The average fake recall:  0.42875586854460096\n",
      "The average fake f1:  0.3890397837226783\n",
      "The average macro precision:  0.5944729192125394\n",
      "The average macro recall:  0.6092931484885762\n",
      "The average macro_f1:  0.5979333580013467\n",
      "The average macro accuracy:  0.7067280634433358\n",
      "The standard deviation on real precision :  0.002712424385123974\n",
      "The standard deviation on real recall:  0.025253876685776246\n",
      "The standard deviation on real f1:  0.012466365380780971\n",
      "The standard deviation on fake precision :  0.013661975246235318\n",
      "The standard deviation on fake recall:  0.02760113222215524\n",
      "The standard deviation on macro precision:  0.006193250221626494\n",
      "The standard deviation on macro recall:  0.0\n",
      "The standard deviation on macro_f1:  0.005233855813386263\n",
      "The standard deviation on macro accuracy:  0.013983406992020135\n",
      "Average number of epochs 62.266666666666666\n"
     ]
    }
   ],
   "source": [
    "real_precision, real_recall, real_f_score, fake_precision, fake_recall,\\\n",
    "fake_f1, macro_precision, macro_recall, macro_f1, accuracy = run_model(X_train, \\\n",
    "y_label, X_val, y_val_label, X_test, y_test_label, verbose=0, itr=30)"
   ]
  },
  {
   "cell_type": "code",
   "execution_count": 21,
   "id": "6e8f6d0b",
   "metadata": {},
   "outputs": [
    {
     "name": "stdout",
     "output_type": "stream",
     "text": [
      "Real Precision:\n",
      "  [0.8305439330543933, 0.8269230769230769, 0.8284313725490197, 0.8291925465838509, 0.8288659793814434, 0.8348214285714286, 0.8318135764944276, 0.8321167883211679, 0.8342303552206674, 0.8286004056795132, 0.8276892430278885, 0.8314491264131552, 0.8298097251585623, 0.8314374353671148, 0.8303393213572854, 0.8292181069958847, 0.8317853457172343, 0.8405963302752294, 0.8321013727560718, 0.8303850156087409, 0.8298755186721992, 0.8300312825860271, 0.8324607329842932, 0.8347457627118644, 0.8347921225382933, 0.8308157099697885, 0.8285714285714286, 0.8338658146964856, 0.8317358892438764, 0.8322981366459627]\n",
      "Real Recall:\n",
      "  [0.7791952894995093, 0.8439646712463199, 0.8292443572129539, 0.7860647693817469, 0.78900883218842, 0.7340529931305201, 0.8056918547595682, 0.7831207065750736, 0.760549558390579, 0.8017664376840039, 0.8155053974484789, 0.7939156035328754, 0.7703631010794897, 0.78900883218842, 0.81648675171737, 0.7909715407262021, 0.7909715407262021, 0.719332679097154, 0.7733071638861629, 0.7831207065750736, 0.7850834151128557, 0.7811579980372915, 0.7801766437684003, 0.7733071638861629, 0.7487733071638861, 0.8096172718351324, 0.7684003925417076, 0.7684003925417076, 0.7664376840039254, 0.78900883218842]\n",
      "Real F1-Score:\n",
      "  [0.8040506329113924, 0.8353569694026226, 0.828837665522315, 0.8070528967254408, 0.808446455505279, 0.781201044386423, 0.8185443668993022, 0.8068756319514662, 0.7956878850102669, 0.8149625935162094, 0.8215521502718736, 0.8122489959839357, 0.7989821882951654, 0.809667673716012, 0.8233547748639287, 0.8096433952787544, 0.8108651911468814, 0.7752511898466419, 0.8016276703967447, 0.8060606060606061, 0.8068582955118507, 0.8048533872598584, 0.8054711246200608, 0.8028527763627101, 0.7894464562855665, 0.8200795228628229, 0.7973523421588595, 0.7997957099080695, 0.7977528089887641, 0.8100755667506297]\n"
     ]
    }
   ],
   "source": [
    "print(\"Real Precision:\\n \", real_precision)\n",
    "print(\"Real Recall:\\n \", real_recall)\n",
    "print(\"Real F1-Score:\\n \",  real_f_score) "
   ]
  },
  {
   "cell_type": "code",
   "execution_count": 22,
   "id": "5bc9fb32",
   "metadata": {},
   "outputs": [
    {
     "name": "stdout",
     "output_type": "stream",
     "text": [
      "Fake Precision:\n",
      "  [0.3515850144092219, 0.39543726235741444, 0.38515901060070673, 0.35311572700296734, 0.35435435435435436, 0.33415233415233414, 0.37341772151898733, 0.35755813953488375, 0.34759358288770054, 0.3627760252365931, 0.3712374581939799, 0.36363636363636365, 0.3445378151260504, 0.3601190476190476, 0.3787375415282392, 0.3564954682779456, 0.36227544910179643, 0.33642691415313225, 0.351123595505618, 0.3538011695906433, 0.35398230088495575, 0.35174418604651164, 0.3563218390804598, 0.3565459610027855, 0.34190231362467866, 0.3741935483870968, 0.3407821229050279, 0.3516483516483517, 0.34615384615384615, 0.3620178041543027]\n",
      "Fake Recall:\n",
      "  [0.4295774647887324, 0.36619718309859156, 0.38380281690140844, 0.41901408450704225, 0.4154929577464789, 0.4788732394366197, 0.4154929577464789, 0.43309859154929575, 0.45774647887323944, 0.40492957746478875, 0.3908450704225352, 0.4225352112676056, 0.43309859154929575, 0.426056338028169, 0.4014084507042254, 0.4154929577464789, 0.426056338028169, 0.5105633802816901, 0.44014084507042256, 0.426056338028169, 0.4225352112676056, 0.426056338028169, 0.43661971830985913, 0.4507042253521127, 0.46830985915492956, 0.4084507042253521, 0.4295774647887324, 0.4507042253521127, 0.44366197183098594, 0.4295774647887324]\n",
      "Fake F1-Score:\n",
      "  [0.3866877971473851, 0.3802559414990859, 0.3844797178130512, 0.3832528180354267, 0.3824959481361427, 0.39363241678726485, 0.3933333333333333, 0.39171974522292996, 0.3951367781155015, 0.38269550748752085, 0.38078902229845624, 0.3908794788273616, 0.38377535101404053, 0.3903225806451613, 0.38974358974358975, 0.3837398373983739, 0.39158576051779936, 0.4055944055944055, 0.39062500000000006, 0.38658146964856227, 0.3852327447833066, 0.38535031847133766, 0.3924050632911392, 0.39813374805598756, 0.3952451708766716, 0.3905723905723906, 0.3800623052959501, 0.39506172839506176, 0.38888888888888895, 0.3929146537842191]\n"
     ]
    }
   ],
   "source": [
    "print(\"Fake Precision:\\n \", fake_precision)\n",
    "print(\"Fake Recall:\\n \", fake_recall)\n",
    "print(\"Fake F1-Score:\\n \", fake_f1)"
   ]
  },
  {
   "cell_type": "code",
   "execution_count": 23,
   "id": "0463d77a",
   "metadata": {},
   "outputs": [
    {
     "name": "stdout",
     "output_type": "stream",
     "text": [
      "Macro Precision:\n",
      "  [0.5910644737318076, 0.6111801696402457, 0.6067951915748632, 0.5911541367934091, 0.5916101668678988, 0.5844868813618813, 0.6026156490067074, 0.5948374639280258, 0.590911969054184, 0.5956882154580532, 0.5994633506109341, 0.5975427450247595, 0.5871737701423063, 0.5957782414930812, 0.6045384314427623, 0.5928567876369152, 0.5970303974095154, 0.5885116222141809, 0.5916124841308449, 0.5920930925996921, 0.5919289097785775, 0.5908877343162694, 0.5943912860323766, 0.5956458618573249, 0.5883472180814859, 0.6025046291784426, 0.5846767757382283, 0.5927570831724186, 0.5889448676988613, 0.5971579704001327]\n",
      "Macro Recall:\n",
      "  [0.6043863771441209, 0.6050809271724558, 0.6065235870571811, 0.6025394269443946, 0.6022508949674494, 0.6064631162835699, 0.6105924062530235, 0.6081096490621847, 0.6091480186319093, 0.6033480075743963, 0.6031752339355071, 0.6082254074002404, 0.6017308463143927, 0.6075325851082944, 0.6089476012107977, 0.6032322492363404, 0.6085139393771856, 0.6149480296894221, 0.6067240044782928, 0.6045885223016213, 0.6038093131902307, 0.6036071680327302, 0.6083981810391297, 0.6120056946191378, 0.6085415831594079, 0.6090339880302422, 0.5989889286652199, 0.6095523089469101, 0.6050498279174557, 0.6092931484885762]\n",
      "Macro F1-Score:\n",
      "  [0.5953692150293888, 0.6078064554508542, 0.606658691667683, 0.5951528573804338, 0.5954712018207109, 0.587416730586844, 0.6059388501163178, 0.5992976885871981, 0.5954123315628842, 0.5988290505018651, 0.6011705862851648, 0.6015642374056487, 0.591378769654603, 0.5999951271805867, 0.6065491823037592, 0.5966916163385642, 0.6012254758323403, 0.5904227977205236, 0.5961263351983723, 0.5963210378545842, 0.5960455201475787, 0.595101852865598, 0.5989380939555999, 0.6004932622093488, 0.592345813581119, 0.6053259567176068, 0.5887073237274048, 0.5974287191515656, 0.5933208489388265, 0.6014951102674244]\n",
      "Accuracy Score:\n",
      "  [0.7029930928626247, 0.7398311588641596, 0.7321565617805065, 0.7060629316960859, 0.7075978511128166, 0.6784343821949348, 0.7206446661550269, 0.7068303914044513, 0.6945510360706063, 0.7152724481964697, 0.7229470452801228, 0.7129700690713737, 0.6968534151957022, 0.7099002302379125, 0.726016884113584, 0.7091327705295472, 0.7114351496546432, 0.6738296239447429, 0.7006907137375288, 0.7052954719877207, 0.7060629316960859, 0.70376055257099, 0.7052954719877207, 0.7029930928626247, 0.6876438986953185, 0.7221795855717574, 0.6945510360706063, 0.6991557943207981, 0.6960859554873369, 0.7106676899462778]\n"
     ]
    }
   ],
   "source": [
    "print(\"Macro Precision:\\n \", macro_precision)\n",
    "print(\"Macro Recall:\\n \", macro_recall)\n",
    "print(\"Macro F1-Score:\\n \", macro_f1)\n",
    "print(\"Accuracy Score:\\n \", accuracy)"
   ]
  },
  {
   "cell_type": "code",
   "execution_count": 24,
   "id": "d0ee8741",
   "metadata": {},
   "outputs": [],
   "source": [
    "def plot_accuracy(history):\n",
    "    plt.plot(history.history['accuracy'])\n",
    "    plt.plot(history.history['val_accuracy'])\n",
    "    plt.title('Model accuracy')\n",
    "    plt.ylabel('Accuracy')\n",
    "    plt.xlabel('Epoch')\n",
    "    plt.legend(['Train', 'Test'], loc='upper left')\n",
    "    plt.show()"
   ]
  },
  {
   "cell_type": "code",
   "execution_count": 25,
   "id": "52cc355f",
   "metadata": {},
   "outputs": [],
   "source": [
    "def plot_loss(history):\n",
    "    plt.plot(history.history['loss'])\n",
    "    plt.plot(history.history['val_loss'])\n",
    "    plt.title('Model Loss')\n",
    "    plt.ylabel('Loss')\n",
    "    plt.xlabel('Epoch')\n",
    "    plt.legend(['Train', 'Test'], loc='upper left')\n",
    "    plt.show()"
   ]
  },
  {
   "cell_type": "code",
   "execution_count": 26,
   "id": "9824863d",
   "metadata": {},
   "outputs": [
    {
     "data": {
      "image/png": "[encoded data removed]",
      "text/plain": [
       "<Figure size 432x288 with 1 Axes>"
      ]
     },
     "metadata": {
      "needs_background": "light"
     },
     "output_type": "display_data"
    },
    {
     "data": {
      "image/png": "[encoded data removed]",
      "text/plain": [
       "<Figure size 432x288 with 1 Axes>"
      ]
     },
     "metadata": {
      "needs_background": "light"
     },
     "output_type": "display_data"
    }
   ],
   "source": [
    "model_text_plotacc = plot_accuracy(history)\n",
    "model_text_plotloss = plot_loss(history)"
   ]
  },
  {
   "cell_type": "code",
   "execution_count": null,
   "id": "f07ae6b4",
   "metadata": {},
   "outputs": [],
   "source": []
  }
 ],
 "metadata": {
  "kernelspec": {
   "display_name": "Python 3",
   "language": "python",
   "name": "python3"
  },
  "language_info": {
   "codemirror_mode": {
    "name": "ipython",
    "version": 3
   },
   "file_extension": ".py",
   "mimetype": "text/x-python",
   "name": "python",
   "nbconvert_exporter": "python",
   "pygments_lexer": "ipython3",
   "version": "3.8.8"
  }
 },
 "nbformat": 4,
 "nbformat_minor": 5
}
