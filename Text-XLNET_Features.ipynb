{
 "cells": [
  {
   "cell_type": "code",
   "execution_count": null,
   "id": "c9ab2e5c",
   "metadata": {},
   "outputs": [],
   "source": [
    "#pip install transformers==4.21.2"
   ]
  },
  {
   "cell_type": "code",
   "execution_count": 1,
   "id": "1ef8f1c1",
   "metadata": {},
   "outputs": [],
   "source": [
    "import pandas as pd\n",
    "import numpy as np\n",
    "import os\n",
    "from pathlib import Path\n",
    "from sklearn.model_selection import train_test_split\n",
    "import torch\n",
    "from datasets import load_dataset\n",
    "from transformers import XLNetModel, XLNetTokenizer\n",
    "import re"
   ]
  },
  {
   "cell_type": "code",
   "execution_count": 2,
   "id": "8c8ec3cc",
   "metadata": {},
   "outputs": [],
   "source": [
    "df_goss_raw = pd.read_csv(\"df_gosscop.csv\")"
   ]
  },
  {
   "cell_type": "code",
   "execution_count": 3,
   "id": "360d0364",
   "metadata": {},
   "outputs": [],
   "source": [
    "def clean_txt(text):\n",
    "    text = re.sub(\"'\", \"\",text)\n",
    "    text = re.sub(\"_\", \"\",text)\n",
    "    text=re.sub(\"(\\\\W)+\",\" \",text)    \n",
    "    return text"
   ]
  },
  {
   "cell_type": "code",
   "execution_count": 4,
   "id": "cb5fd3ea",
   "metadata": {},
   "outputs": [],
   "source": [
    "df_goss_raw['clean_text'] = df_goss_raw.clean_text_combined.apply(clean_txt)"
   ]
  },
  {
   "cell_type": "code",
   "execution_count": 5,
   "id": "d35e720d",
   "metadata": {},
   "outputs": [
    {
     "data": {
      "text/html": [
       "<div>\n",
       "<style scoped>\n",
       "    .dataframe tbody tr th:only-of-type {\n",
       "        vertical-align: middle;\n",
       "    }\n",
       "\n",
       "    .dataframe tbody tr th {\n",
       "        vertical-align: top;\n",
       "    }\n",
       "\n",
       "    .dataframe thead th {\n",
       "        text-align: right;\n",
       "    }\n",
       "</style>\n",
       "<table border=\"1\" class=\"dataframe\">\n",
       "  <thead>\n",
       "    <tr style=\"text-align: right;\">\n",
       "      <th></th>\n",
       "      <th>idx</th>\n",
       "      <th>clean_text</th>\n",
       "      <th>label</th>\n",
       "    </tr>\n",
       "  </thead>\n",
       "  <tbody>\n",
       "    <tr>\n",
       "      <th>0</th>\n",
       "      <td>0</td>\n",
       "      <td>Selena Gomez Goes Barefoot On The Street After...</td>\n",
       "      <td>0</td>\n",
       "    </tr>\n",
       "    <tr>\n",
       "      <th>1</th>\n",
       "      <td>1</td>\n",
       "      <td>Jessica Simpson Stumbles Out of Hubbys Birthda...</td>\n",
       "      <td>0</td>\n",
       "    </tr>\n",
       "    <tr>\n",
       "      <th>2</th>\n",
       "      <td>2</td>\n",
       "      <td>Kanye West Is Reportedly Opening a Restaurant ...</td>\n",
       "      <td>0</td>\n",
       "    </tr>\n",
       "    <tr>\n",
       "      <th>3</th>\n",
       "      <td>3</td>\n",
       "      <td>Is Kanye West Heading to Rehab It s that time ...</td>\n",
       "      <td>0</td>\n",
       "    </tr>\n",
       "    <tr>\n",
       "      <th>4</th>\n",
       "      <td>4</td>\n",
       "      <td>Pregnant Kate Middleton Hit With Cocaine Bombs...</td>\n",
       "      <td>0</td>\n",
       "    </tr>\n",
       "    <tr>\n",
       "      <th>...</th>\n",
       "      <td>...</td>\n",
       "      <td>...</td>\n",
       "      <td>...</td>\n",
       "    </tr>\n",
       "    <tr>\n",
       "      <th>13021</th>\n",
       "      <td>13269</td>\n",
       "      <td>Chris Pratt Guardians of the Galaxy Cast Call ...</td>\n",
       "      <td>1</td>\n",
       "    </tr>\n",
       "    <tr>\n",
       "      <th>13022</th>\n",
       "      <td>13270</td>\n",
       "      <td>Robert Pattinson and Suki Waterhouse spark rom...</td>\n",
       "      <td>1</td>\n",
       "    </tr>\n",
       "    <tr>\n",
       "      <th>13023</th>\n",
       "      <td>13271</td>\n",
       "      <td>Review The Marvelous Mrs Maisel rides Emmy win...</td>\n",
       "      <td>1</td>\n",
       "    </tr>\n",
       "    <tr>\n",
       "      <th>13024</th>\n",
       "      <td>13272</td>\n",
       "      <td>The Trailer For Keshas New Documentary Reveale...</td>\n",
       "      <td>1</td>\n",
       "    </tr>\n",
       "    <tr>\n",
       "      <th>13025</th>\n",
       "      <td>13273</td>\n",
       "      <td>Meghan Markle and Prince Harrys royal monogram...</td>\n",
       "      <td>1</td>\n",
       "    </tr>\n",
       "  </tbody>\n",
       "</table>\n",
       "<p>13026 rows × 3 columns</p>\n",
       "</div>"
      ],
      "text/plain": [
       "         idx                                         clean_text  label\n",
       "0          0  Selena Gomez Goes Barefoot On The Street After...      0\n",
       "1          1  Jessica Simpson Stumbles Out of Hubbys Birthda...      0\n",
       "2          2  Kanye West Is Reportedly Opening a Restaurant ...      0\n",
       "3          3  Is Kanye West Heading to Rehab It s that time ...      0\n",
       "4          4  Pregnant Kate Middleton Hit With Cocaine Bombs...      0\n",
       "...      ...                                                ...    ...\n",
       "13021  13269  Chris Pratt Guardians of the Galaxy Cast Call ...      1\n",
       "13022  13270  Robert Pattinson and Suki Waterhouse spark rom...      1\n",
       "13023  13271  Review The Marvelous Mrs Maisel rides Emmy win...      1\n",
       "13024  13272  The Trailer For Keshas New Documentary Reveale...      1\n",
       "13025  13273  Meghan Markle and Prince Harrys royal monogram...      1\n",
       "\n",
       "[13026 rows x 3 columns]"
      ]
     },
     "execution_count": 5,
     "metadata": {},
     "output_type": "execute_result"
    }
   ],
   "source": [
    "df = df_goss_raw[['Unnamed: 0','clean_text','label']]\n",
    "df = df.rename(columns={'Unnamed: 0': 'idx'})\n",
    "df"
   ]
  },
  {
   "cell_type": "code",
   "execution_count": 6,
   "id": "216997ba",
   "metadata": {},
   "outputs": [],
   "source": [
    "ratio_train = 0.8\n",
    "ratio_val = 0.1\n",
    "ratio_test = 0.1\n",
    "\n",
    "# Produces test split.\n",
    "remaining, test = train_test_split(df, test_size=ratio_test, random_state=214)\n",
    "\n",
    "# Adjusts val ratio, w.r.t. remaining dataset.\n",
    "ratio_remaining = 1 - ratio_test\n",
    "ratio_val_adjusted = ratio_val / ratio_remaining\n",
    "\n",
    "# Produces train and val splits.\n",
    "train, val, = train_test_split(remaining, test_size=ratio_val_adjusted, random_state=214)"
   ]
  },
  {
   "cell_type": "code",
   "execution_count": 7,
   "id": "79d30d06",
   "metadata": {},
   "outputs": [
    {
     "name": "stdout",
     "output_type": "stream",
     "text": [
      "(10420, 3) (1303, 3) (1303, 3)\n"
     ]
    }
   ],
   "source": [
    "print(train.shape, val.shape, test.shape)"
   ]
  },
  {
   "cell_type": "code",
   "execution_count": 8,
   "id": "de0dd1d4",
   "metadata": {},
   "outputs": [
    {
     "data": {
      "text/html": [
       "<div>\n",
       "<style scoped>\n",
       "    .dataframe tbody tr th:only-of-type {\n",
       "        vertical-align: middle;\n",
       "    }\n",
       "\n",
       "    .dataframe tbody tr th {\n",
       "        vertical-align: top;\n",
       "    }\n",
       "\n",
       "    .dataframe thead th {\n",
       "        text-align: right;\n",
       "    }\n",
       "</style>\n",
       "<table border=\"1\" class=\"dataframe\">\n",
       "  <thead>\n",
       "    <tr style=\"text-align: right;\">\n",
       "      <th></th>\n",
       "      <th>idx</th>\n",
       "      <th>clean_text</th>\n",
       "      <th>label</th>\n",
       "    </tr>\n",
       "  </thead>\n",
       "  <tbody>\n",
       "    <tr>\n",
       "      <th>1902</th>\n",
       "      <td>1934</td>\n",
       "      <td>Kourtney Kardashian Opens Up About Restricting...</td>\n",
       "      <td>0</td>\n",
       "    </tr>\n",
       "    <tr>\n",
       "      <th>1386</th>\n",
       "      <td>1408</td>\n",
       "      <td>15 Spectacular Celebrity Feuds of 2016 1 Kanye...</td>\n",
       "      <td>0</td>\n",
       "    </tr>\n",
       "    <tr>\n",
       "      <th>2539</th>\n",
       "      <td>2589</td>\n",
       "      <td>Nicole Kidman and Prince Harry named sexiest r...</td>\n",
       "      <td>0</td>\n",
       "    </tr>\n",
       "    <tr>\n",
       "      <th>5649</th>\n",
       "      <td>5778</td>\n",
       "      <td>Jamie Lynn Sigler on Her Special Chance to Rec...</td>\n",
       "      <td>1</td>\n",
       "    </tr>\n",
       "    <tr>\n",
       "      <th>2869</th>\n",
       "      <td>2922</td>\n",
       "      <td>Dakota Johnson And Chris Martin Fast Track Wed...</td>\n",
       "      <td>0</td>\n",
       "    </tr>\n",
       "  </tbody>\n",
       "</table>\n",
       "</div>"
      ],
      "text/plain": [
       "       idx                                         clean_text  label\n",
       "1902  1934  Kourtney Kardashian Opens Up About Restricting...      0\n",
       "1386  1408  15 Spectacular Celebrity Feuds of 2016 1 Kanye...      0\n",
       "2539  2589  Nicole Kidman and Prince Harry named sexiest r...      0\n",
       "5649  5778  Jamie Lynn Sigler on Her Special Chance to Rec...      1\n",
       "2869  2922  Dakota Johnson And Chris Martin Fast Track Wed...      0"
      ]
     },
     "execution_count": 8,
     "metadata": {},
     "output_type": "execute_result"
    }
   ],
   "source": [
    "train.head()"
   ]
  },
  {
   "cell_type": "code",
   "execution_count": 9,
   "id": "7dd94673",
   "metadata": {},
   "outputs": [
    {
     "data": {
      "text/html": [
       "<div>\n",
       "<style scoped>\n",
       "    .dataframe tbody tr th:only-of-type {\n",
       "        vertical-align: middle;\n",
       "    }\n",
       "\n",
       "    .dataframe tbody tr th {\n",
       "        vertical-align: top;\n",
       "    }\n",
       "\n",
       "    .dataframe thead th {\n",
       "        text-align: right;\n",
       "    }\n",
       "</style>\n",
       "<table border=\"1\" class=\"dataframe\">\n",
       "  <thead>\n",
       "    <tr style=\"text-align: right;\">\n",
       "      <th></th>\n",
       "      <th>idx</th>\n",
       "      <th>clean_text</th>\n",
       "      <th>label</th>\n",
       "    </tr>\n",
       "  </thead>\n",
       "  <tbody>\n",
       "    <tr>\n",
       "      <th>190</th>\n",
       "      <td>192</td>\n",
       "      <td>Angelina Jolies honeytrap plot to seize Uganda...</td>\n",
       "      <td>0</td>\n",
       "    </tr>\n",
       "    <tr>\n",
       "      <th>5266</th>\n",
       "      <td>5378</td>\n",
       "      <td>Teen Wolf Reboot Eyed at MTV Yes Weeks Before ...</td>\n",
       "      <td>1</td>\n",
       "    </tr>\n",
       "    <tr>\n",
       "      <th>11875</th>\n",
       "      <td>12103</td>\n",
       "      <td>Farrah Abrahams Daughter Sips 150 Apple Juice ...</td>\n",
       "      <td>1</td>\n",
       "    </tr>\n",
       "    <tr>\n",
       "      <th>11325</th>\n",
       "      <td>11547</td>\n",
       "      <td>David Beckham Tears Up After Son Brooklyn Surp...</td>\n",
       "      <td>1</td>\n",
       "    </tr>\n",
       "    <tr>\n",
       "      <th>7021</th>\n",
       "      <td>7177</td>\n",
       "      <td>Kelly Dodd Slams Meghan King Edmonds Marriage ...</td>\n",
       "      <td>1</td>\n",
       "    </tr>\n",
       "  </tbody>\n",
       "</table>\n",
       "</div>"
      ],
      "text/plain": [
       "         idx                                         clean_text  label\n",
       "190      192  Angelina Jolies honeytrap plot to seize Uganda...      0\n",
       "5266    5378  Teen Wolf Reboot Eyed at MTV Yes Weeks Before ...      1\n",
       "11875  12103  Farrah Abrahams Daughter Sips 150 Apple Juice ...      1\n",
       "11325  11547  David Beckham Tears Up After Son Brooklyn Surp...      1\n",
       "7021    7177  Kelly Dodd Slams Meghan King Edmonds Marriage ...      1"
      ]
     },
     "execution_count": 9,
     "metadata": {},
     "output_type": "execute_result"
    }
   ],
   "source": [
    "val.head()"
   ]
  },
  {
   "cell_type": "code",
   "execution_count": 24,
   "id": "e6cc11e5",
   "metadata": {},
   "outputs": [
    {
     "data": {
      "text/html": [
       "<div>\n",
       "<style scoped>\n",
       "    .dataframe tbody tr th:only-of-type {\n",
       "        vertical-align: middle;\n",
       "    }\n",
       "\n",
       "    .dataframe tbody tr th {\n",
       "        vertical-align: top;\n",
       "    }\n",
       "\n",
       "    .dataframe thead th {\n",
       "        text-align: right;\n",
       "    }\n",
       "</style>\n",
       "<table border=\"1\" class=\"dataframe\">\n",
       "  <thead>\n",
       "    <tr style=\"text-align: right;\">\n",
       "      <th></th>\n",
       "      <th>idx</th>\n",
       "      <th>clean_text</th>\n",
       "      <th>label</th>\n",
       "    </tr>\n",
       "  </thead>\n",
       "  <tbody>\n",
       "    <tr>\n",
       "      <th>430</th>\n",
       "      <td>436</td>\n",
       "      <td>Jessica Simpson Stumbles Nearly Falls Before B...</td>\n",
       "      <td>0</td>\n",
       "    </tr>\n",
       "    <tr>\n",
       "      <th>4881</th>\n",
       "      <td>4980</td>\n",
       "      <td>Shannon Beador Addresses Weight Gain on RHOC S...</td>\n",
       "      <td>1</td>\n",
       "    </tr>\n",
       "    <tr>\n",
       "      <th>11750</th>\n",
       "      <td>11973</td>\n",
       "      <td>Emilia Clarke on Solo Director Shake Up Game o...</td>\n",
       "      <td>1</td>\n",
       "    </tr>\n",
       "    <tr>\n",
       "      <th>1701</th>\n",
       "      <td>1729</td>\n",
       "      <td>Will Eminem Run For President In 2020 After Vi...</td>\n",
       "      <td>0</td>\n",
       "    </tr>\n",
       "    <tr>\n",
       "      <th>5031</th>\n",
       "      <td>5134</td>\n",
       "      <td>Jessica Alba expecting baby No 3 with husband ...</td>\n",
       "      <td>1</td>\n",
       "    </tr>\n",
       "  </tbody>\n",
       "</table>\n",
       "</div>"
      ],
      "text/plain": [
       "         idx                                         clean_text  label\n",
       "430      436  Jessica Simpson Stumbles Nearly Falls Before B...      0\n",
       "4881    4980  Shannon Beador Addresses Weight Gain on RHOC S...      1\n",
       "11750  11973  Emilia Clarke on Solo Director Shake Up Game o...      1\n",
       "1701    1729  Will Eminem Run For President In 2020 After Vi...      0\n",
       "5031    5134  Jessica Alba expecting baby No 3 with husband ...      1"
      ]
     },
     "execution_count": 24,
     "metadata": {},
     "output_type": "execute_result"
    }
   ],
   "source": [
    "test.head()"
   ]
  },
  {
   "cell_type": "code",
   "execution_count": 10,
   "id": "6686a176",
   "metadata": {},
   "outputs": [
    {
     "data": {
      "text/plain": [
       "1    8090\n",
       "0    2330\n",
       "Name: label, dtype: int64"
      ]
     },
     "execution_count": 10,
     "metadata": {},
     "output_type": "execute_result"
    }
   ],
   "source": [
    "train['label'].value_counts()"
   ]
  },
  {
   "cell_type": "code",
   "execution_count": 11,
   "id": "dbbdceb0",
   "metadata": {},
   "outputs": [
    {
     "data": {
      "text/plain": [
       "1    1011\n",
       "0     292\n",
       "Name: label, dtype: int64"
      ]
     },
     "execution_count": 11,
     "metadata": {},
     "output_type": "execute_result"
    }
   ],
   "source": [
    "val['label'].value_counts()"
   ]
  },
  {
   "cell_type": "code",
   "execution_count": 12,
   "id": "7a98dcf1",
   "metadata": {},
   "outputs": [
    {
     "data": {
      "text/plain": [
       "1    1019\n",
       "0     284\n",
       "Name: label, dtype: int64"
      ]
     },
     "execution_count": 12,
     "metadata": {},
     "output_type": "execute_result"
    }
   ],
   "source": [
    "test['label'].value_counts()"
   ]
  },
  {
   "cell_type": "code",
   "execution_count": 13,
   "id": "40d8b12c",
   "metadata": {},
   "outputs": [],
   "source": [
    "#adapted from: https://colab.research.google.com/gist/beatobongco/98aa1ed3fe0ec1e1922edecbf2af934f/using-roberta-to-generate-features-for-a-simple-neural-network.ipynb\n",
    "class FeatureExtractor:\n",
    "    \"\"\"Class that uses a Transformer model to vectorize batches of strings\"\"\"\n",
    "    def __init__(self, model_type):\n",
    "        MODELS = {\n",
    "            # 'bert': (BertModel,       BertTokenizer,       'bert-base-uncased'),\n",
    "             'xl-net': (XLNetModel,      XLNetTokenizer,      'xlnet-base-cased'),\n",
    "            # 'roberta': (RobertaModel,    RobertaTokenizer,    'roberta-base')\n",
    "        }\n",
    "        m = MODELS[model_type]    \n",
    "        self.model = m[0].from_pretrained(m[2])\n",
    "        self.tokenizer = m[1].from_pretrained(m[2])\n",
    "\n",
    "    def encode_strings(self, input_strings):\n",
    "    # Encode text\n",
    "        embeddings = []\n",
    "        for s in input_strings:\n",
    "          \n",
    "            input_ids = torch.tensor([self.tokenizer.encode(s, add_special_tokens=True, max_length=512, padding = True,\\\n",
    "                                                            truncation=True)])\n",
    "            with torch.no_grad():\n",
    "                last_hidden_states = self.model(input_ids).last_hidden_state  \n",
    "      \n",
    "            embeddings.append(last_hidden_states[:,0].numpy())\n",
    "        return embeddings"
   ]
  },
  {
   "cell_type": "code",
   "execution_count": 14,
   "id": "22bf7499",
   "metadata": {},
   "outputs": [
    {
     "name": "stderr",
     "output_type": "stream",
     "text": [
      "Some weights of the model checkpoint at xlnet-base-cased were not used when initializing XLNetModel: ['lm_loss.weight', 'lm_loss.bias']\n",
      "- This IS expected if you are initializing XLNetModel from the checkpoint of a model trained on another task or with another architecture (e.g. initializing a BertForSequenceClassification model from a BertForPreTraining model).\n",
      "- This IS NOT expected if you are initializing XLNetModel from the checkpoint of a model that you expect to be exactly identical (initializing a BertForSequenceClassification model from a BertForSequenceClassification model).\n"
     ]
    }
   ],
   "source": [
    "fe = FeatureExtractor('xl-net')"
   ]
  },
  {
   "cell_type": "code",
   "execution_count": 15,
   "id": "eca0d58e",
   "metadata": {},
   "outputs": [],
   "source": [
    "array_train = train[[\"clean_text\"]].to_numpy() \n",
    "X_train_txt = np.array(array_train[:,0].tolist())"
   ]
  },
  {
   "cell_type": "code",
   "execution_count": 16,
   "id": "99dd27aa",
   "metadata": {},
   "outputs": [],
   "source": [
    "train_hidden = fe.encode_strings(X_train_txt)"
   ]
  },
  {
   "cell_type": "code",
   "execution_count": 18,
   "id": "d96aa4b5",
   "metadata": {},
   "outputs": [],
   "source": [
    "np.save('train_xlnet_simple.npy', train_hidden, allow_pickle=True)"
   ]
  },
  {
   "cell_type": "code",
   "execution_count": 19,
   "id": "a55ef983",
   "metadata": {},
   "outputs": [],
   "source": [
    "array_val = val[[\"clean_text\"]].to_numpy() \n",
    "X_val_txt = np.array(array_val[:,0].tolist())\n",
    "val_hidden = fe.encode_strings(X_val_txt)\n",
    "np.save('val_xlnet_simple.npy', val_hidden, allow_pickle=True)"
   ]
  },
  {
   "cell_type": "code",
   "execution_count": 20,
   "id": "fcdf754a",
   "metadata": {},
   "outputs": [],
   "source": [
    "array_test = test[[\"clean_text\"]].to_numpy() \n",
    "X_test_txt = np.array(array_test[:,0].tolist())\n",
    "test_hidden = fe.encode_strings(X_test_txt)\n",
    "np.save('test_xlnet_simple.npy', test_hidden, allow_pickle=True)"
   ]
  },
  {
   "cell_type": "code",
   "execution_count": 21,
   "id": "623a5ec3",
   "metadata": {},
   "outputs": [
    {
     "data": {
      "text/html": [
       "<div>\n",
       "<style scoped>\n",
       "    .dataframe tbody tr th:only-of-type {\n",
       "        vertical-align: middle;\n",
       "    }\n",
       "\n",
       "    .dataframe tbody tr th {\n",
       "        vertical-align: top;\n",
       "    }\n",
       "\n",
       "    .dataframe thead th {\n",
       "        text-align: right;\n",
       "    }\n",
       "</style>\n",
       "<table border=\"1\" class=\"dataframe\">\n",
       "  <thead>\n",
       "    <tr style=\"text-align: right;\">\n",
       "      <th></th>\n",
       "      <th>hidden_state</th>\n",
       "      <th>label</th>\n",
       "      <th>idx</th>\n",
       "    </tr>\n",
       "  </thead>\n",
       "  <tbody>\n",
       "    <tr>\n",
       "      <th>0</th>\n",
       "      <td>[[-0.6905054, 0.10080558, -3.5896642, 0.688696...</td>\n",
       "      <td>0</td>\n",
       "      <td>1934</td>\n",
       "    </tr>\n",
       "    <tr>\n",
       "      <th>1</th>\n",
       "      <td>[[0.71386486, 1.624135, 0.39983767, 1.6060241,...</td>\n",
       "      <td>0</td>\n",
       "      <td>1408</td>\n",
       "    </tr>\n",
       "    <tr>\n",
       "      <th>2</th>\n",
       "      <td>[[-1.4997008, -2.5545237, -2.6850965, 2.128371...</td>\n",
       "      <td>0</td>\n",
       "      <td>2589</td>\n",
       "    </tr>\n",
       "    <tr>\n",
       "      <th>3</th>\n",
       "      <td>[[-0.59582114, 0.6739678, -0.54739684, 0.43669...</td>\n",
       "      <td>1</td>\n",
       "      <td>5778</td>\n",
       "    </tr>\n",
       "    <tr>\n",
       "      <th>4</th>\n",
       "      <td>[[-0.17796452, 1.5538232, -0.1271606, 0.483559...</td>\n",
       "      <td>0</td>\n",
       "      <td>2922</td>\n",
       "    </tr>\n",
       "  </tbody>\n",
       "</table>\n",
       "</div>"
      ],
      "text/plain": [
       "                                        hidden_state  label   idx\n",
       "0  [[-0.6905054, 0.10080558, -3.5896642, 0.688696...      0  1934\n",
       "1  [[0.71386486, 1.624135, 0.39983767, 1.6060241,...      0  1408\n",
       "2  [[-1.4997008, -2.5545237, -2.6850965, 2.128371...      0  2589\n",
       "3  [[-0.59582114, 0.6739678, -0.54739684, 0.43669...      1  5778\n",
       "4  [[-0.17796452, 1.5538232, -0.1271606, 0.483559...      0  2922"
      ]
     },
     "execution_count": 21,
     "metadata": {},
     "output_type": "execute_result"
    }
   ],
   "source": [
    "train_label = np.array(train['label'])\n",
    "train_idx = np.array(train['idx'])\n",
    "list_train = list(zip(train_hidden, train_label, train_idx))\n",
    "df_train = pd.DataFrame(list_train, columns=['hidden_state','label','idx'])\n",
    "df_train.head()"
   ]
  },
  {
   "cell_type": "code",
   "execution_count": 22,
   "id": "53803dc6",
   "metadata": {},
   "outputs": [
    {
     "data": {
      "text/html": [
       "<div>\n",
       "<style scoped>\n",
       "    .dataframe tbody tr th:only-of-type {\n",
       "        vertical-align: middle;\n",
       "    }\n",
       "\n",
       "    .dataframe tbody tr th {\n",
       "        vertical-align: top;\n",
       "    }\n",
       "\n",
       "    .dataframe thead th {\n",
       "        text-align: right;\n",
       "    }\n",
       "</style>\n",
       "<table border=\"1\" class=\"dataframe\">\n",
       "  <thead>\n",
       "    <tr style=\"text-align: right;\">\n",
       "      <th></th>\n",
       "      <th>hidden_state</th>\n",
       "      <th>label</th>\n",
       "      <th>idx</th>\n",
       "    </tr>\n",
       "  </thead>\n",
       "  <tbody>\n",
       "    <tr>\n",
       "      <th>0</th>\n",
       "      <td>[[-0.3297603, -0.4885347, -0.45875156, 1.86647...</td>\n",
       "      <td>0</td>\n",
       "      <td>192</td>\n",
       "    </tr>\n",
       "    <tr>\n",
       "      <th>1</th>\n",
       "      <td>[[0.82688785, -0.03501948, -3.5826552, 0.89857...</td>\n",
       "      <td>1</td>\n",
       "      <td>5378</td>\n",
       "    </tr>\n",
       "    <tr>\n",
       "      <th>2</th>\n",
       "      <td>[[-1.0590429, -0.045592815, -2.6220367, 1.4351...</td>\n",
       "      <td>1</td>\n",
       "      <td>12103</td>\n",
       "    </tr>\n",
       "    <tr>\n",
       "      <th>3</th>\n",
       "      <td>[[0.23462263, 0.6357783, -0.49189222, 0.865996...</td>\n",
       "      <td>1</td>\n",
       "      <td>11547</td>\n",
       "    </tr>\n",
       "    <tr>\n",
       "      <th>4</th>\n",
       "      <td>[[-3.6478138, -0.8344219, 0.6634267, 1.3527999...</td>\n",
       "      <td>1</td>\n",
       "      <td>7177</td>\n",
       "    </tr>\n",
       "  </tbody>\n",
       "</table>\n",
       "</div>"
      ],
      "text/plain": [
       "                                        hidden_state  label    idx\n",
       "0  [[-0.3297603, -0.4885347, -0.45875156, 1.86647...      0    192\n",
       "1  [[0.82688785, -0.03501948, -3.5826552, 0.89857...      1   5378\n",
       "2  [[-1.0590429, -0.045592815, -2.6220367, 1.4351...      1  12103\n",
       "3  [[0.23462263, 0.6357783, -0.49189222, 0.865996...      1  11547\n",
       "4  [[-3.6478138, -0.8344219, 0.6634267, 1.3527999...      1   7177"
      ]
     },
     "execution_count": 22,
     "metadata": {},
     "output_type": "execute_result"
    }
   ],
   "source": [
    "val_label = np.array(val['label'])\n",
    "val_idx = np.array(val['idx'])\n",
    "list_val = list(zip(val_hidden, val_label, val_idx))\n",
    "df_val = pd.DataFrame(list_val, columns=['hidden_state','label','idx'])\n",
    "df_val.head()"
   ]
  },
  {
   "cell_type": "code",
   "execution_count": 25,
   "id": "5a68c839",
   "metadata": {},
   "outputs": [
    {
     "data": {
      "text/html": [
       "<div>\n",
       "<style scoped>\n",
       "    .dataframe tbody tr th:only-of-type {\n",
       "        vertical-align: middle;\n",
       "    }\n",
       "\n",
       "    .dataframe tbody tr th {\n",
       "        vertical-align: top;\n",
       "    }\n",
       "\n",
       "    .dataframe thead th {\n",
       "        text-align: right;\n",
       "    }\n",
       "</style>\n",
       "<table border=\"1\" class=\"dataframe\">\n",
       "  <thead>\n",
       "    <tr style=\"text-align: right;\">\n",
       "      <th></th>\n",
       "      <th>hidden_state</th>\n",
       "      <th>label</th>\n",
       "      <th>idx</th>\n",
       "    </tr>\n",
       "  </thead>\n",
       "  <tbody>\n",
       "    <tr>\n",
       "      <th>0</th>\n",
       "      <td>[[-0.39024025, -1.5027034, -1.6497475, -0.5419...</td>\n",
       "      <td>0</td>\n",
       "      <td>436</td>\n",
       "    </tr>\n",
       "    <tr>\n",
       "      <th>1</th>\n",
       "      <td>[[-1.5501236, -3.0166059, -1.8201647, 1.163599...</td>\n",
       "      <td>1</td>\n",
       "      <td>4980</td>\n",
       "    </tr>\n",
       "    <tr>\n",
       "      <th>2</th>\n",
       "      <td>[[-0.02296041, -0.38859874, -0.12139326, -0.57...</td>\n",
       "      <td>1</td>\n",
       "      <td>11973</td>\n",
       "    </tr>\n",
       "    <tr>\n",
       "      <th>3</th>\n",
       "      <td>[[1.6468408, -1.9771976, -4.8161287, 0.5524025...</td>\n",
       "      <td>0</td>\n",
       "      <td>1729</td>\n",
       "    </tr>\n",
       "    <tr>\n",
       "      <th>4</th>\n",
       "      <td>[[0.21094456, -1.9484203, -0.25539798, 0.16063...</td>\n",
       "      <td>1</td>\n",
       "      <td>5134</td>\n",
       "    </tr>\n",
       "  </tbody>\n",
       "</table>\n",
       "</div>"
      ],
      "text/plain": [
       "                                        hidden_state  label    idx\n",
       "0  [[-0.39024025, -1.5027034, -1.6497475, -0.5419...      0    436\n",
       "1  [[-1.5501236, -3.0166059, -1.8201647, 1.163599...      1   4980\n",
       "2  [[-0.02296041, -0.38859874, -0.12139326, -0.57...      1  11973\n",
       "3  [[1.6468408, -1.9771976, -4.8161287, 0.5524025...      0   1729\n",
       "4  [[0.21094456, -1.9484203, -0.25539798, 0.16063...      1   5134"
      ]
     },
     "execution_count": 25,
     "metadata": {},
     "output_type": "execute_result"
    }
   ],
   "source": [
    "test_label = np.array(test['label'])\n",
    "test_idx = np.array(test['idx'])\n",
    "list_test = list(zip(test_hidden, test_label, test_idx))\n",
    "df_test = pd.DataFrame(list_test, columns=['hidden_state','label','idx'])\n",
    "df_test.head()"
   ]
  },
  {
   "cell_type": "code",
   "execution_count": 26,
   "id": "996ef1a9",
   "metadata": {},
   "outputs": [],
   "source": [
    "df_train.to_pickle('C:/Users/labca/Documents/Dissertation - Fake News/Embeddings/df_train_xlnet_simple.pkl')"
   ]
  },
  {
   "cell_type": "code",
   "execution_count": 27,
   "id": "95450f33",
   "metadata": {},
   "outputs": [],
   "source": [
    "df_val.to_pickle('C:/Users/labca/Documents/Dissertation - Fake News/Embeddings/df_val_xlnet_simple.pkl')"
   ]
  },
  {
   "cell_type": "code",
   "execution_count": 28,
   "id": "53a68304",
   "metadata": {},
   "outputs": [],
   "source": [
    "df_test.to_pickle('C:/Users/labca/Documents/Dissertation - Fake News/Embeddings/df_test_xlnet_simple.pkl')"
   ]
  },
  {
   "cell_type": "code",
   "execution_count": null,
   "id": "0af21220",
   "metadata": {},
   "outputs": [],
   "source": []
  }
 ],
 "metadata": {
  "kernelspec": {
   "display_name": "Python 3",
   "language": "python",
   "name": "python3"
  },
  "language_info": {
   "codemirror_mode": {
    "name": "ipython",
    "version": 3
   },
   "file_extension": ".py",
   "mimetype": "text/x-python",
   "name": "python",
   "nbconvert_exporter": "python",
   "pygments_lexer": "ipython3",
   "version": "3.8.8"
  }
 },
 "nbformat": 4,
 "nbformat_minor": 5
}
