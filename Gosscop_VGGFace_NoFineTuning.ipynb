{
 "cells": [
  {
   "cell_type": "code",
   "execution_count": 1,
   "id": "8eb43939",
   "metadata": {},
   "outputs": [],
   "source": [
    "import pandas as pd\n",
    "import sklearn\n",
    "import numpy as np\n",
    "import os\n",
    "from pathlib import Path\n",
    "from sklearn.model_selection import train_test_split\n",
    "import torch\n",
    "from datasets import load_dataset\n",
    "import tensorflow as tf\n",
    "import tensorflow_addons as tfa\n",
    "import gc\n",
    "\n",
    "from keras import optimizers\n",
    "import matplotlib.pyplot as plt\n",
    "from keras import initializers\n",
    "from keras.utils import np_utils\n",
    "from keras import regularizers\n",
    "from keras.models import Sequential, Model\n",
    "from keras.callbacks import ModelCheckpoint\n",
    "from keras.layers import concatenate\n",
    "from keras.layers import Dense, Flatten, Dropout, Input, BatchNormalization, ReLU\n",
    "from keras.layers import LSTM, Bidirectional\n",
    "import pickle\n",
    "from sklearn.metrics import confusion_matrix\n",
    "from sklearn.metrics import classification_report, accuracy_score\n",
    "\n",
    "\n",
    "import keras\n",
    "\n",
    "import matplotlib.pyplot as plt\n",
    "%matplotlib inline"
   ]
  },
  {
   "cell_type": "code",
   "execution_count": 2,
   "id": "71be2295",
   "metadata": {},
   "outputs": [],
   "source": [
    "df_goss_train = pd.read_pickle('../../Dissertation - Fake News/Embeddings/df_train_vggface.pkl')\n",
    "df_goss_val = pd.read_pickle('../../Dissertation - Fake News/Embeddings/df_val_vggface.pkl')\n",
    "df_goss_test = pd.read_pickle('../../Dissertation - Fake News/Embeddings/df_test_vggface.pkl')"
   ]
  },
  {
   "cell_type": "code",
   "execution_count": 3,
   "id": "6c51d2c4",
   "metadata": {},
   "outputs": [
    {
     "data": {
      "text/html": [
       "<div>\n",
       "<style scoped>\n",
       "    .dataframe tbody tr th:only-of-type {\n",
       "        vertical-align: middle;\n",
       "    }\n",
       "\n",
       "    .dataframe tbody tr th {\n",
       "        vertical-align: top;\n",
       "    }\n",
       "\n",
       "    .dataframe thead th {\n",
       "        text-align: right;\n",
       "    }\n",
       "</style>\n",
       "<table border=\"1\" class=\"dataframe\">\n",
       "  <thead>\n",
       "    <tr style=\"text-align: right;\">\n",
       "      <th></th>\n",
       "      <th>img_features</th>\n",
       "      <th>label</th>\n",
       "      <th>idx</th>\n",
       "    </tr>\n",
       "  </thead>\n",
       "  <tbody>\n",
       "    <tr>\n",
       "      <th>1902</th>\n",
       "      <td>[[[[0.0000000e+00 0.0000000e+00 0.0000000e+00 ...</td>\n",
       "      <td>0</td>\n",
       "      <td>1934</td>\n",
       "    </tr>\n",
       "    <tr>\n",
       "      <th>1386</th>\n",
       "      <td>[[[[ 8.839235   0.         0.         0.      ...</td>\n",
       "      <td>0</td>\n",
       "      <td>1408</td>\n",
       "    </tr>\n",
       "    <tr>\n",
       "      <th>2539</th>\n",
       "      <td>[[[[ 0.          0.          0.          0.   ...</td>\n",
       "      <td>0</td>\n",
       "      <td>2589</td>\n",
       "    </tr>\n",
       "    <tr>\n",
       "      <th>5649</th>\n",
       "      <td>[[[[ 0.          0.          0.          0.   ...</td>\n",
       "      <td>1</td>\n",
       "      <td>5778</td>\n",
       "    </tr>\n",
       "    <tr>\n",
       "      <th>2869</th>\n",
       "      <td>[[[[0.0000000e+00 0.0000000e+00 0.0000000e+00 ...</td>\n",
       "      <td>0</td>\n",
       "      <td>2922</td>\n",
       "    </tr>\n",
       "  </tbody>\n",
       "</table>\n",
       "</div>"
      ],
      "text/plain": [
       "                                           img_features  label   idx\n",
       "1902  [[[[0.0000000e+00 0.0000000e+00 0.0000000e+00 ...      0  1934\n",
       "1386  [[[[ 8.839235   0.         0.         0.      ...      0  1408\n",
       "2539  [[[[ 0.          0.          0.          0.   ...      0  2589\n",
       "5649  [[[[ 0.          0.          0.          0.   ...      1  5778\n",
       "2869  [[[[0.0000000e+00 0.0000000e+00 0.0000000e+00 ...      0  2922"
      ]
     },
     "execution_count": 3,
     "metadata": {},
     "output_type": "execute_result"
    }
   ],
   "source": [
    "df_goss_train.head()"
   ]
  },
  {
   "cell_type": "code",
   "execution_count": 4,
   "id": "97a2a8a1",
   "metadata": {},
   "outputs": [],
   "source": [
    "def label_change(df):\n",
    "    if df['label'] == 0: return 1\n",
    "    else: return 0"
   ]
  },
  {
   "cell_type": "code",
   "execution_count": 5,
   "id": "7c9b52ff",
   "metadata": {},
   "outputs": [
    {
     "data": {
      "text/html": [
       "<div>\n",
       "<style scoped>\n",
       "    .dataframe tbody tr th:only-of-type {\n",
       "        vertical-align: middle;\n",
       "    }\n",
       "\n",
       "    .dataframe tbody tr th {\n",
       "        vertical-align: top;\n",
       "    }\n",
       "\n",
       "    .dataframe thead th {\n",
       "        text-align: right;\n",
       "    }\n",
       "</style>\n",
       "<table border=\"1\" class=\"dataframe\">\n",
       "  <thead>\n",
       "    <tr style=\"text-align: right;\">\n",
       "      <th></th>\n",
       "      <th>img_features</th>\n",
       "      <th>label</th>\n",
       "      <th>idx</th>\n",
       "      <th>target</th>\n",
       "    </tr>\n",
       "  </thead>\n",
       "  <tbody>\n",
       "    <tr>\n",
       "      <th>1902</th>\n",
       "      <td>[[[[0.0000000e+00 0.0000000e+00 0.0000000e+00 ...</td>\n",
       "      <td>0</td>\n",
       "      <td>1934</td>\n",
       "      <td>1</td>\n",
       "    </tr>\n",
       "    <tr>\n",
       "      <th>1386</th>\n",
       "      <td>[[[[ 8.839235   0.         0.         0.      ...</td>\n",
       "      <td>0</td>\n",
       "      <td>1408</td>\n",
       "      <td>1</td>\n",
       "    </tr>\n",
       "    <tr>\n",
       "      <th>2539</th>\n",
       "      <td>[[[[ 0.          0.          0.          0.   ...</td>\n",
       "      <td>0</td>\n",
       "      <td>2589</td>\n",
       "      <td>1</td>\n",
       "    </tr>\n",
       "    <tr>\n",
       "      <th>5649</th>\n",
       "      <td>[[[[ 0.          0.          0.          0.   ...</td>\n",
       "      <td>1</td>\n",
       "      <td>5778</td>\n",
       "      <td>0</td>\n",
       "    </tr>\n",
       "    <tr>\n",
       "      <th>2869</th>\n",
       "      <td>[[[[0.0000000e+00 0.0000000e+00 0.0000000e+00 ...</td>\n",
       "      <td>0</td>\n",
       "      <td>2922</td>\n",
       "      <td>1</td>\n",
       "    </tr>\n",
       "  </tbody>\n",
       "</table>\n",
       "</div>"
      ],
      "text/plain": [
       "                                           img_features  label   idx  target\n",
       "1902  [[[[0.0000000e+00 0.0000000e+00 0.0000000e+00 ...      0  1934       1\n",
       "1386  [[[[ 8.839235   0.         0.         0.      ...      0  1408       1\n",
       "2539  [[[[ 0.          0.          0.          0.   ...      0  2589       1\n",
       "5649  [[[[ 0.          0.          0.          0.   ...      1  5778       0\n",
       "2869  [[[[0.0000000e+00 0.0000000e+00 0.0000000e+00 ...      0  2922       1"
      ]
     },
     "execution_count": 5,
     "metadata": {},
     "output_type": "execute_result"
    }
   ],
   "source": [
    "df_goss_train['target'] = df_goss_train.apply(label_change, axis=1)\n",
    "df_goss_train.head()"
   ]
  },
  {
   "cell_type": "code",
   "execution_count": 6,
   "id": "ffd94fd1",
   "metadata": {},
   "outputs": [],
   "source": [
    "df_goss_val['target'] = df_goss_val.apply(label_change, axis=1)\n",
    "df_goss_test['target'] = df_goss_test.apply(label_change, axis=1)"
   ]
  },
  {
   "cell_type": "code",
   "execution_count": 7,
   "id": "84ec57ff",
   "metadata": {},
   "outputs": [
    {
     "name": "stdout",
     "output_type": "stream",
     "text": [
      "[0.64400494 2.2360515 ]\n"
     ]
    },
    {
     "name": "stderr",
     "output_type": "stream",
     "text": [
      "C:\\Users\\labca\\anaconda3\\lib\\site-packages\\sklearn\\utils\\validation.py:70: FutureWarning: Pass classes=[0 1], y=[0 0 0 ... 1 1 1] as keyword args. From version 1.0 (renaming of 0.25) passing these as positional arguments will result in an error\n",
      "  warnings.warn(f\"Pass {args_msg} as keyword args. From version \"\n"
     ]
    }
   ],
   "source": [
    "# Count samples per class: 0-real, 1-fake\n",
    "classes_zero = df_goss_train[df_goss_train['target'] == 0]\n",
    "classes_one = df_goss_train[df_goss_train['target'] == 1]\n",
    "\n",
    "# Convert parts into NumPy arrays for weight computation\n",
    "zero_numpy = classes_zero['target'].to_numpy()\n",
    "one_numpy = classes_one['target'].to_numpy()\n",
    "all_together = np.concatenate((zero_numpy, one_numpy))\n",
    "unique_classes = np.unique(all_together)\n",
    "\n",
    "# Compute weights\n",
    "weights = sklearn.utils.class_weight.compute_class_weight('balanced', unique_classes, all_together)\n",
    "print(weights)"
   ]
  },
  {
   "cell_type": "code",
   "execution_count": 8,
   "id": "9222804e",
   "metadata": {},
   "outputs": [
    {
     "data": {
      "text/plain": [
       "{0: 0.6440049443757726, 1: 2.236051502145923}"
      ]
     },
     "execution_count": 8,
     "metadata": {},
     "output_type": "execute_result"
    }
   ],
   "source": [
    "weights_ker = {i : weights[i] for i in range(2)}\n",
    "weights_ker"
   ]
  },
  {
   "cell_type": "code",
   "execution_count": 9,
   "id": "fedaae25",
   "metadata": {},
   "outputs": [
    {
     "data": {
      "text/plain": [
       "(10420, 1, 7, 7, 512)"
      ]
     },
     "execution_count": 9,
     "metadata": {},
     "output_type": "execute_result"
    }
   ],
   "source": [
    "array_train = df_goss_train[[\"img_features\",\"target\"]].to_numpy() \n",
    "X_train = np.array(array_train[:,0].tolist())\n",
    "X_train.shape"
   ]
  },
  {
   "cell_type": "code",
   "execution_count": 10,
   "id": "b9b2b545",
   "metadata": {},
   "outputs": [
    {
     "data": {
      "text/plain": [
       "(10420, 7, 7, 512)"
      ]
     },
     "execution_count": 10,
     "metadata": {},
     "output_type": "execute_result"
    }
   ],
   "source": [
    "X_train = np.squeeze(X_train, 1)\n",
    "X_train.shape"
   ]
  },
  {
   "cell_type": "code",
   "execution_count": 11,
   "id": "c524a0b3",
   "metadata": {},
   "outputs": [
    {
     "data": {
      "text/plain": [
       "(10420,)"
      ]
     },
     "execution_count": 11,
     "metadata": {},
     "output_type": "execute_result"
    }
   ],
   "source": [
    "y_label = np.array(array_train[:,1].tolist())\n",
    "y_label.shape"
   ]
  },
  {
   "cell_type": "code",
   "execution_count": 12,
   "id": "248a00ef",
   "metadata": {},
   "outputs": [],
   "source": [
    "array_val = df_goss_val[[\"img_features\",\"target\"]].to_numpy() \n",
    "X_val = np.array(array_val[:,0].tolist())\n",
    "X_val = np.squeeze(X_val, 1)\n",
    "y_val_label = np.array(array_val[:,1].tolist())\n",
    "\n",
    "array_test = df_goss_test[[\"img_features\",\"target\"]].to_numpy() \n",
    "X_test = np.array(array_test[:,0].tolist())\n",
    "X_test = np.squeeze(X_test, 1)\n",
    "y_test_label = np.array(array_test[:,1].tolist())"
   ]
  },
  {
   "cell_type": "code",
   "execution_count": 13,
   "id": "036c42e4",
   "metadata": {},
   "outputs": [],
   "source": [
    "def reset_tensorflow_keras_backend():\n",
    "    keras.backend.clear_session()\n",
    "    tf.compat.v1.reset_default_graph()\n",
    "    _ = gc.collect()"
   ]
  },
  {
   "cell_type": "code",
   "execution_count": 14,
   "id": "4845b495",
   "metadata": {},
   "outputs": [],
   "source": [
    "def reinitialize(model):\n",
    "    for l in model.layers:\n",
    "        if hasattr(l,\"kernel_initializer\"):\n",
    "            l.kernel.assign(l.kernel_initializer(tf.shape(l.kernel)))\n",
    "        if hasattr(l,\"bias_initializer\"):\n",
    "            l.bias.assign(l.bias_initializer(tf.shape(l.bias)))\n",
    "        if hasattr(l,\"recurrent_initializer\"):\n",
    "            l.recurrent_kernel.assign(l.recurrent_initializer(tf.shape(l.recurrent_kernel)))"
   ]
  },
  {
   "cell_type": "code",
   "execution_count": 15,
   "id": "7d159b5d",
   "metadata": {},
   "outputs": [],
   "source": [
    "adam = optimizers.Adam(learning_rate=1e-4)\n",
    "callback = tf.keras.callbacks.EarlyStopping(monitor='val_loss', patience=5, restore_best_weights=True)"
   ]
  },
  {
   "cell_type": "code",
   "execution_count": 16,
   "id": "b3e62209",
   "metadata": {},
   "outputs": [],
   "source": [
    "input_img = Input(shape=(7,7,512))\n",
    "img_flat = Flatten()(input_img)\n",
    "img_dense = Dense(1024, activation='relu', kernel_regularizer=regularizers.l2(0.05),\\\n",
    "                kernel_initializer=initializers.he_normal(seed=0))(img_flat)\n",
    "dropout_img = Dropout(0.2)(img_dense)\n",
    "img_dense = Dense(512, activation='relu', kernel_regularizer=regularizers.l2(0.01),\\\n",
    "                kernel_initializer=initializers.he_normal(seed=0))(dropout_img)\n",
    "img_dense = Dense(128, activation='relu', kernel_regularizer=regularizers.l2(0.01),\\\n",
    "                kernel_initializer=initializers.he_normal(seed=0))(img_dense)\n",
    "output = Dense(1, activation='sigmoid')(img_dense)\n",
    "model = Model(inputs=input_img, outputs=output)\n",
    "model.compile(loss='binary_crossentropy', optimizer=adam, metrics='accuracy')"
   ]
  },
  {
   "cell_type": "code",
   "execution_count": 17,
   "id": "109b7623",
   "metadata": {},
   "outputs": [
    {
     "name": "stdout",
     "output_type": "stream",
     "text": [
      "Model: \"model\"\n",
      "_________________________________________________________________\n",
      " Layer (type)                Output Shape              Param #   \n",
      "=================================================================\n",
      " input_1 (InputLayer)        [(None, 7, 7, 512)]       0         \n",
      "                                                                 \n",
      " flatten (Flatten)           (None, 25088)             0         \n",
      "                                                                 \n",
      " dense (Dense)               (None, 1024)              25691136  \n",
      "                                                                 \n",
      " dropout (Dropout)           (None, 1024)              0         \n",
      "                                                                 \n",
      " dense_1 (Dense)             (None, 512)               524800    \n",
      "                                                                 \n",
      " dense_2 (Dense)             (None, 128)               65664     \n",
      "                                                                 \n",
      " dense_3 (Dense)             (None, 1)                 129       \n",
      "                                                                 \n",
      "=================================================================\n",
      "Total params: 26,281,729\n",
      "Trainable params: 26,281,729\n",
      "Non-trainable params: 0\n",
      "_________________________________________________________________\n"
     ]
    }
   ],
   "source": [
    "model.summary()"
   ]
  },
  {
   "cell_type": "code",
   "execution_count": 18,
   "id": "74044f1f",
   "metadata": {},
   "outputs": [],
   "source": [
    "def run_model(X_train, train_label, X_val, val_label, X_test, test_label, batch_size=32,epochs=100, verbose=1, class_weight=weights_ker, \\\n",
    "              itr=30, shuffle=True):\n",
    "    \n",
    "    adam = optimizers.Adam(learning_rate=1e-4)\n",
    "    callback = tf.keras.callbacks.EarlyStopping(monitor='val_loss', patience=3, restore_best_weights=True)\n",
    "    \n",
    "    real_precision_list = []\n",
    "    real_recall_list = []\n",
    "    real_f1_list = []\n",
    "    fake_precision_list = []\n",
    "    fake_recall_list = []\n",
    "    fake_f1_list = []\n",
    "    \n",
    "    macro_precision_list = []\n",
    "    macro_recall_list = []\n",
    "    macro_f1_list = []\n",
    "    accuracy_list = []\n",
    "    num_epochs = []\n",
    "\n",
    "    #Define model\n",
    "    input_img = Input(shape=(7,7,512))\n",
    "    img_flat = Flatten()(input_img)\n",
    "    img_dense = Dense(1024, activation='relu', kernel_regularizer=regularizers.l2(0.05),\\\n",
    "                kernel_initializer=initializers.he_normal(seed=0))(img_flat)\n",
    "    dropout_img = Dropout(0.2)(img_dense)\n",
    "    img_dense = Dense(512, activation='relu', kernel_regularizer=regularizers.l2(0.01),\\\n",
    "                kernel_initializer=initializers.he_normal(seed=0))(dropout_img)\n",
    "    img_dense = Dense(128, activation='relu', kernel_regularizer=regularizers.l2(0.01),\\\n",
    "                kernel_initializer=initializers.he_normal(seed=0))(img_dense)\n",
    "    output = Dense(1, activation='sigmoid')(img_dense)\n",
    "    model = Model(inputs=input_img, outputs=output)\n",
    "    model.compile(loss='binary_crossentropy', optimizer=adam, metrics='accuracy')\n",
    "        \n",
    "    for i in range(0,itr):\n",
    "        print(\"\\nTraining for iteration number: \", i)\n",
    "        reset_tensorflow_keras_backend()\n",
    "        reinitialize(model)\n",
    "        history = model.fit(X_train, train_label, validation_data=(X_val, val_label), batch_size=batch_size,epochs=epochs,\n",
    "                            callbacks=[callback], verbose=verbose, class_weight=class_weight, shuffle=shuffle)\n",
    "        \n",
    "        y_pred = model.predict(X_test)\n",
    "        predictions = list(map(lambda x: 0 if x<0.5 else 1, y_pred))\n",
    "        \n",
    "        report = classification_report(y_test_label, predictions, target_names=['real','fake'], output_dict=True)\n",
    "        real_precision = report['real']['precision'] \n",
    "        real_recall = report['real']['recall'] \n",
    "        real_f1 = report['real']['f1-score'] \n",
    "        fake_precision = report['fake']['precision'] \n",
    "        fake_recall = report['fake']['recall'] \n",
    "        fake_f1 = report['fake']['f1-score'] \n",
    "        \n",
    "        macro_precision =  report['macro avg']['precision'] \n",
    "        macro_recall = report['macro avg']['recall']    \n",
    "        macro_f1 = report['macro avg']['f1-score']\n",
    "        accuracy = report['accuracy']\n",
    "\n",
    "        real_precision_list.append(real_precision)\n",
    "        real_recall_list.append(real_recall)\n",
    "        real_f1_list.append(real_f1)\n",
    "        fake_precision_list.append(fake_precision)\n",
    "        fake_recall_list.append(fake_recall)\n",
    "        fake_f1_list.append(fake_f1)\n",
    "        \n",
    "        macro_precision_list.append(macro_precision)\n",
    "        macro_recall_list.append(macro_recall)\n",
    "        macro_f1_list.append(macro_f1)\n",
    "        accuracy_list.append(accuracy)\n",
    "        num_epochs.append(len(history.history['loss']))\n",
    "        \n",
    "        \n",
    "    mean_real_precision = np.mean(real_precision_list)\n",
    "    mean_real_recall = np.mean(real_recall_list)\n",
    "    mean_real_f1 = np.mean(real_f1_list)\n",
    "    mean_fake_precision = np.mean(fake_precision_list)\n",
    "    mean_fake_recall= np.mean(fake_recall_list)\n",
    "    mean_fake_f1 = np.mean(fake_f1_list)\n",
    "    \n",
    "    mean_macro_precision = np.mean(macro_precision_list)\n",
    "    mean_macro_recall = np.mean(macro_recall)\n",
    "    mean_macro_f1 = np.mean(macro_f1_list)\n",
    "    mean_accuracy = np.mean(accuracy_list)\n",
    "    mean_epoch = np.mean(num_epochs)\n",
    "    \n",
    "    std_real_precision = np.std(real_precision_list)\n",
    "    std_real_recall = np.std(real_recall_list)\n",
    "    std_real_f1 = np.std(real_f1_list)\n",
    "    std_fake_precision = np.std(fake_precision_list)\n",
    "    std_fake_recall= np.std(fake_recall_list)\n",
    "    std_fake_f1 = np.std(fake_f1_list)\n",
    "    \n",
    "    std_macro_precision = np.std(macro_precision_list)\n",
    "    std_macro_recall = np.std(macro_recall)\n",
    "    std_macro_f1 = np.std(macro_f1_list)\n",
    "    std_accuracy = np.std(accuracy_list)\n",
    "\n",
    "    print(\"The average real precision : \", mean_real_precision)\n",
    "    print(\"The average real recall: \", mean_real_recall)\n",
    "    print(\"The average real f1: \", mean_real_f1)\n",
    "    print(\"The average fake precision : \", mean_fake_precision)\n",
    "    print(\"The average fake recall: \", mean_fake_recall)\n",
    "    print(\"The average fake f1: \", mean_fake_f1)\n",
    "    print(\"The average macro precision: \", mean_macro_precision)\n",
    "    print(\"The average macro recall: \", mean_macro_recall)\n",
    "    print(\"The average macro_f1: \", mean_macro_f1)\n",
    "    print(\"The average macro accuracy: \", mean_accuracy)\n",
    "    \n",
    "    print(\"The standard deviation on real precision : \", std_real_precision)\n",
    "    print(\"The standard deviation on real recall: \", std_real_recall)\n",
    "    print(\"The standard deviation on real f1: \", std_real_f1)\n",
    "    print(\"The standard deviation on fake precision : \", std_fake_precision)\n",
    "    print(\"The standard deviation on fake recall: \", std_fake_recall)\n",
    "    print(\"The standard deviation on macro precision: \", std_macro_precision)\n",
    "    print(\"The standard deviation on macro recall: \", std_macro_recall)\n",
    "    print(\"The standard deviation on macro_f1: \", std_macro_f1)\n",
    "    print(\"The standard deviation on macro accuracy: \", std_accuracy)\n",
    "    print(\"Average number of epochs\", mean_epoch)\n",
    "    \n",
    "    return real_precision_list, real_recall_list, real_f1_list, fake_precision_list, fake_recall_list, fake_f1_list,\\\n",
    "    macro_precision_list, macro_recall_list, macro_f1_list, accuracy_list"
   ]
  },
  {
   "cell_type": "code",
   "execution_count": 19,
   "id": "b4a42ef1",
   "metadata": {},
   "outputs": [
    {
     "name": "stdout",
     "output_type": "stream",
     "text": [
      "Epoch 1/100\n",
      "326/326 [==============================] - 18s 31ms/step - loss: 74.4851 - accuracy: 0.5348 - val_loss: 50.1880 - val_accuracy: 0.4190\n",
      "Epoch 2/100\n",
      "326/326 [==============================] - 10s 30ms/step - loss: 37.1321 - accuracy: 0.6189 - val_loss: 27.0744 - val_accuracy: 0.7391\n",
      "Epoch 3/100\n",
      "326/326 [==============================] - 10s 30ms/step - loss: 21.1368 - accuracy: 0.6828 - val_loss: 16.4752 - val_accuracy: 0.6193\n",
      "Epoch 4/100\n",
      "326/326 [==============================] - 9s 29ms/step - loss: 13.5343 - accuracy: 0.6842 - val_loss: 11.0733 - val_accuracy: 0.7460\n",
      "Epoch 5/100\n",
      "326/326 [==============================] - 9s 29ms/step - loss: 9.4588 - accuracy: 0.7036 - val_loss: 8.1021 - val_accuracy: 0.6892\n",
      "Epoch 6/100\n",
      "326/326 [==============================] - 11s 33ms/step - loss: 7.1178 - accuracy: 0.7139 - val_loss: 6.3840 - val_accuracy: 0.5487\n",
      "Epoch 7/100\n",
      "326/326 [==============================] - 9s 29ms/step - loss: 5.5723 - accuracy: 0.7228 - val_loss: 5.0475 - val_accuracy: 0.6876\n",
      "Epoch 8/100\n",
      "326/326 [==============================] - 9s 29ms/step - loss: 4.5357 - accuracy: 0.7212 - val_loss: 4.2837 - val_accuracy: 0.6048\n",
      "Epoch 9/100\n",
      "326/326 [==============================] - 9s 29ms/step - loss: 3.7793 - accuracy: 0.7302 - val_loss: 3.6368 - val_accuracy: 0.5764\n",
      "Epoch 10/100\n",
      "326/326 [==============================] - 9s 29ms/step - loss: 3.1406 - accuracy: 0.7440 - val_loss: 3.0636 - val_accuracy: 0.5963\n",
      "Epoch 11/100\n",
      "326/326 [==============================] - 10s 29ms/step - loss: 2.6177 - accuracy: 0.7634 - val_loss: 2.5916 - val_accuracy: 0.6738\n",
      "Epoch 12/100\n",
      "326/326 [==============================] - 10s 29ms/step - loss: 2.2160 - accuracy: 0.7958 - val_loss: 2.3283 - val_accuracy: 0.6631\n",
      "Epoch 13/100\n",
      "326/326 [==============================] - 10s 30ms/step - loss: 1.8810 - accuracy: 0.8219 - val_loss: 2.2132 - val_accuracy: 0.5925\n",
      "Epoch 14/100\n",
      "326/326 [==============================] - 10s 29ms/step - loss: 1.5908 - accuracy: 0.8512 - val_loss: 2.3207 - val_accuracy: 0.4881\n",
      "Epoch 15/100\n",
      "326/326 [==============================] - 10s 30ms/step - loss: 1.3579 - accuracy: 0.8812 - val_loss: 1.7898 - val_accuracy: 0.6362\n",
      "Epoch 16/100\n",
      "326/326 [==============================] - 10s 29ms/step - loss: 1.1815 - accuracy: 0.8977 - val_loss: 1.7426 - val_accuracy: 0.6309\n",
      "Epoch 17/100\n",
      "326/326 [==============================] - 10s 29ms/step - loss: 1.0420 - accuracy: 0.9022 - val_loss: 1.6085 - val_accuracy: 0.6500\n",
      "Epoch 18/100\n",
      "326/326 [==============================] - 9s 29ms/step - loss: 0.9167 - accuracy: 0.9157 - val_loss: 1.6291 - val_accuracy: 0.5234\n",
      "Epoch 19/100\n",
      "326/326 [==============================] - 9s 29ms/step - loss: 0.8165 - accuracy: 0.9268 - val_loss: 1.5787 - val_accuracy: 0.6309\n",
      "Epoch 20/100\n",
      "326/326 [==============================] - 11s 33ms/step - loss: 0.7548 - accuracy: 0.9289 - val_loss: 1.4767 - val_accuracy: 0.6646\n",
      "Epoch 21/100\n",
      "326/326 [==============================] - 9s 29ms/step - loss: 0.7151 - accuracy: 0.9257 - val_loss: 1.4506 - val_accuracy: 0.6416\n",
      "Epoch 22/100\n",
      "326/326 [==============================] - 10s 29ms/step - loss: 0.6670 - accuracy: 0.9294 - val_loss: 1.3560 - val_accuracy: 0.6784\n",
      "Epoch 23/100\n",
      "326/326 [==============================] - 9s 29ms/step - loss: 0.6416 - accuracy: 0.9281 - val_loss: 1.3789 - val_accuracy: 0.7107\n",
      "Epoch 24/100\n",
      "326/326 [==============================] - 10s 29ms/step - loss: 0.6057 - accuracy: 0.9338 - val_loss: 1.3293 - val_accuracy: 0.6769\n",
      "Epoch 25/100\n",
      "326/326 [==============================] - 9s 29ms/step - loss: 0.5709 - accuracy: 0.9388 - val_loss: 1.1970 - val_accuracy: 0.7045\n",
      "Epoch 26/100\n",
      "326/326 [==============================] - 9s 29ms/step - loss: 0.5464 - accuracy: 0.9399 - val_loss: 1.3893 - val_accuracy: 0.5771\n",
      "Epoch 27/100\n",
      "326/326 [==============================] - 9s 29ms/step - loss: 0.5264 - accuracy: 0.9415 - val_loss: 1.3095 - val_accuracy: 0.6569\n",
      "Epoch 28/100\n",
      "326/326 [==============================] - 9s 29ms/step - loss: 0.5248 - accuracy: 0.9406 - val_loss: 1.4274 - val_accuracy: 0.6723\n",
      "Epoch 29/100\n",
      "326/326 [==============================] - 10s 29ms/step - loss: 0.5297 - accuracy: 0.9360 - val_loss: 1.1251 - val_accuracy: 0.6853\n",
      "Epoch 30/100\n",
      "326/326 [==============================] - 9s 29ms/step - loss: 0.5268 - accuracy: 0.9344 - val_loss: 1.3241 - val_accuracy: 0.7268\n",
      "Epoch 31/100\n",
      "326/326 [==============================] - 9s 29ms/step - loss: 0.5002 - accuracy: 0.9440 - val_loss: 1.1823 - val_accuracy: 0.6761\n",
      "Epoch 32/100\n",
      "326/326 [==============================] - 9s 29ms/step - loss: 0.5092 - accuracy: 0.9380 - val_loss: 1.2734 - val_accuracy: 0.6692\n",
      "Epoch 33/100\n",
      "326/326 [==============================] - 9s 29ms/step - loss: 0.4851 - accuracy: 0.9468 - val_loss: 1.3457 - val_accuracy: 0.6669\n",
      "Epoch 34/100\n",
      "326/326 [==============================] - 9s 29ms/step - loss: 0.4745 - accuracy: 0.9464 - val_loss: 1.2247 - val_accuracy: 0.7030\n"
     ]
    }
   ],
   "source": [
    "history = model.fit(X_train, y_label, validation_data=(X_val, y_val_label), batch_size=32,epochs=100,\\\n",
    "                            callbacks=[callback], verbose=1, class_weight=weights_ker, shuffle=True)"
   ]
  },
  {
   "cell_type": "code",
   "execution_count": 20,
   "id": "5b0e2910",
   "metadata": {},
   "outputs": [
    {
     "name": "stdout",
     "output_type": "stream",
     "text": [
      "\n",
      "Training for iteration number:  0\n",
      "41/41 [==============================] - 0s 2ms/step\n",
      "\n",
      "Training for iteration number:  1\n",
      "41/41 [==============================] - 0s 2ms/step\n",
      "\n",
      "Training for iteration number:  2\n",
      "41/41 [==============================] - 1s 36ms/step\n",
      "\n",
      "Training for iteration number:  3\n",
      "41/41 [==============================] - 0s 2ms/step\n",
      "\n",
      "Training for iteration number:  4\n",
      "41/41 [==============================] - 0s 2ms/step\n",
      "\n",
      "Training for iteration number:  5\n",
      "41/41 [==============================] - 0s 2ms/step\n",
      "\n",
      "Training for iteration number:  6\n",
      "41/41 [==============================] - 0s 2ms/step\n",
      "\n",
      "Training for iteration number:  7\n",
      "41/41 [==============================] - 1s 36ms/step\n",
      "\n",
      "Training for iteration number:  8\n",
      "41/41 [==============================] - 0s 2ms/step\n",
      "\n",
      "Training for iteration number:  9\n",
      "41/41 [==============================] - 0s 2ms/step\n",
      "\n",
      "Training for iteration number:  10\n",
      "41/41 [==============================] - 0s 2ms/step\n",
      "\n",
      "Training for iteration number:  11\n",
      "41/41 [==============================] - 0s 2ms/step\n",
      "\n",
      "Training for iteration number:  12\n",
      "41/41 [==============================] - 0s 2ms/step\n",
      "\n",
      "Training for iteration number:  13\n",
      "41/41 [==============================] - 0s 2ms/step\n",
      "\n",
      "Training for iteration number:  14\n",
      "41/41 [==============================] - 0s 2ms/step\n",
      "\n",
      "Training for iteration number:  15\n",
      "41/41 [==============================] - 0s 2ms/step\n",
      "\n",
      "Training for iteration number:  16\n",
      "41/41 [==============================] - 1s 35ms/step\n",
      "\n",
      "Training for iteration number:  17\n",
      "41/41 [==============================] - 0s 2ms/step\n",
      "\n",
      "Training for iteration number:  18\n",
      "41/41 [==============================] - 0s 2ms/step\n",
      "\n",
      "Training for iteration number:  19\n",
      "41/41 [==============================] - 0s 2ms/step\n",
      "\n",
      "Training for iteration number:  20\n",
      "41/41 [==============================] - 0s 2ms/step\n",
      "\n",
      "Training for iteration number:  21\n",
      "41/41 [==============================] - 0s 2ms/step\n",
      "\n",
      "Training for iteration number:  22\n",
      "41/41 [==============================] - 0s 2ms/step\n",
      "\n",
      "Training for iteration number:  23\n",
      "41/41 [==============================] - 0s 2ms/step\n",
      "\n",
      "Training for iteration number:  24\n",
      "41/41 [==============================] - 0s 2ms/step\n",
      "\n",
      "Training for iteration number:  25\n",
      "41/41 [==============================] - 0s 2ms/step\n",
      "\n",
      "Training for iteration number:  26\n",
      "41/41 [==============================] - 0s 2ms/step\n",
      "\n",
      "Training for iteration number:  27\n",
      "41/41 [==============================] - 0s 2ms/step\n",
      "\n",
      "Training for iteration number:  28\n",
      "41/41 [==============================] - 0s 2ms/step\n",
      "\n",
      "Training for iteration number:  29\n",
      "41/41 [==============================] - 0s 2ms/step\n",
      "The average real precision :  0.8044024845090674\n",
      "The average real recall:  0.8089303238469087\n",
      "The average real f1:  0.8059280776265333\n",
      "The average fake precision :  0.30399454346008187\n",
      "The average fake recall:  0.2937793427230046\n",
      "The average fake f1:  0.2949511583340744\n",
      "The average macro precision:  0.5541985139845748\n",
      "The average macro recall:  0.5590764903454091\n",
      "The average macro_f1:  0.5504396179803038\n",
      "The average macro accuracy:  0.6966487592734716\n",
      "The standard deviation on real precision :  0.004634481109900634\n",
      "The standard deviation on real recall:  0.04713167792421299\n",
      "The standard deviation on real f1:  0.023009740868535754\n",
      "The standard deviation on fake precision :  0.026254788201997396\n",
      "The standard deviation on fake recall:  0.051233570750520784\n",
      "The standard deviation on macro precision:  0.014191260832414272\n",
      "The standard deviation on macro recall:  0.0\n",
      "The standard deviation on macro_f1:  0.011415938224606704\n",
      "The standard deviation on macro accuracy:  0.027002466332932174\n",
      "Average number of epochs 30.3\n"
     ]
    }
   ],
   "source": [
    "real_precision, real_recall, real_f_score, fake_precision, fake_recall,\\\n",
    "fake_f1, macro_precision, macro_recall, macro_f1, accuracy = run_model(X_train, \\\n",
    "y_label, X_val, y_val_label, X_test, y_test_label, verbose=0, itr=30)"
   ]
  },
  {
   "cell_type": "code",
   "execution_count": 21,
   "id": "4643f8a3",
   "metadata": {},
   "outputs": [
    {
     "name": "stdout",
     "output_type": "stream",
     "text": [
      "Real Precision:\n",
      "  [0.8090737240075614, 0.8069254984260231, 0.8013371537726839, 0.8120868744098206, 0.811391223155929, 0.8062248995983936, 0.794995187680462, 0.8088803088803089, 0.8071705426356589, 0.8053007135575942, 0.7954743255004352, 0.8021052631578948, 0.8043933054393305, 0.8034576888080073, 0.8033509700176367, 0.8084066471163245, 0.804503582395087, 0.8049040511727079, 0.7956480605487228, 0.7973484848484849, 0.8015267175572519, 0.8086225026288117, 0.8021338506304558, 0.8088888888888889, 0.7974217311233885, 0.8066595059076263, 0.8037914691943128, 0.8036573628488932, 0.810838445807771, 0.8055555555555556]\n",
      "Real Recall:\n",
      "  [0.8400392541707556, 0.7546614327772326, 0.8233562315996075, 0.8439646712463199, 0.8527968596663396, 0.788027477919529, 0.8105986261040236, 0.8223748773307163, 0.8174681059862611, 0.7752698724239451, 0.8969578017664377, 0.7477919528949951, 0.7546614327772326, 0.8665358194308145, 0.8940137389597644, 0.8115799803729146, 0.7713444553483808, 0.7409224730127576, 0.8253189401373896, 0.8263002944062807, 0.8243375858684985, 0.7546614327772326, 0.8115799803729146, 0.7144259077526988, 0.8498527968596663, 0.7369970559371933, 0.8321884200196271, 0.8194308145240432, 0.7782139352306182, 0.8822374877330716]\n",
      "Real F1-Score:\n",
      "  [0.8242657679345209, 0.7799188640973631, 0.8121974830590514, 0.8277189605389799, 0.8315789473684211, 0.7970223325062035, 0.8027210884353742, 0.8155717761557179, 0.8122866894197952, 0.7899999999999999, 0.8431734317343174, 0.7739969527679026, 0.77873417721519, 0.8338054768649669, 0.8462610311193683, 0.809990205680705, 0.7875751503006012, 0.7715891670924885, 0.8102119460500964, 0.811566265060241, 0.8127721335268505, 0.7807106598984772, 0.8068292682926829, 0.7587285044293903, 0.8228028503562944, 0.7702564102564103, 0.8177434908389586, 0.8114674441205054, 0.7941912869303956, 0.8421545667447307]\n"
     ]
    }
   ],
   "source": [
    "print(\"Real Precision:\\n \", real_precision)\n",
    "print(\"Real Recall:\\n \", real_recall)\n",
    "print(\"Real F1-Score:\\n \",  real_f_score) "
   ]
  },
  {
   "cell_type": "code",
   "execution_count": 22,
   "id": "021c779f",
   "metadata": {},
   "outputs": [
    {
     "name": "stdout",
     "output_type": "stream",
     "text": [
      "Fake Precision:\n",
      "  [0.3346938775510204, 0.2857142857142857, 0.296875, 0.3483606557377049, 0.35344827586206895, 0.2964169381107492, 0.2689393939393939, 0.32209737827715357, 0.31365313653136534, 0.2888198757763975, 0.3181818181818182, 0.2719546742209632, 0.27953890489913547, 0.3333333333333333, 0.3609467455621302, 0.3142857142857143, 0.2852760736196319, 0.27671232876712326, 0.2764227642276423, 0.2834008097165992, 0.2980392156862745, 0.2897727272727273, 0.29411764705882354, 0.27791563275434245, 0.29493087557603687, 0.27956989247311825, 0.31048387096774194, 0.30303030303030304, 0.3046153846153846, 0.3582887700534759]\n",
      "Fake Recall:\n",
      "  [0.2887323943661972, 0.352112676056338, 0.2676056338028169, 0.2992957746478873, 0.2887323943661972, 0.3204225352112676, 0.25, 0.3028169014084507, 0.2992957746478873, 0.3274647887323944, 0.17253521126760563, 0.3380281690140845, 0.3415492957746479, 0.23943661971830985, 0.2147887323943662, 0.30985915492957744, 0.3274647887323944, 0.35563380281690143, 0.23943661971830985, 0.24647887323943662, 0.2676056338028169, 0.3591549295774648, 0.28169014084507044, 0.39436619718309857, 0.22535211267605634, 0.36619718309859156, 0.2711267605633803, 0.28169014084507044, 0.3485915492957746, 0.23591549295774647]\n",
      "Fake F1-Score:\n",
      "  [0.3100189035916824, 0.31545741324921134, 0.2814814814814815, 0.32196969696969696, 0.31782945736434104, 0.3079526226734349, 0.2591240875912409, 0.3121597096188748, 0.30630630630630634, 0.3069306930693069, 0.2237442922374429, 0.30141287284144425, 0.30744849445324884, 0.2786885245901639, 0.2693156732891832, 0.31205673758865243, 0.3049180327868853, 0.3112480739599384, 0.25660377358490566, 0.2636534839924671, 0.2820037105751392, 0.3207547169811321, 0.28776978417266186, 0.3260553129548763, 0.25548902195608786, 0.3170731707317073, 0.2894736842105263, 0.29197080291970806, 0.3251231527093596, 0.28450106157112526]\n"
     ]
    }
   ],
   "source": [
    "print(\"Fake Precision:\\n \", fake_precision)\n",
    "print(\"Fake Recall:\\n \", fake_recall)\n",
    "print(\"Fake F1-Score:\\n \", fake_f1)"
   ]
  },
  {
   "cell_type": "code",
   "execution_count": 23,
   "id": "733e0f1d",
   "metadata": {},
   "outputs": [
    {
     "name": "stdout",
     "output_type": "stream",
     "text": [
      "Macro Precision:\n",
      "  [0.5718838007792909, 0.5463198920701544, 0.5491060768863419, 0.5802237650737627, 0.582419749508999, 0.5513209188545714, 0.531967290809928, 0.5654888435787313, 0.5604118395835122, 0.5470602946669959, 0.5568280718411267, 0.537029968689429, 0.541966105169233, 0.5683955110706703, 0.5821488577898835, 0.5613461807010194, 0.5448898280073595, 0.5408081899699155, 0.5360354123881825, 0.540374647282542, 0.5497829666217632, 0.5491976149507696, 0.5481257488446397, 0.5434022608216157, 0.5461763033497127, 0.5431146991903723, 0.5571376700810273, 0.5533438329395981, 0.5577269152115778, 0.5819221628045157]\n",
      "Macro Recall:\n",
      "  [0.5643858242684764, 0.5533870544167854, 0.5454809327012122, 0.5716302229471036, 0.5707646270162684, 0.5542250065653983, 0.5302993130520117, 0.5625958893695835, 0.5583819403170742, 0.5513673305781697, 0.5347465065170216, 0.5429100609545399, 0.5481053642759403, 0.5529862195745622, 0.5544012356770653, 0.560719567651246, 0.5494046220403876, 0.5482781379148295, 0.5323777799278497, 0.5363895838228587, 0.5459716098356577, 0.5569081811773487, 0.5466350606089925, 0.5543960524678987, 0.5376024547678613, 0.5515971195178925, 0.5516575902915037, 0.5505604776845568, 0.5634027422631964, 0.5590764903454091]\n",
      "Macro F1-Score:\n",
      "  [0.5671423357631016, 0.5476881386732873, 0.5468394822702665, 0.5748443287543384, 0.5747042023663811, 0.5524874775898192, 0.5309225880133075, 0.5638657428872963, 0.5592964978630508, 0.5484653465346534, 0.5334588619858801, 0.5377049128046734, 0.5430913358342194, 0.5562470007275654, 0.5577883522042758, 0.5610234716346787, 0.5462465915437432, 0.5414186205262135, 0.533407859817501, 0.537609874526354, 0.5473879220509948, 0.5507326884398047, 0.5472995262326723, 0.5423919086921333, 0.5391459361561911, 0.5436647904940588, 0.5536085875247425, 0.5517191235201068, 0.5596572198198776, 0.563327814157928]\n",
      "Accuracy Score:\n",
      "  [0.7198772064466615, 0.6669224865694551, 0.7022256331542595, 0.7252494244052188, 0.7298541826554106, 0.6861089792785878, 0.6884113584036838, 0.7091327705295472, 0.7045280122793554, 0.6776669224865695, 0.7390636991557943, 0.6584804297774367, 0.6646201074443592, 0.7298541826554106, 0.7459708365310821, 0.7022256331542595, 0.6745970836531082, 0.656945510360706, 0.6976208749040675, 0.6999232540291634, 0.7029930928626247, 0.6684574059861857, 0.6960859554873369, 0.6446661550268611, 0.7137375287797391, 0.6561780506523408, 0.7099002302379125, 0.7022256331542595, 0.6845740598618573, 0.7413660782808903]\n"
     ]
    }
   ],
   "source": [
    "print(\"Macro Precision:\\n \", macro_precision)\n",
    "print(\"Macro Recall:\\n \", macro_recall)\n",
    "print(\"Macro F1-Score:\\n \", macro_f1)\n",
    "print(\"Accuracy Score:\\n \", accuracy)"
   ]
  },
  {
   "cell_type": "code",
   "execution_count": 24,
   "id": "d0ee8741",
   "metadata": {},
   "outputs": [],
   "source": [
    "def plot_accuracy(history):\n",
    "    plt.plot(history.history['accuracy'])\n",
    "    plt.plot(history.history['val_accuracy'])\n",
    "    plt.title('Model accuracy')\n",
    "    plt.ylabel('Accuracy')\n",
    "    plt.xlabel('Epoch')\n",
    "    plt.legend(['Train', 'Test'], loc='upper left')\n",
    "    plt.show()"
   ]
  },
  {
   "cell_type": "code",
   "execution_count": 25,
   "id": "52cc355f",
   "metadata": {},
   "outputs": [],
   "source": [
    "def plot_loss(history):\n",
    "    plt.plot(history.history['loss'])\n",
    "    plt.plot(history.history['val_loss'])\n",
    "    plt.title('Model Loss')\n",
    "    plt.ylabel('Loss')\n",
    "    plt.xlabel('Epoch')\n",
    "    plt.legend(['Train', 'Test'], loc='upper left')\n",
    "    plt.show()"
   ]
  },
  {
   "cell_type": "code",
   "execution_count": 26,
   "id": "9824863d",
   "metadata": {},
   "outputs": [
    {
     "data": {
      "image/png": "[encoded data removed]",
      "text/plain": [
       "<Figure size 432x288 with 1 Axes>"
      ]
     },
     "metadata": {
      "needs_background": "light"
     },
     "output_type": "display_data"
    },
    {
     "data": {
      "image/png": "[encoded data removed]",
      "text/plain": [
       "<Figure size 432x288 with 1 Axes>"
      ]
     },
     "metadata": {
      "needs_background": "light"
     },
     "output_type": "display_data"
    }
   ],
   "source": [
    "model_text_plotacc = plot_accuracy(history)\n",
    "model_text_plotloss = plot_loss(history)"
   ]
  },
  {
   "cell_type": "code",
   "execution_count": null,
   "id": "f07ae6b4",
   "metadata": {},
   "outputs": [],
   "source": []
  }
 ],
 "metadata": {
  "kernelspec": {
   "display_name": "Python 3",
   "language": "python",
   "name": "python3"
  },
  "language_info": {
   "codemirror_mode": {
    "name": "ipython",
    "version": 3
   },
   "file_extension": ".py",
   "mimetype": "text/x-python",
   "name": "python",
   "nbconvert_exporter": "python",
   "pygments_lexer": "ipython3",
   "version": "3.8.8"
  }
 },
 "nbformat": 4,
 "nbformat_minor": 5
}
