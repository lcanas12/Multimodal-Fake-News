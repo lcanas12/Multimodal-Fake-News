{
 "cells": [
  {
   "cell_type": "code",
   "execution_count": 1,
   "id": "8eb43939",
   "metadata": {},
   "outputs": [],
   "source": [
    "import pandas as pd\n",
    "import sklearn\n",
    "import numpy as np\n",
    "import os\n",
    "from pathlib import Path\n",
    "from sklearn.model_selection import train_test_split\n",
    "import torch\n",
    "from datasets import load_dataset\n",
    "import tensorflow as tf\n",
    "import tensorflow_addons as tfa\n",
    "import gc\n",
    "\n",
    "from keras import optimizers\n",
    "import matplotlib.pyplot as plt\n",
    "from keras import initializers\n",
    "from keras.utils import np_utils\n",
    "from keras import regularizers\n",
    "from keras.models import Sequential, Model\n",
    "from keras.callbacks import ModelCheckpoint\n",
    "from keras.layers import concatenate\n",
    "from keras.layers import Dense, Flatten, Dropout, Input, BatchNormalization, ReLU\n",
    "from keras.layers import LSTM, Bidirectional\n",
    "import pickle\n",
    "from sklearn.metrics import confusion_matrix\n",
    "from sklearn.metrics import classification_report, accuracy_score\n",
    "\n",
    "\n",
    "import keras\n",
    "\n",
    "import matplotlib.pyplot as plt\n",
    "%matplotlib inline"
   ]
  },
  {
   "cell_type": "code",
   "execution_count": 2,
   "id": "71be2295",
   "metadata": {},
   "outputs": [],
   "source": [
    "df_goss_train = pd.read_pickle('../../Dissertation - Fake News/Embeddings/df_train_xception_block9_tuned.pkl')\n",
    "df_goss_val = pd.read_pickle('../../Dissertation - Fake News/Embeddings/df_val_xception_block9_tuned.pkl')\n",
    "df_goss_test = pd.read_pickle('../../Dissertation - Fake News/Embeddings/df_test_xception_block9_tuned.pkl')"
   ]
  },
  {
   "cell_type": "code",
   "execution_count": 3,
   "id": "6c51d2c4",
   "metadata": {},
   "outputs": [
    {
     "data": {
      "text/html": [
       "<div>\n",
       "<style scoped>\n",
       "    .dataframe tbody tr th:only-of-type {\n",
       "        vertical-align: middle;\n",
       "    }\n",
       "\n",
       "    .dataframe tbody tr th {\n",
       "        vertical-align: top;\n",
       "    }\n",
       "\n",
       "    .dataframe thead th {\n",
       "        text-align: right;\n",
       "    }\n",
       "</style>\n",
       "<table border=\"1\" class=\"dataframe\">\n",
       "  <thead>\n",
       "    <tr style=\"text-align: right;\">\n",
       "      <th></th>\n",
       "      <th>img_features</th>\n",
       "      <th>label</th>\n",
       "      <th>idx</th>\n",
       "    </tr>\n",
       "  </thead>\n",
       "  <tbody>\n",
       "    <tr>\n",
       "      <th>1902</th>\n",
       "      <td>[[0.20207693, 0.12428234, 0.0013508963, 0.0489...</td>\n",
       "      <td>0</td>\n",
       "      <td>1934</td>\n",
       "    </tr>\n",
       "    <tr>\n",
       "      <th>1386</th>\n",
       "      <td>[[0.064614825, 0.07092466, 0.017142558, 0.0027...</td>\n",
       "      <td>0</td>\n",
       "      <td>1408</td>\n",
       "    </tr>\n",
       "    <tr>\n",
       "      <th>2539</th>\n",
       "      <td>[[0.052746676, 0.052356396, 0.2536342, 0.01482...</td>\n",
       "      <td>0</td>\n",
       "      <td>2589</td>\n",
       "    </tr>\n",
       "    <tr>\n",
       "      <th>5649</th>\n",
       "      <td>[[0.3931321, 0.4964808, 0.08978235, 0.14364813...</td>\n",
       "      <td>1</td>\n",
       "      <td>5778</td>\n",
       "    </tr>\n",
       "    <tr>\n",
       "      <th>2869</th>\n",
       "      <td>[[0.00028831602, 0.010696825, 0.011921213, 0.0...</td>\n",
       "      <td>0</td>\n",
       "      <td>2922</td>\n",
       "    </tr>\n",
       "  </tbody>\n",
       "</table>\n",
       "</div>"
      ],
      "text/plain": [
       "                                           img_features  label   idx\n",
       "1902  [[0.20207693, 0.12428234, 0.0013508963, 0.0489...      0  1934\n",
       "1386  [[0.064614825, 0.07092466, 0.017142558, 0.0027...      0  1408\n",
       "2539  [[0.052746676, 0.052356396, 0.2536342, 0.01482...      0  2589\n",
       "5649  [[0.3931321, 0.4964808, 0.08978235, 0.14364813...      1  5778\n",
       "2869  [[0.00028831602, 0.010696825, 0.011921213, 0.0...      0  2922"
      ]
     },
     "execution_count": 3,
     "metadata": {},
     "output_type": "execute_result"
    }
   ],
   "source": [
    "df_goss_train.head()"
   ]
  },
  {
   "cell_type": "code",
   "execution_count": 4,
   "id": "97a2a8a1",
   "metadata": {},
   "outputs": [],
   "source": [
    "def label_change(df):\n",
    "    if df['label'] == 0: return 1\n",
    "    else: return 0"
   ]
  },
  {
   "cell_type": "code",
   "execution_count": 5,
   "id": "7c9b52ff",
   "metadata": {},
   "outputs": [
    {
     "data": {
      "text/html": [
       "<div>\n",
       "<style scoped>\n",
       "    .dataframe tbody tr th:only-of-type {\n",
       "        vertical-align: middle;\n",
       "    }\n",
       "\n",
       "    .dataframe tbody tr th {\n",
       "        vertical-align: top;\n",
       "    }\n",
       "\n",
       "    .dataframe thead th {\n",
       "        text-align: right;\n",
       "    }\n",
       "</style>\n",
       "<table border=\"1\" class=\"dataframe\">\n",
       "  <thead>\n",
       "    <tr style=\"text-align: right;\">\n",
       "      <th></th>\n",
       "      <th>img_features</th>\n",
       "      <th>label</th>\n",
       "      <th>idx</th>\n",
       "      <th>target</th>\n",
       "    </tr>\n",
       "  </thead>\n",
       "  <tbody>\n",
       "    <tr>\n",
       "      <th>1902</th>\n",
       "      <td>[[0.20207693, 0.12428234, 0.0013508963, 0.0489...</td>\n",
       "      <td>0</td>\n",
       "      <td>1934</td>\n",
       "      <td>1</td>\n",
       "    </tr>\n",
       "    <tr>\n",
       "      <th>1386</th>\n",
       "      <td>[[0.064614825, 0.07092466, 0.017142558, 0.0027...</td>\n",
       "      <td>0</td>\n",
       "      <td>1408</td>\n",
       "      <td>1</td>\n",
       "    </tr>\n",
       "    <tr>\n",
       "      <th>2539</th>\n",
       "      <td>[[0.052746676, 0.052356396, 0.2536342, 0.01482...</td>\n",
       "      <td>0</td>\n",
       "      <td>2589</td>\n",
       "      <td>1</td>\n",
       "    </tr>\n",
       "    <tr>\n",
       "      <th>5649</th>\n",
       "      <td>[[0.3931321, 0.4964808, 0.08978235, 0.14364813...</td>\n",
       "      <td>1</td>\n",
       "      <td>5778</td>\n",
       "      <td>0</td>\n",
       "    </tr>\n",
       "    <tr>\n",
       "      <th>2869</th>\n",
       "      <td>[[0.00028831602, 0.010696825, 0.011921213, 0.0...</td>\n",
       "      <td>0</td>\n",
       "      <td>2922</td>\n",
       "      <td>1</td>\n",
       "    </tr>\n",
       "  </tbody>\n",
       "</table>\n",
       "</div>"
      ],
      "text/plain": [
       "                                           img_features  label   idx  target\n",
       "1902  [[0.20207693, 0.12428234, 0.0013508963, 0.0489...      0  1934       1\n",
       "1386  [[0.064614825, 0.07092466, 0.017142558, 0.0027...      0  1408       1\n",
       "2539  [[0.052746676, 0.052356396, 0.2536342, 0.01482...      0  2589       1\n",
       "5649  [[0.3931321, 0.4964808, 0.08978235, 0.14364813...      1  5778       0\n",
       "2869  [[0.00028831602, 0.010696825, 0.011921213, 0.0...      0  2922       1"
      ]
     },
     "execution_count": 5,
     "metadata": {},
     "output_type": "execute_result"
    }
   ],
   "source": [
    "df_goss_train['target'] = df_goss_train.apply(label_change, axis=1)\n",
    "df_goss_train.head()"
   ]
  },
  {
   "cell_type": "code",
   "execution_count": 6,
   "id": "ffd94fd1",
   "metadata": {},
   "outputs": [],
   "source": [
    "df_goss_val['target'] = df_goss_val.apply(label_change, axis=1)\n",
    "df_goss_test['target'] = df_goss_test.apply(label_change, axis=1)"
   ]
  },
  {
   "cell_type": "code",
   "execution_count": 7,
   "id": "84ec57ff",
   "metadata": {},
   "outputs": [
    {
     "name": "stdout",
     "output_type": "stream",
     "text": [
      "[0.64400494 2.2360515 ]\n"
     ]
    },
    {
     "name": "stderr",
     "output_type": "stream",
     "text": [
      "C:\\Users\\labca\\anaconda3\\lib\\site-packages\\sklearn\\utils\\validation.py:70: FutureWarning: Pass classes=[0 1], y=[0 0 0 ... 1 1 1] as keyword args. From version 1.0 (renaming of 0.25) passing these as positional arguments will result in an error\n",
      "  warnings.warn(f\"Pass {args_msg} as keyword args. From version \"\n"
     ]
    }
   ],
   "source": [
    "# Count samples per class: 0-real, 1-fake\n",
    "classes_zero = df_goss_train[df_goss_train['target'] == 0]\n",
    "classes_one = df_goss_train[df_goss_train['target'] == 1]\n",
    "\n",
    "# Convert parts into NumPy arrays for weight computation\n",
    "zero_numpy = classes_zero['target'].to_numpy()\n",
    "one_numpy = classes_one['target'].to_numpy()\n",
    "all_together = np.concatenate((zero_numpy, one_numpy))\n",
    "unique_classes = np.unique(all_together)\n",
    "\n",
    "# Compute weights\n",
    "weights = sklearn.utils.class_weight.compute_class_weight('balanced', unique_classes, all_together)\n",
    "print(weights)"
   ]
  },
  {
   "cell_type": "code",
   "execution_count": 8,
   "id": "9222804e",
   "metadata": {},
   "outputs": [
    {
     "data": {
      "text/plain": [
       "{0: 0.6440049443757726, 1: 2.236051502145923}"
      ]
     },
     "execution_count": 8,
     "metadata": {},
     "output_type": "execute_result"
    }
   ],
   "source": [
    "weights_ker = {i : weights[i] for i in range(2)}\n",
    "weights_ker"
   ]
  },
  {
   "cell_type": "code",
   "execution_count": 9,
   "id": "fedaae25",
   "metadata": {},
   "outputs": [
    {
     "data": {
      "text/plain": [
       "(10420, 1, 2048)"
      ]
     },
     "execution_count": 9,
     "metadata": {},
     "output_type": "execute_result"
    }
   ],
   "source": [
    "array_train = df_goss_train[[\"img_features\",\"target\"]].to_numpy() \n",
    "X_train = np.array(array_train[:,0].tolist())\n",
    "X_train.shape"
   ]
  },
  {
   "cell_type": "code",
   "execution_count": 10,
   "id": "b9b2b545",
   "metadata": {},
   "outputs": [
    {
     "data": {
      "text/plain": [
       "(10420, 2048)"
      ]
     },
     "execution_count": 10,
     "metadata": {},
     "output_type": "execute_result"
    }
   ],
   "source": [
    "X_train = np.squeeze(X_train, 1)\n",
    "X_train.shape"
   ]
  },
  {
   "cell_type": "code",
   "execution_count": 11,
   "id": "c524a0b3",
   "metadata": {},
   "outputs": [
    {
     "data": {
      "text/plain": [
       "(10420,)"
      ]
     },
     "execution_count": 11,
     "metadata": {},
     "output_type": "execute_result"
    }
   ],
   "source": [
    "y_label = np.array(array_train[:,1].tolist())\n",
    "y_label.shape"
   ]
  },
  {
   "cell_type": "code",
   "execution_count": 12,
   "id": "248a00ef",
   "metadata": {},
   "outputs": [],
   "source": [
    "array_val = df_goss_val[[\"img_features\",\"target\"]].to_numpy() \n",
    "X_val = np.array(array_val[:,0].tolist())\n",
    "X_val = np.squeeze(X_val, 1)\n",
    "y_val_label = np.array(array_val[:,1].tolist())\n",
    "\n",
    "array_test = df_goss_test[[\"img_features\",\"target\"]].to_numpy() \n",
    "X_test = np.array(array_test[:,0].tolist())\n",
    "X_test = np.squeeze(X_test, 1)\n",
    "y_test_label = np.array(array_test[:,1].tolist())"
   ]
  },
  {
   "cell_type": "code",
   "execution_count": 13,
   "id": "036c42e4",
   "metadata": {},
   "outputs": [],
   "source": [
    "def reset_tensorflow_keras_backend():\n",
    "    keras.backend.clear_session()\n",
    "    tf.compat.v1.reset_default_graph()\n",
    "    _ = gc.collect()"
   ]
  },
  {
   "cell_type": "code",
   "execution_count": 14,
   "id": "4845b495",
   "metadata": {},
   "outputs": [],
   "source": [
    "def reinitialize(model):\n",
    "    for l in model.layers:\n",
    "        if hasattr(l,\"kernel_initializer\"):\n",
    "            l.kernel.assign(l.kernel_initializer(tf.shape(l.kernel)))\n",
    "        if hasattr(l,\"bias_initializer\"):\n",
    "            l.bias.assign(l.bias_initializer(tf.shape(l.bias)))\n",
    "        if hasattr(l,\"recurrent_initializer\"):\n",
    "            l.recurrent_kernel.assign(l.recurrent_initializer(tf.shape(l.recurrent_kernel)))"
   ]
  },
  {
   "cell_type": "code",
   "execution_count": 15,
   "id": "7d159b5d",
   "metadata": {},
   "outputs": [],
   "source": [
    "adam = optimizers.Adam(learning_rate=1e-5)\n",
    "callback = tf.keras.callbacks.EarlyStopping(monitor='val_loss', patience=5, restore_best_weights=True)"
   ]
  },
  {
   "cell_type": "code",
   "execution_count": 16,
   "id": "b3e62209",
   "metadata": {},
   "outputs": [],
   "source": [
    "input_img = Input(shape=(2048))\n",
    "img_dense = Dense(1024, activation='relu', kernel_regularizer=regularizers.l2(0.01),\\\n",
    "                kernel_initializer=initializers.he_normal(seed=0))(input_img)\n",
    "dropout_img = Dropout(0.4)(img_dense)\n",
    "img_dense = Dense(512, activation='relu', kernel_regularizer=regularizers.l2(0.01),\\\n",
    "                kernel_initializer=initializers.he_normal(seed=0))(dropout_img)\n",
    "img_dense = Dense(128, activation='relu', kernel_regularizer=regularizers.l2(0.01),\\\n",
    "                kernel_initializer=initializers.he_normal(seed=0))(dropout_img)\n",
    "output = Dense(1, activation='sigmoid')(img_dense)\n",
    "model = Model(inputs=input_img, outputs=output)\n",
    "model.compile(loss='binary_crossentropy', optimizer=adam, metrics='accuracy')"
   ]
  },
  {
   "cell_type": "code",
   "execution_count": 17,
   "id": "109b7623",
   "metadata": {},
   "outputs": [
    {
     "name": "stdout",
     "output_type": "stream",
     "text": [
      "Model: \"model\"\n",
      "_________________________________________________________________\n",
      " Layer (type)                Output Shape              Param #   \n",
      "=================================================================\n",
      " input_1 (InputLayer)        [(None, 2048)]            0         \n",
      "                                                                 \n",
      " dense (Dense)               (None, 1024)              2098176   \n",
      "                                                                 \n",
      " dropout (Dropout)           (None, 1024)              0         \n",
      "                                                                 \n",
      " dense_2 (Dense)             (None, 128)               131200    \n",
      "                                                                 \n",
      " dense_3 (Dense)             (None, 1)                 129       \n",
      "                                                                 \n",
      "=================================================================\n",
      "Total params: 2,229,505\n",
      "Trainable params: 2,229,505\n",
      "Non-trainable params: 0\n",
      "_________________________________________________________________\n"
     ]
    }
   ],
   "source": [
    "model.summary()"
   ]
  },
  {
   "cell_type": "code",
   "execution_count": 18,
   "id": "74044f1f",
   "metadata": {},
   "outputs": [],
   "source": [
    "def run_model(X_train, train_label, X_val, val_label, X_test, test_label, batch_size=32,epochs=100, verbose=1, class_weight=weights_ker, \\\n",
    "              itr=30, shuffle=True):\n",
    "    \n",
    "    adam = optimizers.Adam(learning_rate=1e-5)\n",
    "    callback = tf.keras.callbacks.EarlyStopping(monitor='val_loss', patience=3, restore_best_weights=True)\n",
    "    \n",
    "    real_precision_list = []\n",
    "    real_recall_list = []\n",
    "    real_f1_list = []\n",
    "    fake_precision_list = []\n",
    "    fake_recall_list = []\n",
    "    fake_f1_list = []\n",
    "    \n",
    "    macro_precision_list = []\n",
    "    macro_recall_list = []\n",
    "    macro_f1_list = []\n",
    "    accuracy_list = []\n",
    "    num_epochs = []\n",
    "\n",
    "    #Define model\n",
    "    input_img = Input(shape=(2048))\n",
    "    dense_img = Dense(1024, activation='relu', kernel_regularizer=regularizers.l2(0.01),\\\n",
    "                kernel_initializer=initializers.he_normal(seed=0))(input_img)\n",
    "    dropout_img = Dropout(0.4)(dense_img)\n",
    "    dense_img = Dense(512, activation='relu', kernel_regularizer=regularizers.l2(0.01),\\\n",
    "                kernel_initializer=initializers.he_normal(seed=0))(dropout_img)\n",
    "    dense_img = Dense(128, activation='relu', kernel_regularizer=regularizers.l2(0.01),\\\n",
    "                kernel_initializer=initializers.he_normal(seed=0))(dense_img)\n",
    "    output = Dense(1, activation='sigmoid')(dense_img)\n",
    "    model = Model(inputs=input_img, outputs=output)\n",
    "    model.compile(loss='binary_crossentropy', optimizer=adam, metrics='accuracy')\n",
    "        \n",
    "    for i in range(0,itr):\n",
    "        print(\"\\nTraining for iteration number: \", i)\n",
    "        reset_tensorflow_keras_backend()\n",
    "        reinitialize(model)\n",
    "        history = model.fit(X_train, train_label, validation_data=(X_val, val_label), batch_size=batch_size,epochs=epochs,\n",
    "                            callbacks=[callback], verbose=verbose, class_weight=class_weight, shuffle=shuffle)\n",
    "        \n",
    "        y_pred = model.predict(X_test)\n",
    "        predictions = list(map(lambda x: 0 if x<0.5 else 1, y_pred))\n",
    "        \n",
    "        report = classification_report(y_test_label, predictions, target_names=['real','fake'], output_dict=True)\n",
    "        real_precision = report['real']['precision'] \n",
    "        real_recall = report['real']['recall'] \n",
    "        real_f1 = report['real']['f1-score'] \n",
    "        fake_precision = report['fake']['precision'] \n",
    "        fake_recall = report['fake']['recall'] \n",
    "        fake_f1 = report['fake']['f1-score'] \n",
    "        \n",
    "        macro_precision =  report['macro avg']['precision'] \n",
    "        macro_recall = report['macro avg']['recall']    \n",
    "        macro_f1 = report['macro avg']['f1-score']\n",
    "        accuracy = report['accuracy']\n",
    "\n",
    "        real_precision_list.append(real_precision)\n",
    "        real_recall_list.append(real_recall)\n",
    "        real_f1_list.append(real_f1)\n",
    "        fake_precision_list.append(fake_precision)\n",
    "        fake_recall_list.append(fake_recall)\n",
    "        fake_f1_list.append(fake_f1)\n",
    "        \n",
    "        macro_precision_list.append(macro_precision)\n",
    "        macro_recall_list.append(macro_recall)\n",
    "        macro_f1_list.append(macro_f1)\n",
    "        accuracy_list.append(accuracy)\n",
    "        num_epochs.append(len(history.history['loss']))\n",
    "        \n",
    "        \n",
    "    mean_real_precision = np.mean(real_precision_list)\n",
    "    mean_real_recall = np.mean(real_recall_list)\n",
    "    mean_real_f1 = np.mean(real_f1_list)\n",
    "    mean_fake_precision = np.mean(fake_precision_list)\n",
    "    mean_fake_recall= np.mean(fake_recall_list)\n",
    "    mean_fake_f1 = np.mean(fake_f1_list)\n",
    "    \n",
    "    mean_macro_precision = np.mean(macro_precision_list)\n",
    "    mean_macro_recall = np.mean(macro_recall)\n",
    "    mean_macro_f1 = np.mean(macro_f1_list)\n",
    "    mean_accuracy = np.mean(accuracy_list)\n",
    "    mean_epoch = np.mean(num_epochs)\n",
    "    \n",
    "    std_real_precision = np.std(real_precision_list)\n",
    "    std_real_recall = np.std(real_recall_list)\n",
    "    std_real_f1 = np.std(real_f1_list)\n",
    "    std_fake_precision = np.std(fake_precision_list)\n",
    "    std_fake_recall= np.std(fake_recall_list)\n",
    "    std_fake_f1 = np.std(fake_f1_list)\n",
    "    \n",
    "    std_macro_precision = np.std(macro_precision_list)\n",
    "    std_macro_recall = np.std(macro_recall)\n",
    "    std_macro_f1 = np.std(macro_f1_list)\n",
    "    std_accuracy = np.std(accuracy_list)\n",
    "\n",
    "    print(\"The average real precision : \", mean_real_precision)\n",
    "    print(\"The average real recall: \", mean_real_recall)\n",
    "    print(\"The average real f1: \", mean_real_f1)\n",
    "    print(\"The average fake precision : \", mean_fake_precision)\n",
    "    print(\"The average fake recall: \", mean_fake_recall)\n",
    "    print(\"The average fake f1: \", mean_fake_f1)\n",
    "    print(\"The average macro precision: \", mean_macro_precision)\n",
    "    print(\"The average macro recall: \", mean_macro_recall)\n",
    "    print(\"The average macro_f1: \", mean_macro_f1)\n",
    "    print(\"The average macro accuracy: \", mean_accuracy)\n",
    "    \n",
    "    print(\"The standard deviation on real precision : \", std_real_precision)\n",
    "    print(\"The standard deviation on real recall: \", std_real_recall)\n",
    "    print(\"The standard deviation on real f1: \", std_real_f1)\n",
    "    print(\"The standard deviation on fake precision : \", std_fake_precision)\n",
    "    print(\"The standard deviation on fake recall: \", std_fake_recall)\n",
    "    print(\"The standard deviation on macro precision: \", std_macro_precision)\n",
    "    print(\"The standard deviation on macro recall: \", std_macro_recall)\n",
    "    print(\"The standard deviation on macro_f1: \", std_macro_f1)\n",
    "    print(\"The standard deviation on macro accuracy: \", std_accuracy)\n",
    "    print(\"Average number of epochs\", mean_epoch)\n",
    "    \n",
    "    return real_precision_list, real_recall_list, real_f1_list, fake_precision_list, fake_recall_list, fake_f1_list,\\\n",
    "    macro_precision_list, macro_recall_list, macro_f1_list, accuracy_list"
   ]
  },
  {
   "cell_type": "code",
   "execution_count": 19,
   "id": "b4a42ef1",
   "metadata": {},
   "outputs": [
    {
     "name": "stdout",
     "output_type": "stream",
     "text": [
      "Epoch 1/100\n",
      "326/326 [==============================] - 3s 5ms/step - loss: 22.4767 - accuracy: 0.7411 - val_loss: 21.2583 - val_accuracy: 0.6508\n",
      "Epoch 2/100\n",
      "326/326 [==============================] - 2s 5ms/step - loss: 20.0871 - accuracy: 0.7327 - val_loss: 19.0630 - val_accuracy: 0.6416\n",
      "Epoch 3/100\n",
      "326/326 [==============================] - 2s 6ms/step - loss: 17.9641 - accuracy: 0.7334 - val_loss: 17.1029 - val_accuracy: 0.6147\n",
      "Epoch 4/100\n",
      "326/326 [==============================] - 2s 5ms/step - loss: 16.0633 - accuracy: 0.7365 - val_loss: 15.2708 - val_accuracy: 0.6662\n",
      "Epoch 5/100\n",
      "326/326 [==============================] - 2s 5ms/step - loss: 14.3558 - accuracy: 0.7416 - val_loss: 13.6909 - val_accuracy: 0.6408\n",
      "Epoch 6/100\n",
      "326/326 [==============================] - 2s 5ms/step - loss: 12.8221 - accuracy: 0.7438 - val_loss: 12.2258 - val_accuracy: 0.6562\n",
      "Epoch 7/100\n",
      "326/326 [==============================] - 2s 5ms/step - loss: 11.4498 - accuracy: 0.7443 - val_loss: 10.9458 - val_accuracy: 0.6454\n",
      "Epoch 8/100\n",
      "326/326 [==============================] - 2s 5ms/step - loss: 10.2168 - accuracy: 0.7482 - val_loss: 9.8317 - val_accuracy: 0.6078\n",
      "Epoch 9/100\n",
      "326/326 [==============================] - 2s 5ms/step - loss: 9.1141 - accuracy: 0.7521 - val_loss: 8.7339 - val_accuracy: 0.6631\n",
      "Epoch 10/100\n",
      "326/326 [==============================] - 2s 5ms/step - loss: 8.1300 - accuracy: 0.7593 - val_loss: 7.8516 - val_accuracy: 0.6309\n",
      "Epoch 11/100\n",
      "326/326 [==============================] - 2s 5ms/step - loss: 7.2577 - accuracy: 0.7599 - val_loss: 6.9963 - val_accuracy: 0.6592\n",
      "Epoch 12/100\n",
      "326/326 [==============================] - 2s 5ms/step - loss: 6.4832 - accuracy: 0.7607 - val_loss: 6.2856 - val_accuracy: 0.6485\n",
      "Epoch 13/100\n",
      "326/326 [==============================] - 2s 5ms/step - loss: 5.7999 - accuracy: 0.7575 - val_loss: 5.6356 - val_accuracy: 0.6516\n",
      "Epoch 14/100\n",
      "326/326 [==============================] - 2s 5ms/step - loss: 5.1963 - accuracy: 0.7612 - val_loss: 5.0737 - val_accuracy: 0.6546\n",
      "Epoch 15/100\n",
      "326/326 [==============================] - 2s 5ms/step - loss: 4.6650 - accuracy: 0.7641 - val_loss: 4.6061 - val_accuracy: 0.6324\n",
      "Epoch 16/100\n",
      "326/326 [==============================] - 2s 5ms/step - loss: 4.1984 - accuracy: 0.7679 - val_loss: 4.1564 - val_accuracy: 0.6493\n",
      "Epoch 17/100\n",
      "326/326 [==============================] - 2s 5ms/step - loss: 3.7896 - accuracy: 0.7674 - val_loss: 3.7609 - val_accuracy: 0.6631\n",
      "Epoch 18/100\n",
      "326/326 [==============================] - 2s 5ms/step - loss: 3.4324 - accuracy: 0.7738 - val_loss: 3.4351 - val_accuracy: 0.6600\n",
      "Epoch 19/100\n",
      "326/326 [==============================] - 2s 5ms/step - loss: 3.1215 - accuracy: 0.7694 - val_loss: 3.1475 - val_accuracy: 0.6562\n",
      "Epoch 20/100\n",
      "326/326 [==============================] - 2s 5ms/step - loss: 2.8485 - accuracy: 0.7713 - val_loss: 2.8805 - val_accuracy: 0.6700\n",
      "Epoch 21/100\n",
      "326/326 [==============================] - 2s 5ms/step - loss: 2.6093 - accuracy: 0.7737 - val_loss: 2.6774 - val_accuracy: 0.6585\n",
      "Epoch 22/100\n",
      "326/326 [==============================] - 2s 5ms/step - loss: 2.4042 - accuracy: 0.7748 - val_loss: 2.5334 - val_accuracy: 0.6193\n",
      "Epoch 23/100\n",
      "326/326 [==============================] - 2s 5ms/step - loss: 2.2216 - accuracy: 0.7770 - val_loss: 2.3157 - val_accuracy: 0.6608\n",
      "Epoch 24/100\n",
      "326/326 [==============================] - 2s 5ms/step - loss: 2.0621 - accuracy: 0.7785 - val_loss: 2.1977 - val_accuracy: 0.6408\n",
      "Epoch 25/100\n",
      "326/326 [==============================] - 2s 6ms/step - loss: 1.9240 - accuracy: 0.7795 - val_loss: 2.0426 - val_accuracy: 0.6608\n",
      "Epoch 26/100\n",
      "326/326 [==============================] - 2s 5ms/step - loss: 1.8003 - accuracy: 0.7812 - val_loss: 1.9334 - val_accuracy: 0.6600\n",
      "Epoch 27/100\n",
      "326/326 [==============================] - 2s 5ms/step - loss: 1.6922 - accuracy: 0.7840 - val_loss: 1.8529 - val_accuracy: 0.6454\n",
      "Epoch 28/100\n",
      "326/326 [==============================] - 2s 5ms/step - loss: 1.5965 - accuracy: 0.7800 - val_loss: 1.7701 - val_accuracy: 0.6370\n",
      "Epoch 29/100\n",
      "326/326 [==============================] - 2s 5ms/step - loss: 1.5106 - accuracy: 0.7814 - val_loss: 1.6821 - val_accuracy: 0.6408\n",
      "Epoch 30/100\n",
      "326/326 [==============================] - 2s 5ms/step - loss: 1.4324 - accuracy: 0.7844 - val_loss: 1.5709 - val_accuracy: 0.6846\n",
      "Epoch 31/100\n",
      "326/326 [==============================] - 2s 5ms/step - loss: 1.3649 - accuracy: 0.7846 - val_loss: 1.5053 - val_accuracy: 0.6830\n",
      "Epoch 32/100\n",
      "326/326 [==============================] - 2s 5ms/step - loss: 1.3011 - accuracy: 0.7869 - val_loss: 1.4571 - val_accuracy: 0.6761\n",
      "Epoch 33/100\n",
      "326/326 [==============================] - 2s 5ms/step - loss: 1.2429 - accuracy: 0.7883 - val_loss: 1.4283 - val_accuracy: 0.6539\n",
      "Epoch 34/100\n",
      "326/326 [==============================] - 2s 5ms/step - loss: 1.1915 - accuracy: 0.7904 - val_loss: 1.3816 - val_accuracy: 0.6516\n",
      "Epoch 35/100\n",
      "326/326 [==============================] - 2s 5ms/step - loss: 1.1448 - accuracy: 0.7905 - val_loss: 1.3295 - val_accuracy: 0.6585\n",
      "Epoch 36/100\n",
      "326/326 [==============================] - 2s 5ms/step - loss: 1.0994 - accuracy: 0.7902 - val_loss: 1.2737 - val_accuracy: 0.6754\n",
      "Epoch 37/100\n",
      "326/326 [==============================] - 2s 5ms/step - loss: 1.0615 - accuracy: 0.7905 - val_loss: 1.2467 - val_accuracy: 0.6623\n",
      "Epoch 38/100\n",
      "326/326 [==============================] - 2s 5ms/step - loss: 1.0224 - accuracy: 0.7918 - val_loss: 1.2447 - val_accuracy: 0.6316\n",
      "Epoch 39/100\n",
      "326/326 [==============================] - 2s 5ms/step - loss: 0.9892 - accuracy: 0.7929 - val_loss: 1.1992 - val_accuracy: 0.6508\n",
      "Epoch 40/100\n",
      "326/326 [==============================] - 2s 5ms/step - loss: 0.9585 - accuracy: 0.7943 - val_loss: 1.2061 - val_accuracy: 0.6239\n",
      "Epoch 41/100\n",
      "326/326 [==============================] - 2s 5ms/step - loss: 0.9291 - accuracy: 0.7942 - val_loss: 1.1492 - val_accuracy: 0.6424\n",
      "Epoch 42/100\n",
      "326/326 [==============================] - 2s 5ms/step - loss: 0.9016 - accuracy: 0.7946 - val_loss: 1.1445 - val_accuracy: 0.6262\n",
      "Epoch 43/100\n",
      "326/326 [==============================] - 2s 5ms/step - loss: 0.8777 - accuracy: 0.7952 - val_loss: 1.1111 - val_accuracy: 0.6355\n",
      "Epoch 44/100\n",
      "326/326 [==============================] - 2s 5ms/step - loss: 0.8542 - accuracy: 0.7964 - val_loss: 1.0594 - val_accuracy: 0.6685\n",
      "Epoch 45/100\n",
      "326/326 [==============================] - 2s 5ms/step - loss: 0.8328 - accuracy: 0.7968 - val_loss: 1.0440 - val_accuracy: 0.6631\n",
      "Epoch 46/100\n",
      "326/326 [==============================] - 2s 5ms/step - loss: 0.8115 - accuracy: 0.7972 - val_loss: 1.0893 - val_accuracy: 0.6178\n",
      "Epoch 47/100\n",
      "326/326 [==============================] - 2s 5ms/step - loss: 0.7947 - accuracy: 0.7995 - val_loss: 1.0501 - val_accuracy: 0.6278\n",
      "Epoch 48/100\n",
      "326/326 [==============================] - 2s 5ms/step - loss: 0.7743 - accuracy: 0.7948 - val_loss: 0.9950 - val_accuracy: 0.6562\n",
      "Epoch 49/100\n",
      "326/326 [==============================] - 2s 5ms/step - loss: 0.7593 - accuracy: 0.7977 - val_loss: 0.9912 - val_accuracy: 0.6516\n",
      "Epoch 50/100\n",
      "326/326 [==============================] - 2s 5ms/step - loss: 0.7414 - accuracy: 0.8032 - val_loss: 0.9778 - val_accuracy: 0.6523\n",
      "Epoch 51/100\n",
      "326/326 [==============================] - 2s 5ms/step - loss: 0.7283 - accuracy: 0.8015 - val_loss: 0.9808 - val_accuracy: 0.6385\n",
      "Epoch 52/100\n",
      "326/326 [==============================] - 2s 5ms/step - loss: 0.7157 - accuracy: 0.7967 - val_loss: 0.9803 - val_accuracy: 0.6301\n",
      "Epoch 53/100\n",
      "326/326 [==============================] - 2s 5ms/step - loss: 0.7042 - accuracy: 0.7999 - val_loss: 0.9875 - val_accuracy: 0.6209\n",
      "Epoch 54/100\n",
      "326/326 [==============================] - 2s 5ms/step - loss: 0.6907 - accuracy: 0.7974 - val_loss: 0.9278 - val_accuracy: 0.6562\n",
      "Epoch 55/100\n",
      "326/326 [==============================] - 2s 5ms/step - loss: 0.6785 - accuracy: 0.8031 - val_loss: 0.9142 - val_accuracy: 0.6608\n",
      "Epoch 56/100\n",
      "326/326 [==============================] - 2s 5ms/step - loss: 0.6688 - accuracy: 0.8029 - val_loss: 0.9336 - val_accuracy: 0.6332\n",
      "Epoch 57/100\n",
      "326/326 [==============================] - 2s 5ms/step - loss: 0.6589 - accuracy: 0.8012 - val_loss: 0.9118 - val_accuracy: 0.6500\n"
     ]
    },
    {
     "name": "stdout",
     "output_type": "stream",
     "text": [
      "Epoch 58/100\n",
      "326/326 [==============================] - 2s 5ms/step - loss: 0.6499 - accuracy: 0.8025 - val_loss: 0.8824 - val_accuracy: 0.6669\n",
      "Epoch 59/100\n",
      "326/326 [==============================] - 2s 5ms/step - loss: 0.6406 - accuracy: 0.8020 - val_loss: 0.8892 - val_accuracy: 0.6500\n",
      "Epoch 60/100\n",
      "326/326 [==============================] - 2s 5ms/step - loss: 0.6313 - accuracy: 0.8067 - val_loss: 0.8953 - val_accuracy: 0.6447\n",
      "Epoch 61/100\n",
      "326/326 [==============================] - 2s 5ms/step - loss: 0.6243 - accuracy: 0.8075 - val_loss: 0.8861 - val_accuracy: 0.6454\n",
      "Epoch 62/100\n",
      "326/326 [==============================] - 2s 5ms/step - loss: 0.6166 - accuracy: 0.8061 - val_loss: 0.8582 - val_accuracy: 0.6616\n",
      "Epoch 63/100\n",
      "326/326 [==============================] - 2s 5ms/step - loss: 0.6092 - accuracy: 0.8070 - val_loss: 0.8637 - val_accuracy: 0.6523\n",
      "Epoch 64/100\n",
      "326/326 [==============================] - 2s 5ms/step - loss: 0.6013 - accuracy: 0.8066 - val_loss: 0.8869 - val_accuracy: 0.6285\n",
      "Epoch 65/100\n",
      "326/326 [==============================] - 2s 5ms/step - loss: 0.5981 - accuracy: 0.8064 - val_loss: 0.8569 - val_accuracy: 0.6493\n",
      "Epoch 66/100\n",
      "326/326 [==============================] - 2s 5ms/step - loss: 0.5913 - accuracy: 0.8085 - val_loss: 0.8794 - val_accuracy: 0.6262\n",
      "Epoch 67/100\n",
      "326/326 [==============================] - 2s 5ms/step - loss: 0.5831 - accuracy: 0.8086 - val_loss: 0.8501 - val_accuracy: 0.6477\n",
      "Epoch 68/100\n",
      "326/326 [==============================] - 2s 5ms/step - loss: 0.5795 - accuracy: 0.8083 - val_loss: 0.8467 - val_accuracy: 0.6500\n",
      "Epoch 69/100\n",
      "326/326 [==============================] - 2s 5ms/step - loss: 0.5736 - accuracy: 0.8099 - val_loss: 0.9176 - val_accuracy: 0.6040\n",
      "Epoch 70/100\n",
      "326/326 [==============================] - 2s 5ms/step - loss: 0.5690 - accuracy: 0.8060 - val_loss: 0.8517 - val_accuracy: 0.6431\n",
      "Epoch 71/100\n",
      "326/326 [==============================] - 2s 5ms/step - loss: 0.5627 - accuracy: 0.8123 - val_loss: 0.8337 - val_accuracy: 0.6477\n",
      "Epoch 72/100\n",
      "326/326 [==============================] - 2s 5ms/step - loss: 0.5607 - accuracy: 0.8076 - val_loss: 0.8336 - val_accuracy: 0.6493\n",
      "Epoch 73/100\n",
      "326/326 [==============================] - 2s 5ms/step - loss: 0.5541 - accuracy: 0.8070 - val_loss: 0.8120 - val_accuracy: 0.6639\n",
      "Epoch 74/100\n",
      "326/326 [==============================] - 2s 5ms/step - loss: 0.5511 - accuracy: 0.8121 - val_loss: 0.8384 - val_accuracy: 0.6393\n",
      "Epoch 75/100\n",
      "326/326 [==============================] - 2s 5ms/step - loss: 0.5454 - accuracy: 0.8120 - val_loss: 0.7936 - val_accuracy: 0.6861\n",
      "Epoch 76/100\n",
      "326/326 [==============================] - 2s 5ms/step - loss: 0.5438 - accuracy: 0.8117 - val_loss: 0.8656 - val_accuracy: 0.6239\n",
      "Epoch 77/100\n",
      "326/326 [==============================] - 2s 5ms/step - loss: 0.5393 - accuracy: 0.8108 - val_loss: 0.8023 - val_accuracy: 0.6592\n",
      "Epoch 78/100\n",
      "326/326 [==============================] - 2s 5ms/step - loss: 0.5370 - accuracy: 0.8128 - val_loss: 0.8242 - val_accuracy: 0.6462\n",
      "Epoch 79/100\n",
      "326/326 [==============================] - 2s 5ms/step - loss: 0.5325 - accuracy: 0.8163 - val_loss: 0.7993 - val_accuracy: 0.6646\n",
      "Epoch 80/100\n",
      "326/326 [==============================] - 2s 5ms/step - loss: 0.5309 - accuracy: 0.8128 - val_loss: 0.8175 - val_accuracy: 0.6424\n"
     ]
    }
   ],
   "source": [
    "history = model.fit(X_train, y_label, validation_data=(X_val, y_val_label), batch_size=32,epochs=100,\\\n",
    "                            callbacks=[callback], verbose=1, class_weight=weights_ker, shuffle=True)"
   ]
  },
  {
   "cell_type": "code",
   "execution_count": 20,
   "id": "5b0e2910",
   "metadata": {},
   "outputs": [
    {
     "name": "stdout",
     "output_type": "stream",
     "text": [
      "\n",
      "Training for iteration number:  0\n",
      "41/41 [==============================] - 0s 1ms/step\n",
      "\n",
      "Training for iteration number:  1\n",
      "41/41 [==============================] - 0s 2ms/step\n",
      "\n",
      "Training for iteration number:  2\n",
      "41/41 [==============================] - 0s 2ms/step\n",
      "\n",
      "Training for iteration number:  3\n",
      "41/41 [==============================] - 0s 1ms/step\n",
      "\n",
      "Training for iteration number:  4\n",
      "41/41 [==============================] - 0s 1ms/step\n",
      "\n",
      "Training for iteration number:  5\n",
      "41/41 [==============================] - 0s 1ms/step\n",
      "\n",
      "Training for iteration number:  6\n",
      "41/41 [==============================] - 0s 1ms/step\n",
      "\n",
      "Training for iteration number:  7\n",
      "41/41 [==============================] - 0s 1ms/step\n",
      "\n",
      "Training for iteration number:  8\n",
      "41/41 [==============================] - 0s 1ms/step\n",
      "\n",
      "Training for iteration number:  9\n",
      "41/41 [==============================] - 0s 1ms/step\n",
      "\n",
      "Training for iteration number:  10\n",
      "41/41 [==============================] - 0s 1ms/step\n",
      "\n",
      "Training for iteration number:  11\n",
      "41/41 [==============================] - 0s 1ms/step\n",
      "\n",
      "Training for iteration number:  12\n",
      "41/41 [==============================] - 0s 1ms/step\n",
      "\n",
      "Training for iteration number:  13\n",
      "41/41 [==============================] - 0s 1ms/step\n",
      "\n",
      "Training for iteration number:  14\n",
      "41/41 [==============================] - 0s 1ms/step\n",
      "\n",
      "Training for iteration number:  15\n",
      "41/41 [==============================] - 0s 1ms/step\n",
      "\n",
      "Training for iteration number:  16\n",
      "41/41 [==============================] - 0s 1ms/step\n",
      "\n",
      "Training for iteration number:  17\n",
      "41/41 [==============================] - 0s 1ms/step\n",
      "\n",
      "Training for iteration number:  18\n",
      "41/41 [==============================] - 0s 1ms/step\n",
      "\n",
      "Training for iteration number:  19\n",
      "41/41 [==============================] - 0s 1ms/step\n",
      "\n",
      "Training for iteration number:  20\n",
      "41/41 [==============================] - 0s 1ms/step\n",
      "\n",
      "Training for iteration number:  21\n",
      "41/41 [==============================] - 0s 1ms/step\n",
      "\n",
      "Training for iteration number:  22\n",
      "41/41 [==============================] - 0s 1ms/step\n",
      "\n",
      "Training for iteration number:  23\n",
      "41/41 [==============================] - 0s 1ms/step\n",
      "\n",
      "Training for iteration number:  24\n",
      "41/41 [==============================] - 0s 998us/step\n",
      "\n",
      "Training for iteration number:  25\n",
      "41/41 [==============================] - 0s 997us/step\n",
      "\n",
      "Training for iteration number:  26\n",
      "41/41 [==============================] - 0s 1ms/step\n",
      "\n",
      "Training for iteration number:  27\n",
      "41/41 [==============================] - 0s 1ms/step\n",
      "\n",
      "Training for iteration number:  28\n",
      "41/41 [==============================] - 0s 2ms/step\n",
      "\n",
      "Training for iteration number:  29\n",
      "41/41 [==============================] - 0s 1ms/step\n",
      "The average real precision :  0.8295452586878317\n",
      "The average real recall:  0.7666666666666667\n",
      "The average real f1:  0.7966626214967327\n",
      "The average fake precision :  0.3421756365186416\n",
      "The average fake recall:  0.43438967136150247\n",
      "The average fake f1:  0.3821572217378712\n",
      "The average macro precision:  0.5858604476032365\n",
      "The average macro recall:  0.6030871193796735\n",
      "The average macro_f1:  0.5894099216173018\n",
      "The average macro accuracy:  0.6942440521872602\n",
      "The standard deviation on real precision :  0.004015511815117079\n",
      "The standard deviation on real recall:  0.02201339476755736\n",
      "The standard deviation on real f1:  0.010865748891804085\n",
      "The standard deviation on fake precision :  0.009948584284176118\n",
      "The standard deviation on fake recall:  0.029057060184903092\n",
      "The standard deviation on macro precision:  0.005376854089107175\n",
      "The standard deviation on macro recall:  0.0\n",
      "The standard deviation on macro_f1:  0.005720512205238586\n",
      "The standard deviation on macro accuracy:  0.011777610486126683\n",
      "Average number of epochs 63.3\n"
     ]
    }
   ],
   "source": [
    "real_precision, real_recall, real_f_score, fake_precision, fake_recall,\\\n",
    "fake_f1, macro_precision, macro_recall, macro_f1, accuracy = run_model(X_train, \\\n",
    "y_label, X_val, y_val_label, X_test, y_test_label, verbose=0, itr=30)"
   ]
  },
  {
   "cell_type": "code",
   "execution_count": 21,
   "id": "6e8f6d0b",
   "metadata": {},
   "outputs": [
    {
     "name": "stdout",
     "output_type": "stream",
     "text": [
      "Real Precision:\n",
      "  [0.8232217573221757, 0.8322440087145969, 0.8266806722689075, 0.8278688524590164, 0.8325991189427313, 0.8269824922760041, 0.8277717976318623, 0.8291666666666667, 0.8353326063249727, 0.8314014752370916, 0.8331562167906482, 0.8255578093306288, 0.8276990185387132, 0.8284789644012945, 0.825, 0.8263103802672148, 0.8377445339470656, 0.8295687885010267, 0.8228228228228228, 0.8331454340473506, 0.8342480790340285, 0.8295918367346938, 0.8279569892473119, 0.8290322580645161, 0.8269430051813471, 0.8272251308900523, 0.8370846730975349, 0.8366666666666667, 0.8238396624472574, 0.8310160427807487]\n",
      "Real Recall:\n",
      "  [0.7723258096172718, 0.7497546614327772, 0.7723258096172718, 0.7929342492639843, 0.7419038272816487, 0.788027477919529, 0.7546614327772326, 0.7811579980372915, 0.7517173699705594, 0.774288518155054, 0.7693817468105987, 0.7988223748773308, 0.7448478900883219, 0.7536800785083415, 0.7772325809617272, 0.78900883218842, 0.7144259077526988, 0.7929342492639843, 0.8066732090284593, 0.7252208047105005, 0.745829244357213, 0.7978410206084396, 0.7556427870461236, 0.7566241413150148, 0.7831207065750736, 0.7752698724239451, 0.7664376840039254, 0.7389597644749755, 0.7664376840039254, 0.7625122669283612]\n",
      "Real F1-Score:\n",
      "  [0.7969620253164557, 0.7888487351574601, 0.7985794013191274, 0.8100250626566415, 0.7846393357550597, 0.807035175879397, 0.7895277207392198, 0.8044466902475997, 0.7913223140495869, 0.8018292682926829, 0.7999999999999999, 0.8119700748129676, 0.7840909090909092, 0.789311408016444, 0.8004042445679636, 0.8072289156626506, 0.7711864406779662, 0.8108379327646763, 0.8146679881070367, 0.7754459601259182, 0.7875647668393783, 0.8134067033516758, 0.7901487942534633, 0.7911749615187275, 0.8044354838709677, 0.8004052684903749, 0.8002049180327869, 0.7847837415320479, 0.7941026944585664, 0.7952917093142272]\n"
     ]
    }
   ],
   "source": [
    "print(\"Real Precision:\\n \", real_precision)\n",
    "print(\"Real Recall:\\n \", real_recall)\n",
    "print(\"Real F1-Score:\\n \",  real_f_score) "
   ]
  },
  {
   "cell_type": "code",
   "execution_count": 22,
   "id": "5bc9fb32",
   "metadata": {},
   "outputs": [
    {
     "name": "stdout",
     "output_type": "stream",
     "text": [
      "Fake Precision:\n",
      "  [0.3314121037463977, 0.33766233766233766, 0.33903133903133903, 0.3547400611620795, 0.3341772151898734, 0.3493975903614458, 0.3315508021390374, 0.3498542274052478, 0.344559585492228, 0.3502824858757062, 0.35082872928176795, 0.35331230283911674, 0.32642487046632124, 0.3324468085106383, 0.33819241982507287, 0.3484848484848485, 0.3294930875576037, 0.3586626139817629, 0.3519736842105263, 0.3269230769230769, 0.3392857142857143, 0.3622291021671827, 0.3324396782841823, 0.3351206434316354, 0.34615384615384615, 0.34195402298850575, 0.3567567567567568, 0.3399503722084367, 0.3295774647887324, 0.3423913043478261]\n",
      "Fake Recall:\n",
      "  [0.40492957746478875, 0.45774647887323944, 0.41901408450704225, 0.4084507042253521, 0.4647887323943662, 0.4084507042253521, 0.43661971830985913, 0.4225352112676056, 0.46830985915492956, 0.43661971830985913, 0.4471830985915493, 0.39436619718309857, 0.44366197183098594, 0.44014084507042256, 0.4084507042253521, 0.40492957746478875, 0.5035211267605634, 0.4154929577464789, 0.3767605633802817, 0.4788732394366197, 0.46830985915492956, 0.4119718309859155, 0.43661971830985913, 0.44014084507042256, 0.4119718309859155, 0.41901408450704225, 0.4647887323943662, 0.4823943661971831, 0.4119718309859155, 0.44366197183098594]\n",
      "Fake F1-Score:\n",
      "  [0.3645007923930269, 0.38863976083707025, 0.3748031496062992, 0.3797054009819967, 0.3888070692194403, 0.37662337662337664, 0.37689969604863216, 0.3827751196172249, 0.3970149253731343, 0.3887147335423197, 0.39318885448916413, 0.37271214642262895, 0.3761194029850746, 0.37878787878787884, 0.3700159489633174, 0.3745928338762215, 0.3983286908077994, 0.38499184339314846, 0.36394557823129253, 0.38857142857142857, 0.393491124260355, 0.38550247116968706, 0.3774733637747337, 0.3805175038051751, 0.3762057877813505, 0.37658227848101267, 0.4036697247706422, 0.3988355167394469, 0.36619718309859156, 0.3865030674846626]\n"
     ]
    }
   ],
   "source": [
    "print(\"Fake Precision:\\n \", fake_precision)\n",
    "print(\"Fake Recall:\\n \", fake_recall)\n",
    "print(\"Fake F1-Score:\\n \", fake_f1)"
   ]
  },
  {
   "cell_type": "code",
   "execution_count": 23,
   "id": "0463d77a",
   "metadata": {},
   "outputs": [
    {
     "name": "stdout",
     "output_type": "stream",
     "text": [
      "Macro Precision:\n",
      "  [0.5773169305342867, 0.5849531731884673, 0.5828560056501233, 0.591304456810548, 0.5833881670663024, 0.5881900413187249, 0.5796612998854498, 0.5895104470359572, 0.5899460959086004, 0.5908419805563989, 0.5919924730362081, 0.5894350560848728, 0.5770619445025172, 0.5804628864559664, 0.5815962099125365, 0.5873976143760317, 0.5836188107523347, 0.5941157012413948, 0.5873982535166746, 0.5800342554852138, 0.5867668966598714, 0.5959104694509383, 0.580198333765747, 0.5820764507480758, 0.5865484256675966, 0.584589576939279, 0.5969207149271458, 0.5883085194375517, 0.5767085636179949, 0.5867036735642874]\n",
      "Macro Recall:\n",
      "  [0.5886276935410303, 0.6037505701530084, 0.595669947062157, 0.6006924767446682, 0.6033462798380075, 0.5982390910724406, 0.5956405755435459, 0.6018466046524485, 0.6100136145627445, 0.6054541182324565, 0.608282422701074, 0.5965942860302147, 0.5942549309596539, 0.596910461789382, 0.5928416425935397, 0.5969692048266044, 0.6089735172566311, 0.6042136035052316, 0.5917168862043705, 0.6020470220735601, 0.6070695517560712, 0.6049064257971776, 0.5961312526779914, 0.5983824931927186, 0.5975462687804945, 0.5971419784654937, 0.6156132081991458, 0.6106770653360793, 0.5892047574949204, 0.6030871193796735]\n",
      "Macro F1-Score:\n",
      "  [0.5807314088547413, 0.5887442479972652, 0.5866912754627133, 0.594865231819319, 0.58672320248725, 0.5918292762513868, 0.583213708393926, 0.5936109049324123, 0.5941686197113606, 0.5952720009175013, 0.596594427244582, 0.5923411106177983, 0.580105156037992, 0.5840496434021614, 0.5852100967656405, 0.590910874769436, 0.5847575657428827, 0.5979148880789124, 0.5893067831691646, 0.5820086943486733, 0.5905279455498667, 0.5994545872606813, 0.5838110790140985, 0.5858462326619512, 0.5903206358261591, 0.5884937734856938, 0.6019373214017145, 0.5918096291357474, 0.580149938778579, 0.590897388399445]\n",
      "Accuracy Score:\n",
      "  [0.6922486569455104, 0.6861089792785878, 0.6953184957789716, 0.7091327705295472, 0.681504221028396, 0.7052954719877207, 0.6853415195702226, 0.7029930928626247, 0.6899462778204144, 0.7006907137375288, 0.6991557943207981, 0.7106676899462778, 0.6792018419033001, 0.6853415195702226, 0.6968534151957022, 0.7052954719877207, 0.6684574059861857, 0.7106676899462778, 0.7129700690713737, 0.671527244819647, 0.6853415195702226, 0.7137375287797391, 0.6861089792785878, 0.6876438986953185, 0.7022256331542595, 0.6976208749040675, 0.7006907137375288, 0.6830391404451266, 0.6891788181120491, 0.6930161166538756]\n"
     ]
    }
   ],
   "source": [
    "print(\"Macro Precision:\\n \", macro_precision)\n",
    "print(\"Macro Recall:\\n \", macro_recall)\n",
    "print(\"Macro F1-Score:\\n \", macro_f1)\n",
    "print(\"Accuracy Score:\\n \", accuracy)"
   ]
  },
  {
   "cell_type": "code",
   "execution_count": 24,
   "id": "d0ee8741",
   "metadata": {},
   "outputs": [],
   "source": [
    "def plot_accuracy(history):\n",
    "    plt.plot(history.history['accuracy'])\n",
    "    plt.plot(history.history['val_accuracy'])\n",
    "    plt.title('Model accuracy')\n",
    "    plt.ylabel('Accuracy')\n",
    "    plt.xlabel('Epoch')\n",
    "    plt.legend(['Train', 'Test'], loc='upper left')\n",
    "    plt.show()"
   ]
  },
  {
   "cell_type": "code",
   "execution_count": 25,
   "id": "52cc355f",
   "metadata": {},
   "outputs": [],
   "source": [
    "def plot_loss(history):\n",
    "    plt.plot(history.history['loss'])\n",
    "    plt.plot(history.history['val_loss'])\n",
    "    plt.title('Model Loss')\n",
    "    plt.ylabel('Loss')\n",
    "    plt.xlabel('Epoch')\n",
    "    plt.legend(['Train', 'Test'], loc='upper left')\n",
    "    plt.show()"
   ]
  },
  {
   "cell_type": "code",
   "execution_count": 26,
   "id": "9824863d",
   "metadata": {},
   "outputs": [
    {
     "data": {
      "image/png": "[encoded data removed]",
      "text/plain": [
       "<Figure size 432x288 with 1 Axes>"
      ]
     },
     "metadata": {
      "needs_background": "light"
     },
     "output_type": "display_data"
    },
    {
     "data": {
      "image/png": "[encoded data removed]",
      "text/plain": [
       "<Figure size 432x288 with 1 Axes>"
      ]
     },
     "metadata": {
      "needs_background": "light"
     },
     "output_type": "display_data"
    }
   ],
   "source": [
    "model_text_plotacc = plot_accuracy(history)\n",
    "model_text_plotloss = plot_loss(history)"
   ]
  },
  {
   "cell_type": "code",
   "execution_count": null,
   "id": "f07ae6b4",
   "metadata": {},
   "outputs": [],
   "source": []
  }
 ],
 "metadata": {
  "kernelspec": {
   "display_name": "Python 3",
   "language": "python",
   "name": "python3"
  },
  "language_info": {
   "codemirror_mode": {
    "name": "ipython",
    "version": 3
   },
   "file_extension": ".py",
   "mimetype": "text/x-python",
   "name": "python",
   "nbconvert_exporter": "python",
   "pygments_lexer": "ipython3",
   "version": "3.8.8"
  }
 },
 "nbformat": 4,
 "nbformat_minor": 5
}
